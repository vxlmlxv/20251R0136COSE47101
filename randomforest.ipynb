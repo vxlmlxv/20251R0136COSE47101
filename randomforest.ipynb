{
 "cells": [
  {
   "cell_type": "code",
   "execution_count": 191,
   "id": "e8f1c831",
   "metadata": {},
   "outputs": [],
   "source": [
    "import pandas as pd\n",
    "import numpy as np\n",
    "from sklearn.ensemble import RandomForestClassifier\n",
    "from sklearn.metrics import accuracy_score\n",
    "from sklearn.model_selection import train_test_split\n",
    "\n",
    "import warnings\n",
    "warnings.filterwarnings('ignore')"
   ]
  },
  {
   "cell_type": "code",
   "execution_count": null,
   "id": "4b21081b",
   "metadata": {},
   "outputs": [
    {
     "data": {
      "text/plain": [
       "complaint_level\n",
       "낮음      353\n",
       "중간이상    352\n",
       "중간이하    350\n",
       "높음      350\n",
       "Name: count, dtype: int64"
      ]
     },
     "execution_count": 190,
     "metadata": {},
     "output_type": "execute_result"
    }
   ],
   "source": [
    "#분위수 기준 클러스터링\n",
    "parks_df = pd.read_csv(\"RF_parksdf.csv\")\n",
    "parks_df.columns\n",
    "\n",
    "parks_df[\"complaints_r300\"].quantile(q=0.25) #788\n",
    "parks_df[\"complaints_r300\"].quantile(q=0.5) #1441\n",
    "parks_df[\"complaints_r300\"].quantile(q=0.75) #2816\n",
    "#parks_df.loc[parks_df[\"complaints_r300\"]>=10000]\n",
    "\n",
    "parks_df[\"complaint_level\"] = pd.qcut(\n",
    "    parks_df[\"complaints_r300\"],  # 민원 건수 열\n",
    "    q=4,                          # 분위수: 4분위 (quartile) → 낮음/중간이하/중간이상/높음\n",
    "    labels=[\"낮음\", \"중간이하\", \"중간이상\", \"높음\"]\n",
    ")\n",
    "parks_df[\"complaint_level\"].value_counts()"
   ]
  },
  {
   "cell_type": "code",
   "execution_count": null,
   "id": "226aa769",
   "metadata": {},
   "outputs": [
    {
     "name": "stdout",
     "output_type": "stream",
     "text": [
      "[0, 2761, 8353, 36939]\n"
     ]
    },
    {
     "data": {
      "text/plain": [
       "complaint_level\n",
       "0    1044\n",
       "1     311\n",
       "2      50\n",
       "Name: count, dtype: int64"
      ]
     },
     "execution_count": 216,
     "metadata": {},
     "output_type": "execute_result"
    }
   ],
   "source": [
    "#자연발생 클러스터링(민원 단계 컬럼 생성)\n",
    "from jenkspy import JenksNaturalBreaks\n",
    "\n",
    "parks_df = pd.read_csv(\"RF_parksdf.csv\")\n",
    "parks_df.columns\n",
    "\n",
    "i = 3\n",
    "\n",
    "breaks = JenksNaturalBreaks(n_classes=i)\n",
    "breaks.fit(parks_df[\"complaints_r300\"])\n",
    "print(breaks.breaks_)  # 구간 경계\n",
    "\n",
    "parks_df[\"complaint_level\"] = pd.cut(\n",
    "    parks_df[\"complaints_r300\"], bins=breaks.breaks_, labels=range(i), include_lowest=True\n",
    ")\n",
    "parks_df[\"complaint_level\"].value_counts()"
   ]
  },
  {
   "cell_type": "code",
   "execution_count": null,
   "id": "1e192186",
   "metadata": {},
   "outputs": [
    {
     "name": "stdout",
     "output_type": "stream",
     "text": [
      "['NS', 'NW']\n",
      "[1, 3]\n",
      "['N', 'Y']\n",
      "['N', 'Y']\n",
      "['N', 'Y']\n"
     ]
    }
   ],
   "source": [
    "#범주형 변수의 label을 [0,1]로 변환\n",
    "from sklearn.preprocessing import LabelEncoder\n",
    "\n",
    "le_dict = {}\n",
    "for col in [\"parking_type\", \"operation_type\", \"Weekday_paid\", \"Saturday_paid\", \"Holiday_paid\"]:\n",
    "    le = LabelEncoder()\n",
    "    parks_df[col] = le.fit_transform(parks_df[col])\n",
    "    le_dict[col] = le  # 변수별로 인코더 저장\n",
    "\n",
    "# 예시: parking_type의 범주와 정수 매핑 확인\n",
    "print(list(le_dict[\"parking_type\"].classes_))\n",
    "print(list(le_dict[\"operation_type\"].classes_))\n",
    "print(list(le_dict[\"Weekday_paid\"].classes_))\n",
    "print(list(le_dict[\"Saturday_paid\"].classes_))\n",
    "print(list(le_dict[\"Holiday_paid\"].classes_))\n",
    "# [0, 1, 2, ...] 순서로 classes_에 저장됨\n",
    "#['NS', 'NW'] -> [0,1]\n",
    "#[1, 3] -> [0,1]\n",
    "#['N', 'Y'] -> [0,1]\n",
    "#['N', 'Y'] -> [0,1]\n",
    "#['N', 'Y'] -> [0,1]"
   ]
  },
  {
   "cell_type": "code",
   "execution_count": 218,
   "id": "42954487",
   "metadata": {},
   "outputs": [
    {
     "data": {
      "text/plain": [
       "Index(['bus_r300', 'total_parking_spaces', 'cctv_r300', 'fee1H',\n",
       "       'base_parking_fee', 'additional_unit_fee', 'Weekday_operatingHours',\n",
       "       'Weekday_end', 'additional_unit_time', 'Saturday_operatingHours',\n",
       "       'Saturday_end'],\n",
       "      dtype='object')"
      ]
     },
     "execution_count": 218,
     "metadata": {},
     "output_type": "execute_result"
    }
   ],
   "source": [
    "X = parks_df.drop([\"complaints_r300\",\"address\",'Unnamed: 0'], axis=1)\n",
    "y = parks_df[\"complaint_level\"]\n",
    "\n",
    "# 추가 변수 삭제\n",
    "#X_new= X.drop([\"Weekday_paid\", \"parking_type\",],axis = 1)\n",
    "\n",
    "\n",
    "X_new = X[[\"bus_r300\", \"total_parking_spaces\",\"cctv_r300\", \n",
    "           \"fee1H\",\"base_parking_fee\", \"additional_unit_fee\", \"Weekday_operatingHours\",\n",
    "            \"Weekday_end\", \"additional_unit_time\",\"Saturday_operatingHours\",\n",
    "            \"Saturday_end\"]]\n",
    "\n",
    "X_train, X_test, y_train, y_test = train_test_split(X_new, y, test_size = 0.1, random_state = 42)\n",
    "X_train, X_val, y_train, y_val = train_test_split(X_train, y_train, test_size = 1/9, random_state = 42)\n",
    "\n",
    "X_new.columns"
   ]
  },
  {
   "cell_type": "code",
   "execution_count": null,
   "id": "ffff1b80",
   "metadata": {},
   "outputs": [],
   "source": [
    "#robust scalar 적용 cell인데 효과 없음\n",
    "from sklearn.preprocessing import RobustScaler\n",
    "from sklearn.preprocessing import robust_scale\n",
    "\n",
    "transformer = RobustScaler()\n",
    "X_robust = transformer.fit_transform(X_new)\n",
    "X_robust = robust_scale(X_robust)\n",
    "\n",
    "X_train, X_test, y_train, y_test = train_test_split(X_robust, y, test_size = 0.1, random_state = 42)\n",
    "X_train, X_val, y_train, y_val = train_test_split(X_train, y_train, test_size = 1/9, random_state = 42)"
   ]
  },
  {
   "cell_type": "code",
   "execution_count": null,
   "id": "39f1424e",
   "metadata": {},
   "outputs": [
    {
     "name": "stdout",
     "output_type": "stream",
     "text": [
      "랜덤 포레스트 정확도: 0.8298\n"
     ]
    }
   ],
   "source": [
    "# 랜덤포레스트 \n",
    "rf = RandomForestClassifier(random_state = 0)\n",
    "rf.fit(X_train, y_train)\n",
    "pred = rf.predict(X_test)\n",
    "accuracy = accuracy_score(y_test, pred)\n",
    "print('랜덤 포레스트 정확도: {:.4f}'.format(accuracy))"
   ]
  },
  {
   "cell_type": "code",
   "execution_count": null,
   "id": "46ab2e4f",
   "metadata": {},
   "outputs": [
    {
     "data": {
      "text/html": [
       "<div>\n",
       "<style scoped>\n",
       "    .dataframe tbody tr th:only-of-type {\n",
       "        vertical-align: middle;\n",
       "    }\n",
       "\n",
       "    .dataframe tbody tr th {\n",
       "        vertical-align: top;\n",
       "    }\n",
       "\n",
       "    .dataframe thead th {\n",
       "        text-align: right;\n",
       "    }\n",
       "</style>\n",
       "<table border=\"1\" class=\"dataframe\">\n",
       "  <thead>\n",
       "    <tr style=\"text-align: right;\">\n",
       "      <th></th>\n",
       "      <th>0</th>\n",
       "    </tr>\n",
       "  </thead>\n",
       "  <tbody>\n",
       "    <tr>\n",
       "      <th>0.169592</th>\n",
       "      <td>bus_r300</td>\n",
       "    </tr>\n",
       "    <tr>\n",
       "      <th>0.200985</th>\n",
       "      <td>total_parking_spaces</td>\n",
       "    </tr>\n",
       "    <tr>\n",
       "      <th>0.144255</th>\n",
       "      <td>cctv_r300</td>\n",
       "    </tr>\n",
       "    <tr>\n",
       "      <th>0.096431</th>\n",
       "      <td>fee1H</td>\n",
       "    </tr>\n",
       "    <tr>\n",
       "      <th>0.084137</th>\n",
       "      <td>base_parking_fee</td>\n",
       "    </tr>\n",
       "    <tr>\n",
       "      <th>0.068921</th>\n",
       "      <td>additional_unit_fee</td>\n",
       "    </tr>\n",
       "    <tr>\n",
       "      <th>0.050723</th>\n",
       "      <td>Weekday_operatingHours</td>\n",
       "    </tr>\n",
       "    <tr>\n",
       "      <th>0.073047</th>\n",
       "      <td>Weekday_end</td>\n",
       "    </tr>\n",
       "    <tr>\n",
       "      <th>0.020626</th>\n",
       "      <td>additional_unit_time</td>\n",
       "    </tr>\n",
       "    <tr>\n",
       "      <th>0.046367</th>\n",
       "      <td>Saturday_operatingHours</td>\n",
       "    </tr>\n",
       "    <tr>\n",
       "      <th>0.044916</th>\n",
       "      <td>Saturday_end</td>\n",
       "    </tr>\n",
       "  </tbody>\n",
       "</table>\n",
       "</div>"
      ],
      "text/plain": [
       "                                0\n",
       "0.169592                 bus_r300\n",
       "0.200985     total_parking_spaces\n",
       "0.144255                cctv_r300\n",
       "0.096431                    fee1H\n",
       "0.084137         base_parking_fee\n",
       "0.068921      additional_unit_fee\n",
       "0.050723   Weekday_operatingHours\n",
       "0.073047              Weekday_end\n",
       "0.020626     additional_unit_time\n",
       "0.046367  Saturday_operatingHours\n",
       "0.044916             Saturday_end"
      ]
     },
     "execution_count": 220,
     "metadata": {},
     "output_type": "execute_result"
    }
   ],
   "source": [
    "# 변수 중요도 표\n",
    "importances = rf.feature_importances_\n",
    "names = rf.feature_names_in_\n",
    "\n",
    "table = pd.DataFrame(names,importances)\n",
    "table"
   ]
  },
  {
   "cell_type": "code",
   "execution_count": 226,
   "id": "d122a812",
   "metadata": {},
   "outputs": [
    {
     "data": {
      "text/plain": [
       "0.41843971631205673"
      ]
     },
     "execution_count": 226,
     "metadata": {},
     "output_type": "execute_result"
    }
   ],
   "source": [
    "from sklearn.metrics import mean_squared_error\n",
    "\n",
    "val_predict = rf.predict(X_val)\n",
    "val_predict\n",
    "\n",
    "test_predict = rf.predict(X_test)\n",
    "\n",
    "mean_squared_error(y_test, val_predict)"
   ]
  },
  {
   "cell_type": "code",
   "execution_count": 223,
   "id": "afaba000",
   "metadata": {},
   "outputs": [
    {
     "name": "stdout",
     "output_type": "stream",
     "text": [
      "최적 하이퍼 파라미터:  {'max_depth': 10, 'min_samples_leaf': 8, 'min_samples_split': 3, 'n_estimators': 1000}\n",
      "최고 예측 정확도: 0.7498\n"
     ]
    }
   ],
   "source": [
    "#최적 하이퍼 파라미터를 찾았는데 기존 모델보다 성능 낮아짐..\n",
    "from sklearn.model_selection import GridSearchCV\n",
    "\n",
    "params = { 'n_estimators' : [500, 1000],\n",
    "           'max_depth' : [6, 8, 10],\n",
    "           'min_samples_leaf' : [8, 12, 18],\n",
    "           'min_samples_split' : [3, 5]\n",
    "            }\n",
    "\n",
    "# RandomForestClassifier 객체 생성 후 GridSearchCV 수행\n",
    "rf_clf = RandomForestClassifier(random_state = 0, n_jobs = -1)\n",
    "grid_cv = GridSearchCV(rf_clf, param_grid = params, cv = 3, n_jobs = -1)\n",
    "grid_cv.fit(X_train, y_train)\n",
    "\n",
    "print('최적 하이퍼 파라미터: ', grid_cv.best_params_)\n",
    "print('최고 예측 정확도: {:.4f}'.format(grid_cv.best_score_))"
   ]
  },
  {
   "cell_type": "code",
   "execution_count": null,
   "id": "a35b46c6",
   "metadata": {},
   "outputs": [
    {
     "data": {
      "image/png": "[encoded data removed]",
      "text/plain": [
       "<Figure size 800x600 with 1 Axes>"
      ]
     },
     "metadata": {},
     "output_type": "display_data"
    }
   ],
   "source": [
    "# 변수 중요도 플로팅\n",
    "import matplotlib.pyplot as plt\n",
    "import seaborn as sns\n",
    "%matplotlib inline\n",
    "\n",
    "ftr_importances_values = rf.feature_importances_\n",
    "ftr_importances = pd.Series(ftr_importances_values, index = X_new.columns)\n",
    "ftr_top20 = ftr_importances.sort_values(ascending=False)[:20]\n",
    "\n",
    "plt.figure(figsize=(8,6))\n",
    "plt.title('Top 20 Feature Importances')\n",
    "sns.barplot(x=ftr_top20, y=ftr_top20.index)\n",
    "plt.show()"
   ]
  },
  {
   "cell_type": "code",
   "execution_count": null,
   "id": "4192f8d1",
   "metadata": {},
   "outputs": [
    {
     "data": {
      "text/plain": [
       "<bound method NDFrame.head of       bus_r300  total_parking_spaces  cctv_r300  fee1H  base_parking_fee  \\\n",
       "0            1                   132          0   2400               200   \n",
       "1            1                    97          0   2400               200   \n",
       "2            5                   194          3   2400               200   \n",
       "3            4                   168          2   1200               100   \n",
       "4            7                   149          2   2400               200   \n",
       "...        ...                   ...        ...    ...               ...   \n",
       "1400         8                   130          3   1200               100   \n",
       "1401        17                     4          1   3000               250   \n",
       "1402         6                     1          2   1200               100   \n",
       "1403         5                     1          1    600               600   \n",
       "1404         7                     1          4    600               600   \n",
       "\n",
       "      additional_unit_fee  Weekday_operatingHours  Weekday_end  \\\n",
       "0                     200                      10           19   \n",
       "1                     200                      24           24   \n",
       "2                     200                      24           24   \n",
       "3                     100                      24           24   \n",
       "4                     200                      24           24   \n",
       "...                   ...                     ...          ...   \n",
       "1400                  100                      24           24   \n",
       "1401                  250                      10           19   \n",
       "1402                  100                      10           19   \n",
       "1403                  300                       9           18   \n",
       "1404                  300                       9           18   \n",
       "\n",
       "      additional_unit_time  Saturday_operatingHours  Saturday_end  \n",
       "0                        5                       24            24  \n",
       "1                        5                       24            24  \n",
       "2                        5                       24            24  \n",
       "3                        5                       24            24  \n",
       "4                        5                       24            24  \n",
       "...                    ...                      ...           ...  \n",
       "1400                     5                       24            24  \n",
       "1401                     5                        6            15  \n",
       "1402                     5                        6            15  \n",
       "1403                    30                       24            24  \n",
       "1404                    30                       24            24  \n",
       "\n",
       "[1405 rows x 11 columns]>"
      ]
     },
     "execution_count": 225,
     "metadata": {},
     "output_type": "execute_result"
    }
   ],
   "source": [
    "# train data\n",
    "X_new.head"
   ]
  }
 ],
 "metadata": {
  "kernelspec": {
   "display_name": "ds_project",
   "language": "python",
   "name": "sseongyunn"
  },
  "language_info": {
   "codemirror_mode": {
    "name": "ipython",
    "version": 3
   },
   "file_extension": ".py",
   "mimetype": "text/x-python",
   "name": "python",
   "nbconvert_exporter": "python",
   "pygments_lexer": "ipython3",
   "version": "3.12.2"
  }
 },
 "nbformat": 4,
 "nbformat_minor": 5
}

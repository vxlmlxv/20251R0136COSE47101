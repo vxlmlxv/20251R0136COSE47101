{
 "cells": [
  {
   "cell_type": "code",
   "execution_count": 1,
   "id": "e8f1c831",
   "metadata": {},
   "outputs": [],
   "source": [
    "import pandas as pd\n",
    "import numpy as np\n",
    "from sklearn.ensemble import RandomForestClassifier\n",
    "from sklearn.metrics import accuracy_score\n",
    "from sklearn.model_selection import train_test_split\n",
    "\n",
    "import warnings\n",
    "warnings.filterwarnings('ignore')"
   ]
  },
  {
   "cell_type": "code",
   "execution_count": null,
   "id": "4b21081b",
   "metadata": {},
   "outputs": [
    {
     "data": {
      "text/plain": [
       "complaint_level\n",
       "낮음      353\n",
       "중간이상    352\n",
       "중간이하    350\n",
       "높음      350\n",
       "Name: count, dtype: int64"
      ]
     },
     "execution_count": 56,
     "metadata": {},
     "output_type": "execute_result"
    }
   ],
   "source": [
    "'''\n",
    "#분위수 기준 클러스터링\n",
    "#parks_df = pd.read_csv(\"src/RF_parksdf_week.csv\")\n",
    "parks_df = pd.read_csv(\"src/RF_parksdf_sat.csv\")\n",
    "#parks_df = pd.read_csv(\"src/RF_parksdf_holi.csv\")\n",
    "parks_df.columns\n",
    "\n",
    "parks_df[\"complaints_r300\"].quantile(q=0.25) #788\n",
    "parks_df[\"complaints_r300\"].quantile(q=0.5) #1441\n",
    "parks_df[\"complaints_r300\"].quantile(q=0.75) #2816\n",
    "#parks_df.loc[parks_df[\"complaints_r300\"]>=10000]\n",
    "\n",
    "parks_df[\"complaint_level\"] = pd.qcut(\n",
    "    parks_df[\"complaints_r300\"],  # 민원 건수 열\n",
    "    q=4,                          # 분위수: 4분위 (quartile) → 낮음/중간이하/중간이상/높음\n",
    "    labels=[\"낮음\", \"중간이하\", \"중간이상\", \"높음\"]\n",
    ")\n",
    "parks_df[\"complaint_level\"].value_counts()\n",
    "'''"
   ]
  },
  {
   "cell_type": "code",
   "execution_count": 28,
   "id": "226aa769",
   "metadata": {},
   "outputs": [
    {
     "name": "stdout",
     "output_type": "stream",
     "text": [
      "[0, 690, 2209, 7210]\n"
     ]
    },
    {
     "data": {
      "text/plain": [
       "complaint_level\n",
       "0    1153\n",
       "1     210\n",
       "2      42\n",
       "Name: count, dtype: int64"
      ]
     },
     "execution_count": 28,
     "metadata": {},
     "output_type": "execute_result"
    }
   ],
   "source": [
    "#자연발생 클러스터링(민원 단계 컬럼 생성)\n",
    "from jenkspy import JenksNaturalBreaks\n",
    "\n",
    "#parks_df = pd.read_csv(\"src/RF_parksdf_week.csv\")\n",
    "#parks_df = pd.read_csv(\"src/RF_parksdf_sat.csv\")\n",
    "parks_df = pd.read_csv(\"src/RF_parksdf_holi.csv\")\n",
    "parks_df.columns\n",
    "\n",
    "i = 3\n",
    "\n",
    "breaks = JenksNaturalBreaks(n_classes=i)\n",
    "breaks.fit(parks_df[\"complaints_r300\"])\n",
    "print(breaks.breaks_)  # 구간 경계\n",
    "\n",
    "parks_df[\"complaint_level\"] = pd.cut(\n",
    "    parks_df[\"complaints_r300\"], bins=breaks.breaks_, labels=range(i), include_lowest=True\n",
    ")\n",
    "parks_df[\"complaint_level\"].value_counts()"
   ]
  },
  {
   "cell_type": "code",
   "execution_count": 53,
   "id": "89a115fc",
   "metadata": {},
   "outputs": [
    {
     "data": {
      "text/plain": [
       "complaint_level\n",
       "0    1013\n",
       "1     274\n",
       "2      92\n",
       "3      26\n",
       "Name: count, dtype: int64"
      ]
     },
     "execution_count": 53,
     "metadata": {},
     "output_type": "execute_result"
    }
   ],
   "source": [
    "# KMeans 기반 클러스터링\n",
    "\n",
    "from sklearn.cluster import KMeans\n",
    "import numpy as np\n",
    "import pandas as pd\n",
    "\n",
    "#parks_df = pd.read_csv(\"src/RF_parksdf_week.csv\")\n",
    "parks_df = pd.read_csv(\"src/RF_parksdf_sat.csv\")\n",
    "#parks_df = pd.read_csv(\"src/RF_parksdf_holi.csv\")\n",
    "parks_df.columns\n",
    "\n",
    "k = 4\n",
    "\n",
    "X = parks_df[\"complaints_r300\"].values.reshape(-1, 1)\n",
    "\n",
    "kmeans = KMeans(n_clusters=k, random_state=0)\n",
    "clusters = kmeans.fit_predict(X)\n",
    "\n",
    "centers = kmeans.cluster_centers_.flatten()\n",
    "sorted_idx = np.argsort(centers)\n",
    "label_map = {old: new for new, old in enumerate(sorted_idx)}\n",
    "sorted_labels = np.vectorize(label_map.get)(clusters)\n",
    "\n",
    "parks_df[\"complaint_level\"] = sorted_labels\n",
    "\n",
    "parks_df[\"complaint_level\"].value_counts().sort_index()\n"
   ]
  },
  {
   "cell_type": "code",
   "execution_count": null,
   "id": "aff663b6",
   "metadata": {},
   "outputs": [
    {
     "data": {
      "text/plain": [
       "complaint_level\n",
       "0    914\n",
       "1    405\n",
       "2     84\n",
       "3      2\n",
       "Name: count, dtype: int64"
      ]
     },
     "execution_count": 81,
     "metadata": {},
     "output_type": "execute_result"
    }
   ],
   "source": [
    "# GMM 기반 클러스터링\n",
    "\n",
    "import pandas as pd\n",
    "import numpy as np\n",
    "from sklearn.mixture import GaussianMixture\n",
    "\n",
    "#parks_df = pd.read_csv(\"src/RF_parksdf_week.csv\")\n",
    "parks_df = pd.read_csv(\"src/RF_parksdf_sat.csv\")\n",
    "#parks_df = pd.read_csv(\"src/RF_parksdf_holi.csv\")\n",
    "parks_df.columns\n",
    "\n",
    "n_components = 4\n",
    "\n",
    "X = parks_df[\"complaints_r300\"].values.reshape(-1, 1)\n",
    "\n",
    "gmm = GaussianMixture(n_components=n_components, random_state=0)\n",
    "gmm.fit(X)\n",
    "clusters = gmm.predict(X)\n",
    "\n",
    "means = gmm.means_.flatten()\n",
    "sorted_idx = np.argsort(means)\n",
    "label_map = {old: new for new, old in enumerate(sorted_idx)}\n",
    "sorted_labels = np.vectorize(label_map.get)(clusters)\n",
    "\n",
    "parks_df[\"complaint_level\"] = sorted_labels\n",
    "\n",
    "parks_df[\"complaint_level\"].value_counts().sort_index()\n"
   ]
  },
  {
   "cell_type": "code",
   "execution_count": 54,
   "id": "1e192186",
   "metadata": {},
   "outputs": [
    {
     "name": "stdout",
     "output_type": "stream",
     "text": [
      "parking_type: ['NS', 'NW']\n",
      "operation_type: [1, 3]\n",
      "Saturday_paid: ['N', 'Y']\n"
     ]
    }
   ],
   "source": [
    "#범주형 변수의 label을 [0,1]로 변환\n",
    "from sklearn.preprocessing import LabelEncoder\n",
    "\n",
    "le_dict = {}\n",
    "\n",
    "for col in [\"parking_type\", \"operation_type\", \"Weekday_paid\", \"Saturday_paid\", \"Holiday_paid\"]:\n",
    "    if col in parks_df.columns:  # ✅ 존재하는 경우에만 처리\n",
    "        le = LabelEncoder()\n",
    "        parks_df[col] = le.fit_transform(parks_df[col])\n",
    "        le_dict[col] = le\n",
    "\n",
    "# 예시: parking_type의 범주와 정수 매핑 확인\n",
    "for col in le_dict:\n",
    "    print(f\"{col}: {list(le_dict[col].classes_)}\")\n",
    "\n",
    "# [0, 1, 2, ...] 순서로 classes_에 저장됨\n",
    "#['NS', 'NW'] -> [0,1]\n",
    "#[1, 3] -> [0,1]\n",
    "#['N', 'Y'] -> [0,1]\n",
    "#['N', 'Y'] -> [0,1]\n",
    "#['N', 'Y'] -> [0,1]"
   ]
  },
  {
   "cell_type": "code",
   "execution_count": 55,
   "id": "42954487",
   "metadata": {},
   "outputs": [
    {
     "name": "stdout",
     "output_type": "stream",
     "text": [
      "X_new 변수 목록: ['total_parking_spaces', 'bus_r300', 'cctv_r300', 'fee1H', 'base_parking_fee', 'Saturday_end', 'additional_unit_fee', 'Saturday_operatingHours', 'Saturday_start']\n"
     ]
    }
   ],
   "source": [
    "X = parks_df.drop([\"complaints_r300\", \"complaint_level\", \"address\"], axis=1)\n",
    "y = parks_df[\"complaint_level\"]\n",
    "\n",
    "X_train_full, X_test_full, y_train, y_test = train_test_split(X, y, test_size=0.1, random_state=42)\n",
    "rf_full = RandomForestClassifier(random_state=0)\n",
    "rf_full.fit(X_train_full, y_train)\n",
    "\n",
    "# 중요도 기반 상위 10개 변수 선택\n",
    "importances = pd.Series(rf_full.feature_importances_, index=X.columns)\n",
    "top10_features = importances.sort_values(ascending=False).head(9).index.tolist()\n",
    "\n",
    "X_new = X[top10_features]\n",
    "\n",
    "print(\"X_new 변수 목록:\", top10_features)"
   ]
  },
  {
   "cell_type": "code",
   "execution_count": 56,
   "id": "75ed60bf",
   "metadata": {},
   "outputs": [
    {
     "data": {
      "text/plain": [
       "Index(['total_parking_spaces', 'bus_r300', 'cctv_r300', 'fee1H',\n",
       "       'base_parking_fee', 'Saturday_end', 'additional_unit_fee',\n",
       "       'Saturday_operatingHours', 'Saturday_start'],\n",
       "      dtype='object')"
      ]
     },
     "execution_count": 56,
     "metadata": {},
     "output_type": "execute_result"
    }
   ],
   "source": [
    "X_train, X_test, y_train, y_test = train_test_split(X_new, y, test_size = 0.1, random_state = 42)\n",
    "X_train, X_val, y_train, y_val = train_test_split(X_train, y_train, test_size = 1/9, random_state = 42)\n",
    "\n",
    "X_new.columns"
   ]
  },
  {
   "cell_type": "code",
   "execution_count": 8,
   "id": "d2f11fa3",
   "metadata": {},
   "outputs": [
    {
     "data": {
      "text/plain": [
       "'\\nX_new = X[[\"bus_r300\", \"total_parking_spaces\",\"cctv_r300\", \\n           \"fee1H\",\"base_parking_fee\", \"additional_unit_fee\", \"Weekday_operatingHours\",\\n            \"Weekday_end\", \"additional_unit_time\",\"Saturday_operatingHours\",\\n            \"Saturday_end\"]]\\n\\nX_train, X_test, y_train, y_test = train_test_split(X_new, y, test_size = 0.1, random_state = 42)\\nX_train, X_val, y_train, y_val = train_test_split(X_train, y_train, test_size = 1/9, random_state = 42)\\n\\nX_new.columns\\n'"
      ]
     },
     "execution_count": 8,
     "metadata": {},
     "output_type": "execute_result"
    }
   ],
   "source": [
    "'''\n",
    "X_new = X[[\"bus_r300\", \"total_parking_spaces\",\"cctv_r300\", \n",
    "           \"fee1H\",\"base_parking_fee\", \"additional_unit_fee\", \"Weekday_operatingHours\",\n",
    "            \"Weekday_end\", \"additional_unit_time\",\"Saturday_operatingHours\",\n",
    "            \"Saturday_end\"]]\n",
    "\n",
    "X_train, X_test, y_train, y_test = train_test_split(X_new, y, test_size = 0.1, random_state = 42)\n",
    "X_train, X_val, y_train, y_val = train_test_split(X_train, y_train, test_size = 1/9, random_state = 42)\n",
    "\n",
    "X_new.columns\n",
    "'''"
   ]
  },
  {
   "cell_type": "code",
   "execution_count": 57,
   "id": "ffff1b80",
   "metadata": {},
   "outputs": [],
   "source": [
    "#robust scalar 적용 cell인데 효과 없음\n",
    "from sklearn.preprocessing import RobustScaler\n",
    "from sklearn.preprocessing import robust_scale\n",
    "\n",
    "transformer = RobustScaler()\n",
    "X_robust = transformer.fit_transform(X_new)\n",
    "X_robust = robust_scale(X_robust)\n",
    "\n",
    "X_train, X_test, y_train, y_test = train_test_split(X_robust, y, test_size = 0.1, random_state = 42)\n",
    "X_train, X_val, y_train, y_val = train_test_split(X_train, y_train, test_size = 1/9, random_state = 42)"
   ]
  },
  {
   "cell_type": "code",
   "execution_count": 58,
   "id": "39f1424e",
   "metadata": {},
   "outputs": [
    {
     "name": "stdout",
     "output_type": "stream",
     "text": [
      "랜덤 포레스트 정확도: 0.7660\n"
     ]
    }
   ],
   "source": [
    "# 랜덤포레스트 \n",
    "rf = RandomForestClassifier(random_state = 0)\n",
    "rf.fit(X_train, y_train)\n",
    "pred = rf.predict(X_test)\n",
    "accuracy = accuracy_score(y_test, pred)\n",
    "print('랜덤 포레스트 정확도: {:.4f}'.format(accuracy))"
   ]
  },
  {
   "cell_type": "code",
   "execution_count": 51,
   "id": "08201f72",
   "metadata": {},
   "outputs": [
    {
     "name": "stdout",
     "output_type": "stream",
     "text": [
      "gradient boosting 정확도: 0.8227\n"
     ]
    }
   ],
   "source": [
    "# gradient boosting\n",
    "from sklearn.ensemble import GradientBoostingClassifier\n",
    "\n",
    "gb = GradientBoostingClassifier(random_state=0)\n",
    "gb.fit(X_train, y_train)\n",
    "pred = gb.predict(X_test)\n",
    "accuracy = accuracy_score(y_test, pred)\n",
    "print('gradient boosting 정확도: {:.4f}'.format(accuracy))"
   ]
  },
  {
   "cell_type": "code",
   "execution_count": 52,
   "id": "01601cc6",
   "metadata": {},
   "outputs": [
    {
     "name": "stdout",
     "output_type": "stream",
     "text": [
      "XGBoost 정확도: 0.8440\n"
     ]
    }
   ],
   "source": [
    "# XGBoost\n",
    "from xgboost import XGBClassifier\n",
    "\n",
    "xgb = XGBClassifier(use_label_encoder=False, eval_metric='mlogloss', random_state=0)\n",
    "xgb.fit(X_train, y_train)\n",
    "pred = xgb.predict(X_test)\n",
    "accuracy = accuracy_score(y_test, pred)\n",
    "print('XGBoost 정확도: {:.4f}'.format(accuracy))"
   ]
  },
  {
   "cell_type": "code",
   "execution_count": 59,
   "id": "46ab2e4f",
   "metadata": {},
   "outputs": [
    {
     "data": {
      "text/html": [
       "<div>\n",
       "<style scoped>\n",
       "    .dataframe tbody tr th:only-of-type {\n",
       "        vertical-align: middle;\n",
       "    }\n",
       "\n",
       "    .dataframe tbody tr th {\n",
       "        vertical-align: top;\n",
       "    }\n",
       "\n",
       "    .dataframe thead th {\n",
       "        text-align: right;\n",
       "    }\n",
       "</style>\n",
       "<table border=\"1\" class=\"dataframe\">\n",
       "  <thead>\n",
       "    <tr style=\"text-align: right;\">\n",
       "      <th></th>\n",
       "      <th>feature</th>\n",
       "      <th>importance</th>\n",
       "    </tr>\n",
       "  </thead>\n",
       "  <tbody>\n",
       "    <tr>\n",
       "      <th>0</th>\n",
       "      <td>total_parking_spaces</td>\n",
       "      <td>0.218161</td>\n",
       "    </tr>\n",
       "    <tr>\n",
       "      <th>1</th>\n",
       "      <td>bus_r300</td>\n",
       "      <td>0.178980</td>\n",
       "    </tr>\n",
       "    <tr>\n",
       "      <th>2</th>\n",
       "      <td>cctv_r300</td>\n",
       "      <td>0.159807</td>\n",
       "    </tr>\n",
       "    <tr>\n",
       "      <th>4</th>\n",
       "      <td>base_parking_fee</td>\n",
       "      <td>0.098744</td>\n",
       "    </tr>\n",
       "    <tr>\n",
       "      <th>3</th>\n",
       "      <td>fee1H</td>\n",
       "      <td>0.098252</td>\n",
       "    </tr>\n",
       "    <tr>\n",
       "      <th>6</th>\n",
       "      <td>additional_unit_fee</td>\n",
       "      <td>0.077890</td>\n",
       "    </tr>\n",
       "    <tr>\n",
       "      <th>5</th>\n",
       "      <td>Saturday_end</td>\n",
       "      <td>0.071025</td>\n",
       "    </tr>\n",
       "    <tr>\n",
       "      <th>7</th>\n",
       "      <td>Saturday_operatingHours</td>\n",
       "      <td>0.052353</td>\n",
       "    </tr>\n",
       "    <tr>\n",
       "      <th>8</th>\n",
       "      <td>Saturday_start</td>\n",
       "      <td>0.044788</td>\n",
       "    </tr>\n",
       "  </tbody>\n",
       "</table>\n",
       "</div>"
      ],
      "text/plain": [
       "                   feature  importance\n",
       "0     total_parking_spaces    0.218161\n",
       "1                 bus_r300    0.178980\n",
       "2                cctv_r300    0.159807\n",
       "4         base_parking_fee    0.098744\n",
       "3                    fee1H    0.098252\n",
       "6      additional_unit_fee    0.077890\n",
       "5             Saturday_end    0.071025\n",
       "7  Saturday_operatingHours    0.052353\n",
       "8           Saturday_start    0.044788"
      ]
     },
     "execution_count": 59,
     "metadata": {},
     "output_type": "execute_result"
    }
   ],
   "source": [
    "importances = rf.feature_importances_\n",
    "feature_names = X_new.columns  # DataFrame에서 feature 이름 추출\n",
    "\n",
    "# 중요도 표 만들기\n",
    "importance_table = pd.DataFrame({\n",
    "    'feature': feature_names,\n",
    "    'importance': importances\n",
    "}).sort_values(by='importance', ascending=False)\n",
    "\n",
    "importance_table\n"
   ]
  },
  {
   "cell_type": "code",
   "execution_count": 60,
   "id": "d122a812",
   "metadata": {},
   "outputs": [
    {
     "data": {
      "text/plain": [
       "0.7943262411347518"
      ]
     },
     "execution_count": 60,
     "metadata": {},
     "output_type": "execute_result"
    }
   ],
   "source": [
    "from sklearn.metrics import mean_squared_error\n",
    "\n",
    "val_predict = rf.predict(X_val)\n",
    "val_predict\n",
    "\n",
    "test_predict = rf.predict(X_test)\n",
    "\n",
    "mean_squared_error(y_test, val_predict)"
   ]
  },
  {
   "cell_type": "code",
   "execution_count": 61,
   "id": "61a7657e",
   "metadata": {},
   "outputs": [
    {
     "name": "stdout",
     "output_type": "stream",
     "text": [
      "Complaint Level (Kmeans) Classification Accuracy: 0.766\n"
     ]
    },
    {
     "ename": "ValueError",
     "evalue": "Number of classes, 4, does not match size of target_names, 3. Try specifying the labels parameter",
     "output_type": "error",
     "traceback": [
      "\u001b[0;31m---------------------------------------------------------------------------\u001b[0m",
      "\u001b[0;31mValueError\u001b[0m                                Traceback (most recent call last)",
      "Cell \u001b[0;32mIn[61], line 6\u001b[0m\n\u001b[1;32m      3\u001b[0m \u001b[38;5;28;01mfrom\u001b[39;00m\u001b[38;5;250m \u001b[39m\u001b[38;5;21;01msklearn\u001b[39;00m\u001b[38;5;21;01m.\u001b[39;00m\u001b[38;5;21;01mmetrics\u001b[39;00m\u001b[38;5;250m \u001b[39m\u001b[38;5;28;01mimport\u001b[39;00m classification_report, accuracy_score\n\u001b[1;32m      5\u001b[0m \u001b[38;5;28mprint\u001b[39m(\u001b[38;5;124m\"\u001b[39m\u001b[38;5;124mComplaint Level (Kmeans) Classification Accuracy:\u001b[39m\u001b[38;5;124m\"\u001b[39m, \u001b[38;5;28mround\u001b[39m(accuracy_score(y_test, pred), \u001b[38;5;241m3\u001b[39m))\n\u001b[0;32m----> 6\u001b[0m \u001b[38;5;28mprint\u001b[39m(\u001b[43mclassification_report\u001b[49m\u001b[43m(\u001b[49m\u001b[43my_test\u001b[49m\u001b[43m,\u001b[49m\u001b[43m \u001b[49m\u001b[43mpred\u001b[49m\u001b[43m,\u001b[49m\u001b[43m \u001b[49m\u001b[43mtarget_names\u001b[49m\u001b[38;5;241;43m=\u001b[39;49m\u001b[43m[\u001b[49m\u001b[38;5;124;43m'\u001b[39;49m\u001b[38;5;124;43mLow\u001b[39;49m\u001b[38;5;124;43m'\u001b[39;49m\u001b[43m,\u001b[49m\u001b[43m \u001b[49m\u001b[38;5;124;43m'\u001b[39;49m\u001b[38;5;124;43mMid\u001b[39;49m\u001b[38;5;124;43m'\u001b[39;49m\u001b[43m,\u001b[49m\u001b[43m \u001b[49m\u001b[38;5;124;43m'\u001b[39;49m\u001b[38;5;124;43mHigh\u001b[39;49m\u001b[38;5;124;43m'\u001b[39;49m\u001b[43m]\u001b[49m\u001b[43m)\u001b[49m)\n",
      "File \u001b[0;32m~/Library/Python/3.9/lib/python/site-packages/sklearn/utils/_param_validation.py:216\u001b[0m, in \u001b[0;36mvalidate_params.<locals>.decorator.<locals>.wrapper\u001b[0;34m(*args, **kwargs)\u001b[0m\n\u001b[1;32m    210\u001b[0m \u001b[38;5;28;01mtry\u001b[39;00m:\n\u001b[1;32m    211\u001b[0m     \u001b[38;5;28;01mwith\u001b[39;00m config_context(\n\u001b[1;32m    212\u001b[0m         skip_parameter_validation\u001b[38;5;241m=\u001b[39m(\n\u001b[1;32m    213\u001b[0m             prefer_skip_nested_validation \u001b[38;5;129;01mor\u001b[39;00m global_skip_validation\n\u001b[1;32m    214\u001b[0m         )\n\u001b[1;32m    215\u001b[0m     ):\n\u001b[0;32m--> 216\u001b[0m         \u001b[38;5;28;01mreturn\u001b[39;00m \u001b[43mfunc\u001b[49m\u001b[43m(\u001b[49m\u001b[38;5;241;43m*\u001b[39;49m\u001b[43margs\u001b[49m\u001b[43m,\u001b[49m\u001b[43m \u001b[49m\u001b[38;5;241;43m*\u001b[39;49m\u001b[38;5;241;43m*\u001b[39;49m\u001b[43mkwargs\u001b[49m\u001b[43m)\u001b[49m\n\u001b[1;32m    217\u001b[0m \u001b[38;5;28;01mexcept\u001b[39;00m InvalidParameterError \u001b[38;5;28;01mas\u001b[39;00m e:\n\u001b[1;32m    218\u001b[0m     \u001b[38;5;66;03m# When the function is just a wrapper around an estimator, we allow\u001b[39;00m\n\u001b[1;32m    219\u001b[0m     \u001b[38;5;66;03m# the function to delegate validation to the estimator, but we replace\u001b[39;00m\n\u001b[1;32m    220\u001b[0m     \u001b[38;5;66;03m# the name of the estimator by the name of the function in the error\u001b[39;00m\n\u001b[1;32m    221\u001b[0m     \u001b[38;5;66;03m# message to avoid confusion.\u001b[39;00m\n\u001b[1;32m    222\u001b[0m     msg \u001b[38;5;241m=\u001b[39m re\u001b[38;5;241m.\u001b[39msub(\n\u001b[1;32m    223\u001b[0m         \u001b[38;5;124mr\u001b[39m\u001b[38;5;124m\"\u001b[39m\u001b[38;5;124mparameter of \u001b[39m\u001b[38;5;124m\\\u001b[39m\u001b[38;5;124mw+ must be\u001b[39m\u001b[38;5;124m\"\u001b[39m,\n\u001b[1;32m    224\u001b[0m         \u001b[38;5;124mf\u001b[39m\u001b[38;5;124m\"\u001b[39m\u001b[38;5;124mparameter of \u001b[39m\u001b[38;5;132;01m{\u001b[39;00mfunc\u001b[38;5;241m.\u001b[39m\u001b[38;5;18m__qualname__\u001b[39m\u001b[38;5;132;01m}\u001b[39;00m\u001b[38;5;124m must be\u001b[39m\u001b[38;5;124m\"\u001b[39m,\n\u001b[1;32m    225\u001b[0m         \u001b[38;5;28mstr\u001b[39m(e),\n\u001b[1;32m    226\u001b[0m     )\n",
      "File \u001b[0;32m~/Library/Python/3.9/lib/python/site-packages/sklearn/metrics/_classification.py:2693\u001b[0m, in \u001b[0;36mclassification_report\u001b[0;34m(y_true, y_pred, labels, target_names, sample_weight, digits, output_dict, zero_division)\u001b[0m\n\u001b[1;32m   2687\u001b[0m         warnings\u001b[38;5;241m.\u001b[39mwarn(\n\u001b[1;32m   2688\u001b[0m             \u001b[38;5;124m\"\u001b[39m\u001b[38;5;124mlabels size, \u001b[39m\u001b[38;5;132;01m{0}\u001b[39;00m\u001b[38;5;124m, does not match size of target_names, \u001b[39m\u001b[38;5;132;01m{1}\u001b[39;00m\u001b[38;5;124m\"\u001b[39m\u001b[38;5;241m.\u001b[39mformat(\n\u001b[1;32m   2689\u001b[0m                 \u001b[38;5;28mlen\u001b[39m(labels), \u001b[38;5;28mlen\u001b[39m(target_names)\n\u001b[1;32m   2690\u001b[0m             )\n\u001b[1;32m   2691\u001b[0m         )\n\u001b[1;32m   2692\u001b[0m     \u001b[38;5;28;01melse\u001b[39;00m:\n\u001b[0;32m-> 2693\u001b[0m         \u001b[38;5;28;01mraise\u001b[39;00m \u001b[38;5;167;01mValueError\u001b[39;00m(\n\u001b[1;32m   2694\u001b[0m             \u001b[38;5;124m\"\u001b[39m\u001b[38;5;124mNumber of classes, \u001b[39m\u001b[38;5;132;01m{0}\u001b[39;00m\u001b[38;5;124m, does not match size of \u001b[39m\u001b[38;5;124m\"\u001b[39m\n\u001b[1;32m   2695\u001b[0m             \u001b[38;5;124m\"\u001b[39m\u001b[38;5;124mtarget_names, \u001b[39m\u001b[38;5;132;01m{1}\u001b[39;00m\u001b[38;5;124m. Try specifying the labels \u001b[39m\u001b[38;5;124m\"\u001b[39m\n\u001b[1;32m   2696\u001b[0m             \u001b[38;5;124m\"\u001b[39m\u001b[38;5;124mparameter\u001b[39m\u001b[38;5;124m\"\u001b[39m\u001b[38;5;241m.\u001b[39mformat(\u001b[38;5;28mlen\u001b[39m(labels), \u001b[38;5;28mlen\u001b[39m(target_names))\n\u001b[1;32m   2697\u001b[0m         )\n\u001b[1;32m   2698\u001b[0m \u001b[38;5;28;01mif\u001b[39;00m target_names \u001b[38;5;129;01mis\u001b[39;00m \u001b[38;5;28;01mNone\u001b[39;00m:\n\u001b[1;32m   2699\u001b[0m     target_names \u001b[38;5;241m=\u001b[39m [\u001b[38;5;124m\"\u001b[39m\u001b[38;5;132;01m%s\u001b[39;00m\u001b[38;5;124m\"\u001b[39m \u001b[38;5;241m%\u001b[39m l \u001b[38;5;28;01mfor\u001b[39;00m l \u001b[38;5;129;01min\u001b[39;00m labels]\n",
      "\u001b[0;31mValueError\u001b[0m: Number of classes, 4, does not match size of target_names, 3. Try specifying the labels parameter"
     ]
    }
   ],
   "source": [
    "# Accuracy 분석\n",
    "\n",
    "from sklearn.metrics import classification_report, accuracy_score\n",
    "\n",
    "print(\"Complaint Level (Kmeans) Classification Accuracy:\", round(accuracy_score(y_test, pred), 3))\n",
    "print(classification_report(y_test, pred, target_names=['Low', 'Mid', 'High']))"
   ]
  },
  {
   "cell_type": "code",
   "execution_count": 14,
   "id": "afaba000",
   "metadata": {},
   "outputs": [
    {
     "name": "stdout",
     "output_type": "stream",
     "text": [
      "최적 하이퍼 파라미터:  {'max_depth': 8, 'min_samples_leaf': 8, 'min_samples_split': 3, 'n_estimators': 1000}\n",
      "최고 예측 정확도: 0.7498\n"
     ]
    }
   ],
   "source": [
    "#최적 하이퍼 파라미터를 찾았는데 기존 모델보다 성능 낮아짐..\n",
    "from sklearn.model_selection import GridSearchCV\n",
    "\n",
    "params = { 'n_estimators' : [500, 1000],\n",
    "           'max_depth' : [6, 8, 10],\n",
    "           'min_samples_leaf' : [8, 12, 18],\n",
    "           'min_samples_split' : [3, 5]\n",
    "            }\n",
    "\n",
    "# RandomForestClassifier 객체 생성 후 GridSearchCV 수행\n",
    "rf_clf = RandomForestClassifier(random_state = 0, n_jobs = -1)\n",
    "grid_cv = GridSearchCV(rf_clf, param_grid = params, cv = 3, n_jobs = -1)\n",
    "grid_cv.fit(X_train, y_train)\n",
    "\n",
    "print('최적 하이퍼 파라미터: ', grid_cv.best_params_)\n",
    "print('최고 예측 정확도: {:.4f}'.format(grid_cv.best_score_))"
   ]
  },
  {
   "cell_type": "code",
   "execution_count": 50,
   "id": "a35b46c6",
   "metadata": {},
   "outputs": [
    {
     "data": {
      "image/png": "[encoded data removed]",
      "text/plain": [
       "<Figure size 800x600 with 1 Axes>"
      ]
     },
     "metadata": {},
     "output_type": "display_data"
    }
   ],
   "source": [
    "# 변수 중요도 플로팅\n",
    "import matplotlib.pyplot as plt\n",
    "import seaborn as sns\n",
    "%matplotlib inline\n",
    "\n",
    "ftr_importances_values = rf.feature_importances_\n",
    "ftr_importances = pd.Series(ftr_importances_values, index = X_new.columns)\n",
    "ftr_top20 = ftr_importances.sort_values(ascending=False)[:20]\n",
    "\n",
    "plt.figure(figsize=(8,6))\n",
    "plt.title('Top Feature Importances')\n",
    "sns.barplot(x=ftr_top20, y=ftr_top20.index)\n",
    "plt.show()"
   ]
  },
  {
   "cell_type": "code",
   "execution_count": null,
   "id": "4192f8d1",
   "metadata": {},
   "outputs": [
    {
     "data": {
      "text/plain": [
       "<bound method NDFrame.head of       bus_r300  total_parking_spaces  cctv_r300  fee1H  base_parking_fee  \\\n",
       "0            1                   132          0   2400               200   \n",
       "1            1                    97          0   2400               200   \n",
       "2            5                   194          3   2400               200   \n",
       "3            4                   168          2   1200               100   \n",
       "4            7                   149          2   2400               200   \n",
       "...        ...                   ...        ...    ...               ...   \n",
       "1400         8                   130          3   1200               100   \n",
       "1401        17                     4          1   3000               250   \n",
       "1402         6                     1          2   1200               100   \n",
       "1403         5                     1          1    600               600   \n",
       "1404         7                     1          4    600               600   \n",
       "\n",
       "      additional_unit_fee  Weekday_operatingHours  Weekday_end  \\\n",
       "0                     200                      10           19   \n",
       "1                     200                      24           24   \n",
       "2                     200                      24           24   \n",
       "3                     100                      24           24   \n",
       "4                     200                      24           24   \n",
       "...                   ...                     ...          ...   \n",
       "1400                  100                      24           24   \n",
       "1401                  250                      10           19   \n",
       "1402                  100                      10           19   \n",
       "1403                  300                       9           18   \n",
       "1404                  300                       9           18   \n",
       "\n",
       "      additional_unit_time  Saturday_operatingHours  Saturday_end  \n",
       "0                        5                       24            24  \n",
       "1                        5                       24            24  \n",
       "2                        5                       24            24  \n",
       "3                        5                       24            24  \n",
       "4                        5                       24            24  \n",
       "...                    ...                      ...           ...  \n",
       "1400                     5                       24            24  \n",
       "1401                     5                        6            15  \n",
       "1402                     5                        6            15  \n",
       "1403                    30                       24            24  \n",
       "1404                    30                       24            24  \n",
       "\n",
       "[1405 rows x 11 columns]>"
      ]
     },
     "execution_count": 225,
     "metadata": {},
     "output_type": "execute_result"
    }
   ],
   "source": [
    "# train data\n",
    "X_new.head"
   ]
  }
 ],
 "metadata": {
  "kernelspec": {
   "display_name": "Python 3",
   "language": "python",
   "name": "python3"
  },
  "language_info": {
   "codemirror_mode": {
    "name": "ipython",
    "version": 3
   },
   "file_extension": ".py",
   "mimetype": "text/x-python",
   "name": "python",
   "nbconvert_exporter": "python",
   "pygments_lexer": "ipython3",
   "version": "3.9.6"
  }
 },
 "nbformat": 4,
 "nbformat_minor": 5
}

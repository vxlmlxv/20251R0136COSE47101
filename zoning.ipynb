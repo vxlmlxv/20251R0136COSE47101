{
 "cells": [
  {
   "cell_type": "code",
   "execution_count": 8,
   "id": "ae6a8c2a",
   "metadata": {},
   "outputs": [
    {
     "name": "stdout",
     "output_type": "stream",
     "text": [
      "          address     zoning\n",
      "0   강남구 개포동 126-2  녹지지역+주거지역\n",
      "1  강남구 개포동 1266-0       주거지역\n",
      "2  강남구 개포동 1273-0       주거지역\n",
      "3    강남구 개포동 13-2       주거지역\n",
      "4   강남구 개포동 183-2       주거지역\n",
      "          address parking_type  operation_type  total_parking_spaces  \\\n",
      "0   강남구 개포동 126-2           NW               1                 132.0   \n",
      "1  강남구 개포동 1266-0           NW               1                  97.0   \n",
      "2  강남구 개포동 1273-0           NW               1                 194.0   \n",
      "3    강남구 개포동 13-2           NW               1                 168.0   \n",
      "4   강남구 개포동 183-2           NW               1                 149.0   \n",
      "\n",
      "   base_parking_fee  base_parking_time  additional_unit_fee  \\\n",
      "0             200.0                5.0                200.0   \n",
      "1             200.0                5.0                200.0   \n",
      "2             200.0                5.0                200.0   \n",
      "3             100.0                5.0                100.0   \n",
      "4             200.0                5.0                200.0   \n",
      "\n",
      "   additional_unit_time   fee1H  cctv_r300  ...  is_open_at_16  is_open_at_17  \\\n",
      "0                   5.0  2400.0          0  ...              1              1   \n",
      "1                   5.0  2400.0          0  ...              1              1   \n",
      "2                   5.0  2400.0          3  ...              1              1   \n",
      "3                   5.0  1200.0          2  ...              1              1   \n",
      "4                   5.0  2400.0          2  ...              1              1   \n",
      "\n",
      "  is_open_at_18  is_open_at_19  is_open_at_20  is_open_at_21  is_open_at_22  \\\n",
      "0             1              1              1              1              1   \n",
      "1             1              1              1              1              1   \n",
      "2             1              1              1              1              1   \n",
      "3             1              1              1              1              1   \n",
      "4             1              1              1              1              1   \n",
      "\n",
      "   is_open_at_23         zone_name     zoning  \n",
      "0              1  자연녹지지역+제3종일반주거지역  녹지지역+주거지역  \n",
      "1              1         제1종일반주거지역       주거지역  \n",
      "2              1   제2종일반주거지역(7층이하)       주거지역  \n",
      "3              1         제1종일반주거지역       주거지역  \n",
      "4              1         제1종일반주거지역       주거지역  \n",
      "\n",
      "[5 rows x 44 columns]\n"
     ]
    }
   ],
   "source": [
    "import pandas as pd\n",
    "import geopandas as gpd\n",
    "from shapely.geometry import Point\n",
    "from sklearn.preprocessing import LabelEncoder\n",
    "\n",
    "# 1. 주차장 데이터 불러오기\n",
    "df = pd.read_csv(r'src/RF_parksdf_holi.csv')\n",
    "\n",
    "# 시간별 운영여부 컬럼 추가\n",
    "for hour in range(24):\n",
    "    df[f'is_open_at_{hour}'] = (\n",
    "        ((df['Holiday_start'] <= hour) & (df['Holiday_end'] > hour)) |\n",
    "        ((df['Holiday_start'] > df['Holiday_end']) & \n",
    "         ((hour >= df['Holiday_start']) | (hour < df['Holiday_end'])))\n",
    "    ).astype(int)\n",
    "\n",
    "# 2. geometry 변환\n",
    "geometry = [Point(xy) for xy in zip(df['lon'], df['lat'])]\n",
    "parking_gdf = gpd.GeoDataFrame(df, geometry=geometry, crs=\"EPSG:4326\")\n",
    "\n",
    "# 3. 용도지역 폴리곤 불러오기\n",
    "zone = gpd.read_file(r\"src/UQ111_용도지역(도시지역)/shp파일/UPIS_C_UQ111.shp\")\n",
    "if zone.crs != parking_gdf.crs:\n",
    "    parking_gdf = parking_gdf.to_crs(zone.crs)\n",
    "\n",
    "# 4. 공간조인\n",
    "joined = gpd.sjoin(parking_gdf, zone, how='left', predicate='within')\n",
    "joined = joined.rename(columns={'DGM_NM': 'zone_name'})  # 실제 컬럼명 확인 필요\n",
    "\n",
    "# 5. 대분류 분류 함수\n",
    "def classify_zone(name):\n",
    "    if pd.isnull(name): return '미분류'\n",
    "    if '주거' in name: return '주거지역'\n",
    "    elif '상업' in name: return '상업지역'\n",
    "    elif '공업' in name or '준공업' in name or '중공업' in name: return '공업지역'\n",
    "    elif '녹지' in name: return '녹지지역'\n",
    "    else: return '기타'\n",
    "\n",
    "joined['zoning'] = joined['zone_name'].apply(classify_zone)\n",
    "\n",
    "# 6. address별로 여러 용도지역, 대분류가 있으면 모두 +로 합쳐서 하나의 값으로\n",
    "grouped = (\n",
    "    joined.groupby('address')\n",
    "    .agg({\n",
    "        'zone_name': lambda x: '+'.join(sorted(set(str(i) for i in x if pd.notnull(i)))),\n",
    "        'zoning':    lambda x: '+'.join(sorted(set(str(i) for i in x if pd.notnull(i))))\n",
    "    })\n",
    "    .reset_index()\n",
    ")\n",
    "\n",
    "# 7. 원래 데이터와 merge\n",
    "df = df.merge(grouped, on='address', how='left')\n",
    "\n",
    "# 9. 결과 확인\n",
    "print(df[['address', 'zoning']].head())\n",
    "\n",
    "# 10. 저장\n",
    "df.to_csv('src/RF_parksdf_holi_zone.csv', index=False, encoding='utf-8-sig')\n",
    "print(df.head())\n"
   ]
  },
  {
   "cell_type": "code",
   "execution_count": 9,
   "id": "d253c390",
   "metadata": {},
   "outputs": [],
   "source": [
    "# # column drop\n",
    "# df = pd.read_csv(r'src/RF_parksdf_holi_zone.csv') \n",
    "# df.drop(['zone_name', 'zoning'], axis=1, inplace=True)\n",
    "# df.to_csv('src/RF_parksdf_holi_zone.csv', index=False, encoding='utf-8-sig')"
   ]
  },
  {
   "cell_type": "code",
   "execution_count": 10,
   "id": "608da337",
   "metadata": {},
   "outputs": [
    {
     "name": "stdout",
     "output_type": "stream",
     "text": [
      "   dong     zoning\n",
      "0  가락본동       주거지역\n",
      "1  가리봉동       주거지역\n",
      "2   가산동       공업지역\n",
      "3  가양1동  공업지역+녹지지역\n",
      "4  가양2동       녹지지역\n"
     ]
    }
   ],
   "source": [
    "import pandas as pd\n",
    "from sklearn.preprocessing import LabelEncoder\n",
    "\n",
    "# 1. 데이터 읽기\n",
    "dong_df = pd.read_csv('src/dongParks_Holiday.csv')\n",
    "zoning_df = pd.read_csv('행정동별_최종우세지역.csv')\n",
    "\n",
    "# 2. dict로 만들어 mapping\n",
    "zoning_dict = zoning_df.set_index('ADM_NM')['최종우세지역'].to_dict()\n",
    "\n",
    "# 3. dong 컬럼 기준으로 zoning 붙이기\n",
    "dong_df['zoning'] = dong_df['dong'].map(zoning_dict)\n",
    "\n",
    "# 4. null 값을 '미분류'로 채우기\n",
    "dong_df['zoning'] = dong_df['zoning'].fillna('미분류')\n",
    "\n",
    "\n",
    "# 6. 결과 저장/확인\n",
    "dong_df.to_csv('src/dongParks_Holiday_zone.csv', index=False, encoding='utf-8-sig')\n",
    "print(dong_df[['dong', 'zoning']].head())"
   ]
  },
  {
   "cell_type": "code",
   "execution_count": 11,
   "id": "003bcf79",
   "metadata": {},
   "outputs": [],
   "source": [
    "parks_df_zone = pd.read_csv('src/RF_parksdf_holi_zone.csv')\n",
    "dong_zone = pd.read_csv('src/dongParks_Holiday_zone.csv')\n",
    "\n",
    "zoning_set = set(parks_df_zone['zoning']) | set(dong_zone['zoning'])\n",
    "all_zonings = pd.Series(sorted(zoning_set))\n",
    "\n",
    "from sklearn.preprocessing import LabelEncoder\n",
    "\n",
    "le = LabelEncoder()\n",
    "le.fit(all_zonings)\n",
    "\n",
    "parks_df_zone['zoning_encoded'] = le.transform(parks_df_zone['zoning'])\n",
    "dong_zone['zoning_encoded'] = le.transform(dong_zone['zoning'])\n",
    "\n",
    "parks_df_zone.to_csv('src/RF_parksdf_holi_zone.csv', index=False, encoding='utf-8-sig')\n",
    "dong_zone.to_csv('src/dongParks_Holiday_zone.csv', index=False, encoding='utf-8-sig')"
   ]
  },
  {
   "cell_type": "code",
   "execution_count": 12,
   "id": "ccc8fd16",
   "metadata": {},
   "outputs": [
    {
     "name": "stdout",
     "output_type": "stream",
     "text": [
      "zoning_encoded\n",
      "10    1161\n",
      "8      248\n",
      "0      121\n",
      "5       67\n",
      "4       13\n",
      "6        7\n",
      "9        4\n",
      "7        3\n",
      "3        1\n",
      "Name: count, dtype: int64\n",
      "고유값: [ 6 10  8  5  0  7  3  9  4]\n",
      "고유값 개수: 9\n",
      "zoning_encoded\n",
      "10    238\n",
      "5      47\n",
      "0       8\n",
      "8       6\n",
      "6       4\n",
      "1       3\n",
      "12      3\n",
      "11      1\n",
      "9       1\n",
      "7       1\n",
      "2       1\n",
      "Name: count, dtype: int64\n",
      "고유값: [10  0  1  5 11 12  8  9  6  7  2]\n",
      "고유값 개수: 11\n"
     ]
    }
   ],
   "source": [
    "print(parks_df_zone['zoning_encoded'].value_counts())\n",
    "print('고유값:', parks_df_zone['zoning_encoded'].unique())\n",
    "print('고유값 개수:', parks_df_zone['zoning_encoded'].nunique())\n",
    "\n",
    "print(dong_zone['zoning_encoded'].value_counts())\n",
    "print('고유값:', dong_zone['zoning_encoded'].unique())\n",
    "print('고유값 개수:', dong_zone['zoning_encoded'].nunique())"
   ]
  },
  {
   "cell_type": "code",
   "execution_count": 13,
   "id": "e9bcf3c6",
   "metadata": {},
   "outputs": [],
   "source": [
    "# column drop\n",
    "df = pd.read_csv('src/RF_parksdf_holi_zone.csv') \n",
    "df.drop(['zone_name', 'zoning'], axis=1, inplace=True)\n",
    "df.to_csv('src/RF_parksdf_holi_zone.csv', index=False, encoding='utf-8-sig')"
   ]
  },
  {
   "cell_type": "code",
   "execution_count": 14,
   "id": "324e7322",
   "metadata": {},
   "outputs": [],
   "source": [
    "# column drop\n",
    "df = pd.read_csv('src/dongParks_Holiday_zone.csv') \n",
    "df.drop(['zoning'], axis=1, inplace=True)\n",
    "df.to_csv('src/dongParks_Holiday_zone.csv', index=False, encoding='utf-8-sig')"
   ]
  }
 ],
 "metadata": {
  "kernelspec": {
   "display_name": "base",
   "language": "python",
   "name": "python3"
  },
  "language_info": {
   "codemirror_mode": {
    "name": "ipython",
    "version": 3
   },
   "file_extension": ".py",
   "mimetype": "text/x-python",
   "name": "python",
   "nbconvert_exporter": "python",
   "pygments_lexer": "ipython3",
   "version": "3.12.4"
  }
 },
 "nbformat": 4,
 "nbformat_minor": 5
}

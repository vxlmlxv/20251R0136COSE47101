{
  "cells": [
    {
      "cell_type": "code",
      "execution_count": 2,
      "metadata": {
        "colab": {
          "base_uri": "https://localhost:8080/"
        },
        "id": "3xJccl3ze4vO",
        "outputId": "c4b793e9-3c52-46e9-ec3a-803001adf1f0"
      },
      "outputs": [
        {
          "name": "stdout",
          "output_type": "stream",
          "text": [
            "Requirement already satisfied: highlight_text in ./.venv/lib/python3.13/site-packages (0.2)\n",
            "Note: you may need to restart the kernel to use updated packages.\n"
          ]
        }
      ],
      "source": [
        "pip install highlight_text\n"
      ]
    },
    {
      "cell_type": "code",
      "execution_count": 3,
      "metadata": {
        "colab": {
          "base_uri": "https://localhost:8080/"
        },
        "collapsed": true,
        "id": "oo6R3k6IfMn7",
        "outputId": "49c191c1-6adc-48da-f425-7cc7a96b5b35"
      },
      "outputs": [
        {
          "name": "stdout",
          "output_type": "stream",
          "text": [
            "Requirement already satisfied: geoplot in ./.venv/lib/python3.13/site-packages (0.5.1)\n",
            "Requirement already satisfied: matplotlib>=3.1.2 in ./.venv/lib/python3.13/site-packages (from geoplot) (3.10.3)\n",
            "Requirement already satisfied: seaborn in ./.venv/lib/python3.13/site-packages (from geoplot) (0.13.2)\n",
            "Requirement already satisfied: pandas in ./.venv/lib/python3.13/site-packages (from geoplot) (2.2.3)\n",
            "Requirement already satisfied: geopandas>=0.9.0 in ./.venv/lib/python3.13/site-packages (from geoplot) (1.0.1)\n",
            "Requirement already satisfied: cartopy in ./.venv/lib/python3.13/site-packages (from geoplot) (0.24.1)\n",
            "Requirement already satisfied: mapclassify>=2.1 in ./.venv/lib/python3.13/site-packages (from geoplot) (2.8.1)\n",
            "Requirement already satisfied: contextily>=1.0.0 in ./.venv/lib/python3.13/site-packages (from geoplot) (1.6.2)\n",
            "Requirement already satisfied: geopy in ./.venv/lib/python3.13/site-packages (from contextily>=1.0.0->geoplot) (2.4.1)\n",
            "Requirement already satisfied: mercantile in ./.venv/lib/python3.13/site-packages (from contextily>=1.0.0->geoplot) (1.2.1)\n",
            "Requirement already satisfied: pillow in ./.venv/lib/python3.13/site-packages (from contextily>=1.0.0->geoplot) (11.2.1)\n",
            "Requirement already satisfied: rasterio in ./.venv/lib/python3.13/site-packages (from contextily>=1.0.0->geoplot) (1.4.3)\n",
            "Requirement already satisfied: requests in ./.venv/lib/python3.13/site-packages (from contextily>=1.0.0->geoplot) (2.32.3)\n",
            "Requirement already satisfied: joblib in ./.venv/lib/python3.13/site-packages (from contextily>=1.0.0->geoplot) (1.5.0)\n",
            "Requirement already satisfied: xyzservices in ./.venv/lib/python3.13/site-packages (from contextily>=1.0.0->geoplot) (2025.4.0)\n",
            "Requirement already satisfied: numpy>=1.22 in ./.venv/lib/python3.13/site-packages (from geopandas>=0.9.0->geoplot) (2.2.5)\n",
            "Requirement already satisfied: pyogrio>=0.7.2 in ./.venv/lib/python3.13/site-packages (from geopandas>=0.9.0->geoplot) (0.11.0)\n",
            "Requirement already satisfied: packaging in ./.venv/lib/python3.13/site-packages (from geopandas>=0.9.0->geoplot) (25.0)\n",
            "Requirement already satisfied: pyproj>=3.3.0 in ./.venv/lib/python3.13/site-packages (from geopandas>=0.9.0->geoplot) (3.7.1)\n",
            "Requirement already satisfied: shapely>=2.0.0 in ./.venv/lib/python3.13/site-packages (from geopandas>=0.9.0->geoplot) (2.1.1)\n",
            "Requirement already satisfied: networkx>=2.7 in ./.venv/lib/python3.13/site-packages (from mapclassify>=2.1->geoplot) (3.4.2)\n",
            "Requirement already satisfied: scikit-learn>=1.0 in ./.venv/lib/python3.13/site-packages (from mapclassify>=2.1->geoplot) (1.6.1)\n",
            "Requirement already satisfied: scipy>=1.8 in ./.venv/lib/python3.13/site-packages (from mapclassify>=2.1->geoplot) (1.15.3)\n",
            "Requirement already satisfied: contourpy>=1.0.1 in ./.venv/lib/python3.13/site-packages (from matplotlib>=3.1.2->geoplot) (1.3.2)\n",
            "Requirement already satisfied: cycler>=0.10 in ./.venv/lib/python3.13/site-packages (from matplotlib>=3.1.2->geoplot) (0.12.1)\n",
            "Requirement already satisfied: fonttools>=4.22.0 in ./.venv/lib/python3.13/site-packages (from matplotlib>=3.1.2->geoplot) (4.57.0)\n",
            "Requirement already satisfied: kiwisolver>=1.3.1 in ./.venv/lib/python3.13/site-packages (from matplotlib>=3.1.2->geoplot) (1.4.8)\n",
            "Requirement already satisfied: pyparsing>=2.3.1 in ./.venv/lib/python3.13/site-packages (from matplotlib>=3.1.2->geoplot) (3.2.3)\n",
            "Requirement already satisfied: python-dateutil>=2.7 in ./.venv/lib/python3.13/site-packages (from matplotlib>=3.1.2->geoplot) (2.9.0.post0)\n",
            "Requirement already satisfied: pytz>=2020.1 in ./.venv/lib/python3.13/site-packages (from pandas->geoplot) (2025.2)\n",
            "Requirement already satisfied: tzdata>=2022.7 in ./.venv/lib/python3.13/site-packages (from pandas->geoplot) (2025.2)\n",
            "Requirement already satisfied: certifi in ./.venv/lib/python3.13/site-packages (from pyogrio>=0.7.2->geopandas>=0.9.0->geoplot) (2025.4.26)\n",
            "Requirement already satisfied: six>=1.5 in ./.venv/lib/python3.13/site-packages (from python-dateutil>=2.7->matplotlib>=3.1.2->geoplot) (1.17.0)\n",
            "Requirement already satisfied: threadpoolctl>=3.1.0 in ./.venv/lib/python3.13/site-packages (from scikit-learn>=1.0->mapclassify>=2.1->geoplot) (3.6.0)\n",
            "Requirement already satisfied: pyshp>=2.3 in ./.venv/lib/python3.13/site-packages (from cartopy->geoplot) (2.3.1)\n",
            "Requirement already satisfied: geographiclib<3,>=1.52 in ./.venv/lib/python3.13/site-packages (from geopy->contextily>=1.0.0->geoplot) (2.0)\n",
            "Requirement already satisfied: click>=3.0 in ./.venv/lib/python3.13/site-packages (from mercantile->contextily>=1.0.0->geoplot) (8.2.1)\n",
            "Requirement already satisfied: affine in ./.venv/lib/python3.13/site-packages (from rasterio->contextily>=1.0.0->geoplot) (2.4.0)\n",
            "Requirement already satisfied: attrs in ./.venv/lib/python3.13/site-packages (from rasterio->contextily>=1.0.0->geoplot) (25.3.0)\n",
            "Requirement already satisfied: cligj>=0.5 in ./.venv/lib/python3.13/site-packages (from rasterio->contextily>=1.0.0->geoplot) (0.7.2)\n",
            "Requirement already satisfied: click-plugins in ./.venv/lib/python3.13/site-packages (from rasterio->contextily>=1.0.0->geoplot) (1.1.1)\n",
            "Requirement already satisfied: charset-normalizer<4,>=2 in ./.venv/lib/python3.13/site-packages (from requests->contextily>=1.0.0->geoplot) (3.4.2)\n",
            "Requirement already satisfied: idna<4,>=2.5 in ./.venv/lib/python3.13/site-packages (from requests->contextily>=1.0.0->geoplot) (3.10)\n",
            "Requirement already satisfied: urllib3<3,>=1.21.1 in ./.venv/lib/python3.13/site-packages (from requests->contextily>=1.0.0->geoplot) (2.4.0)\n",
            "Note: you may need to restart the kernel to use updated packages.\n"
          ]
        }
      ],
      "source": [
        "pip install geoplot"
      ]
    },
    {
      "cell_type": "code",
      "execution_count": 4,
      "metadata": {
        "colab": {
          "base_uri": "https://localhost:8080/"
        },
        "collapsed": true,
        "id": "Yz2wSI8ufISN",
        "outputId": "9651e1e3-f1a0-4e7b-bd94-f3702af880e3"
      },
      "outputs": [
        {
          "name": "stdout",
          "output_type": "stream",
          "text": [
            "Requirement already satisfied: cartopy in ./.venv/lib/python3.13/site-packages (0.24.1)\n",
            "Requirement already satisfied: numpy>=1.23 in ./.venv/lib/python3.13/site-packages (from cartopy) (2.2.5)\n",
            "Requirement already satisfied: matplotlib>=3.6 in ./.venv/lib/python3.13/site-packages (from cartopy) (3.10.3)\n",
            "Requirement already satisfied: shapely>=1.8 in ./.venv/lib/python3.13/site-packages (from cartopy) (2.1.1)\n",
            "Requirement already satisfied: packaging>=21 in ./.venv/lib/python3.13/site-packages (from cartopy) (25.0)\n",
            "Requirement already satisfied: pyshp>=2.3 in ./.venv/lib/python3.13/site-packages (from cartopy) (2.3.1)\n",
            "Requirement already satisfied: pyproj>=3.3.1 in ./.venv/lib/python3.13/site-packages (from cartopy) (3.7.1)\n",
            "Requirement already satisfied: contourpy>=1.0.1 in ./.venv/lib/python3.13/site-packages (from matplotlib>=3.6->cartopy) (1.3.2)\n",
            "Requirement already satisfied: cycler>=0.10 in ./.venv/lib/python3.13/site-packages (from matplotlib>=3.6->cartopy) (0.12.1)\n",
            "Requirement already satisfied: fonttools>=4.22.0 in ./.venv/lib/python3.13/site-packages (from matplotlib>=3.6->cartopy) (4.57.0)\n",
            "Requirement already satisfied: kiwisolver>=1.3.1 in ./.venv/lib/python3.13/site-packages (from matplotlib>=3.6->cartopy) (1.4.8)\n",
            "Requirement already satisfied: pillow>=8 in ./.venv/lib/python3.13/site-packages (from matplotlib>=3.6->cartopy) (11.2.1)\n",
            "Requirement already satisfied: pyparsing>=2.3.1 in ./.venv/lib/python3.13/site-packages (from matplotlib>=3.6->cartopy) (3.2.3)\n",
            "Requirement already satisfied: python-dateutil>=2.7 in ./.venv/lib/python3.13/site-packages (from matplotlib>=3.6->cartopy) (2.9.0.post0)\n",
            "Requirement already satisfied: certifi in ./.venv/lib/python3.13/site-packages (from pyproj>=3.3.1->cartopy) (2025.4.26)\n",
            "Requirement already satisfied: six>=1.5 in ./.venv/lib/python3.13/site-packages (from python-dateutil>=2.7->matplotlib>=3.6->cartopy) (1.17.0)\n",
            "Note: you may need to restart the kernel to use updated packages.\n"
          ]
        }
      ],
      "source": [
        "pip install cartopy"
      ]
    },
    {
      "cell_type": "code",
      "execution_count": 5,
      "metadata": {
        "colab": {
          "base_uri": "https://localhost:8080/"
        },
        "id": "C9VWluxPvEHr",
        "outputId": "55e652f6-b502-469d-a368-30037d86496b"
      },
      "outputs": [
        {
          "name": "stdout",
          "output_type": "stream",
          "text": [
            "Requirement already satisfied: geodatasets in ./.venv/lib/python3.13/site-packages (2024.8.0)\n",
            "Requirement already satisfied: pooch in ./.venv/lib/python3.13/site-packages (from geodatasets) (1.8.2)\n",
            "Requirement already satisfied: platformdirs>=2.5.0 in ./.venv/lib/python3.13/site-packages (from pooch->geodatasets) (4.3.8)\n",
            "Requirement already satisfied: packaging>=20.0 in ./.venv/lib/python3.13/site-packages (from pooch->geodatasets) (25.0)\n",
            "Requirement already satisfied: requests>=2.19.0 in ./.venv/lib/python3.13/site-packages (from pooch->geodatasets) (2.32.3)\n",
            "Requirement already satisfied: charset-normalizer<4,>=2 in ./.venv/lib/python3.13/site-packages (from requests>=2.19.0->pooch->geodatasets) (3.4.2)\n",
            "Requirement already satisfied: idna<4,>=2.5 in ./.venv/lib/python3.13/site-packages (from requests>=2.19.0->pooch->geodatasets) (3.10)\n",
            "Requirement already satisfied: urllib3<3,>=1.21.1 in ./.venv/lib/python3.13/site-packages (from requests>=2.19.0->pooch->geodatasets) (2.4.0)\n",
            "Requirement already satisfied: certifi>=2017.4.17 in ./.venv/lib/python3.13/site-packages (from requests>=2.19.0->pooch->geodatasets) (2025.4.26)\n",
            "Note: you may need to restart the kernel to use updated packages.\n"
          ]
        }
      ],
      "source": [
        "pip install geodatasets"
      ]
    },
    {
      "cell_type": "code",
      "execution_count": 1,
      "metadata": {
        "id": "jw36lp-WeISL"
      },
      "outputs": [],
      "source": [
        "# data manipulation\n",
        "import numpy as np\n",
        "import pandas as pd\n",
        "import geopandas as gpd\n",
        "import geodatasets\n",
        "\n",
        "# visualization\n",
        "import matplotlib.pyplot as plt\n",
        "from matplotlib import font_manager\n",
        "from matplotlib.font_manager import FontProperties\n",
        "# from highlight_text import fig_text, ax_text\n",
        "from matplotlib.patches import FancyArrowPatch\n",
        "\n",
        "import geoplot\n",
        "import geoplot.crs as gcrs\n"
      ]
    },
    {
      "cell_type": "code",
      "execution_count": 7,
      "metadata": {},
      "outputs": [
        {
          "name": "stdout",
          "output_type": "stream",
          "text": [
            "Requirement already satisfied: plotly in ./.venv/lib/python3.13/site-packages (6.1.1)\n",
            "Requirement already satisfied: narwhals>=1.15.1 in ./.venv/lib/python3.13/site-packages (from plotly) (1.40.0)\n",
            "Requirement already satisfied: packaging in ./.venv/lib/python3.13/site-packages (from plotly) (25.0)\n",
            "Note: you may need to restart the kernel to use updated packages.\n"
          ]
        }
      ],
      "source": [
        "pip install plotly"
      ]
    },
    {
      "cell_type": "code",
      "execution_count": 2,
      "metadata": {
        "id": "KCaUfqmzkzRA"
      },
      "outputs": [],
      "source": [
        "import plotly.graph_objects as go\n",
        "import plotly.express as px\n"
      ]
    },
    {
      "cell_type": "code",
      "execution_count": 3,
      "metadata": {
        "colab": {
          "base_uri": "https://localhost:8080/",
          "height": 206
        },
        "id": "oLjQ0J-qe3LA",
        "outputId": "982b08ed-18a4-400f-d876-82b07dca987a"
      },
      "outputs": [
        {
          "data": {
            "text/html": [
              "<div>\n",
              "<style scoped>\n",
              "    .dataframe tbody tr th:only-of-type {\n",
              "        vertical-align: middle;\n",
              "    }\n",
              "\n",
              "    .dataframe tbody tr th {\n",
              "        vertical-align: top;\n",
              "    }\n",
              "\n",
              "    .dataframe thead th {\n",
              "        text-align: right;\n",
              "    }\n",
              "</style>\n",
              "<table border=\"1\" class=\"dataframe\">\n",
              "  <thead>\n",
              "    <tr style=\"text-align: right;\">\n",
              "      <th></th>\n",
              "      <th>주소</th>\n",
              "      <th>운영구분</th>\n",
              "      <th>총주차면</th>\n",
              "      <th>평일유료</th>\n",
              "      <th>토요일유료</th>\n",
              "      <th>공휴일유료</th>\n",
              "      <th>평일시작</th>\n",
              "      <th>평일종료</th>\n",
              "      <th>토요일시작</th>\n",
              "      <th>토요일종료</th>\n",
              "      <th>공휴일시작</th>\n",
              "      <th>공휴일종료</th>\n",
              "      <th>경도</th>\n",
              "      <th>위도</th>\n",
              "      <th>1시간 요금</th>\n",
              "    </tr>\n",
              "  </thead>\n",
              "  <tbody>\n",
              "    <tr>\n",
              "      <th>0</th>\n",
              "      <td>강남구 개포동 126-2</td>\n",
              "      <td>1</td>\n",
              "      <td>132.0</td>\n",
              "      <td>Y</td>\n",
              "      <td>Y</td>\n",
              "      <td>Y</td>\n",
              "      <td>09:00:00</td>\n",
              "      <td>19:00:00</td>\n",
              "      <td>00:00:00</td>\n",
              "      <td>00:00:00</td>\n",
              "      <td>00:00:00</td>\n",
              "      <td>00:00:00</td>\n",
              "      <td>127.066477</td>\n",
              "      <td>37.477263</td>\n",
              "      <td>2400.0</td>\n",
              "    </tr>\n",
              "    <tr>\n",
              "      <th>1</th>\n",
              "      <td>강남구 개포동 1266-0</td>\n",
              "      <td>1</td>\n",
              "      <td>97.0</td>\n",
              "      <td>Y</td>\n",
              "      <td>N</td>\n",
              "      <td>N</td>\n",
              "      <td>00:00:00</td>\n",
              "      <td>00:00:00</td>\n",
              "      <td>00:00:00</td>\n",
              "      <td>00:00:00</td>\n",
              "      <td>00:00:00</td>\n",
              "      <td>00:00:00</td>\n",
              "      <td>127.048218</td>\n",
              "      <td>37.481496</td>\n",
              "      <td>2400.0</td>\n",
              "    </tr>\n",
              "    <tr>\n",
              "      <th>2</th>\n",
              "      <td>강남구 개포동 13-2</td>\n",
              "      <td>1</td>\n",
              "      <td>168.0</td>\n",
              "      <td>Y</td>\n",
              "      <td>N</td>\n",
              "      <td>N</td>\n",
              "      <td>00:00:00</td>\n",
              "      <td>00:00:00</td>\n",
              "      <td>00:00:00</td>\n",
              "      <td>00:00:00</td>\n",
              "      <td>00:00:00</td>\n",
              "      <td>00:00:00</td>\n",
              "      <td>127.079307</td>\n",
              "      <td>37.494938</td>\n",
              "      <td>1200.0</td>\n",
              "    </tr>\n",
              "    <tr>\n",
              "      <th>3</th>\n",
              "      <td>강남구 개포동 567-23</td>\n",
              "      <td>1</td>\n",
              "      <td>92.0</td>\n",
              "      <td>Y</td>\n",
              "      <td>Y</td>\n",
              "      <td>Y</td>\n",
              "      <td>09:00:00</td>\n",
              "      <td>19:00:00</td>\n",
              "      <td>00:00:00</td>\n",
              "      <td>00:00:00</td>\n",
              "      <td>00:00:00</td>\n",
              "      <td>00:00:00</td>\n",
              "      <td>127.065835</td>\n",
              "      <td>37.477888</td>\n",
              "      <td>2400.0</td>\n",
              "    </tr>\n",
              "    <tr>\n",
              "      <th>4</th>\n",
              "      <td>강남구 논현동 168-0</td>\n",
              "      <td>1</td>\n",
              "      <td>192.0</td>\n",
              "      <td>Y</td>\n",
              "      <td>N</td>\n",
              "      <td>N</td>\n",
              "      <td>00:00:00</td>\n",
              "      <td>00:00:00</td>\n",
              "      <td>00:00:00</td>\n",
              "      <td>00:00:00</td>\n",
              "      <td>00:00:00</td>\n",
              "      <td>00:00:00</td>\n",
              "      <td>127.026290</td>\n",
              "      <td>37.508171</td>\n",
              "      <td>3600.0</td>\n",
              "    </tr>\n",
              "  </tbody>\n",
              "</table>\n",
              "</div>"
            ],
            "text/plain": [
              "               주소  운영구분   총주차면 평일유료 토요일유료 공휴일유료      평일시작      평일종료     토요일시작  \\\n",
              "0   강남구 개포동 126-2     1  132.0    Y     Y     Y  09:00:00  19:00:00  00:00:00   \n",
              "1  강남구 개포동 1266-0     1   97.0    Y     N     N  00:00:00  00:00:00  00:00:00   \n",
              "2    강남구 개포동 13-2     1  168.0    Y     N     N  00:00:00  00:00:00  00:00:00   \n",
              "3  강남구 개포동 567-23     1   92.0    Y     Y     Y  09:00:00  19:00:00  00:00:00   \n",
              "4   강남구 논현동 168-0     1  192.0    Y     N     N  00:00:00  00:00:00  00:00:00   \n",
              "\n",
              "      토요일종료     공휴일시작     공휴일종료          경도         위도  1시간 요금  \n",
              "0  00:00:00  00:00:00  00:00:00  127.066477  37.477263  2400.0  \n",
              "1  00:00:00  00:00:00  00:00:00  127.048218  37.481496  2400.0  \n",
              "2  00:00:00  00:00:00  00:00:00  127.079307  37.494938  1200.0  \n",
              "3  00:00:00  00:00:00  00:00:00  127.065835  37.477888  2400.0  \n",
              "4  00:00:00  00:00:00  00:00:00  127.026290  37.508171  3600.0  "
            ]
          },
          "execution_count": 3,
          "metadata": {},
          "output_type": "execute_result"
        }
      ],
      "source": [
        "parks_path = 'parks.csv'\n",
        "parks = pd.read_csv(parks_path)\n",
        "parks.head()"
      ]
    },
    {
      "cell_type": "code",
      "execution_count": null,
      "metadata": {
        "colab": {
          "base_uri": "https://localhost:8080/",
          "height": 206
        },
        "collapsed": true,
        "id": "5f50yzK1fbvG",
        "outputId": "d336b152-fc29-4c6c-d567-c5b127ec5064"
      },
      "outputs": [
        {
          "data": {
            "text/html": [
              "<div>\n",
              "<style scoped>\n",
              "    .dataframe tbody tr th:only-of-type {\n",
              "        vertical-align: middle;\n",
              "    }\n",
              "\n",
              "    .dataframe tbody tr th {\n",
              "        vertical-align: top;\n",
              "    }\n",
              "\n",
              "    .dataframe thead th {\n",
              "        text-align: right;\n",
              "    }\n",
              "</style>\n",
              "<table border=\"1\" class=\"dataframe\">\n",
              "  <thead>\n",
              "    <tr style=\"text-align: right;\">\n",
              "      <th></th>\n",
              "      <th>민원접수일</th>\n",
              "      <th>민원접수시간</th>\n",
              "      <th>주소</th>\n",
              "      <th>경도</th>\n",
              "      <th>위도</th>\n",
              "      <th>요일</th>\n",
              "    </tr>\n",
              "  </thead>\n",
              "  <tbody>\n",
              "    <tr>\n",
              "      <th>0</th>\n",
              "      <td>2021-09-29</td>\n",
              "      <td>19:29:00</td>\n",
              "      <td>서울특별시 강서구 강서로15길 49</td>\n",
              "      <td>126.843247</td>\n",
              "      <td>37.532089</td>\n",
              "      <td>Weekday</td>\n",
              "    </tr>\n",
              "    <tr>\n",
              "      <th>1</th>\n",
              "      <td>2021-09-29</td>\n",
              "      <td>18:48:00</td>\n",
              "      <td>성북구 오패산로19길 34-5</td>\n",
              "      <td>127.033761</td>\n",
              "      <td>37.609537</td>\n",
              "      <td>Weekday</td>\n",
              "    </tr>\n",
              "    <tr>\n",
              "      <th>2</th>\n",
              "      <td>2021-09-29</td>\n",
              "      <td>18:47:00</td>\n",
              "      <td>장위로21다길 59-19 주소지 앞도로 외</td>\n",
              "      <td>127.045741</td>\n",
              "      <td>37.616406</td>\n",
              "      <td>Weekday</td>\n",
              "    </tr>\n",
              "    <tr>\n",
              "      <th>3</th>\n",
              "      <td>2021-09-29</td>\n",
              "      <td>18:47:00</td>\n",
              "      <td>서울특별시 강북구 오패산로30길 13</td>\n",
              "      <td>127.034685</td>\n",
              "      <td>37.613820</td>\n",
              "      <td>Weekday</td>\n",
              "    </tr>\n",
              "    <tr>\n",
              "      <th>4</th>\n",
              "      <td>2021-09-29</td>\n",
              "      <td>18:46:00</td>\n",
              "      <td>서울특별시 강서구 강서로18길 52-5</td>\n",
              "      <td>126.848703</td>\n",
              "      <td>37.534293</td>\n",
              "      <td>Weekday</td>\n",
              "    </tr>\n",
              "  </tbody>\n",
              "</table>\n",
              "</div>"
            ],
            "text/plain": [
              "        민원접수일    민원접수시간                       주소          경도         위도  \\\n",
              "0  2021-09-29  19:29:00      서울특별시 강서구 강서로15길 49  126.843247  37.532089   \n",
              "1  2021-09-29  18:48:00        성북구 오패산로19길 34-5   127.033761  37.609537   \n",
              "2  2021-09-29  18:47:00  장위로21다길 59-19 주소지 앞도로 외  127.045741  37.616406   \n",
              "3  2021-09-29  18:47:00     서울특별시 강북구 오패산로30길 13  127.034685  37.613820   \n",
              "4  2021-09-29  18:46:00    서울특별시 강서구 강서로18길 52-5  126.848703  37.534293   \n",
              "\n",
              "        요일  \n",
              "0  Weekday  \n",
              "1  Weekday  \n",
              "2  Weekday  \n",
              "3  Weekday  \n",
              "4  Weekday  "
            ]
          },
          "execution_count": 4,
          "metadata": {},
          "output_type": "execute_result"
        }
      ],
      "source": [
        "reports_path = 'reports.csv'\n",
        "reports = pd.read_csv(reports_path)\n",
        "reports.head()"
      ]
    },
    {
      "cell_type": "code",
      "execution_count": 5,
      "metadata": {
        "colab": {
          "base_uri": "https://localhost:8080/"
        },
        "id": "qv8-qYvxffyP",
        "outputId": "f32cc637-5055-4d95-98ba-801d79a06133"
      },
      "outputs": [
        {
          "name": "stdout",
          "output_type": "stream",
          "text": [
            "(1463, 15)\n",
            "(3064538, 6)\n"
          ]
        }
      ],
      "source": [
        "print(parks.shape)\n",
        "print(reports.shape)"
      ]
    },
    {
      "cell_type": "code",
      "execution_count": 6,
      "metadata": {
        "id": "CGLho1r_fi0k"
      },
      "outputs": [],
      "source": [
        "lat_parks = parks['위도']\n",
        "lon_parks = parks['경도']\n",
        "area_parks = parks['총주차면']  # Replace with your actual column name\n",
        "fee_parks = parks['1시간 요금']\n",
        "text = '총주차면'+parks['총주차면'].astype(str)  # Optional: for hover info\n"
      ]
    },
    {
      "cell_type": "code",
      "execution_count": 7,
      "metadata": {
        "id": "OjPAxcogl5g6"
      },
      "outputs": [],
      "source": [
        "sizeref = 2. * max(area_parks) / (40**2)  # 40 is desired max marker size in px\n"
      ]
    },
    {
      "cell_type": "code",
      "execution_count": 8,
      "metadata": {
        "colab": {
          "base_uri": "https://localhost:8080/",
          "height": 458
        },
        "id": "I6M3773CpZFX",
        "outputId": "c0ccd00a-f2d7-4e51-f9a7-9370036e0961"
      },
      "outputs": [
        {
          "data": {
            "text/plain": [
              "0       총주차면132.0\n",
              "1        총주차면97.0\n",
              "2       총주차면168.0\n",
              "3        총주차면92.0\n",
              "4       총주차면192.0\n",
              "          ...    \n",
              "1458     총주차면20.0\n",
              "1459     총주차면56.0\n",
              "1460    총주차면119.0\n",
              "1461    총주차면567.0\n",
              "1462    총주차면107.0\n",
              "Name: 총주차면, Length: 1463, dtype: object"
            ]
          },
          "execution_count": 8,
          "metadata": {},
          "output_type": "execute_result"
        }
      ],
      "source": [
        "text"
      ]
    },
    {
      "cell_type": "code",
      "execution_count": 25,
      "metadata": {},
      "outputs": [
        {
          "name": "stdout",
          "output_type": "stream",
          "text": [
            "Collecting nbformat\n",
            "  Using cached nbformat-5.10.4-py3-none-any.whl.metadata (3.6 kB)\n",
            "Collecting fastjsonschema>=2.15 (from nbformat)\n",
            "  Downloading fastjsonschema-2.21.1-py3-none-any.whl.metadata (2.2 kB)\n",
            "Collecting jsonschema>=2.6 (from nbformat)\n",
            "  Downloading jsonschema-4.23.0-py3-none-any.whl.metadata (7.9 kB)\n",
            "Requirement already satisfied: jupyter-core!=5.0.*,>=4.12 in ./.venv/lib/python3.13/site-packages (from nbformat) (5.7.2)\n",
            "Requirement already satisfied: traitlets>=5.1 in ./.venv/lib/python3.13/site-packages (from nbformat) (5.14.3)\n",
            "Requirement already satisfied: attrs>=22.2.0 in ./.venv/lib/python3.13/site-packages (from jsonschema>=2.6->nbformat) (25.3.0)\n",
            "Collecting jsonschema-specifications>=2023.03.6 (from jsonschema>=2.6->nbformat)\n",
            "  Downloading jsonschema_specifications-2025.4.1-py3-none-any.whl.metadata (2.9 kB)\n",
            "Collecting referencing>=0.28.4 (from jsonschema>=2.6->nbformat)\n",
            "  Downloading referencing-0.36.2-py3-none-any.whl.metadata (2.8 kB)\n",
            "Collecting rpds-py>=0.7.1 (from jsonschema>=2.6->nbformat)\n",
            "  Downloading rpds_py-0.25.1-cp313-cp313-macosx_11_0_arm64.whl.metadata (4.1 kB)\n",
            "Requirement already satisfied: platformdirs>=2.5 in ./.venv/lib/python3.13/site-packages (from jupyter-core!=5.0.*,>=4.12->nbformat) (4.3.8)\n",
            "Using cached nbformat-5.10.4-py3-none-any.whl (78 kB)\n",
            "Downloading fastjsonschema-2.21.1-py3-none-any.whl (23 kB)\n",
            "Downloading jsonschema-4.23.0-py3-none-any.whl (88 kB)\n",
            "Downloading jsonschema_specifications-2025.4.1-py3-none-any.whl (18 kB)\n",
            "Downloading referencing-0.36.2-py3-none-any.whl (26 kB)\n",
            "Downloading rpds_py-0.25.1-cp313-cp313-macosx_11_0_arm64.whl (350 kB)\n",
            "Installing collected packages: fastjsonschema, rpds-py, referencing, jsonschema-specifications, jsonschema, nbformat\n",
            "\u001b[2K   \u001b[90m━━━━━━━━━━━━━━━━━━━━━━━━━━━━━━━━━━━━━━━━\u001b[0m \u001b[32m6/6\u001b[0m [nbformat]\n",
            "\u001b[1A\u001b[2KSuccessfully installed fastjsonschema-2.21.1 jsonschema-4.23.0 jsonschema-specifications-2025.4.1 nbformat-5.10.4 referencing-0.36.2 rpds-py-0.25.1\n",
            "Note: you may need to restart the kernel to use updated packages.\n"
          ]
        }
      ],
      "source": [
        "pip install nbformat\n"
      ]
    },
    {
      "cell_type": "code",
      "execution_count": 9,
      "metadata": {},
      "outputs": [],
      "source": [
        "import nbformat as nbf\n",
        "import os"
      ]
    },
    {
      "cell_type": "code",
      "execution_count": 10,
      "metadata": {
        "colab": {
          "base_uri": "https://localhost:8080/",
          "height": 542
        },
        "collapsed": true,
        "id": "_zLzSy3Dl-Jm",
        "outputId": "48f620bd-94a9-4824-b134-2788dc74ebf2"
      },
      "outputs": [
        {
          "name": "stderr",
          "output_type": "stream",
          "text": [
            "/var/folders/pf/y0k140gn11d95ybm0dgtk6m80000gn/T/ipykernel_46491/531473762.py:1: DeprecationWarning: *scattermapbox* is deprecated! Use *scattermap* instead. Learn more at: https://plotly.com/python/mapbox-to-maplibre/\n",
            "  fig_parks_area = go.Figure(go.Scattermapbox(\n"
          ]
        },
        {
          "data": {
            "application/vnd.plotly.v1+json": {
              "config": {
                "plotlyServerURL": "https://plot.ly"
              },
              "data": [
                {
                  "lat": {
                    "bdata": "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",
                    "dtype": "f8"
                  },
                  "lon": {
                    "bdata": "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",
                    "dtype": "f8"
                  },
                  "marker": {
                    "color": "royalblue",
                    "opacity": 0.6,
                    "size": {
                      "bdata": "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",
                      "dtype": "f8"
                    },
                    "sizemin": 4,
                    "sizemode": "area",
                    "sizeref": 1.78875
                  },
                  "mode": "markers",
                  "text": [
                    "총주차면132.0",
                    "총주차면97.0",
                    "총주차면168.0",
                    "총주차면92.0",
                    "총주차면192.0",
                    "총주차면3.0",
                    "총주차면1.0",
                    "총주차면1.0",
                    "총주차면1.0",
                    "총주차면5.0",
                    "총주차면1.0",
                    "총주차면5.0",
                    "총주차면200.0",
                    "총주차면27.0",
                    "총주차면159.0",
                    "총주차면16.0",
                    "총주차면1.0",
                    "총주차면70.0",
                    "총주차면5.0",
                    "총주차면61.0",
                    "총주차면100.0",
                    "총주차면69.0",
                    "총주차면185.0",
                    "총주차면26.0",
                    "총주차면31.0",
                    "총주차면1.0",
                    "총주차면2.0",
                    "총주차면1.0",
                    "총주차면1.0",
                    "총주차면17.0",
                    "총주차면75.0",
                    "총주차면1.0",
                    "총주차면109.0",
                    "총주차면1.0",
                    "총주차면68.0",
                    "총주차면1.0",
                    "총주차면3.0",
                    "총주차면5.0",
                    "총주차면26.0",
                    "총주차면26.0",
                    "총주차면27.0",
                    "총주차면241.0",
                    "총주차면1.0",
                    "총주차면1.0",
                    "총주차면1.0",
                    "총주차면28.0",
                    "총주차면21.0",
                    "총주차면18.0",
                    "총주차면187.0",
                    "총주차면183.0",
                    "총주차면185.0",
                    "총주차면26.0",
                    "총주차면168.0",
                    "총주차면1.0",
                    "총주차면13.0",
                    "총주차면188.0",
                    "총주차면155.0",
                    "총주차면59.0",
                    "총주차면53.0",
                    "총주차면47.0",
                    "총주차면95.0",
                    "총주차면103.0",
                    "총주차면20.0",
                    "총주차면87.0",
                    "총주차면43.0",
                    "총주차면6.0",
                    "총주차면20.0",
                    "총주차면187.0",
                    "총주차면185.0",
                    "총주차면89.0",
                    "총주차면45.0",
                    "총주차면1.0",
                    "총주차면2.0",
                    "총주차면2.0",
                    "총주차면2.0",
                    "총주차면80.0",
                    "총주차면80.0",
                    "총주차면1.0",
                    "총주차면91.0",
                    "총주차면19.0",
                    "총주차면62.0",
                    "총주차면62.0",
                    "총주차면56.0",
                    "총주차면75.0",
                    "총주차면24.0",
                    "총주차면90.0",
                    "총주차면90.0",
                    "총주차면1.0",
                    "총주차면2.0",
                    "총주차면1.0",
                    "총주차면202.0",
                    "총주차면202.0",
                    "총주차면200.0",
                    "총주차면1.0",
                    "총주차면1.0",
                    "총주차면27.0",
                    "총주차면99.0",
                    "총주차면25.0",
                    "총주차면16.0",
                    "총주차면1.0",
                    "총주차면59.0",
                    "총주차면19.0",
                    "총주차면1.0",
                    "총주차면86.0",
                    "총주차면110.0",
                    "총주차면53.0",
                    "총주차면98.0",
                    "총주차면100.0",
                    "총주차면97.0",
                    "총주차면17.0",
                    "총주차면17.0",
                    "총주차면1.0",
                    "총주차면1.0",
                    "총주차면5.0",
                    "총주차면4.0",
                    "총주차면8.0",
                    "총주차면1.0",
                    "총주차면231.0",
                    "총주차면133.0",
                    "총주차면1.0",
                    "총주차면79.0",
                    "총주차면1.0",
                    "총주차면159.0",
                    "총주차면191.0",
                    "총주차면1.0",
                    "총주차면4.0",
                    "총주차면3.0",
                    "총주차면3.0",
                    "총주차면2.0",
                    "총주차면1.0",
                    "총주차면174.0",
                    "총주차면135.0",
                    "총주차면13.0",
                    "총주차면41.0",
                    "총주차면108.0",
                    "총주차면116.0",
                    "총주차면119.0",
                    "총주차면1.0",
                    "총주차면1.0",
                    "총주차면159.0",
                    "총주차면172.0",
                    "총주차면3.0",
                    "총주차면25.0",
                    "총주차면1.0",
                    "총주차면33.0",
                    "총주차면1.0",
                    "총주차면77.0",
                    "총주차면1.0",
                    "총주차면1.0",
                    "총주차면83.0",
                    "총주차면1.0",
                    "총주차면1.0",
                    "총주차면281.0",
                    "총주차면1.0",
                    "총주차면1.0",
                    "총주차면1.0",
                    "총주차면24.0",
                    "총주차면24.0",
                    "총주차면2.0",
                    "총주차면1.0",
                    "총주차면1.0",
                    "총주차면1.0",
                    "총주차면1.0",
                    "총주차면1.0",
                    "총주차면1.0",
                    "총주차면162.0",
                    "총주차면19.0",
                    "총주차면1.0",
                    "총주차면1.0",
                    "총주차면1.0",
                    "총주차면1.0",
                    "총주차면1.0",
                    "총주차면2.0",
                    "총주차면1.0",
                    "총주차면44.0",
                    "총주차면56.0",
                    "총주차면7.0",
                    "총주차면66.0",
                    "총주차면65.0",
                    "총주차면245.0",
                    "총주차면203.0",
                    "총주차면88.0",
                    "총주차면1.0",
                    "총주차면81.0",
                    "총주차면4.0",
                    "총주차면194.0",
                    "총주차면20.0",
                    "총주차면20.0",
                    "총주차면1.0",
                    "총주차면1.0",
                    "총주차면128.0",
                    "총주차면1.0",
                    "총주차면1.0",
                    "총주차면1.0",
                    "총주차면1.0",
                    "총주차면5.0",
                    "총주차면12.0",
                    "총주차면1.0",
                    "총주차면1.0",
                    "총주차면1.0",
                    "총주차면1.0",
                    "총주차면1.0",
                    "총주차면1.0",
                    "총주차면66.0",
                    "총주차면1.0",
                    "총주차면1.0",
                    "총주차면66.0",
                    "총주차면70.0",
                    "총주차면1.0",
                    "총주차면1.0",
                    "총주차면1.0",
                    "총주차면1.0",
                    "총주차면1.0",
                    "총주차면1.0",
                    "총주차면1.0",
                    "총주차면63.0",
                    "총주차면6.0",
                    "총주차면1.0",
                    "총주차면17.0",
                    "총주차면1.0",
                    "총주차면1.0",
                    "총주차면1.0",
                    "총주차면1.0",
                    "총주차면1.0",
                    "총주차면1.0",
                    "총주차면16.0",
                    "총주차면50.0",
                    "총주차면2.0",
                    "총주차면1.0",
                    "총주차면1.0",
                    "총주차면1.0",
                    "총주차면1.0",
                    "총주차면1.0",
                    "총주차면1.0",
                    "총주차면1.0",
                    "총주차면22.0",
                    "총주차면1.0",
                    "총주차면46.0",
                    "총주차면1.0",
                    "총주차면1.0",
                    "총주차면1.0",
                    "총주차면1.0",
                    "총주차면20.0",
                    "총주차면3.0",
                    "총주차면1.0",
                    "총주차면1.0",
                    "총주차면2.0",
                    "총주차면4.0",
                    "총주차면2.0",
                    "총주차면1.0",
                    "총주차면1.0",
                    "총주차면1.0",
                    "총주차면1.0",
                    "총주차면1.0",
                    "총주차면1.0",
                    "총주차면1.0",
                    "총주차면1.0",
                    "총주차면1.0",
                    "총주차면5.0",
                    "총주차면1.0",
                    "총주차면1.0",
                    "총주차면1.0",
                    "총주차면1.0",
                    "총주차면51.0",
                    "총주차면1.0",
                    "총주차면5.0",
                    "총주차면1.0",
                    "총주차면1.0",
                    "총주차면21.0",
                    "총주차면4.0",
                    "총주차면1.0",
                    "총주차면1.0",
                    "총주차면1.0",
                    "총주차면52.0",
                    "총주차면1.0",
                    "총주차면1.0",
                    "총주차면1.0",
                    "총주차면1.0",
                    "총주차면1.0",
                    "총주차면82.0",
                    "총주차면1.0",
                    "총주차면124.0",
                    "총주차면1.0",
                    "총주차면1.0",
                    "총주차면2.0",
                    "총주차면1.0",
                    "총주차면19.0",
                    "총주차면1.0",
                    "총주차면38.0",
                    "총주차면1.0",
                    "총주차면24.0",
                    "총주차면1.0",
                    "총주차면7.0",
                    "총주차면3.0",
                    "총주차면1.0",
                    "총주차면1.0",
                    "총주차면1.0",
                    "총주차면1.0",
                    "총주차면1.0",
                    "총주차면1.0",
                    "총주차면1.0",
                    "총주차면1.0",
                    "총주차면1.0",
                    "총주차면1.0",
                    "총주차면10.0",
                    "총주차면1.0",
                    "총주차면1.0",
                    "총주차면6.0",
                    "총주차면1.0",
                    "총주차면1.0",
                    "총주차면1.0",
                    "총주차면22.0",
                    "총주차면1.0",
                    "총주차면1.0",
                    "총주차면1.0",
                    "총주차면1.0",
                    "총주차면1.0",
                    "총주차면30.0",
                    "총주차면1.0",
                    "총주차면1.0",
                    "총주차면1.0",
                    "총주차면1.0",
                    "총주차면33.0",
                    "총주차면1.0",
                    "총주차면4.0",
                    "총주차면1.0",
                    "총주차면44.0",
                    "총주차면1.0",
                    "총주차면2.0",
                    "총주차면19.0",
                    "총주차면19.0",
                    "총주차면35.0",
                    "총주차면38.0",
                    "총주차면108.0",
                    "총주차면108.0",
                    "총주차면2.0",
                    "총주차면2.0",
                    "총주차면3.0",
                    "총주차면1.0",
                    "총주차면2.0",
                    "총주차면3.0",
                    "총주차면3.0",
                    "총주차면1.0",
                    "총주차면177.0",
                    "총주차면249.0",
                    "총주차면1.0",
                    "총주차면29.0",
                    "총주차면29.0",
                    "총주차면36.0",
                    "총주차면39.0",
                    "총주차면3.0",
                    "총주차면137.0",
                    "총주차면122.0",
                    "총주차면151.0",
                    "총주차면129.0",
                    "총주차면39.0",
                    "총주차면121.0",
                    "총주차면155.0",
                    "총주차면155.0",
                    "총주차면81.0",
                    "총주차면81.0",
                    "총주차면2.0",
                    "총주차면49.0",
                    "총주차면25.0",
                    "총주차면25.0",
                    "총주차면1.0",
                    "총주차면71.0",
                    "총주차면1.0",
                    "총주차면80.0",
                    "총주차면80.0",
                    "총주차면82.0",
                    "총주차면82.0",
                    "총주차면6.0",
                    "총주차면42.0",
                    "총주차면42.0",
                    "총주차면67.0",
                    "총주차면67.0",
                    "총주차면58.0",
                    "총주차면58.0",
                    "총주차면58.0",
                    "총주차면193.0",
                    "총주차면193.0",
                    "총주차면2.0",
                    "총주차면1.0",
                    "총주차면122.0",
                    "총주차면1.0",
                    "총주차면26.0",
                    "총주차면26.0",
                    "총주차면84.0",
                    "총주차면1.0",
                    "총주차면163.0",
                    "총주차면163.0",
                    "총주차면20.0",
                    "총주차면1.0",
                    "총주차면1.0",
                    "총주차면77.0",
                    "총주차면77.0",
                    "총주차면2.0",
                    "총주차면63.0",
                    "총주차면63.0",
                    "총주차면199.0",
                    "총주차면199.0",
                    "총주차면4.0",
                    "총주차면143.0",
                    "총주차면1.0",
                    "총주차면1.0",
                    "총주차면2.0",
                    "총주차면1.0",
                    "총주차면2.0",
                    "총주차면199.0",
                    "총주차면199.0",
                    "총주차면7.0",
                    "총주차면76.0",
                    "총주차면1.0",
                    "총주차면39.0",
                    "총주차면39.0",
                    "총주차면9.0",
                    "총주차면1.0",
                    "총주차면5.0",
                    "총주차면147.0",
                    "총주차면147.0",
                    "총주차면2.0",
                    "총주차면18.0",
                    "총주차면1.0",
                    "총주차면1.0",
                    "총주차면2.0",
                    "총주차면1.0",
                    "총주차면58.0",
                    "총주차면64.0",
                    "총주차면64.0",
                    "총주차면3.0",
                    "총주차면6.0",
                    "총주차면20.0",
                    "총주차면22.0",
                    "총주차면52.0",
                    "총주차면60.0",
                    "총주차면60.0",
                    "총주차면45.0",
                    "총주차면45.0",
                    "총주차면280.0",
                    "총주차면1.0",
                    "총주차면24.0",
                    "총주차면65.0",
                    "총주차면63.0",
                    "총주차면1.0",
                    "총주차면1.0",
                    "총주차면1.0",
                    "총주차면1.0",
                    "총주차면2.0",
                    "총주차면1.0",
                    "총주차면1.0",
                    "총주차면148.0",
                    "총주차면1.0",
                    "총주차면1.0",
                    "총주차면1.0",
                    "총주차면1.0",
                    "총주차면1.0",
                    "총주차면68.0",
                    "총주차면68.0",
                    "총주차면1.0",
                    "총주차면62.0",
                    "총주차면62.0",
                    "총주차면1.0",
                    "총주차면1.0",
                    "총주차면1.0",
                    "총주차면1.0",
                    "총주차면141.0",
                    "총주차면62.0",
                    "총주차면21.0",
                    "총주차면1.0",
                    "총주차면1.0",
                    "총주차면1.0",
                    "총주차면1.0",
                    "총주차면214.0",
                    "총주차면214.0",
                    "총주차면1.0",
                    "총주차면1.0",
                    "총주차면1.0",
                    "총주차면1.0",
                    "총주차면1.0",
                    "총주차면1.0",
                    "총주차면1.0",
                    "총주차면2.0",
                    "총주차면1.0",
                    "총주차면59.0",
                    "총주차면59.0",
                    "총주차면193.0",
                    "총주차면98.0",
                    "총주차면98.0",
                    "총주차면1.0",
                    "총주차면1.0",
                    "총주차면1.0",
                    "총주차면1.0",
                    "총주차면1.0",
                    "총주차면1.0",
                    "총주차면111.0",
                    "총주차면130.0",
                    "총주차면1.0",
                    "총주차면1.0",
                    "총주차면63.0",
                    "총주차면105.0",
                    "총주차면2.0",
                    "총주차면75.0",
                    "총주차면1.0",
                    "총주차면2.0",
                    "총주차면1.0",
                    "총주차면1.0",
                    "총주차면179.0",
                    "총주차면134.0",
                    "총주차면134.0",
                    "총주차면94.0",
                    "총주차면43.0",
                    "총주차면78.0",
                    "총주차면7.0",
                    "총주차면123.0",
                    "총주차면4.0",
                    "총주차면5.0",
                    "총주차면2.0",
                    "총주차면1.0",
                    "총주차면1.0",
                    "총주차면162.0",
                    "총주차면162.0",
                    "총주차면109.0",
                    "총주차면1.0",
                    "총주차면50.0",
                    "총주차면50.0",
                    "총주차면23.0",
                    "총주차면69.0",
                    "총주차면32.0",
                    "총주차면26.0",
                    "총주차면41.0",
                    "총주차면143.0",
                    "총주차면48.0",
                    "총주차면48.0",
                    "총주차면107.0",
                    "총주차면190.0",
                    "총주차면190.0",
                    "총주차면31.0",
                    "총주차면121.0",
                    "총주차면132.0",
                    "총주차면89.0",
                    "총주차면60.0",
                    "총주차면5.0",
                    "총주차면1.0",
                    "총주차면2.0",
                    "총주차면3.0",
                    "총주차면18.0",
                    "총주차면1.0",
                    "총주차면1.0",
                    "총주차면6.0",
                    "총주차면1.0",
                    "총주차면1.0",
                    "총주차면17.0",
                    "총주차면1.0",
                    "총주차면1.0",
                    "총주차면1.0",
                    "총주차면1.0",
                    "총주차면1.0",
                    "총주차면10.0",
                    "총주차면54.0",
                    "총주차면1.0",
                    "총주차면129.0",
                    "총주차면117.0",
                    "총주차면17.0",
                    "총주차면2.0",
                    "총주차면1.0",
                    "총주차면1.0",
                    "총주차면1.0",
                    "총주차면1.0",
                    "총주차면1.0",
                    "총주차면2.0",
                    "총주차면2.0",
                    "총주차면1.0",
                    "총주차면102.0",
                    "총주차면25.0",
                    "총주차면1.0",
                    "총주차면1.0",
                    "총주차면1.0",
                    "총주차면1.0",
                    "총주차면1.0",
                    "총주차면3.0",
                    "총주차면1.0",
                    "총주차면1.0",
                    "총주차면1.0",
                    "총주차면1.0",
                    "총주차면177.0",
                    "총주차면1.0",
                    "총주차면1.0",
                    "총주차면1.0",
                    "총주차면93.0",
                    "총주차면1.0",
                    "총주차면2.0",
                    "총주차면1.0",
                    "총주차면1.0",
                    "총주차면236.0",
                    "총주차면352.0",
                    "총주차면1.0",
                    "총주차면1.0",
                    "총주차면1.0",
                    "총주차면1.0",
                    "총주차면1.0",
                    "총주차면1.0",
                    "총주차면1.0",
                    "총주차면1.0",
                    "총주차면1.0",
                    "총주차면1.0",
                    "총주차면1.0",
                    "총주차면1.0",
                    "총주차면7.0",
                    "총주차면1.0",
                    "총주차면1.0",
                    "총주차면1.0",
                    "총주차면1.0",
                    "총주차면1.0",
                    "총주차면1.0",
                    "총주차면1.0",
                    "총주차면1.0",
                    "총주차면1.0",
                    "총주차면1.0",
                    "총주차면2.0",
                    "총주차면1.0",
                    "총주차면1.0",
                    "총주차면2.0",
                    "총주차면1.0",
                    "총주차면196.0",
                    "총주차면1.0",
                    "총주차면1.0",
                    "총주차면1.0",
                    "총주차면1.0",
                    "총주차면1.0",
                    "총주차면4.0",
                    "총주차면1.0",
                    "총주차면1.0",
                    "총주차면1.0",
                    "총주차면1.0",
                    "총주차면1.0",
                    "총주차면1.0",
                    "총주차면1.0",
                    "총주차면1.0",
                    "총주차면1.0",
                    "총주차면1.0",
                    "총주차면1.0",
                    "총주차면1.0",
                    "총주차면2.0",
                    "총주차면163.0",
                    "총주차면2.0",
                    "총주차면3.0",
                    "총주차면1.0",
                    "총주차면1.0",
                    "총주차면1.0",
                    "총주차면1.0",
                    "총주차면1.0",
                    "총주차면122.0",
                    "총주차면1.0",
                    "총주차면1.0",
                    "총주차면9.0",
                    "총주차면2.0",
                    "총주차면1.0",
                    "총주차면1.0",
                    "총주차면1.0",
                    "총주차면1.0",
                    "총주차면2.0",
                    "총주차면2.0",
                    "총주차면3.0",
                    "총주차면1.0",
                    "총주차면1.0",
                    "총주차면1.0",
                    "총주차면1.0",
                    "총주차면1.0",
                    "총주차면2.0",
                    "총주차면65.0",
                    "총주차면1.0",
                    "총주차면4.0",
                    "총주차면1.0",
                    "총주차면1.0",
                    "총주차면1.0",
                    "총주차면64.0",
                    "총주차면1.0",
                    "총주차면1.0",
                    "총주차면1.0",
                    "총주차면1.0",
                    "총주차면8.0",
                    "총주차면1.0",
                    "총주차면19.0",
                    "총주차면19.0",
                    "총주차면150.0",
                    "총주차면4.0",
                    "총주차면1.0",
                    "총주차면190.0",
                    "총주차면100.0",
                    "총주차면122.0",
                    "총주차면10.0",
                    "총주차면7.0",
                    "총주차면11.0",
                    "총주차면66.0",
                    "총주차면66.0",
                    "총주차면56.0",
                    "총주차면18.0",
                    "총주차면98.0",
                    "총주차면20.0",
                    "총주차면20.0",
                    "총주차면6.0",
                    "총주차면11.0",
                    "총주차면147.0",
                    "총주차면3.0",
                    "총주차면1.0",
                    "총주차면141.0",
                    "총주차면141.0",
                    "총주차면40.0",
                    "총주차면47.0",
                    "총주차면215.0",
                    "총주차면114.0",
                    "총주차면110.0",
                    "총주차면12.0",
                    "총주차면101.0",
                    "총주차면101.0",
                    "총주차면101.0",
                    "총주차면1.0",
                    "총주차면1.0",
                    "총주차면290.0",
                    "총주차면2.0",
                    "총주차면10.0",
                    "총주차면90.0",
                    "총주차면375.0",
                    "총주차면15.0",
                    "총주차면60.0",
                    "총주차면22.0",
                    "총주차면1.0",
                    "총주차면15.0",
                    "총주차면2.0",
                    "총주차면131.0",
                    "총주차면131.0",
                    "총주차면2.0",
                    "총주차면196.0",
                    "총주차면13.0",
                    "총주차면11.0",
                    "총주차면35.0",
                    "총주차면14.0",
                    "총주차면35.0",
                    "총주차면61.0",
                    "총주차면18.0",
                    "총주차면324.0",
                    "총주차면324.0",
                    "총주차면83.0",
                    "총주차면24.0",
                    "총주차면1.0",
                    "총주차면45.0",
                    "총주차면50.0",
                    "총주차면1.0",
                    "총주차면20.0",
                    "총주차면20.0",
                    "총주차면2.0",
                    "총주차면859.0",
                    "총주차면859.0",
                    "총주차면1.0",
                    "총주차면11.0",
                    "총주차면9.0",
                    "총주차면3.0",
                    "총주차면1.0",
                    "총주차면1.0",
                    "총주차면1.0",
                    "총주차면15.0",
                    "총주차면17.0",
                    "총주차면18.0",
                    "총주차면79.0",
                    "총주차면30.0",
                    "총주차면54.0",
                    "총주차면64.0",
                    "총주차면24.0",
                    "총주차면25.0",
                    "총주차면20.0",
                    "총주차면1.0",
                    "총주차면42.0",
                    "총주차면42.0",
                    "총주차면39.0",
                    "총주차면1.0",
                    "총주차면553.0",
                    "총주차면894.0",
                    "총주차면186.0",
                    "총주차면186.0",
                    "총주차면23.0",
                    "총주차면114.0",
                    "총주차면61.0",
                    "총주차면107.0",
                    "총주차면9.0",
                    "총주차면70.0",
                    "총주차면32.0",
                    "총주차면45.0",
                    "총주차면8.0",
                    "총주차면18.0",
                    "총주차면1.0",
                    "총주차면52.0",
                    "총주차면18.0",
                    "총주차면102.0",
                    "총주차면32.0",
                    "총주차면93.0",
                    "총주차면80.0",
                    "총주차면80.0",
                    "총주차면20.0",
                    "총주차면19.0",
                    "총주차면23.0",
                    "총주차면23.0",
                    "총주차면23.0",
                    "총주차면30.0",
                    "총주차면1.0",
                    "총주차면33.0",
                    "총주차면55.0",
                    "총주차면31.0",
                    "총주차면1.0",
                    "총주차면190.0",
                    "총주차면91.0",
                    "총주차면151.0",
                    "총주차면1.0",
                    "총주차면1.0",
                    "총주차면99.0",
                    "총주차면192.0",
                    "총주차면1.0",
                    "총주차면155.0",
                    "총주차면198.0",
                    "총주차면26.0",
                    "총주차면2.0",
                    "총주차면1.0",
                    "총주차면41.0",
                    "총주차면52.0",
                    "총주차면1.0",
                    "총주차면1.0",
                    "총주차면1.0",
                    "총주차면13.0",
                    "총주차면15.0",
                    "총주차면130.0",
                    "총주차면23.0",
                    "총주차면145.0",
                    "총주차면129.0",
                    "총주차면26.0",
                    "총주차면2.0",
                    "총주차면1.0",
                    "총주차면1.0",
                    "총주차면1.0",
                    "총주차면371.0",
                    "총주차면8.0",
                    "총주차면1.0",
                    "총주차면1.0",
                    "총주차면1.0",
                    "총주차면1.0",
                    "총주차면1.0",
                    "총주차면1.0",
                    "총주차면1.0",
                    "총주차면1.0",
                    "총주차면1.0",
                    "총주차면1.0",
                    "총주차면3.0",
                    "총주차면1.0",
                    "총주차면1.0",
                    "총주차면1.0",
                    "총주차면1.0",
                    "총주차면1.0",
                    "총주차면1.0",
                    "총주차면88.0",
                    "총주차면1.0",
                    "총주차면3.0",
                    "총주차면34.0",
                    "총주차면34.0",
                    "총주차면23.0",
                    "총주차면56.0",
                    "총주차면36.0",
                    "총주차면114.0",
                    "총주차면6.0",
                    "총주차면1.0",
                    "총주차면111.0",
                    "총주차면111.0",
                    "총주차면1.0",
                    "총주차면14.0",
                    "총주차면561.0",
                    "총주차면202.0",
                    "총주차면196.0",
                    "총주차면42.0",
                    "총주차면77.0",
                    "총주차면143.0",
                    "총주차면40.0",
                    "총주차면111.0",
                    "총주차면160.0",
                    "총주차면80.0",
                    "총주차면45.0",
                    "총주차면45.0",
                    "총주차면2.0",
                    "총주차면40.0",
                    "총주차면40.0",
                    "총주차면1.0",
                    "총주차면50.0",
                    "총주차면156.0",
                    "총주차면8.0",
                    "총주차면8.0",
                    "총주차면22.0",
                    "총주차면9.0",
                    "총주차면1.0",
                    "총주차면27.0",
                    "총주차면27.0",
                    "총주차면158.0",
                    "총주차면158.0",
                    "총주차면17.0",
                    "총주차면100.0",
                    "총주차면1.0",
                    "총주차면12.0",
                    "총주차면37.0",
                    "총주차면46.0",
                    "총주차면53.0",
                    "총주차면5.0",
                    "총주차면86.0",
                    "총주차면30.0",
                    "총주차면1.0",
                    "총주차면2.0",
                    "총주차면1.0",
                    "총주차면48.0",
                    "총주차면13.0",
                    "총주차면15.0",
                    "총주차면15.0",
                    "총주차면1.0",
                    "총주차면189.0",
                    "총주차면1.0",
                    "총주차면1.0",
                    "총주차면1.0",
                    "총주차면49.0",
                    "총주차면1.0",
                    "총주차면16.0",
                    "총주차면3.0",
                    "총주차면1.0",
                    "총주차면1.0",
                    "총주차면51.0",
                    "총주차면1.0",
                    "총주차면26.0",
                    "총주차면84.0",
                    "총주차면134.0",
                    "총주차면3.0",
                    "총주차면1.0",
                    "총주차면76.0",
                    "총주차면83.0",
                    "총주차면31.0",
                    "총주차면31.0",
                    "총주차면79.0",
                    "총주차면93.0",
                    "총주차면44.0",
                    "총주차면1.0",
                    "총주차면22.0",
                    "총주차면75.0",
                    "총주차면1.0",
                    "총주차면220.0",
                    "총주차면1.0",
                    "총주차면1.0",
                    "총주차면1.0",
                    "총주차면1.0",
                    "총주차면7.0",
                    "총주차면71.0",
                    "총주차면1.0",
                    "총주차면1.0",
                    "총주차면2.0",
                    "총주차면1.0",
                    "총주차면118.0",
                    "총주차면1.0",
                    "총주차면17.0",
                    "총주차면1.0",
                    "총주차면1.0",
                    "총주차면1.0",
                    "총주차면2.0",
                    "총주차면1.0",
                    "총주차면491.0",
                    "총주차면52.0",
                    "총주차면175.0",
                    "총주차면1.0",
                    "총주차면1.0",
                    "총주차면119.0",
                    "총주차면97.0",
                    "총주차면199.0",
                    "총주차면1.0",
                    "총주차면1.0",
                    "총주차면67.0",
                    "총주차면82.0",
                    "총주차면72.0",
                    "총주차면1.0",
                    "총주차면1.0",
                    "총주차면140.0",
                    "총주차면140.0",
                    "총주차면90.0",
                    "총주차면26.0",
                    "총주차면21.0",
                    "총주차면83.0",
                    "총주차면1.0",
                    "총주차면2.0",
                    "총주차면1.0",
                    "총주차면31.0",
                    "총주차면86.0",
                    "총주차면130.0",
                    "총주차면4.0",
                    "총주차면1.0",
                    "총주차면1.0",
                    "총주차면1.0",
                    "총주차면194.0",
                    "총주차면149.0",
                    "총주차면54.0",
                    "총주차면14.0",
                    "총주차면7.0",
                    "총주차면12.0",
                    "총주차면3.0",
                    "총주차면7.0",
                    "총주차면95.0",
                    "총주차면16.0",
                    "총주차면38.0",
                    "총주차면180.0",
                    "총주차면61.0",
                    "총주차면191.0",
                    "총주차면115.0",
                    "총주차면81.0",
                    "총주차면64.0",
                    "총주차면23.0",
                    "총주차면575.0",
                    "총주차면20.0",
                    "총주차면38.0",
                    "총주차면344.0",
                    "총주차면18.0",
                    "총주차면61.0",
                    "총주차면80.0",
                    "총주차면59.0",
                    "총주차면247.0",
                    "총주차면20.0",
                    "총주차면12.0",
                    "총주차면118.0",
                    "총주차면256.0",
                    "총주차면322.0",
                    "총주차면186.0",
                    "총주차면67.0",
                    "총주차면11.0",
                    "총주차면225.0",
                    "총주차면90.0",
                    "총주차면11.0",
                    "총주차면1.0",
                    "총주차면169.0",
                    "총주차면29.0",
                    "총주차면108.0",
                    "총주차면97.0",
                    "총주차면114.0",
                    "총주차면26.0",
                    "총주차면1431.0",
                    "총주차면76.0",
                    "총주차면42.0",
                    "총주차면45.0",
                    "총주차면19.0",
                    "총주차면47.0",
                    "총주차면63.0",
                    "총주차면120.0",
                    "총주차면67.0",
                    "총주차면19.0",
                    "총주차면82.0",
                    "총주차면38.0",
                    "총주차면79.0",
                    "총주차면80.0",
                    "총주차면56.0",
                    "총주차면483.0",
                    "총주차면65.0",
                    "총주차면199.0",
                    "총주차면69.0",
                    "총주차면66.0",
                    "총주차면321.0",
                    "총주차면27.0",
                    "총주차면99.0",
                    "총주차면25.0",
                    "총주차면16.0",
                    "총주차면298.0",
                    "총주차면59.0",
                    "총주차면9.0",
                    "총주차면86.0",
                    "총주차면110.0",
                    "총주차면53.0",
                    "총주차면98.0",
                    "총주차면100.0",
                    "총주차면97.0",
                    "총주차면500.0",
                    "총주차면203.0",
                    "총주차면248.0",
                    "총주차면3.0",
                    "총주차면2.0",
                    "총주차면1.0",
                    "총주차면8.0",
                    "총주차면13.0",
                    "총주차면1.0",
                    "총주차면2.0",
                    "총주차면61.0",
                    "총주차면31.0",
                    "총주차면60.0",
                    "총주차면44.0",
                    "총주차면198.0",
                    "총주차면134.0",
                    "총주차면56.0",
                    "총주차면66.0",
                    "총주차면20.0",
                    "총주차면88.0",
                    "총주차면199.0",
                    "총주차면93.0",
                    "총주차면18.0",
                    "총주차면35.0",
                    "총주차면91.0",
                    "총주차면71.0",
                    "총주차면325.0",
                    "총주차면84.0",
                    "총주차면41.0",
                    "총주차면2.0",
                    "총주차면28.0",
                    "총주차면130.0",
                    "총주차면56.0",
                    "총주차면40.0",
                    "총주차면41.0",
                    "총주차면160.0",
                    "총주차면37.0",
                    "총주차면39.0",
                    "총주차면12.0",
                    "총주차면55.0",
                    "총주차면37.0",
                    "총주차면7.0",
                    "총주차면1.0",
                    "총주차면48.0",
                    "총주차면2.0",
                    "총주차면2.0",
                    "총주차면3.0",
                    "총주차면2.0",
                    "총주차면3.0",
                    "총주차면6.0",
                    "총주차면21.0",
                    "총주차면23.0",
                    "총주차면5.0",
                    "총주차면3.0",
                    "총주차면3.0",
                    "총주차면3.0",
                    "총주차면8.0",
                    "총주차면21.0",
                    "총주차면5.0",
                    "총주차면20.0",
                    "총주차면13.0",
                    "총주차면3.0",
                    "총주차면16.0",
                    "총주차면6.0",
                    "총주차면27.0",
                    "총주차면4.0",
                    "총주차면17.0",
                    "총주차면5.0",
                    "총주차면19.0",
                    "총주차면16.0",
                    "총주차면7.0",
                    "총주차면10.0",
                    "총주차면2.0",
                    "총주차면42.0",
                    "총주차면18.0",
                    "총주차면15.0",
                    "총주차면3.0",
                    "총주차면2.0",
                    "총주차면2.0",
                    "총주차면3.0",
                    "총주차면13.0",
                    "총주차면2.0",
                    "총주차면2.0",
                    "총주차면26.0",
                    "총주차면12.0",
                    "총주차면2.0",
                    "총주차면7.0",
                    "총주차면18.0",
                    "총주차면1.0",
                    "총주차면4.0",
                    "총주차면3.0",
                    "총주차면128.0",
                    "총주차면69.0",
                    "총주차면11.0",
                    "총주차면24.0",
                    "총주차면70.0",
                    "총주차면42.0",
                    "총주차면41.0",
                    "총주차면31.0",
                    "총주차면121.0",
                    "총주차면16.0",
                    "총주차면135.0",
                    "총주차면358.0",
                    "총주차면15.0",
                    "총주차면77.0",
                    "총주차면107.0",
                    "총주차면15.0",
                    "총주차면71.0",
                    "총주차면33.0",
                    "총주차면71.0",
                    "총주차면23.0",
                    "총주차면122.0",
                    "총주차면33.0",
                    "총주차면84.0",
                    "총주차면80.0",
                    "총주차면71.0",
                    "총주차면67.0",
                    "총주차면26.0",
                    "총주차면100.0",
                    "총주차면18.0",
                    "총주차면37.0",
                    "총주차면29.0",
                    "총주차면78.0",
                    "총주차면85.0",
                    "총주차면5.0",
                    "총주차면55.0",
                    "총주차면40.0",
                    "총주차면55.0",
                    "총주차면52.0",
                    "총주차면45.0",
                    "총주차면5.0",
                    "총주차면64.0",
                    "총주차면80.0",
                    "총주차면1.0",
                    "총주차면15.0",
                    "총주차면24.0",
                    "총주차면10.0",
                    "총주차면1.0",
                    "총주차면31.0",
                    "총주차면21.0",
                    "총주차면27.0",
                    "총주차면6.0",
                    "총주차면12.0",
                    "총주차면88.0",
                    "총주차면1.0",
                    "총주차면77.0",
                    "총주차면135.0",
                    "총주차면113.0",
                    "총주차면54.0",
                    "총주차면10.0",
                    "총주차면3.0",
                    "총주차면8.0",
                    "총주차면15.0",
                    "총주차면6.0",
                    "총주차면9.0",
                    "총주차면133.0",
                    "총주차면31.0",
                    "총주차면63.0",
                    "총주차면105.0",
                    "총주차면14.0",
                    "총주차면35.0",
                    "총주차면34.0",
                    "총주차면75.0",
                    "총주차면315.0",
                    "총주차면1186.0",
                    "총주차면51.0",
                    "총주차면183.0",
                    "총주차면41.0",
                    "총주차면190.0",
                    "총주차면102.0",
                    "총주차면31.0",
                    "총주차면98.0",
                    "총주차면89.0",
                    "총주차면5.0",
                    "총주차면6.0",
                    "총주차면9.0",
                    "총주차면8.0",
                    "총주차면25.0",
                    "총주차면10.0",
                    "총주차면9.0",
                    "총주차면13.0",
                    "총주차면41.0",
                    "총주차면17.0",
                    "총주차면7.0",
                    "총주차면10.0",
                    "총주차면39.0",
                    "총주차면27.0",
                    "총주차면77.0",
                    "총주차면101.0",
                    "총주차면19.0",
                    "총주차면163.0",
                    "총주차면32.0",
                    "총주차면47.0",
                    "총주차면145.0",
                    "총주차면27.0",
                    "총주차면164.0",
                    "총주차면16.0",
                    "총주차면9.0",
                    "총주차면22.0",
                    "총주차면3.0",
                    "총주차면1.0",
                    "총주차면6.0",
                    "총주차면7.0",
                    "총주차면7.0",
                    "총주차면96.0",
                    "총주차면21.0",
                    "총주차면13.0",
                    "총주차면85.0",
                    "총주차면9.0",
                    "총주차면9.0",
                    "총주차면27.0",
                    "총주차면122.0",
                    "총주차면234.0",
                    "총주차면84.0",
                    "총주차면48.0",
                    "총주차면123.0",
                    "총주차면88.0",
                    "총주차면39.0",
                    "총주차면32.0",
                    "총주차면192.0",
                    "총주차면357.0",
                    "총주차면13.0",
                    "총주차면113.0",
                    "총주차면362.0",
                    "총주차면46.0",
                    "총주차면81.0",
                    "총주차면39.0",
                    "총주차면21.0",
                    "총주차면48.0",
                    "총주차면38.0",
                    "총주차면39.0",
                    "총주차면55.0",
                    "총주차면553.0",
                    "총주차면25.0",
                    "총주차면29.0",
                    "총주차면74.0",
                    "총주차면76.0",
                    "총주차면107.0",
                    "총주차면376.0",
                    "총주차면46.0",
                    "총주차면21.0",
                    "총주차면250.0",
                    "총주차면110.0",
                    "총주차면32.0",
                    "총주차면24.0",
                    "총주차면11.0",
                    "총주차면73.0",
                    "총주차면31.0",
                    "총주차면30.0",
                    "총주차면125.0",
                    "총주차면294.0",
                    "총주차면137.0",
                    "총주차면79.0",
                    "총주차면9.0",
                    "총주차면236.0",
                    "총주차면137.0",
                    "총주차면66.0",
                    "총주차면10.0",
                    "총주차면7.0",
                    "총주차면61.0",
                    "총주차면23.0",
                    "총주차면39.0",
                    "총주차면18.0",
                    "총주차면11.0",
                    "총주차면98.0",
                    "총주차면61.0",
                    "총주차면143.0",
                    "총주차면23.0",
                    "총주차면8.0",
                    "총주차면397.0",
                    "총주차면93.0",
                    "총주차면6.0",
                    "총주차면51.0",
                    "총주차면39.0",
                    "총주차면14.0",
                    "총주차면32.0",
                    "총주차면4.0",
                    "총주차면1.0",
                    "총주차면4.0",
                    "총주차면1.0",
                    "총주차면6.0",
                    "총주차면1.0",
                    "총주차면1.0",
                    "총주차면3.0",
                    "총주차면11.0",
                    "총주차면17.0",
                    "총주차면11.0",
                    "총주차면9.0",
                    "총주차면63.0",
                    "총주차면63.0",
                    "총주차면32.0",
                    "총주차면30.0",
                    "총주차면12.0",
                    "총주차면50.0",
                    "총주차면24.0",
                    "총주차면15.0",
                    "총주차면13.0",
                    "총주차면91.0",
                    "총주차면194.0",
                    "총주차면570.0",
                    "총주차면172.0",
                    "총주차면28.0",
                    "총주차면8.0",
                    "총주차면19.0",
                    "총주차면39.0",
                    "총주차면16.0",
                    "총주차면44.0",
                    "총주차면110.0",
                    "총주차면24.0",
                    "총주차면56.0",
                    "총주차면202.0",
                    "총주차면42.0",
                    "총주차면88.0",
                    "총주차면114.0",
                    "총주차면16.0",
                    "총주차면30.0",
                    "총주차면32.0",
                    "총주차면105.0",
                    "총주차면561.0",
                    "총주차면6.0",
                    "총주차면14.0",
                    "총주차면12.0",
                    "총주차면196.0",
                    "총주차면167.0",
                    "총주차면124.0",
                    "총주차면250.0",
                    "총주차면174.0",
                    "총주차면83.0",
                    "총주차면60.0",
                    "총주차면39.0",
                    "총주차면61.0",
                    "총주차면137.0",
                    "총주차면152.0",
                    "총주차면14.0",
                    "총주차면399.0",
                    "총주차면31.0",
                    "총주차면11.0",
                    "총주차면1.0",
                    "총주차면1.0",
                    "총주차면6.0",
                    "총주차면40.0",
                    "총주차면44.0",
                    "총주차면13.0",
                    "총주차면1260.0",
                    "총주차면37.0",
                    "총주차면17.0",
                    "총주차면12.0",
                    "총주차면31.0",
                    "총주차면39.0",
                    "총주차면10.0",
                    "총주차면9.0",
                    "총주차면23.0",
                    "총주차면1317.0",
                    "총주차면9.0",
                    "총주차면9.0",
                    "총주차면32.0",
                    "총주차면36.0",
                    "총주차면13.0",
                    "총주차면11.0",
                    "총주차면9.0",
                    "총주차면21.0",
                    "총주차면1092.0",
                    "총주차면51.0",
                    "총주차면88.0",
                    "총주차면97.0",
                    "총주차면3.0",
                    "총주차면20.0",
                    "총주차면14.0",
                    "총주차면81.0",
                    "총주차면49.0",
                    "총주차면873.0",
                    "총주차면34.0",
                    "총주차면9.0",
                    "총주차면33.0",
                    "총주차면20.0",
                    "총주차면95.0",
                    "총주차면73.0",
                    "총주차면73.0",
                    "총주차면10.0",
                    "총주차면47.0",
                    "총주차면113.0",
                    "총주차면14.0",
                    "총주차면13.0",
                    "총주차면21.0",
                    "총주차면20.0",
                    "총주차면56.0",
                    "총주차면119.0",
                    "총주차면567.0",
                    "총주차면107.0"
                  ],
                  "type": "scattermapbox"
                }
              ],
              "layout": {
                "mapbox": {
                  "center": {
                    "lat": 37.5665,
                    "lon": 126.978
                  },
                  "style": "open-street-map",
                  "zoom": 11
                },
                "margin": {
                  "b": 0,
                  "l": 0,
                  "r": 0,
                  "t": 0
                },
                "template": {
                  "data": {
                    "bar": [
                      {
                        "error_x": {
                          "color": "#2a3f5f"
                        },
                        "error_y": {
                          "color": "#2a3f5f"
                        },
                        "marker": {
                          "line": {
                            "color": "#E5ECF6",
                            "width": 0.5
                          },
                          "pattern": {
                            "fillmode": "overlay",
                            "size": 10,
                            "solidity": 0.2
                          }
                        },
                        "type": "bar"
                      }
                    ],
                    "barpolar": [
                      {
                        "marker": {
                          "line": {
                            "color": "#E5ECF6",
                            "width": 0.5
                          },
                          "pattern": {
                            "fillmode": "overlay",
                            "size": 10,
                            "solidity": 0.2
                          }
                        },
                        "type": "barpolar"
                      }
                    ],
                    "carpet": [
                      {
                        "aaxis": {
                          "endlinecolor": "#2a3f5f",
                          "gridcolor": "white",
                          "linecolor": "white",
                          "minorgridcolor": "white",
                          "startlinecolor": "#2a3f5f"
                        },
                        "baxis": {
                          "endlinecolor": "#2a3f5f",
                          "gridcolor": "white",
                          "linecolor": "white",
                          "minorgridcolor": "white",
                          "startlinecolor": "#2a3f5f"
                        },
                        "type": "carpet"
                      }
                    ],
                    "choropleth": [
                      {
                        "colorbar": {
                          "outlinewidth": 0,
                          "ticks": ""
                        },
                        "type": "choropleth"
                      }
                    ],
                    "contour": [
                      {
                        "colorbar": {
                          "outlinewidth": 0,
                          "ticks": ""
                        },
                        "colorscale": [
                          [
                            0,
                            "#0d0887"
                          ],
                          [
                            0.1111111111111111,
                            "#46039f"
                          ],
                          [
                            0.2222222222222222,
                            "#7201a8"
                          ],
                          [
                            0.3333333333333333,
                            "#9c179e"
                          ],
                          [
                            0.4444444444444444,
                            "#bd3786"
                          ],
                          [
                            0.5555555555555556,
                            "#d8576b"
                          ],
                          [
                            0.6666666666666666,
                            "#ed7953"
                          ],
                          [
                            0.7777777777777778,
                            "#fb9f3a"
                          ],
                          [
                            0.8888888888888888,
                            "#fdca26"
                          ],
                          [
                            1,
                            "#f0f921"
                          ]
                        ],
                        "type": "contour"
                      }
                    ],
                    "contourcarpet": [
                      {
                        "colorbar": {
                          "outlinewidth": 0,
                          "ticks": ""
                        },
                        "type": "contourcarpet"
                      }
                    ],
                    "heatmap": [
                      {
                        "colorbar": {
                          "outlinewidth": 0,
                          "ticks": ""
                        },
                        "colorscale": [
                          [
                            0,
                            "#0d0887"
                          ],
                          [
                            0.1111111111111111,
                            "#46039f"
                          ],
                          [
                            0.2222222222222222,
                            "#7201a8"
                          ],
                          [
                            0.3333333333333333,
                            "#9c179e"
                          ],
                          [
                            0.4444444444444444,
                            "#bd3786"
                          ],
                          [
                            0.5555555555555556,
                            "#d8576b"
                          ],
                          [
                            0.6666666666666666,
                            "#ed7953"
                          ],
                          [
                            0.7777777777777778,
                            "#fb9f3a"
                          ],
                          [
                            0.8888888888888888,
                            "#fdca26"
                          ],
                          [
                            1,
                            "#f0f921"
                          ]
                        ],
                        "type": "heatmap"
                      }
                    ],
                    "histogram": [
                      {
                        "marker": {
                          "pattern": {
                            "fillmode": "overlay",
                            "size": 10,
                            "solidity": 0.2
                          }
                        },
                        "type": "histogram"
                      }
                    ],
                    "histogram2d": [
                      {
                        "colorbar": {
                          "outlinewidth": 0,
                          "ticks": ""
                        },
                        "colorscale": [
                          [
                            0,
                            "#0d0887"
                          ],
                          [
                            0.1111111111111111,
                            "#46039f"
                          ],
                          [
                            0.2222222222222222,
                            "#7201a8"
                          ],
                          [
                            0.3333333333333333,
                            "#9c179e"
                          ],
                          [
                            0.4444444444444444,
                            "#bd3786"
                          ],
                          [
                            0.5555555555555556,
                            "#d8576b"
                          ],
                          [
                            0.6666666666666666,
                            "#ed7953"
                          ],
                          [
                            0.7777777777777778,
                            "#fb9f3a"
                          ],
                          [
                            0.8888888888888888,
                            "#fdca26"
                          ],
                          [
                            1,
                            "#f0f921"
                          ]
                        ],
                        "type": "histogram2d"
                      }
                    ],
                    "histogram2dcontour": [
                      {
                        "colorbar": {
                          "outlinewidth": 0,
                          "ticks": ""
                        },
                        "colorscale": [
                          [
                            0,
                            "#0d0887"
                          ],
                          [
                            0.1111111111111111,
                            "#46039f"
                          ],
                          [
                            0.2222222222222222,
                            "#7201a8"
                          ],
                          [
                            0.3333333333333333,
                            "#9c179e"
                          ],
                          [
                            0.4444444444444444,
                            "#bd3786"
                          ],
                          [
                            0.5555555555555556,
                            "#d8576b"
                          ],
                          [
                            0.6666666666666666,
                            "#ed7953"
                          ],
                          [
                            0.7777777777777778,
                            "#fb9f3a"
                          ],
                          [
                            0.8888888888888888,
                            "#fdca26"
                          ],
                          [
                            1,
                            "#f0f921"
                          ]
                        ],
                        "type": "histogram2dcontour"
                      }
                    ],
                    "mesh3d": [
                      {
                        "colorbar": {
                          "outlinewidth": 0,
                          "ticks": ""
                        },
                        "type": "mesh3d"
                      }
                    ],
                    "parcoords": [
                      {
                        "line": {
                          "colorbar": {
                            "outlinewidth": 0,
                            "ticks": ""
                          }
                        },
                        "type": "parcoords"
                      }
                    ],
                    "pie": [
                      {
                        "automargin": true,
                        "type": "pie"
                      }
                    ],
                    "scatter": [
                      {
                        "fillpattern": {
                          "fillmode": "overlay",
                          "size": 10,
                          "solidity": 0.2
                        },
                        "type": "scatter"
                      }
                    ],
                    "scatter3d": [
                      {
                        "line": {
                          "colorbar": {
                            "outlinewidth": 0,
                            "ticks": ""
                          }
                        },
                        "marker": {
                          "colorbar": {
                            "outlinewidth": 0,
                            "ticks": ""
                          }
                        },
                        "type": "scatter3d"
                      }
                    ],
                    "scattercarpet": [
                      {
                        "marker": {
                          "colorbar": {
                            "outlinewidth": 0,
                            "ticks": ""
                          }
                        },
                        "type": "scattercarpet"
                      }
                    ],
                    "scattergeo": [
                      {
                        "marker": {
                          "colorbar": {
                            "outlinewidth": 0,
                            "ticks": ""
                          }
                        },
                        "type": "scattergeo"
                      }
                    ],
                    "scattergl": [
                      {
                        "marker": {
                          "colorbar": {
                            "outlinewidth": 0,
                            "ticks": ""
                          }
                        },
                        "type": "scattergl"
                      }
                    ],
                    "scattermap": [
                      {
                        "marker": {
                          "colorbar": {
                            "outlinewidth": 0,
                            "ticks": ""
                          }
                        },
                        "type": "scattermap"
                      }
                    ],
                    "scattermapbox": [
                      {
                        "marker": {
                          "colorbar": {
                            "outlinewidth": 0,
                            "ticks": ""
                          }
                        },
                        "type": "scattermapbox"
                      }
                    ],
                    "scatterpolar": [
                      {
                        "marker": {
                          "colorbar": {
                            "outlinewidth": 0,
                            "ticks": ""
                          }
                        },
                        "type": "scatterpolar"
                      }
                    ],
                    "scatterpolargl": [
                      {
                        "marker": {
                          "colorbar": {
                            "outlinewidth": 0,
                            "ticks": ""
                          }
                        },
                        "type": "scatterpolargl"
                      }
                    ],
                    "scatterternary": [
                      {
                        "marker": {
                          "colorbar": {
                            "outlinewidth": 0,
                            "ticks": ""
                          }
                        },
                        "type": "scatterternary"
                      }
                    ],
                    "surface": [
                      {
                        "colorbar": {
                          "outlinewidth": 0,
                          "ticks": ""
                        },
                        "colorscale": [
                          [
                            0,
                            "#0d0887"
                          ],
                          [
                            0.1111111111111111,
                            "#46039f"
                          ],
                          [
                            0.2222222222222222,
                            "#7201a8"
                          ],
                          [
                            0.3333333333333333,
                            "#9c179e"
                          ],
                          [
                            0.4444444444444444,
                            "#bd3786"
                          ],
                          [
                            0.5555555555555556,
                            "#d8576b"
                          ],
                          [
                            0.6666666666666666,
                            "#ed7953"
                          ],
                          [
                            0.7777777777777778,
                            "#fb9f3a"
                          ],
                          [
                            0.8888888888888888,
                            "#fdca26"
                          ],
                          [
                            1,
                            "#f0f921"
                          ]
                        ],
                        "type": "surface"
                      }
                    ],
                    "table": [
                      {
                        "cells": {
                          "fill": {
                            "color": "#EBF0F8"
                          },
                          "line": {
                            "color": "white"
                          }
                        },
                        "header": {
                          "fill": {
                            "color": "#C8D4E3"
                          },
                          "line": {
                            "color": "white"
                          }
                        },
                        "type": "table"
                      }
                    ]
                  },
                  "layout": {
                    "annotationdefaults": {
                      "arrowcolor": "#2a3f5f",
                      "arrowhead": 0,
                      "arrowwidth": 1
                    },
                    "autotypenumbers": "strict",
                    "coloraxis": {
                      "colorbar": {
                        "outlinewidth": 0,
                        "ticks": ""
                      }
                    },
                    "colorscale": {
                      "diverging": [
                        [
                          0,
                          "#8e0152"
                        ],
                        [
                          0.1,
                          "#c51b7d"
                        ],
                        [
                          0.2,
                          "#de77ae"
                        ],
                        [
                          0.3,
                          "#f1b6da"
                        ],
                        [
                          0.4,
                          "#fde0ef"
                        ],
                        [
                          0.5,
                          "#f7f7f7"
                        ],
                        [
                          0.6,
                          "#e6f5d0"
                        ],
                        [
                          0.7,
                          "#b8e186"
                        ],
                        [
                          0.8,
                          "#7fbc41"
                        ],
                        [
                          0.9,
                          "#4d9221"
                        ],
                        [
                          1,
                          "#276419"
                        ]
                      ],
                      "sequential": [
                        [
                          0,
                          "#0d0887"
                        ],
                        [
                          0.1111111111111111,
                          "#46039f"
                        ],
                        [
                          0.2222222222222222,
                          "#7201a8"
                        ],
                        [
                          0.3333333333333333,
                          "#9c179e"
                        ],
                        [
                          0.4444444444444444,
                          "#bd3786"
                        ],
                        [
                          0.5555555555555556,
                          "#d8576b"
                        ],
                        [
                          0.6666666666666666,
                          "#ed7953"
                        ],
                        [
                          0.7777777777777778,
                          "#fb9f3a"
                        ],
                        [
                          0.8888888888888888,
                          "#fdca26"
                        ],
                        [
                          1,
                          "#f0f921"
                        ]
                      ],
                      "sequentialminus": [
                        [
                          0,
                          "#0d0887"
                        ],
                        [
                          0.1111111111111111,
                          "#46039f"
                        ],
                        [
                          0.2222222222222222,
                          "#7201a8"
                        ],
                        [
                          0.3333333333333333,
                          "#9c179e"
                        ],
                        [
                          0.4444444444444444,
                          "#bd3786"
                        ],
                        [
                          0.5555555555555556,
                          "#d8576b"
                        ],
                        [
                          0.6666666666666666,
                          "#ed7953"
                        ],
                        [
                          0.7777777777777778,
                          "#fb9f3a"
                        ],
                        [
                          0.8888888888888888,
                          "#fdca26"
                        ],
                        [
                          1,
                          "#f0f921"
                        ]
                      ]
                    },
                    "colorway": [
                      "#636efa",
                      "#EF553B",
                      "#00cc96",
                      "#ab63fa",
                      "#FFA15A",
                      "#19d3f3",
                      "#FF6692",
                      "#B6E880",
                      "#FF97FF",
                      "#FECB52"
                    ],
                    "font": {
                      "color": "#2a3f5f"
                    },
                    "geo": {
                      "bgcolor": "white",
                      "lakecolor": "white",
                      "landcolor": "#E5ECF6",
                      "showlakes": true,
                      "showland": true,
                      "subunitcolor": "white"
                    },
                    "hoverlabel": {
                      "align": "left"
                    },
                    "hovermode": "closest",
                    "mapbox": {
                      "style": "light"
                    },
                    "paper_bgcolor": "white",
                    "plot_bgcolor": "#E5ECF6",
                    "polar": {
                      "angularaxis": {
                        "gridcolor": "white",
                        "linecolor": "white",
                        "ticks": ""
                      },
                      "bgcolor": "#E5ECF6",
                      "radialaxis": {
                        "gridcolor": "white",
                        "linecolor": "white",
                        "ticks": ""
                      }
                    },
                    "scene": {
                      "xaxis": {
                        "backgroundcolor": "#E5ECF6",
                        "gridcolor": "white",
                        "gridwidth": 2,
                        "linecolor": "white",
                        "showbackground": true,
                        "ticks": "",
                        "zerolinecolor": "white"
                      },
                      "yaxis": {
                        "backgroundcolor": "#E5ECF6",
                        "gridcolor": "white",
                        "gridwidth": 2,
                        "linecolor": "white",
                        "showbackground": true,
                        "ticks": "",
                        "zerolinecolor": "white"
                      },
                      "zaxis": {
                        "backgroundcolor": "#E5ECF6",
                        "gridcolor": "white",
                        "gridwidth": 2,
                        "linecolor": "white",
                        "showbackground": true,
                        "ticks": "",
                        "zerolinecolor": "white"
                      }
                    },
                    "shapedefaults": {
                      "line": {
                        "color": "#2a3f5f"
                      }
                    },
                    "ternary": {
                      "aaxis": {
                        "gridcolor": "white",
                        "linecolor": "white",
                        "ticks": ""
                      },
                      "baxis": {
                        "gridcolor": "white",
                        "linecolor": "white",
                        "ticks": ""
                      },
                      "bgcolor": "#E5ECF6",
                      "caxis": {
                        "gridcolor": "white",
                        "linecolor": "white",
                        "ticks": ""
                      }
                    },
                    "title": {
                      "x": 0.05
                    },
                    "xaxis": {
                      "automargin": true,
                      "gridcolor": "white",
                      "linecolor": "white",
                      "ticks": "",
                      "title": {
                        "standoff": 15
                      },
                      "zerolinecolor": "white",
                      "zerolinewidth": 2
                    },
                    "yaxis": {
                      "automargin": true,
                      "gridcolor": "white",
                      "linecolor": "white",
                      "ticks": "",
                      "title": {
                        "standoff": 15
                      },
                      "zerolinecolor": "white",
                      "zerolinewidth": 2
                    }
                  }
                }
              }
            }
          },
          "metadata": {},
          "output_type": "display_data"
        }
      ],
      "source": [
        "fig_parks_area = go.Figure(go.Scattermapbox(\n",
        "    lat=lat_parks,\n",
        "    lon=lon_parks,\n",
        "    mode='markers',\n",
        "    marker=go.scattermapbox.Marker(\n",
        "        size=area_parks,\n",
        "        sizemode='area',\n",
        "        sizeref=sizeref,\n",
        "        sizemin=4,\n",
        "        color='royalblue',\n",
        "        opacity=0.6\n",
        "    ),\n",
        "    text=text\n",
        "))\n",
        "\n",
        "fig_parks_area.update_layout(\n",
        "    mapbox=dict(\n",
        "        style='open-street-map',\n",
        "        center=dict(lat=37.5665, lon=126.9780),  # Center on Seoul\n",
        "        zoom=11,  # Adjust for Seoul city level\n",
        "\n",
        "    ),\n",
        "    margin={\"r\":0,\"t\":0,\"l\":0,\"b\":0}\n",
        ")\n",
        "\n",
        "fig_parks_area.show()\n"
      ]
    },
    {
      "cell_type": "code",
      "execution_count": 11,
      "metadata": {
        "colab": {
          "base_uri": "https://localhost:8080/",
          "height": 542
        },
        "collapsed": true,
        "id": "I2kj_0uomSaS",
        "outputId": "f99c3cf0-76a4-4def-8db5-031d57092d25"
      },
      "outputs": [
        {
          "name": "stderr",
          "output_type": "stream",
          "text": [
            "/var/folders/pf/y0k140gn11d95ybm0dgtk6m80000gn/T/ipykernel_46491/4287189804.py:1: DeprecationWarning:\n",
            "\n",
            "*scatter_mapbox* is deprecated! Use *scatter_map* instead. Learn more at: https://plotly.com/python/mapbox-to-maplibre/\n",
            "\n"
          ]
        },
        {
          "data": {
            "application/vnd.plotly.v1+json": {
              "config": {
                "plotlyServerURL": "https://plot.ly"
              },
              "data": [
                {
                  "hovertemplate": "총주차면=%{marker.size}<br>위도=%{lat}<br>경도=%{lon}<extra></extra>",
                  "lat": {
                    "bdata": "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",
                    "dtype": "f8"
                  },
                  "legendgroup": "",
                  "lon": {
                    "bdata": "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",
                    "dtype": "f8"
                  },
                  "marker": {
                    "color": "#636efa",
                    "size": {
                      "bdata": "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",
                      "dtype": "f8"
                    },
                    "sizemode": "area",
                    "sizeref": 3.5775
                  },
                  "mode": "markers",
                  "name": "",
                  "showlegend": false,
                  "subplot": "mapbox",
                  "type": "scattermapbox"
                }
              ],
              "layout": {
                "legend": {
                  "itemsizing": "constant",
                  "tracegroupgap": 0
                },
                "mapbox": {
                  "center": {
                    "lat": 37.53494933846797,
                    "lon": 126.98020965798807
                  },
                  "domain": {
                    "x": [
                      0,
                      1
                    ],
                    "y": [
                      0,
                      1
                    ]
                  },
                  "style": "open-street-map",
                  "zoom": 11
                },
                "margin": {
                  "t": 60
                },
                "template": {
                  "data": {
                    "bar": [
                      {
                        "error_x": {
                          "color": "#2a3f5f"
                        },
                        "error_y": {
                          "color": "#2a3f5f"
                        },
                        "marker": {
                          "line": {
                            "color": "#E5ECF6",
                            "width": 0.5
                          },
                          "pattern": {
                            "fillmode": "overlay",
                            "size": 10,
                            "solidity": 0.2
                          }
                        },
                        "type": "bar"
                      }
                    ],
                    "barpolar": [
                      {
                        "marker": {
                          "line": {
                            "color": "#E5ECF6",
                            "width": 0.5
                          },
                          "pattern": {
                            "fillmode": "overlay",
                            "size": 10,
                            "solidity": 0.2
                          }
                        },
                        "type": "barpolar"
                      }
                    ],
                    "carpet": [
                      {
                        "aaxis": {
                          "endlinecolor": "#2a3f5f",
                          "gridcolor": "white",
                          "linecolor": "white",
                          "minorgridcolor": "white",
                          "startlinecolor": "#2a3f5f"
                        },
                        "baxis": {
                          "endlinecolor": "#2a3f5f",
                          "gridcolor": "white",
                          "linecolor": "white",
                          "minorgridcolor": "white",
                          "startlinecolor": "#2a3f5f"
                        },
                        "type": "carpet"
                      }
                    ],
                    "choropleth": [
                      {
                        "colorbar": {
                          "outlinewidth": 0,
                          "ticks": ""
                        },
                        "type": "choropleth"
                      }
                    ],
                    "contour": [
                      {
                        "colorbar": {
                          "outlinewidth": 0,
                          "ticks": ""
                        },
                        "colorscale": [
                          [
                            0,
                            "#0d0887"
                          ],
                          [
                            0.1111111111111111,
                            "#46039f"
                          ],
                          [
                            0.2222222222222222,
                            "#7201a8"
                          ],
                          [
                            0.3333333333333333,
                            "#9c179e"
                          ],
                          [
                            0.4444444444444444,
                            "#bd3786"
                          ],
                          [
                            0.5555555555555556,
                            "#d8576b"
                          ],
                          [
                            0.6666666666666666,
                            "#ed7953"
                          ],
                          [
                            0.7777777777777778,
                            "#fb9f3a"
                          ],
                          [
                            0.8888888888888888,
                            "#fdca26"
                          ],
                          [
                            1,
                            "#f0f921"
                          ]
                        ],
                        "type": "contour"
                      }
                    ],
                    "contourcarpet": [
                      {
                        "colorbar": {
                          "outlinewidth": 0,
                          "ticks": ""
                        },
                        "type": "contourcarpet"
                      }
                    ],
                    "heatmap": [
                      {
                        "colorbar": {
                          "outlinewidth": 0,
                          "ticks": ""
                        },
                        "colorscale": [
                          [
                            0,
                            "#0d0887"
                          ],
                          [
                            0.1111111111111111,
                            "#46039f"
                          ],
                          [
                            0.2222222222222222,
                            "#7201a8"
                          ],
                          [
                            0.3333333333333333,
                            "#9c179e"
                          ],
                          [
                            0.4444444444444444,
                            "#bd3786"
                          ],
                          [
                            0.5555555555555556,
                            "#d8576b"
                          ],
                          [
                            0.6666666666666666,
                            "#ed7953"
                          ],
                          [
                            0.7777777777777778,
                            "#fb9f3a"
                          ],
                          [
                            0.8888888888888888,
                            "#fdca26"
                          ],
                          [
                            1,
                            "#f0f921"
                          ]
                        ],
                        "type": "heatmap"
                      }
                    ],
                    "histogram": [
                      {
                        "marker": {
                          "pattern": {
                            "fillmode": "overlay",
                            "size": 10,
                            "solidity": 0.2
                          }
                        },
                        "type": "histogram"
                      }
                    ],
                    "histogram2d": [
                      {
                        "colorbar": {
                          "outlinewidth": 0,
                          "ticks": ""
                        },
                        "colorscale": [
                          [
                            0,
                            "#0d0887"
                          ],
                          [
                            0.1111111111111111,
                            "#46039f"
                          ],
                          [
                            0.2222222222222222,
                            "#7201a8"
                          ],
                          [
                            0.3333333333333333,
                            "#9c179e"
                          ],
                          [
                            0.4444444444444444,
                            "#bd3786"
                          ],
                          [
                            0.5555555555555556,
                            "#d8576b"
                          ],
                          [
                            0.6666666666666666,
                            "#ed7953"
                          ],
                          [
                            0.7777777777777778,
                            "#fb9f3a"
                          ],
                          [
                            0.8888888888888888,
                            "#fdca26"
                          ],
                          [
                            1,
                            "#f0f921"
                          ]
                        ],
                        "type": "histogram2d"
                      }
                    ],
                    "histogram2dcontour": [
                      {
                        "colorbar": {
                          "outlinewidth": 0,
                          "ticks": ""
                        },
                        "colorscale": [
                          [
                            0,
                            "#0d0887"
                          ],
                          [
                            0.1111111111111111,
                            "#46039f"
                          ],
                          [
                            0.2222222222222222,
                            "#7201a8"
                          ],
                          [
                            0.3333333333333333,
                            "#9c179e"
                          ],
                          [
                            0.4444444444444444,
                            "#bd3786"
                          ],
                          [
                            0.5555555555555556,
                            "#d8576b"
                          ],
                          [
                            0.6666666666666666,
                            "#ed7953"
                          ],
                          [
                            0.7777777777777778,
                            "#fb9f3a"
                          ],
                          [
                            0.8888888888888888,
                            "#fdca26"
                          ],
                          [
                            1,
                            "#f0f921"
                          ]
                        ],
                        "type": "histogram2dcontour"
                      }
                    ],
                    "mesh3d": [
                      {
                        "colorbar": {
                          "outlinewidth": 0,
                          "ticks": ""
                        },
                        "type": "mesh3d"
                      }
                    ],
                    "parcoords": [
                      {
                        "line": {
                          "colorbar": {
                            "outlinewidth": 0,
                            "ticks": ""
                          }
                        },
                        "type": "parcoords"
                      }
                    ],
                    "pie": [
                      {
                        "automargin": true,
                        "type": "pie"
                      }
                    ],
                    "scatter": [
                      {
                        "fillpattern": {
                          "fillmode": "overlay",
                          "size": 10,
                          "solidity": 0.2
                        },
                        "type": "scatter"
                      }
                    ],
                    "scatter3d": [
                      {
                        "line": {
                          "colorbar": {
                            "outlinewidth": 0,
                            "ticks": ""
                          }
                        },
                        "marker": {
                          "colorbar": {
                            "outlinewidth": 0,
                            "ticks": ""
                          }
                        },
                        "type": "scatter3d"
                      }
                    ],
                    "scattercarpet": [
                      {
                        "marker": {
                          "colorbar": {
                            "outlinewidth": 0,
                            "ticks": ""
                          }
                        },
                        "type": "scattercarpet"
                      }
                    ],
                    "scattergeo": [
                      {
                        "marker": {
                          "colorbar": {
                            "outlinewidth": 0,
                            "ticks": ""
                          }
                        },
                        "type": "scattergeo"
                      }
                    ],
                    "scattergl": [
                      {
                        "marker": {
                          "colorbar": {
                            "outlinewidth": 0,
                            "ticks": ""
                          }
                        },
                        "type": "scattergl"
                      }
                    ],
                    "scattermap": [
                      {
                        "marker": {
                          "colorbar": {
                            "outlinewidth": 0,
                            "ticks": ""
                          }
                        },
                        "type": "scattermap"
                      }
                    ],
                    "scattermapbox": [
                      {
                        "marker": {
                          "colorbar": {
                            "outlinewidth": 0,
                            "ticks": ""
                          }
                        },
                        "type": "scattermapbox"
                      }
                    ],
                    "scatterpolar": [
                      {
                        "marker": {
                          "colorbar": {
                            "outlinewidth": 0,
                            "ticks": ""
                          }
                        },
                        "type": "scatterpolar"
                      }
                    ],
                    "scatterpolargl": [
                      {
                        "marker": {
                          "colorbar": {
                            "outlinewidth": 0,
                            "ticks": ""
                          }
                        },
                        "type": "scatterpolargl"
                      }
                    ],
                    "scatterternary": [
                      {
                        "marker": {
                          "colorbar": {
                            "outlinewidth": 0,
                            "ticks": ""
                          }
                        },
                        "type": "scatterternary"
                      }
                    ],
                    "surface": [
                      {
                        "colorbar": {
                          "outlinewidth": 0,
                          "ticks": ""
                        },
                        "colorscale": [
                          [
                            0,
                            "#0d0887"
                          ],
                          [
                            0.1111111111111111,
                            "#46039f"
                          ],
                          [
                            0.2222222222222222,
                            "#7201a8"
                          ],
                          [
                            0.3333333333333333,
                            "#9c179e"
                          ],
                          [
                            0.4444444444444444,
                            "#bd3786"
                          ],
                          [
                            0.5555555555555556,
                            "#d8576b"
                          ],
                          [
                            0.6666666666666666,
                            "#ed7953"
                          ],
                          [
                            0.7777777777777778,
                            "#fb9f3a"
                          ],
                          [
                            0.8888888888888888,
                            "#fdca26"
                          ],
                          [
                            1,
                            "#f0f921"
                          ]
                        ],
                        "type": "surface"
                      }
                    ],
                    "table": [
                      {
                        "cells": {
                          "fill": {
                            "color": "#EBF0F8"
                          },
                          "line": {
                            "color": "white"
                          }
                        },
                        "header": {
                          "fill": {
                            "color": "#C8D4E3"
                          },
                          "line": {
                            "color": "white"
                          }
                        },
                        "type": "table"
                      }
                    ]
                  },
                  "layout": {
                    "annotationdefaults": {
                      "arrowcolor": "#2a3f5f",
                      "arrowhead": 0,
                      "arrowwidth": 1
                    },
                    "autotypenumbers": "strict",
                    "coloraxis": {
                      "colorbar": {
                        "outlinewidth": 0,
                        "ticks": ""
                      }
                    },
                    "colorscale": {
                      "diverging": [
                        [
                          0,
                          "#8e0152"
                        ],
                        [
                          0.1,
                          "#c51b7d"
                        ],
                        [
                          0.2,
                          "#de77ae"
                        ],
                        [
                          0.3,
                          "#f1b6da"
                        ],
                        [
                          0.4,
                          "#fde0ef"
                        ],
                        [
                          0.5,
                          "#f7f7f7"
                        ],
                        [
                          0.6,
                          "#e6f5d0"
                        ],
                        [
                          0.7,
                          "#b8e186"
                        ],
                        [
                          0.8,
                          "#7fbc41"
                        ],
                        [
                          0.9,
                          "#4d9221"
                        ],
                        [
                          1,
                          "#276419"
                        ]
                      ],
                      "sequential": [
                        [
                          0,
                          "#0d0887"
                        ],
                        [
                          0.1111111111111111,
                          "#46039f"
                        ],
                        [
                          0.2222222222222222,
                          "#7201a8"
                        ],
                        [
                          0.3333333333333333,
                          "#9c179e"
                        ],
                        [
                          0.4444444444444444,
                          "#bd3786"
                        ],
                        [
                          0.5555555555555556,
                          "#d8576b"
                        ],
                        [
                          0.6666666666666666,
                          "#ed7953"
                        ],
                        [
                          0.7777777777777778,
                          "#fb9f3a"
                        ],
                        [
                          0.8888888888888888,
                          "#fdca26"
                        ],
                        [
                          1,
                          "#f0f921"
                        ]
                      ],
                      "sequentialminus": [
                        [
                          0,
                          "#0d0887"
                        ],
                        [
                          0.1111111111111111,
                          "#46039f"
                        ],
                        [
                          0.2222222222222222,
                          "#7201a8"
                        ],
                        [
                          0.3333333333333333,
                          "#9c179e"
                        ],
                        [
                          0.4444444444444444,
                          "#bd3786"
                        ],
                        [
                          0.5555555555555556,
                          "#d8576b"
                        ],
                        [
                          0.6666666666666666,
                          "#ed7953"
                        ],
                        [
                          0.7777777777777778,
                          "#fb9f3a"
                        ],
                        [
                          0.8888888888888888,
                          "#fdca26"
                        ],
                        [
                          1,
                          "#f0f921"
                        ]
                      ]
                    },
                    "colorway": [
                      "#636efa",
                      "#EF553B",
                      "#00cc96",
                      "#ab63fa",
                      "#FFA15A",
                      "#19d3f3",
                      "#FF6692",
                      "#B6E880",
                      "#FF97FF",
                      "#FECB52"
                    ],
                    "font": {
                      "color": "#2a3f5f"
                    },
                    "geo": {
                      "bgcolor": "white",
                      "lakecolor": "white",
                      "landcolor": "#E5ECF6",
                      "showlakes": true,
                      "showland": true,
                      "subunitcolor": "white"
                    },
                    "hoverlabel": {
                      "align": "left"
                    },
                    "hovermode": "closest",
                    "mapbox": {
                      "style": "light"
                    },
                    "paper_bgcolor": "white",
                    "plot_bgcolor": "#E5ECF6",
                    "polar": {
                      "angularaxis": {
                        "gridcolor": "white",
                        "linecolor": "white",
                        "ticks": ""
                      },
                      "bgcolor": "#E5ECF6",
                      "radialaxis": {
                        "gridcolor": "white",
                        "linecolor": "white",
                        "ticks": ""
                      }
                    },
                    "scene": {
                      "xaxis": {
                        "backgroundcolor": "#E5ECF6",
                        "gridcolor": "white",
                        "gridwidth": 2,
                        "linecolor": "white",
                        "showbackground": true,
                        "ticks": "",
                        "zerolinecolor": "white"
                      },
                      "yaxis": {
                        "backgroundcolor": "#E5ECF6",
                        "gridcolor": "white",
                        "gridwidth": 2,
                        "linecolor": "white",
                        "showbackground": true,
                        "ticks": "",
                        "zerolinecolor": "white"
                      },
                      "zaxis": {
                        "backgroundcolor": "#E5ECF6",
                        "gridcolor": "white",
                        "gridwidth": 2,
                        "linecolor": "white",
                        "showbackground": true,
                        "ticks": "",
                        "zerolinecolor": "white"
                      }
                    },
                    "shapedefaults": {
                      "line": {
                        "color": "#2a3f5f"
                      }
                    },
                    "ternary": {
                      "aaxis": {
                        "gridcolor": "white",
                        "linecolor": "white",
                        "ticks": ""
                      },
                      "baxis": {
                        "gridcolor": "white",
                        "linecolor": "white",
                        "ticks": ""
                      },
                      "bgcolor": "#E5ECF6",
                      "caxis": {
                        "gridcolor": "white",
                        "linecolor": "white",
                        "ticks": ""
                      }
                    },
                    "title": {
                      "x": 0.05
                    },
                    "xaxis": {
                      "automargin": true,
                      "gridcolor": "white",
                      "linecolor": "white",
                      "ticks": "",
                      "title": {
                        "standoff": 15
                      },
                      "zerolinecolor": "white",
                      "zerolinewidth": 2
                    },
                    "yaxis": {
                      "automargin": true,
                      "gridcolor": "white",
                      "linecolor": "white",
                      "ticks": "",
                      "title": {
                        "standoff": 15
                      },
                      "zerolinecolor": "white",
                      "zerolinewidth": 2
                    }
                  }
                }
              }
            }
          },
          "metadata": {},
          "output_type": "display_data"
        }
      ],
      "source": [
        "fig = px.scatter_mapbox(parks, lat = '위도', lon = '경도', size = '총주차면',\n",
        "                        zoom = 11, mapbox_style = 'open-street-map')\n",
        "\n",
        "fig.show()"
      ]
    },
    {
      "cell_type": "code",
      "execution_count": null,
      "metadata": {},
      "outputs": [],
      "source": []
    },
    {
      "cell_type": "code",
      "execution_count": 12,
      "metadata": {
        "colab": {
          "base_uri": "https://localhost:8080/",
          "height": 542
        },
        "id": "jpHtig4ZrSze",
        "outputId": "d53616f7-e2fc-4a6f-bf94-cd36d0f5106a"
      },
      "outputs": [
        {
          "name": "stderr",
          "output_type": "stream",
          "text": [
            "/var/folders/pf/y0k140gn11d95ybm0dgtk6m80000gn/T/ipykernel_46491/1385177986.py:1: DeprecationWarning:\n",
            "\n",
            "*scatter_mapbox* is deprecated! Use *scatter_map* instead. Learn more at: https://plotly.com/python/mapbox-to-maplibre/\n",
            "\n"
          ]
        },
        {
          "data": {
            "application/vnd.plotly.v1+json": {
              "config": {
                "plotlyServerURL": "https://plot.ly"
              },
              "data": [
                {
                  "hovertemplate": "총주차면=%{marker.size}<br>위도=%{lat}<br>경도=%{lon}<br>1시간 요금=%{marker.color}<extra></extra>",
                  "lat": {
                    "bdata": "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",
                    "dtype": "f8"
                  },
                  "legendgroup": "",
                  "lon": {
                    "bdata": "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",
                    "dtype": "f8"
                  },
                  "marker": {
                    "color": {
                      "bdata": "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",
                      "dtype": "f8"
                    },
                    "coloraxis": "coloraxis",
                    "size": {
                      "bdata": "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",
                      "dtype": "f8"
                    },
                    "sizemode": "area",
                    "sizeref": 0.5724
                  },
                  "mode": "markers",
                  "name": "",
                  "showlegend": false,
                  "subplot": "mapbox",
                  "type": "scattermapbox"
                }
              ],
              "layout": {
                "coloraxis": {
                  "colorbar": {
                    "title": {
                      "text": "1시간 요금"
                    }
                  },
                  "colorscale": [
                    [
                      0,
                      "#0d0887"
                    ],
                    [
                      0.1111111111111111,
                      "#46039f"
                    ],
                    [
                      0.2222222222222222,
                      "#7201a8"
                    ],
                    [
                      0.3333333333333333,
                      "#9c179e"
                    ],
                    [
                      0.4444444444444444,
                      "#bd3786"
                    ],
                    [
                      0.5555555555555556,
                      "#d8576b"
                    ],
                    [
                      0.6666666666666666,
                      "#ed7953"
                    ],
                    [
                      0.7777777777777778,
                      "#fb9f3a"
                    ],
                    [
                      0.8888888888888888,
                      "#fdca26"
                    ],
                    [
                      1,
                      "#f0f921"
                    ]
                  ]
                },
                "legend": {
                  "itemsizing": "constant",
                  "tracegroupgap": 0
                },
                "mapbox": {
                  "center": {
                    "lat": 37.53494933846797,
                    "lon": 126.98020965798807
                  },
                  "domain": {
                    "x": [
                      0,
                      1
                    ],
                    "y": [
                      0,
                      1
                    ]
                  },
                  "style": "open-street-map",
                  "zoom": 11
                },
                "margin": {
                  "t": 60
                },
                "template": {
                  "data": {
                    "bar": [
                      {
                        "error_x": {
                          "color": "#2a3f5f"
                        },
                        "error_y": {
                          "color": "#2a3f5f"
                        },
                        "marker": {
                          "line": {
                            "color": "#E5ECF6",
                            "width": 0.5
                          },
                          "pattern": {
                            "fillmode": "overlay",
                            "size": 10,
                            "solidity": 0.2
                          }
                        },
                        "type": "bar"
                      }
                    ],
                    "barpolar": [
                      {
                        "marker": {
                          "line": {
                            "color": "#E5ECF6",
                            "width": 0.5
                          },
                          "pattern": {
                            "fillmode": "overlay",
                            "size": 10,
                            "solidity": 0.2
                          }
                        },
                        "type": "barpolar"
                      }
                    ],
                    "carpet": [
                      {
                        "aaxis": {
                          "endlinecolor": "#2a3f5f",
                          "gridcolor": "white",
                          "linecolor": "white",
                          "minorgridcolor": "white",
                          "startlinecolor": "#2a3f5f"
                        },
                        "baxis": {
                          "endlinecolor": "#2a3f5f",
                          "gridcolor": "white",
                          "linecolor": "white",
                          "minorgridcolor": "white",
                          "startlinecolor": "#2a3f5f"
                        },
                        "type": "carpet"
                      }
                    ],
                    "choropleth": [
                      {
                        "colorbar": {
                          "outlinewidth": 0,
                          "ticks": ""
                        },
                        "type": "choropleth"
                      }
                    ],
                    "contour": [
                      {
                        "colorbar": {
                          "outlinewidth": 0,
                          "ticks": ""
                        },
                        "colorscale": [
                          [
                            0,
                            "#0d0887"
                          ],
                          [
                            0.1111111111111111,
                            "#46039f"
                          ],
                          [
                            0.2222222222222222,
                            "#7201a8"
                          ],
                          [
                            0.3333333333333333,
                            "#9c179e"
                          ],
                          [
                            0.4444444444444444,
                            "#bd3786"
                          ],
                          [
                            0.5555555555555556,
                            "#d8576b"
                          ],
                          [
                            0.6666666666666666,
                            "#ed7953"
                          ],
                          [
                            0.7777777777777778,
                            "#fb9f3a"
                          ],
                          [
                            0.8888888888888888,
                            "#fdca26"
                          ],
                          [
                            1,
                            "#f0f921"
                          ]
                        ],
                        "type": "contour"
                      }
                    ],
                    "contourcarpet": [
                      {
                        "colorbar": {
                          "outlinewidth": 0,
                          "ticks": ""
                        },
                        "type": "contourcarpet"
                      }
                    ],
                    "heatmap": [
                      {
                        "colorbar": {
                          "outlinewidth": 0,
                          "ticks": ""
                        },
                        "colorscale": [
                          [
                            0,
                            "#0d0887"
                          ],
                          [
                            0.1111111111111111,
                            "#46039f"
                          ],
                          [
                            0.2222222222222222,
                            "#7201a8"
                          ],
                          [
                            0.3333333333333333,
                            "#9c179e"
                          ],
                          [
                            0.4444444444444444,
                            "#bd3786"
                          ],
                          [
                            0.5555555555555556,
                            "#d8576b"
                          ],
                          [
                            0.6666666666666666,
                            "#ed7953"
                          ],
                          [
                            0.7777777777777778,
                            "#fb9f3a"
                          ],
                          [
                            0.8888888888888888,
                            "#fdca26"
                          ],
                          [
                            1,
                            "#f0f921"
                          ]
                        ],
                        "type": "heatmap"
                      }
                    ],
                    "histogram": [
                      {
                        "marker": {
                          "pattern": {
                            "fillmode": "overlay",
                            "size": 10,
                            "solidity": 0.2
                          }
                        },
                        "type": "histogram"
                      }
                    ],
                    "histogram2d": [
                      {
                        "colorbar": {
                          "outlinewidth": 0,
                          "ticks": ""
                        },
                        "colorscale": [
                          [
                            0,
                            "#0d0887"
                          ],
                          [
                            0.1111111111111111,
                            "#46039f"
                          ],
                          [
                            0.2222222222222222,
                            "#7201a8"
                          ],
                          [
                            0.3333333333333333,
                            "#9c179e"
                          ],
                          [
                            0.4444444444444444,
                            "#bd3786"
                          ],
                          [
                            0.5555555555555556,
                            "#d8576b"
                          ],
                          [
                            0.6666666666666666,
                            "#ed7953"
                          ],
                          [
                            0.7777777777777778,
                            "#fb9f3a"
                          ],
                          [
                            0.8888888888888888,
                            "#fdca26"
                          ],
                          [
                            1,
                            "#f0f921"
                          ]
                        ],
                        "type": "histogram2d"
                      }
                    ],
                    "histogram2dcontour": [
                      {
                        "colorbar": {
                          "outlinewidth": 0,
                          "ticks": ""
                        },
                        "colorscale": [
                          [
                            0,
                            "#0d0887"
                          ],
                          [
                            0.1111111111111111,
                            "#46039f"
                          ],
                          [
                            0.2222222222222222,
                            "#7201a8"
                          ],
                          [
                            0.3333333333333333,
                            "#9c179e"
                          ],
                          [
                            0.4444444444444444,
                            "#bd3786"
                          ],
                          [
                            0.5555555555555556,
                            "#d8576b"
                          ],
                          [
                            0.6666666666666666,
                            "#ed7953"
                          ],
                          [
                            0.7777777777777778,
                            "#fb9f3a"
                          ],
                          [
                            0.8888888888888888,
                            "#fdca26"
                          ],
                          [
                            1,
                            "#f0f921"
                          ]
                        ],
                        "type": "histogram2dcontour"
                      }
                    ],
                    "mesh3d": [
                      {
                        "colorbar": {
                          "outlinewidth": 0,
                          "ticks": ""
                        },
                        "type": "mesh3d"
                      }
                    ],
                    "parcoords": [
                      {
                        "line": {
                          "colorbar": {
                            "outlinewidth": 0,
                            "ticks": ""
                          }
                        },
                        "type": "parcoords"
                      }
                    ],
                    "pie": [
                      {
                        "automargin": true,
                        "type": "pie"
                      }
                    ],
                    "scatter": [
                      {
                        "fillpattern": {
                          "fillmode": "overlay",
                          "size": 10,
                          "solidity": 0.2
                        },
                        "type": "scatter"
                      }
                    ],
                    "scatter3d": [
                      {
                        "line": {
                          "colorbar": {
                            "outlinewidth": 0,
                            "ticks": ""
                          }
                        },
                        "marker": {
                          "colorbar": {
                            "outlinewidth": 0,
                            "ticks": ""
                          }
                        },
                        "type": "scatter3d"
                      }
                    ],
                    "scattercarpet": [
                      {
                        "marker": {
                          "colorbar": {
                            "outlinewidth": 0,
                            "ticks": ""
                          }
                        },
                        "type": "scattercarpet"
                      }
                    ],
                    "scattergeo": [
                      {
                        "marker": {
                          "colorbar": {
                            "outlinewidth": 0,
                            "ticks": ""
                          }
                        },
                        "type": "scattergeo"
                      }
                    ],
                    "scattergl": [
                      {
                        "marker": {
                          "colorbar": {
                            "outlinewidth": 0,
                            "ticks": ""
                          }
                        },
                        "type": "scattergl"
                      }
                    ],
                    "scattermap": [
                      {
                        "marker": {
                          "colorbar": {
                            "outlinewidth": 0,
                            "ticks": ""
                          }
                        },
                        "type": "scattermap"
                      }
                    ],
                    "scattermapbox": [
                      {
                        "marker": {
                          "colorbar": {
                            "outlinewidth": 0,
                            "ticks": ""
                          }
                        },
                        "type": "scattermapbox"
                      }
                    ],
                    "scatterpolar": [
                      {
                        "marker": {
                          "colorbar": {
                            "outlinewidth": 0,
                            "ticks": ""
                          }
                        },
                        "type": "scatterpolar"
                      }
                    ],
                    "scatterpolargl": [
                      {
                        "marker": {
                          "colorbar": {
                            "outlinewidth": 0,
                            "ticks": ""
                          }
                        },
                        "type": "scatterpolargl"
                      }
                    ],
                    "scatterternary": [
                      {
                        "marker": {
                          "colorbar": {
                            "outlinewidth": 0,
                            "ticks": ""
                          }
                        },
                        "type": "scatterternary"
                      }
                    ],
                    "surface": [
                      {
                        "colorbar": {
                          "outlinewidth": 0,
                          "ticks": ""
                        },
                        "colorscale": [
                          [
                            0,
                            "#0d0887"
                          ],
                          [
                            0.1111111111111111,
                            "#46039f"
                          ],
                          [
                            0.2222222222222222,
                            "#7201a8"
                          ],
                          [
                            0.3333333333333333,
                            "#9c179e"
                          ],
                          [
                            0.4444444444444444,
                            "#bd3786"
                          ],
                          [
                            0.5555555555555556,
                            "#d8576b"
                          ],
                          [
                            0.6666666666666666,
                            "#ed7953"
                          ],
                          [
                            0.7777777777777778,
                            "#fb9f3a"
                          ],
                          [
                            0.8888888888888888,
                            "#fdca26"
                          ],
                          [
                            1,
                            "#f0f921"
                          ]
                        ],
                        "type": "surface"
                      }
                    ],
                    "table": [
                      {
                        "cells": {
                          "fill": {
                            "color": "#EBF0F8"
                          },
                          "line": {
                            "color": "white"
                          }
                        },
                        "header": {
                          "fill": {
                            "color": "#C8D4E3"
                          },
                          "line": {
                            "color": "white"
                          }
                        },
                        "type": "table"
                      }
                    ]
                  },
                  "layout": {
                    "annotationdefaults": {
                      "arrowcolor": "#2a3f5f",
                      "arrowhead": 0,
                      "arrowwidth": 1
                    },
                    "autotypenumbers": "strict",
                    "coloraxis": {
                      "colorbar": {
                        "outlinewidth": 0,
                        "ticks": ""
                      }
                    },
                    "colorscale": {
                      "diverging": [
                        [
                          0,
                          "#8e0152"
                        ],
                        [
                          0.1,
                          "#c51b7d"
                        ],
                        [
                          0.2,
                          "#de77ae"
                        ],
                        [
                          0.3,
                          "#f1b6da"
                        ],
                        [
                          0.4,
                          "#fde0ef"
                        ],
                        [
                          0.5,
                          "#f7f7f7"
                        ],
                        [
                          0.6,
                          "#e6f5d0"
                        ],
                        [
                          0.7,
                          "#b8e186"
                        ],
                        [
                          0.8,
                          "#7fbc41"
                        ],
                        [
                          0.9,
                          "#4d9221"
                        ],
                        [
                          1,
                          "#276419"
                        ]
                      ],
                      "sequential": [
                        [
                          0,
                          "#0d0887"
                        ],
                        [
                          0.1111111111111111,
                          "#46039f"
                        ],
                        [
                          0.2222222222222222,
                          "#7201a8"
                        ],
                        [
                          0.3333333333333333,
                          "#9c179e"
                        ],
                        [
                          0.4444444444444444,
                          "#bd3786"
                        ],
                        [
                          0.5555555555555556,
                          "#d8576b"
                        ],
                        [
                          0.6666666666666666,
                          "#ed7953"
                        ],
                        [
                          0.7777777777777778,
                          "#fb9f3a"
                        ],
                        [
                          0.8888888888888888,
                          "#fdca26"
                        ],
                        [
                          1,
                          "#f0f921"
                        ]
                      ],
                      "sequentialminus": [
                        [
                          0,
                          "#0d0887"
                        ],
                        [
                          0.1111111111111111,
                          "#46039f"
                        ],
                        [
                          0.2222222222222222,
                          "#7201a8"
                        ],
                        [
                          0.3333333333333333,
                          "#9c179e"
                        ],
                        [
                          0.4444444444444444,
                          "#bd3786"
                        ],
                        [
                          0.5555555555555556,
                          "#d8576b"
                        ],
                        [
                          0.6666666666666666,
                          "#ed7953"
                        ],
                        [
                          0.7777777777777778,
                          "#fb9f3a"
                        ],
                        [
                          0.8888888888888888,
                          "#fdca26"
                        ],
                        [
                          1,
                          "#f0f921"
                        ]
                      ]
                    },
                    "colorway": [
                      "#636efa",
                      "#EF553B",
                      "#00cc96",
                      "#ab63fa",
                      "#FFA15A",
                      "#19d3f3",
                      "#FF6692",
                      "#B6E880",
                      "#FF97FF",
                      "#FECB52"
                    ],
                    "font": {
                      "color": "#2a3f5f"
                    },
                    "geo": {
                      "bgcolor": "white",
                      "lakecolor": "white",
                      "landcolor": "#E5ECF6",
                      "showlakes": true,
                      "showland": true,
                      "subunitcolor": "white"
                    },
                    "hoverlabel": {
                      "align": "left"
                    },
                    "hovermode": "closest",
                    "mapbox": {
                      "style": "light"
                    },
                    "paper_bgcolor": "white",
                    "plot_bgcolor": "#E5ECF6",
                    "polar": {
                      "angularaxis": {
                        "gridcolor": "white",
                        "linecolor": "white",
                        "ticks": ""
                      },
                      "bgcolor": "#E5ECF6",
                      "radialaxis": {
                        "gridcolor": "white",
                        "linecolor": "white",
                        "ticks": ""
                      }
                    },
                    "scene": {
                      "xaxis": {
                        "backgroundcolor": "#E5ECF6",
                        "gridcolor": "white",
                        "gridwidth": 2,
                        "linecolor": "white",
                        "showbackground": true,
                        "ticks": "",
                        "zerolinecolor": "white"
                      },
                      "yaxis": {
                        "backgroundcolor": "#E5ECF6",
                        "gridcolor": "white",
                        "gridwidth": 2,
                        "linecolor": "white",
                        "showbackground": true,
                        "ticks": "",
                        "zerolinecolor": "white"
                      },
                      "zaxis": {
                        "backgroundcolor": "#E5ECF6",
                        "gridcolor": "white",
                        "gridwidth": 2,
                        "linecolor": "white",
                        "showbackground": true,
                        "ticks": "",
                        "zerolinecolor": "white"
                      }
                    },
                    "shapedefaults": {
                      "line": {
                        "color": "#2a3f5f"
                      }
                    },
                    "ternary": {
                      "aaxis": {
                        "gridcolor": "white",
                        "linecolor": "white",
                        "ticks": ""
                      },
                      "baxis": {
                        "gridcolor": "white",
                        "linecolor": "white",
                        "ticks": ""
                      },
                      "bgcolor": "#E5ECF6",
                      "caxis": {
                        "gridcolor": "white",
                        "linecolor": "white",
                        "ticks": ""
                      }
                    },
                    "title": {
                      "x": 0.05
                    },
                    "xaxis": {
                      "automargin": true,
                      "gridcolor": "white",
                      "linecolor": "white",
                      "ticks": "",
                      "title": {
                        "standoff": 15
                      },
                      "zerolinecolor": "white",
                      "zerolinewidth": 2
                    },
                    "yaxis": {
                      "automargin": true,
                      "gridcolor": "white",
                      "linecolor": "white",
                      "ticks": "",
                      "title": {
                        "standoff": 15
                      },
                      "zerolinecolor": "white",
                      "zerolinewidth": 2
                    }
                  }
                }
              }
            }
          },
          "metadata": {},
          "output_type": "display_data"
        }
      ],
      "source": [
        "fig = px.scatter_mapbox(parks, lat = '위도', lon = '경도', size = '총주차면',\n",
        "                        color = '1시간 요금', size_max=50,\n",
        "                        zoom = 11, mapbox_style = 'open-street-map')\n",
        "# fig.write_image(\"static/en/plotly/bubble-map-plotly.png\", width = 500, height = 500)\n",
        "fig.show()"
      ]
    },
    {
      "cell_type": "code",
      "execution_count": 13,
      "metadata": {
        "colab": {
          "base_uri": "https://localhost:8080/",
          "height": 206
        },
        "id": "HNnrDquOstCP",
        "outputId": "22df0e29-632b-4dcc-d236-e9dcad0cb985"
      },
      "outputs": [
        {
          "data": {
            "text/html": [
              "<div>\n",
              "<style scoped>\n",
              "    .dataframe tbody tr th:only-of-type {\n",
              "        vertical-align: middle;\n",
              "    }\n",
              "\n",
              "    .dataframe tbody tr th {\n",
              "        vertical-align: top;\n",
              "    }\n",
              "\n",
              "    .dataframe thead th {\n",
              "        text-align: right;\n",
              "    }\n",
              "</style>\n",
              "<table border=\"1\" class=\"dataframe\">\n",
              "  <thead>\n",
              "    <tr style=\"text-align: right;\">\n",
              "      <th></th>\n",
              "      <th>민원접수일</th>\n",
              "      <th>민원접수시간</th>\n",
              "      <th>주소</th>\n",
              "      <th>경도</th>\n",
              "      <th>위도</th>\n",
              "      <th>요일</th>\n",
              "    </tr>\n",
              "  </thead>\n",
              "  <tbody>\n",
              "    <tr>\n",
              "      <th>0</th>\n",
              "      <td>2021-09-29</td>\n",
              "      <td>19:29:00</td>\n",
              "      <td>서울특별시 강서구 강서로15길 49</td>\n",
              "      <td>126.843247</td>\n",
              "      <td>37.532089</td>\n",
              "      <td>Weekday</td>\n",
              "    </tr>\n",
              "    <tr>\n",
              "      <th>1</th>\n",
              "      <td>2021-09-29</td>\n",
              "      <td>18:48:00</td>\n",
              "      <td>성북구 오패산로19길 34-5</td>\n",
              "      <td>127.033761</td>\n",
              "      <td>37.609537</td>\n",
              "      <td>Weekday</td>\n",
              "    </tr>\n",
              "    <tr>\n",
              "      <th>2</th>\n",
              "      <td>2021-09-29</td>\n",
              "      <td>18:47:00</td>\n",
              "      <td>장위로21다길 59-19 주소지 앞도로 외</td>\n",
              "      <td>127.045741</td>\n",
              "      <td>37.616406</td>\n",
              "      <td>Weekday</td>\n",
              "    </tr>\n",
              "    <tr>\n",
              "      <th>3</th>\n",
              "      <td>2021-09-29</td>\n",
              "      <td>18:47:00</td>\n",
              "      <td>서울특별시 강북구 오패산로30길 13</td>\n",
              "      <td>127.034685</td>\n",
              "      <td>37.613820</td>\n",
              "      <td>Weekday</td>\n",
              "    </tr>\n",
              "    <tr>\n",
              "      <th>4</th>\n",
              "      <td>2021-09-29</td>\n",
              "      <td>18:46:00</td>\n",
              "      <td>서울특별시 강서구 강서로18길 52-5</td>\n",
              "      <td>126.848703</td>\n",
              "      <td>37.534293</td>\n",
              "      <td>Weekday</td>\n",
              "    </tr>\n",
              "  </tbody>\n",
              "</table>\n",
              "</div>"
            ],
            "text/plain": [
              "        민원접수일    민원접수시간                       주소          경도         위도  \\\n",
              "0  2021-09-29  19:29:00      서울특별시 강서구 강서로15길 49  126.843247  37.532089   \n",
              "1  2021-09-29  18:48:00        성북구 오패산로19길 34-5   127.033761  37.609537   \n",
              "2  2021-09-29  18:47:00  장위로21다길 59-19 주소지 앞도로 외  127.045741  37.616406   \n",
              "3  2021-09-29  18:47:00     서울특별시 강북구 오패산로30길 13  127.034685  37.613820   \n",
              "4  2021-09-29  18:46:00    서울특별시 강서구 강서로18길 52-5  126.848703  37.534293   \n",
              "\n",
              "        요일  \n",
              "0  Weekday  \n",
              "1  Weekday  \n",
              "2  Weekday  \n",
              "3  Weekday  \n",
              "4  Weekday  "
            ]
          },
          "execution_count": 13,
          "metadata": {},
          "output_type": "execute_result"
        }
      ],
      "source": [
        "reports.head()"
      ]
    },
    {
      "cell_type": "code",
      "execution_count": 20,
      "metadata": {
        "id": "mXrww2c4r4DJ"
      },
      "outputs": [],
      "source": [
        "lat_reports = reports['위도']\n",
        "lon_reports = reports['경도']\n",
        "date_report = reports['민원접수일']\n",
        "# text = '총주차면'+parks['총주차면'].astype(str)  # Optional: for hover info\n"
      ]
    },
    {
      "cell_type": "code",
      "execution_count": 21,
      "metadata": {
        "id": "kt33sEdUxUqH"
      },
      "outputs": [],
      "source": [
        "geo_df = gpd.read_file(reports_path)\n",
        "\n"
      ]
    },
    {
      "cell_type": "code",
      "execution_count": null,
      "metadata": {
        "id": "q1xVTnfgzIAF"
      },
      "outputs": [],
      "source": []
    }
  ],
  "metadata": {
    "colab": {
      "provenance": []
    },
    "kernelspec": {
      "display_name": ".venv",
      "language": "python",
      "name": "python3"
    },
    "language_info": {
      "codemirror_mode": {
        "name": "ipython",
        "version": 3
      },
      "file_extension": ".py",
      "mimetype": "text/x-python",
      "name": "python",
      "nbconvert_exporter": "python",
      "pygments_lexer": "ipython3",
      "version": "3.13.3"
    }
  },
  "nbformat": 4,
  "nbformat_minor": 0
}

{
  "cells": [
    {
      "cell_type": "code",
      "execution_count": null,
      "metadata": {
        "colab": {
          "base_uri": "https://localhost:8080/"
        },
        "id": "3xJccl3ze4vO",
        "outputId": "c4b793e9-3c52-46e9-ec3a-803001adf1f0"
      },
      "outputs": [
        {
          "name": "stdout",
          "output_type": "stream",
          "text": [
            "Requirement already satisfied: highlight_text in ./.venv/lib/python3.13/site-packages (0.2)\n",
            "Note: you may need to restart the kernel to use updated packages.\n"
          ]
        }
      ],
      "source": [
        "pip install highlight_text geoplot cartopy geodatasets plotly nbformat\n"
      ]
    },
    {
      "cell_type": "code",
      "execution_count": 1,
      "metadata": {
        "id": "jw36lp-WeISL"
      },
      "outputs": [],
      "source": [
        "# data manipulation\n",
        "import numpy as np\n",
        "import pandas as pd\n",
        "import geopandas as gpd\n",
        "import geodatasets\n",
        "\n",
        "# visualization\n",
        "import matplotlib.pyplot as plt\n",
        "from matplotlib import font_manager\n",
        "from matplotlib.font_manager import FontProperties\n",
        "# from highlight_text import fig_text, ax_text\n",
        "from matplotlib.patches import FancyArrowPatch\n",
        "\n",
        "import geoplot\n",
        "import geoplot.crs as gcrs\n",
        "\n",
        "import plotly.graph_objects as go\n",
        "import plotly.express as px\n",
        "\n",
        "import nbformat as nbf\n",
        "import os"
      ]
    },
    {
      "cell_type": "code",
      "execution_count": 9,
      "metadata": {
        "colab": {
          "base_uri": "https://localhost:8080/",
          "height": 206
        },
        "id": "oLjQ0J-qe3LA",
        "outputId": "982b08ed-18a4-400f-d876-82b07dca987a"
      },
      "outputs": [
        {
          "data": {
            "text/html": [
              "<div>\n",
              "<style scoped>\n",
              "    .dataframe tbody tr th:only-of-type {\n",
              "        vertical-align: middle;\n",
              "    }\n",
              "\n",
              "    .dataframe tbody tr th {\n",
              "        vertical-align: top;\n",
              "    }\n",
              "\n",
              "    .dataframe thead th {\n",
              "        text-align: right;\n",
              "    }\n",
              "</style>\n",
              "<table border=\"1\" class=\"dataframe\">\n",
              "  <thead>\n",
              "    <tr style=\"text-align: right;\">\n",
              "      <th></th>\n",
              "      <th>주소</th>\n",
              "      <th>운영구분</th>\n",
              "      <th>총주차면</th>\n",
              "      <th>평일유료</th>\n",
              "      <th>토요일유료</th>\n",
              "      <th>공휴일유료</th>\n",
              "      <th>평일시작</th>\n",
              "      <th>평일종료</th>\n",
              "      <th>토요일시작</th>\n",
              "      <th>토요일종료</th>\n",
              "      <th>공휴일시작</th>\n",
              "      <th>공휴일종료</th>\n",
              "      <th>경도</th>\n",
              "      <th>위도</th>\n",
              "      <th>1시간 요금</th>\n",
              "    </tr>\n",
              "  </thead>\n",
              "  <tbody>\n",
              "    <tr>\n",
              "      <th>0</th>\n",
              "      <td>강남구 개포동 126-2</td>\n",
              "      <td>1</td>\n",
              "      <td>132.0</td>\n",
              "      <td>Y</td>\n",
              "      <td>Y</td>\n",
              "      <td>Y</td>\n",
              "      <td>09:00:00</td>\n",
              "      <td>19:00:00</td>\n",
              "      <td>00:00:00</td>\n",
              "      <td>00:00:00</td>\n",
              "      <td>00:00:00</td>\n",
              "      <td>00:00:00</td>\n",
              "      <td>127.066477</td>\n",
              "      <td>37.477263</td>\n",
              "      <td>2400.0</td>\n",
              "    </tr>\n",
              "    <tr>\n",
              "      <th>1</th>\n",
              "      <td>강남구 개포동 1266-0</td>\n",
              "      <td>1</td>\n",
              "      <td>97.0</td>\n",
              "      <td>Y</td>\n",
              "      <td>N</td>\n",
              "      <td>N</td>\n",
              "      <td>00:00:00</td>\n",
              "      <td>00:00:00</td>\n",
              "      <td>00:00:00</td>\n",
              "      <td>00:00:00</td>\n",
              "      <td>00:00:00</td>\n",
              "      <td>00:00:00</td>\n",
              "      <td>127.048218</td>\n",
              "      <td>37.481496</td>\n",
              "      <td>2400.0</td>\n",
              "    </tr>\n",
              "    <tr>\n",
              "      <th>2</th>\n",
              "      <td>강남구 개포동 13-2</td>\n",
              "      <td>1</td>\n",
              "      <td>168.0</td>\n",
              "      <td>Y</td>\n",
              "      <td>N</td>\n",
              "      <td>N</td>\n",
              "      <td>00:00:00</td>\n",
              "      <td>00:00:00</td>\n",
              "      <td>00:00:00</td>\n",
              "      <td>00:00:00</td>\n",
              "      <td>00:00:00</td>\n",
              "      <td>00:00:00</td>\n",
              "      <td>127.079307</td>\n",
              "      <td>37.494938</td>\n",
              "      <td>1200.0</td>\n",
              "    </tr>\n",
              "    <tr>\n",
              "      <th>3</th>\n",
              "      <td>강남구 개포동 567-23</td>\n",
              "      <td>1</td>\n",
              "      <td>92.0</td>\n",
              "      <td>Y</td>\n",
              "      <td>Y</td>\n",
              "      <td>Y</td>\n",
              "      <td>09:00:00</td>\n",
              "      <td>19:00:00</td>\n",
              "      <td>00:00:00</td>\n",
              "      <td>00:00:00</td>\n",
              "      <td>00:00:00</td>\n",
              "      <td>00:00:00</td>\n",
              "      <td>127.065835</td>\n",
              "      <td>37.477888</td>\n",
              "      <td>2400.0</td>\n",
              "    </tr>\n",
              "    <tr>\n",
              "      <th>4</th>\n",
              "      <td>강남구 논현동 168-0</td>\n",
              "      <td>1</td>\n",
              "      <td>192.0</td>\n",
              "      <td>Y</td>\n",
              "      <td>N</td>\n",
              "      <td>N</td>\n",
              "      <td>00:00:00</td>\n",
              "      <td>00:00:00</td>\n",
              "      <td>00:00:00</td>\n",
              "      <td>00:00:00</td>\n",
              "      <td>00:00:00</td>\n",
              "      <td>00:00:00</td>\n",
              "      <td>127.026290</td>\n",
              "      <td>37.508171</td>\n",
              "      <td>3600.0</td>\n",
              "    </tr>\n",
              "  </tbody>\n",
              "</table>\n",
              "</div>"
            ],
            "text/plain": [
              "               주소  운영구분   총주차면 평일유료 토요일유료 공휴일유료      평일시작      평일종료     토요일시작  \\\n",
              "0   강남구 개포동 126-2     1  132.0    Y     Y     Y  09:00:00  19:00:00  00:00:00   \n",
              "1  강남구 개포동 1266-0     1   97.0    Y     N     N  00:00:00  00:00:00  00:00:00   \n",
              "2    강남구 개포동 13-2     1  168.0    Y     N     N  00:00:00  00:00:00  00:00:00   \n",
              "3  강남구 개포동 567-23     1   92.0    Y     Y     Y  09:00:00  19:00:00  00:00:00   \n",
              "4   강남구 논현동 168-0     1  192.0    Y     N     N  00:00:00  00:00:00  00:00:00   \n",
              "\n",
              "      토요일종료     공휴일시작     공휴일종료          경도         위도  1시간 요금  \n",
              "0  00:00:00  00:00:00  00:00:00  127.066477  37.477263  2400.0  \n",
              "1  00:00:00  00:00:00  00:00:00  127.048218  37.481496  2400.0  \n",
              "2  00:00:00  00:00:00  00:00:00  127.079307  37.494938  1200.0  \n",
              "3  00:00:00  00:00:00  00:00:00  127.065835  37.477888  2400.0  \n",
              "4  00:00:00  00:00:00  00:00:00  127.026290  37.508171  3600.0  "
            ]
          },
          "execution_count": 9,
          "metadata": {},
          "output_type": "execute_result"
        }
      ],
      "source": [
        "parks_path = 'parks.csv'\n",
        "parks = pd.read_csv(parks_path)\n",
        "parks.head()"
      ]
    },
    {
      "cell_type": "code",
      "execution_count": null,
      "metadata": {
        "colab": {
          "base_uri": "https://localhost:8080/",
          "height": 206
        },
        "collapsed": true,
        "id": "5f50yzK1fbvG",
        "outputId": "d336b152-fc29-4c6c-d567-c5b127ec5064"
      },
      "outputs": [
        {
          "data": {
            "text/html": [
              "<div>\n",
              "<style scoped>\n",
              "    .dataframe tbody tr th:only-of-type {\n",
              "        vertical-align: middle;\n",
              "    }\n",
              "\n",
              "    .dataframe tbody tr th {\n",
              "        vertical-align: top;\n",
              "    }\n",
              "\n",
              "    .dataframe thead th {\n",
              "        text-align: right;\n",
              "    }\n",
              "</style>\n",
              "<table border=\"1\" class=\"dataframe\">\n",
              "  <thead>\n",
              "    <tr style=\"text-align: right;\">\n",
              "      <th></th>\n",
              "      <th>민원접수일</th>\n",
              "      <th>민원접수시간</th>\n",
              "      <th>주소</th>\n",
              "      <th>경도</th>\n",
              "      <th>위도</th>\n",
              "      <th>요일</th>\n",
              "    </tr>\n",
              "  </thead>\n",
              "  <tbody>\n",
              "    <tr>\n",
              "      <th>0</th>\n",
              "      <td>2021-09-29</td>\n",
              "      <td>19:29:00</td>\n",
              "      <td>서울특별시 강서구 강서로15길 49</td>\n",
              "      <td>126.843247</td>\n",
              "      <td>37.532089</td>\n",
              "      <td>Weekday</td>\n",
              "    </tr>\n",
              "    <tr>\n",
              "      <th>1</th>\n",
              "      <td>2021-09-29</td>\n",
              "      <td>18:48:00</td>\n",
              "      <td>성북구 오패산로19길 34-5</td>\n",
              "      <td>127.033761</td>\n",
              "      <td>37.609537</td>\n",
              "      <td>Weekday</td>\n",
              "    </tr>\n",
              "    <tr>\n",
              "      <th>2</th>\n",
              "      <td>2021-09-29</td>\n",
              "      <td>18:47:00</td>\n",
              "      <td>장위로21다길 59-19 주소지 앞도로 외</td>\n",
              "      <td>127.045741</td>\n",
              "      <td>37.616406</td>\n",
              "      <td>Weekday</td>\n",
              "    </tr>\n",
              "    <tr>\n",
              "      <th>3</th>\n",
              "      <td>2021-09-29</td>\n",
              "      <td>18:47:00</td>\n",
              "      <td>서울특별시 강북구 오패산로30길 13</td>\n",
              "      <td>127.034685</td>\n",
              "      <td>37.613820</td>\n",
              "      <td>Weekday</td>\n",
              "    </tr>\n",
              "    <tr>\n",
              "      <th>4</th>\n",
              "      <td>2021-09-29</td>\n",
              "      <td>18:46:00</td>\n",
              "      <td>서울특별시 강서구 강서로18길 52-5</td>\n",
              "      <td>126.848703</td>\n",
              "      <td>37.534293</td>\n",
              "      <td>Weekday</td>\n",
              "    </tr>\n",
              "  </tbody>\n",
              "</table>\n",
              "</div>"
            ],
            "text/plain": [
              "        민원접수일    민원접수시간                       주소          경도         위도  \\\n",
              "0  2021-09-29  19:29:00      서울특별시 강서구 강서로15길 49  126.843247  37.532089   \n",
              "1  2021-09-29  18:48:00        성북구 오패산로19길 34-5   127.033761  37.609537   \n",
              "2  2021-09-29  18:47:00  장위로21다길 59-19 주소지 앞도로 외  127.045741  37.616406   \n",
              "3  2021-09-29  18:47:00     서울특별시 강북구 오패산로30길 13  127.034685  37.613820   \n",
              "4  2021-09-29  18:46:00    서울특별시 강서구 강서로18길 52-5  126.848703  37.534293   \n",
              "\n",
              "        요일  \n",
              "0  Weekday  \n",
              "1  Weekday  \n",
              "2  Weekday  \n",
              "3  Weekday  \n",
              "4  Weekday  "
            ]
          },
          "execution_count": 4,
          "metadata": {},
          "output_type": "execute_result"
        }
      ],
      "source": [
        "reports_path = 'reports.csv'\n",
        "reports = pd.read_csv(reports_path)\n",
        "reports.head()"
      ]
    },
    {
      "cell_type": "code",
      "execution_count": 5,
      "metadata": {
        "colab": {
          "base_uri": "https://localhost:8080/"
        },
        "id": "qv8-qYvxffyP",
        "outputId": "f32cc637-5055-4d95-98ba-801d79a06133"
      },
      "outputs": [
        {
          "name": "stdout",
          "output_type": "stream",
          "text": [
            "(1463, 15)\n",
            "(3064538, 6)\n"
          ]
        }
      ],
      "source": [
        "print(parks.shape)\n",
        "print(reports.shape)"
      ]
    },
    {
      "cell_type": "code",
      "execution_count": 10,
      "metadata": {
        "id": "CGLho1r_fi0k"
      },
      "outputs": [],
      "source": [
        "lat_parks = parks['위도']\n",
        "lon_parks = parks['경도']\n",
        "area_parks = parks['총주차면']  # Replace with your actual column name\n",
        "fee_parks = parks['1시간 요금']\n",
        "text = '총주차면'+parks['총주차면'].astype(str)  # Optional: for hover info\n"
      ]
    },
    {
      "cell_type": "code",
      "execution_count": 11,
      "metadata": {
        "id": "OjPAxcogl5g6"
      },
      "outputs": [],
      "source": [
        "sizeref = 2. * max(area_parks) / (40**2)  # 40 is desired max marker size in px\n"
      ]
    },
    {
      "cell_type": "code",
      "execution_count": 8,
      "metadata": {
        "colab": {
          "base_uri": "https://localhost:8080/",
          "height": 458
        },
        "id": "I6M3773CpZFX",
        "outputId": "c0ccd00a-f2d7-4e51-f9a7-9370036e0961"
      },
      "outputs": [
        {
          "data": {
            "text/plain": [
              "0       총주차면132.0\n",
              "1        총주차면97.0\n",
              "2       총주차면168.0\n",
              "3        총주차면92.0\n",
              "4       총주차면192.0\n",
              "          ...    \n",
              "1458     총주차면20.0\n",
              "1459     총주차면56.0\n",
              "1460    총주차면119.0\n",
              "1461    총주차면567.0\n",
              "1462    총주차면107.0\n",
              "Name: 총주차면, Length: 1463, dtype: object"
            ]
          },
          "execution_count": 8,
          "metadata": {},
          "output_type": "execute_result"
        }
      ],
      "source": [
        "text"
      ]
    },
    {
      "cell_type": "code",
      "execution_count": 21,
      "metadata": {},
      "outputs": [
        {
          "data": {
            "application/vnd.plotly.v1+json": {
              "config": {
                "plotlyServerURL": "https://plot.ly"
              },
              "data": [
                {
                  "hovertemplate": "총주차면=%{marker.size}<br>위도=%{lat}<br>경도=%{lon}<br>1시간 요금=%{marker.color}<extra></extra>",
                  "lat": {
                    "bdata": "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",
                    "dtype": "f8"
                  },
                  "legendgroup": "",
                  "lon": {
                    "bdata": "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",
                    "dtype": "f8"
                  },
                  "marker": {
                    "color": {
                      "bdata": "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",
                      "dtype": "f8"
                    },
                    "coloraxis": "coloraxis",
                    "size": {
                      "bdata": "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",
                      "dtype": "f8"
                    },
                    "sizemode": "area",
                    "sizeref": 0.5724
                  },
                  "mode": "markers",
                  "name": "",
                  "showlegend": false,
                  "subplot": "map",
                  "type": "scattermap"
                }
              ],
              "layout": {
                "coloraxis": {
                  "colorbar": {
                    "title": {
                      "text": "1시간 요금"
                    }
                  },
                  "colorscale": [
                    [
                      0,
                      "#0d0887"
                    ],
                    [
                      0.1111111111111111,
                      "#46039f"
                    ],
                    [
                      0.2222222222222222,
                      "#7201a8"
                    ],
                    [
                      0.3333333333333333,
                      "#9c179e"
                    ],
                    [
                      0.4444444444444444,
                      "#bd3786"
                    ],
                    [
                      0.5555555555555556,
                      "#d8576b"
                    ],
                    [
                      0.6666666666666666,
                      "#ed7953"
                    ],
                    [
                      0.7777777777777778,
                      "#fb9f3a"
                    ],
                    [
                      0.8888888888888888,
                      "#fdca26"
                    ],
                    [
                      1,
                      "#f0f921"
                    ]
                  ]
                },
                "legend": {
                  "itemsizing": "constant",
                  "tracegroupgap": 0
                },
                "map": {
                  "center": {
                    "lat": 37.53494933846797,
                    "lon": 126.98020965798807
                  },
                  "domain": {
                    "x": [
                      0,
                      1
                    ],
                    "y": [
                      0,
                      1
                    ]
                  },
                  "style": "open-street-map",
                  "zoom": 11
                },
                "mapbox": {
                  "center": {
                    "lat": 37.53494933846797,
                    "lon": 126.98020965798807
                  },
                  "zoom": 11
                },
                "margin": {
                  "t": 60
                },
                "template": {
                  "data": {
                    "bar": [
                      {
                        "error_x": {
                          "color": "#2a3f5f"
                        },
                        "error_y": {
                          "color": "#2a3f5f"
                        },
                        "marker": {
                          "line": {
                            "color": "#E5ECF6",
                            "width": 0.5
                          },
                          "pattern": {
                            "fillmode": "overlay",
                            "size": 10,
                            "solidity": 0.2
                          }
                        },
                        "type": "bar"
                      }
                    ],
                    "barpolar": [
                      {
                        "marker": {
                          "line": {
                            "color": "#E5ECF6",
                            "width": 0.5
                          },
                          "pattern": {
                            "fillmode": "overlay",
                            "size": 10,
                            "solidity": 0.2
                          }
                        },
                        "type": "barpolar"
                      }
                    ],
                    "carpet": [
                      {
                        "aaxis": {
                          "endlinecolor": "#2a3f5f",
                          "gridcolor": "white",
                          "linecolor": "white",
                          "minorgridcolor": "white",
                          "startlinecolor": "#2a3f5f"
                        },
                        "baxis": {
                          "endlinecolor": "#2a3f5f",
                          "gridcolor": "white",
                          "linecolor": "white",
                          "minorgridcolor": "white",
                          "startlinecolor": "#2a3f5f"
                        },
                        "type": "carpet"
                      }
                    ],
                    "choropleth": [
                      {
                        "colorbar": {
                          "outlinewidth": 0,
                          "ticks": ""
                        },
                        "type": "choropleth"
                      }
                    ],
                    "contour": [
                      {
                        "colorbar": {
                          "outlinewidth": 0,
                          "ticks": ""
                        },
                        "colorscale": [
                          [
                            0,
                            "#0d0887"
                          ],
                          [
                            0.1111111111111111,
                            "#46039f"
                          ],
                          [
                            0.2222222222222222,
                            "#7201a8"
                          ],
                          [
                            0.3333333333333333,
                            "#9c179e"
                          ],
                          [
                            0.4444444444444444,
                            "#bd3786"
                          ],
                          [
                            0.5555555555555556,
                            "#d8576b"
                          ],
                          [
                            0.6666666666666666,
                            "#ed7953"
                          ],
                          [
                            0.7777777777777778,
                            "#fb9f3a"
                          ],
                          [
                            0.8888888888888888,
                            "#fdca26"
                          ],
                          [
                            1,
                            "#f0f921"
                          ]
                        ],
                        "type": "contour"
                      }
                    ],
                    "contourcarpet": [
                      {
                        "colorbar": {
                          "outlinewidth": 0,
                          "ticks": ""
                        },
                        "type": "contourcarpet"
                      }
                    ],
                    "heatmap": [
                      {
                        "colorbar": {
                          "outlinewidth": 0,
                          "ticks": ""
                        },
                        "colorscale": [
                          [
                            0,
                            "#0d0887"
                          ],
                          [
                            0.1111111111111111,
                            "#46039f"
                          ],
                          [
                            0.2222222222222222,
                            "#7201a8"
                          ],
                          [
                            0.3333333333333333,
                            "#9c179e"
                          ],
                          [
                            0.4444444444444444,
                            "#bd3786"
                          ],
                          [
                            0.5555555555555556,
                            "#d8576b"
                          ],
                          [
                            0.6666666666666666,
                            "#ed7953"
                          ],
                          [
                            0.7777777777777778,
                            "#fb9f3a"
                          ],
                          [
                            0.8888888888888888,
                            "#fdca26"
                          ],
                          [
                            1,
                            "#f0f921"
                          ]
                        ],
                        "type": "heatmap"
                      }
                    ],
                    "histogram": [
                      {
                        "marker": {
                          "pattern": {
                            "fillmode": "overlay",
                            "size": 10,
                            "solidity": 0.2
                          }
                        },
                        "type": "histogram"
                      }
                    ],
                    "histogram2d": [
                      {
                        "colorbar": {
                          "outlinewidth": 0,
                          "ticks": ""
                        },
                        "colorscale": [
                          [
                            0,
                            "#0d0887"
                          ],
                          [
                            0.1111111111111111,
                            "#46039f"
                          ],
                          [
                            0.2222222222222222,
                            "#7201a8"
                          ],
                          [
                            0.3333333333333333,
                            "#9c179e"
                          ],
                          [
                            0.4444444444444444,
                            "#bd3786"
                          ],
                          [
                            0.5555555555555556,
                            "#d8576b"
                          ],
                          [
                            0.6666666666666666,
                            "#ed7953"
                          ],
                          [
                            0.7777777777777778,
                            "#fb9f3a"
                          ],
                          [
                            0.8888888888888888,
                            "#fdca26"
                          ],
                          [
                            1,
                            "#f0f921"
                          ]
                        ],
                        "type": "histogram2d"
                      }
                    ],
                    "histogram2dcontour": [
                      {
                        "colorbar": {
                          "outlinewidth": 0,
                          "ticks": ""
                        },
                        "colorscale": [
                          [
                            0,
                            "#0d0887"
                          ],
                          [
                            0.1111111111111111,
                            "#46039f"
                          ],
                          [
                            0.2222222222222222,
                            "#7201a8"
                          ],
                          [
                            0.3333333333333333,
                            "#9c179e"
                          ],
                          [
                            0.4444444444444444,
                            "#bd3786"
                          ],
                          [
                            0.5555555555555556,
                            "#d8576b"
                          ],
                          [
                            0.6666666666666666,
                            "#ed7953"
                          ],
                          [
                            0.7777777777777778,
                            "#fb9f3a"
                          ],
                          [
                            0.8888888888888888,
                            "#fdca26"
                          ],
                          [
                            1,
                            "#f0f921"
                          ]
                        ],
                        "type": "histogram2dcontour"
                      }
                    ],
                    "mesh3d": [
                      {
                        "colorbar": {
                          "outlinewidth": 0,
                          "ticks": ""
                        },
                        "type": "mesh3d"
                      }
                    ],
                    "parcoords": [
                      {
                        "line": {
                          "colorbar": {
                            "outlinewidth": 0,
                            "ticks": ""
                          }
                        },
                        "type": "parcoords"
                      }
                    ],
                    "pie": [
                      {
                        "automargin": true,
                        "type": "pie"
                      }
                    ],
                    "scatter": [
                      {
                        "fillpattern": {
                          "fillmode": "overlay",
                          "size": 10,
                          "solidity": 0.2
                        },
                        "type": "scatter"
                      }
                    ],
                    "scatter3d": [
                      {
                        "line": {
                          "colorbar": {
                            "outlinewidth": 0,
                            "ticks": ""
                          }
                        },
                        "marker": {
                          "colorbar": {
                            "outlinewidth": 0,
                            "ticks": ""
                          }
                        },
                        "type": "scatter3d"
                      }
                    ],
                    "scattercarpet": [
                      {
                        "marker": {
                          "colorbar": {
                            "outlinewidth": 0,
                            "ticks": ""
                          }
                        },
                        "type": "scattercarpet"
                      }
                    ],
                    "scattergeo": [
                      {
                        "marker": {
                          "colorbar": {
                            "outlinewidth": 0,
                            "ticks": ""
                          }
                        },
                        "type": "scattergeo"
                      }
                    ],
                    "scattergl": [
                      {
                        "marker": {
                          "colorbar": {
                            "outlinewidth": 0,
                            "ticks": ""
                          }
                        },
                        "type": "scattergl"
                      }
                    ],
                    "scattermap": [
                      {
                        "marker": {
                          "colorbar": {
                            "outlinewidth": 0,
                            "ticks": ""
                          }
                        },
                        "type": "scattermap"
                      }
                    ],
                    "scattermapbox": [
                      {
                        "marker": {
                          "colorbar": {
                            "outlinewidth": 0,
                            "ticks": ""
                          }
                        },
                        "type": "scattermapbox"
                      }
                    ],
                    "scatterpolar": [
                      {
                        "marker": {
                          "colorbar": {
                            "outlinewidth": 0,
                            "ticks": ""
                          }
                        },
                        "type": "scatterpolar"
                      }
                    ],
                    "scatterpolargl": [
                      {
                        "marker": {
                          "colorbar": {
                            "outlinewidth": 0,
                            "ticks": ""
                          }
                        },
                        "type": "scatterpolargl"
                      }
                    ],
                    "scatterternary": [
                      {
                        "marker": {
                          "colorbar": {
                            "outlinewidth": 0,
                            "ticks": ""
                          }
                        },
                        "type": "scatterternary"
                      }
                    ],
                    "surface": [
                      {
                        "colorbar": {
                          "outlinewidth": 0,
                          "ticks": ""
                        },
                        "colorscale": [
                          [
                            0,
                            "#0d0887"
                          ],
                          [
                            0.1111111111111111,
                            "#46039f"
                          ],
                          [
                            0.2222222222222222,
                            "#7201a8"
                          ],
                          [
                            0.3333333333333333,
                            "#9c179e"
                          ],
                          [
                            0.4444444444444444,
                            "#bd3786"
                          ],
                          [
                            0.5555555555555556,
                            "#d8576b"
                          ],
                          [
                            0.6666666666666666,
                            "#ed7953"
                          ],
                          [
                            0.7777777777777778,
                            "#fb9f3a"
                          ],
                          [
                            0.8888888888888888,
                            "#fdca26"
                          ],
                          [
                            1,
                            "#f0f921"
                          ]
                        ],
                        "type": "surface"
                      }
                    ],
                    "table": [
                      {
                        "cells": {
                          "fill": {
                            "color": "#EBF0F8"
                          },
                          "line": {
                            "color": "white"
                          }
                        },
                        "header": {
                          "fill": {
                            "color": "#C8D4E3"
                          },
                          "line": {
                            "color": "white"
                          }
                        },
                        "type": "table"
                      }
                    ]
                  },
                  "layout": {
                    "annotationdefaults": {
                      "arrowcolor": "#2a3f5f",
                      "arrowhead": 0,
                      "arrowwidth": 1
                    },
                    "autotypenumbers": "strict",
                    "coloraxis": {
                      "colorbar": {
                        "outlinewidth": 0,
                        "ticks": ""
                      }
                    },
                    "colorscale": {
                      "diverging": [
                        [
                          0,
                          "#8e0152"
                        ],
                        [
                          0.1,
                          "#c51b7d"
                        ],
                        [
                          0.2,
                          "#de77ae"
                        ],
                        [
                          0.3,
                          "#f1b6da"
                        ],
                        [
                          0.4,
                          "#fde0ef"
                        ],
                        [
                          0.5,
                          "#f7f7f7"
                        ],
                        [
                          0.6,
                          "#e6f5d0"
                        ],
                        [
                          0.7,
                          "#b8e186"
                        ],
                        [
                          0.8,
                          "#7fbc41"
                        ],
                        [
                          0.9,
                          "#4d9221"
                        ],
                        [
                          1,
                          "#276419"
                        ]
                      ],
                      "sequential": [
                        [
                          0,
                          "#0d0887"
                        ],
                        [
                          0.1111111111111111,
                          "#46039f"
                        ],
                        [
                          0.2222222222222222,
                          "#7201a8"
                        ],
                        [
                          0.3333333333333333,
                          "#9c179e"
                        ],
                        [
                          0.4444444444444444,
                          "#bd3786"
                        ],
                        [
                          0.5555555555555556,
                          "#d8576b"
                        ],
                        [
                          0.6666666666666666,
                          "#ed7953"
                        ],
                        [
                          0.7777777777777778,
                          "#fb9f3a"
                        ],
                        [
                          0.8888888888888888,
                          "#fdca26"
                        ],
                        [
                          1,
                          "#f0f921"
                        ]
                      ],
                      "sequentialminus": [
                        [
                          0,
                          "#0d0887"
                        ],
                        [
                          0.1111111111111111,
                          "#46039f"
                        ],
                        [
                          0.2222222222222222,
                          "#7201a8"
                        ],
                        [
                          0.3333333333333333,
                          "#9c179e"
                        ],
                        [
                          0.4444444444444444,
                          "#bd3786"
                        ],
                        [
                          0.5555555555555556,
                          "#d8576b"
                        ],
                        [
                          0.6666666666666666,
                          "#ed7953"
                        ],
                        [
                          0.7777777777777778,
                          "#fb9f3a"
                        ],
                        [
                          0.8888888888888888,
                          "#fdca26"
                        ],
                        [
                          1,
                          "#f0f921"
                        ]
                      ]
                    },
                    "colorway": [
                      "#636efa",
                      "#EF553B",
                      "#00cc96",
                      "#ab63fa",
                      "#FFA15A",
                      "#19d3f3",
                      "#FF6692",
                      "#B6E880",
                      "#FF97FF",
                      "#FECB52"
                    ],
                    "font": {
                      "color": "#2a3f5f"
                    },
                    "geo": {
                      "bgcolor": "white",
                      "lakecolor": "white",
                      "landcolor": "#E5ECF6",
                      "showlakes": true,
                      "showland": true,
                      "subunitcolor": "white"
                    },
                    "hoverlabel": {
                      "align": "left"
                    },
                    "hovermode": "closest",
                    "mapbox": {
                      "style": "light"
                    },
                    "paper_bgcolor": "white",
                    "plot_bgcolor": "#E5ECF6",
                    "polar": {
                      "angularaxis": {
                        "gridcolor": "white",
                        "linecolor": "white",
                        "ticks": ""
                      },
                      "bgcolor": "#E5ECF6",
                      "radialaxis": {
                        "gridcolor": "white",
                        "linecolor": "white",
                        "ticks": ""
                      }
                    },
                    "scene": {
                      "xaxis": {
                        "backgroundcolor": "#E5ECF6",
                        "gridcolor": "white",
                        "gridwidth": 2,
                        "linecolor": "white",
                        "showbackground": true,
                        "ticks": "",
                        "zerolinecolor": "white"
                      },
                      "yaxis": {
                        "backgroundcolor": "#E5ECF6",
                        "gridcolor": "white",
                        "gridwidth": 2,
                        "linecolor": "white",
                        "showbackground": true,
                        "ticks": "",
                        "zerolinecolor": "white"
                      },
                      "zaxis": {
                        "backgroundcolor": "#E5ECF6",
                        "gridcolor": "white",
                        "gridwidth": 2,
                        "linecolor": "white",
                        "showbackground": true,
                        "ticks": "",
                        "zerolinecolor": "white"
                      }
                    },
                    "shapedefaults": {
                      "line": {
                        "color": "#2a3f5f"
                      }
                    },
                    "ternary": {
                      "aaxis": {
                        "gridcolor": "white",
                        "linecolor": "white",
                        "ticks": ""
                      },
                      "baxis": {
                        "gridcolor": "white",
                        "linecolor": "white",
                        "ticks": ""
                      },
                      "bgcolor": "#E5ECF6",
                      "caxis": {
                        "gridcolor": "white",
                        "linecolor": "white",
                        "ticks": ""
                      }
                    },
                    "title": {
                      "x": 0.05
                    },
                    "xaxis": {
                      "automargin": true,
                      "gridcolor": "white",
                      "linecolor": "white",
                      "ticks": "",
                      "title": {
                        "standoff": 15
                      },
                      "zerolinecolor": "white",
                      "zerolinewidth": 2
                    },
                    "yaxis": {
                      "automargin": true,
                      "gridcolor": "white",
                      "linecolor": "white",
                      "ticks": "",
                      "title": {
                        "standoff": 15
                      },
                      "zerolinecolor": "white",
                      "zerolinewidth": 2
                    }
                  }
                }
              }
            }
          },
          "metadata": {},
          "output_type": "display_data"
        }
      ],
      "source": [
        "import plotly.express as px\n",
        "# parks = px.data.gapminder().query(\"year == 2007\")\n",
        "locations = parks[['위도', '경도']]\n",
        "fig = px.scatter_map(parks, lat = '위도', lon = '경도',\n",
        "                        color=\"1시간 요금\", # which column to use to set the color of markers\n",
        "                        size=\"총주차면\", size_max=50,\n",
        "                        zoom=11,\n",
        "                     )\n",
        "                     \n",
        "fig.update_layout(map_style=\"open-street-map\")\n",
        "\n",
        "fig.show()"
      ]
    },
    {
      "cell_type": "markdown",
      "metadata": {},
      "source": [
        "---"
      ]
    },
    {
      "cell_type": "code",
      "execution_count": 5,
      "metadata": {},
      "outputs": [
        {
          "data": {
            "text/html": [
              "<div>\n",
              "<style scoped>\n",
              "    .dataframe tbody tr th:only-of-type {\n",
              "        vertical-align: middle;\n",
              "    }\n",
              "\n",
              "    .dataframe tbody tr th {\n",
              "        vertical-align: top;\n",
              "    }\n",
              "\n",
              "    .dataframe thead th {\n",
              "        text-align: right;\n",
              "    }\n",
              "</style>\n",
              "<table border=\"1\" class=\"dataframe\">\n",
              "  <thead>\n",
              "    <tr style=\"text-align: right;\">\n",
              "      <th></th>\n",
              "      <th>주소</th>\n",
              "      <th>총주차면</th>\n",
              "      <th>경도</th>\n",
              "      <th>위도</th>\n",
              "      <th>민원 수</th>\n",
              "    </tr>\n",
              "  </thead>\n",
              "  <tbody>\n",
              "    <tr>\n",
              "      <th>0</th>\n",
              "      <td>강남구 개포동 126-2</td>\n",
              "      <td>132.0</td>\n",
              "      <td>127.066477</td>\n",
              "      <td>37.477263</td>\n",
              "      <td>324</td>\n",
              "    </tr>\n",
              "    <tr>\n",
              "      <th>1</th>\n",
              "      <td>강남구 개포동 1266-0</td>\n",
              "      <td>97.0</td>\n",
              "      <td>127.048218</td>\n",
              "      <td>37.481496</td>\n",
              "      <td>5464</td>\n",
              "    </tr>\n",
              "    <tr>\n",
              "      <th>2</th>\n",
              "      <td>강남구 개포동 13-2</td>\n",
              "      <td>168.0</td>\n",
              "      <td>127.079307</td>\n",
              "      <td>37.494938</td>\n",
              "      <td>2859</td>\n",
              "    </tr>\n",
              "    <tr>\n",
              "      <th>3</th>\n",
              "      <td>강남구 개포동 567-23</td>\n",
              "      <td>92.0</td>\n",
              "      <td>127.065835</td>\n",
              "      <td>37.477888</td>\n",
              "      <td>350</td>\n",
              "    </tr>\n",
              "    <tr>\n",
              "      <th>4</th>\n",
              "      <td>강남구 논현동 168-0</td>\n",
              "      <td>192.0</td>\n",
              "      <td>127.026290</td>\n",
              "      <td>37.508171</td>\n",
              "      <td>36734</td>\n",
              "    </tr>\n",
              "  </tbody>\n",
              "</table>\n",
              "</div>"
            ],
            "text/plain": [
              "               주소   총주차면          경도         위도   민원 수\n",
              "0   강남구 개포동 126-2  132.0  127.066477  37.477263    324\n",
              "1  강남구 개포동 1266-0   97.0  127.048218  37.481496   5464\n",
              "2    강남구 개포동 13-2  168.0  127.079307  37.494938   2859\n",
              "3  강남구 개포동 567-23   92.0  127.065835  37.477888    350\n",
              "4   강남구 논현동 168-0  192.0  127.026290  37.508171  36734"
            ]
          },
          "execution_count": 5,
          "metadata": {},
          "output_type": "execute_result"
        }
      ],
      "source": [
        "parks_reports_path = 'parks_complaints.csv'\n",
        "parks_reports = pd.read_csv(parks_reports_path)\n",
        "parks_reports.head()\n"
      ]
    },
    {
      "cell_type": "code",
      "execution_count": 9,
      "metadata": {},
      "outputs": [
        {
          "data": {
            "application/vnd.plotly.v1+json": {
              "config": {
                "plotlyServerURL": "https://plot.ly"
              },
              "data": [
                {
                  "hovertemplate": "총주차면=%{marker.size}<br>위도=%{lat}<br>경도=%{lon}<br>민원 수=%{marker.color}<extra></extra>",
                  "lat": {
                    "bdata": "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",
                    "dtype": "f8"
                  },
                  "legendgroup": "",
                  "lon": {
                    "bdata": "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",
                    "dtype": "f8"
                  },
                  "marker": {
                    "color": {
                      "bdata": "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",
                      "dtype": "i4"
                    },
                    "coloraxis": "coloraxis",
                    "size": {
                      "bdata": "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",
                      "dtype": "f8"
                    },
                    "sizemode": "area",
                    "sizeref": 0.5724
                  },
                  "mode": "markers",
                  "name": "",
                  "showlegend": false,
                  "subplot": "map",
                  "type": "scattermap"
                }
              ],
              "layout": {
                "coloraxis": {
                  "colorbar": {
                    "title": {
                      "text": "민원 수"
                    }
                  },
                  "colorscale": [
                    [
                      0,
                      "#0d0887"
                    ],
                    [
                      0.1111111111111111,
                      "#46039f"
                    ],
                    [
                      0.2222222222222222,
                      "#7201a8"
                    ],
                    [
                      0.3333333333333333,
                      "#9c179e"
                    ],
                    [
                      0.4444444444444444,
                      "#bd3786"
                    ],
                    [
                      0.5555555555555556,
                      "#d8576b"
                    ],
                    [
                      0.6666666666666666,
                      "#ed7953"
                    ],
                    [
                      0.7777777777777778,
                      "#fb9f3a"
                    ],
                    [
                      0.8888888888888888,
                      "#fdca26"
                    ],
                    [
                      1,
                      "#f0f921"
                    ]
                  ]
                },
                "legend": {
                  "itemsizing": "constant",
                  "tracegroupgap": 0
                },
                "map": {
                  "center": {
                    "lat": 37.53494933846797,
                    "lon": 126.98020965798807
                  },
                  "domain": {
                    "x": [
                      0,
                      1
                    ],
                    "y": [
                      0,
                      1
                    ]
                  },
                  "style": "open-street-map",
                  "zoom": 11
                },
                "mapbox": {
                  "center": {
                    "lat": 37.53494933846797,
                    "lon": 126.98020965798807
                  },
                  "zoom": 11
                },
                "margin": {
                  "t": 60
                },
                "template": {
                  "data": {
                    "bar": [
                      {
                        "error_x": {
                          "color": "#2a3f5f"
                        },
                        "error_y": {
                          "color": "#2a3f5f"
                        },
                        "marker": {
                          "line": {
                            "color": "#E5ECF6",
                            "width": 0.5
                          },
                          "pattern": {
                            "fillmode": "overlay",
                            "size": 10,
                            "solidity": 0.2
                          }
                        },
                        "type": "bar"
                      }
                    ],
                    "barpolar": [
                      {
                        "marker": {
                          "line": {
                            "color": "#E5ECF6",
                            "width": 0.5
                          },
                          "pattern": {
                            "fillmode": "overlay",
                            "size": 10,
                            "solidity": 0.2
                          }
                        },
                        "type": "barpolar"
                      }
                    ],
                    "carpet": [
                      {
                        "aaxis": {
                          "endlinecolor": "#2a3f5f",
                          "gridcolor": "white",
                          "linecolor": "white",
                          "minorgridcolor": "white",
                          "startlinecolor": "#2a3f5f"
                        },
                        "baxis": {
                          "endlinecolor": "#2a3f5f",
                          "gridcolor": "white",
                          "linecolor": "white",
                          "minorgridcolor": "white",
                          "startlinecolor": "#2a3f5f"
                        },
                        "type": "carpet"
                      }
                    ],
                    "choropleth": [
                      {
                        "colorbar": {
                          "outlinewidth": 0,
                          "ticks": ""
                        },
                        "type": "choropleth"
                      }
                    ],
                    "contour": [
                      {
                        "colorbar": {
                          "outlinewidth": 0,
                          "ticks": ""
                        },
                        "colorscale": [
                          [
                            0,
                            "#0d0887"
                          ],
                          [
                            0.1111111111111111,
                            "#46039f"
                          ],
                          [
                            0.2222222222222222,
                            "#7201a8"
                          ],
                          [
                            0.3333333333333333,
                            "#9c179e"
                          ],
                          [
                            0.4444444444444444,
                            "#bd3786"
                          ],
                          [
                            0.5555555555555556,
                            "#d8576b"
                          ],
                          [
                            0.6666666666666666,
                            "#ed7953"
                          ],
                          [
                            0.7777777777777778,
                            "#fb9f3a"
                          ],
                          [
                            0.8888888888888888,
                            "#fdca26"
                          ],
                          [
                            1,
                            "#f0f921"
                          ]
                        ],
                        "type": "contour"
                      }
                    ],
                    "contourcarpet": [
                      {
                        "colorbar": {
                          "outlinewidth": 0,
                          "ticks": ""
                        },
                        "type": "contourcarpet"
                      }
                    ],
                    "heatmap": [
                      {
                        "colorbar": {
                          "outlinewidth": 0,
                          "ticks": ""
                        },
                        "colorscale": [
                          [
                            0,
                            "#0d0887"
                          ],
                          [
                            0.1111111111111111,
                            "#46039f"
                          ],
                          [
                            0.2222222222222222,
                            "#7201a8"
                          ],
                          [
                            0.3333333333333333,
                            "#9c179e"
                          ],
                          [
                            0.4444444444444444,
                            "#bd3786"
                          ],
                          [
                            0.5555555555555556,
                            "#d8576b"
                          ],
                          [
                            0.6666666666666666,
                            "#ed7953"
                          ],
                          [
                            0.7777777777777778,
                            "#fb9f3a"
                          ],
                          [
                            0.8888888888888888,
                            "#fdca26"
                          ],
                          [
                            1,
                            "#f0f921"
                          ]
                        ],
                        "type": "heatmap"
                      }
                    ],
                    "histogram": [
                      {
                        "marker": {
                          "pattern": {
                            "fillmode": "overlay",
                            "size": 10,
                            "solidity": 0.2
                          }
                        },
                        "type": "histogram"
                      }
                    ],
                    "histogram2d": [
                      {
                        "colorbar": {
                          "outlinewidth": 0,
                          "ticks": ""
                        },
                        "colorscale": [
                          [
                            0,
                            "#0d0887"
                          ],
                          [
                            0.1111111111111111,
                            "#46039f"
                          ],
                          [
                            0.2222222222222222,
                            "#7201a8"
                          ],
                          [
                            0.3333333333333333,
                            "#9c179e"
                          ],
                          [
                            0.4444444444444444,
                            "#bd3786"
                          ],
                          [
                            0.5555555555555556,
                            "#d8576b"
                          ],
                          [
                            0.6666666666666666,
                            "#ed7953"
                          ],
                          [
                            0.7777777777777778,
                            "#fb9f3a"
                          ],
                          [
                            0.8888888888888888,
                            "#fdca26"
                          ],
                          [
                            1,
                            "#f0f921"
                          ]
                        ],
                        "type": "histogram2d"
                      }
                    ],
                    "histogram2dcontour": [
                      {
                        "colorbar": {
                          "outlinewidth": 0,
                          "ticks": ""
                        },
                        "colorscale": [
                          [
                            0,
                            "#0d0887"
                          ],
                          [
                            0.1111111111111111,
                            "#46039f"
                          ],
                          [
                            0.2222222222222222,
                            "#7201a8"
                          ],
                          [
                            0.3333333333333333,
                            "#9c179e"
                          ],
                          [
                            0.4444444444444444,
                            "#bd3786"
                          ],
                          [
                            0.5555555555555556,
                            "#d8576b"
                          ],
                          [
                            0.6666666666666666,
                            "#ed7953"
                          ],
                          [
                            0.7777777777777778,
                            "#fb9f3a"
                          ],
                          [
                            0.8888888888888888,
                            "#fdca26"
                          ],
                          [
                            1,
                            "#f0f921"
                          ]
                        ],
                        "type": "histogram2dcontour"
                      }
                    ],
                    "mesh3d": [
                      {
                        "colorbar": {
                          "outlinewidth": 0,
                          "ticks": ""
                        },
                        "type": "mesh3d"
                      }
                    ],
                    "parcoords": [
                      {
                        "line": {
                          "colorbar": {
                            "outlinewidth": 0,
                            "ticks": ""
                          }
                        },
                        "type": "parcoords"
                      }
                    ],
                    "pie": [
                      {
                        "automargin": true,
                        "type": "pie"
                      }
                    ],
                    "scatter": [
                      {
                        "fillpattern": {
                          "fillmode": "overlay",
                          "size": 10,
                          "solidity": 0.2
                        },
                        "type": "scatter"
                      }
                    ],
                    "scatter3d": [
                      {
                        "line": {
                          "colorbar": {
                            "outlinewidth": 0,
                            "ticks": ""
                          }
                        },
                        "marker": {
                          "colorbar": {
                            "outlinewidth": 0,
                            "ticks": ""
                          }
                        },
                        "type": "scatter3d"
                      }
                    ],
                    "scattercarpet": [
                      {
                        "marker": {
                          "colorbar": {
                            "outlinewidth": 0,
                            "ticks": ""
                          }
                        },
                        "type": "scattercarpet"
                      }
                    ],
                    "scattergeo": [
                      {
                        "marker": {
                          "colorbar": {
                            "outlinewidth": 0,
                            "ticks": ""
                          }
                        },
                        "type": "scattergeo"
                      }
                    ],
                    "scattergl": [
                      {
                        "marker": {
                          "colorbar": {
                            "outlinewidth": 0,
                            "ticks": ""
                          }
                        },
                        "type": "scattergl"
                      }
                    ],
                    "scattermap": [
                      {
                        "marker": {
                          "colorbar": {
                            "outlinewidth": 0,
                            "ticks": ""
                          }
                        },
                        "type": "scattermap"
                      }
                    ],
                    "scattermapbox": [
                      {
                        "marker": {
                          "colorbar": {
                            "outlinewidth": 0,
                            "ticks": ""
                          }
                        },
                        "type": "scattermapbox"
                      }
                    ],
                    "scatterpolar": [
                      {
                        "marker": {
                          "colorbar": {
                            "outlinewidth": 0,
                            "ticks": ""
                          }
                        },
                        "type": "scatterpolar"
                      }
                    ],
                    "scatterpolargl": [
                      {
                        "marker": {
                          "colorbar": {
                            "outlinewidth": 0,
                            "ticks": ""
                          }
                        },
                        "type": "scatterpolargl"
                      }
                    ],
                    "scatterternary": [
                      {
                        "marker": {
                          "colorbar": {
                            "outlinewidth": 0,
                            "ticks": ""
                          }
                        },
                        "type": "scatterternary"
                      }
                    ],
                    "surface": [
                      {
                        "colorbar": {
                          "outlinewidth": 0,
                          "ticks": ""
                        },
                        "colorscale": [
                          [
                            0,
                            "#0d0887"
                          ],
                          [
                            0.1111111111111111,
                            "#46039f"
                          ],
                          [
                            0.2222222222222222,
                            "#7201a8"
                          ],
                          [
                            0.3333333333333333,
                            "#9c179e"
                          ],
                          [
                            0.4444444444444444,
                            "#bd3786"
                          ],
                          [
                            0.5555555555555556,
                            "#d8576b"
                          ],
                          [
                            0.6666666666666666,
                            "#ed7953"
                          ],
                          [
                            0.7777777777777778,
                            "#fb9f3a"
                          ],
                          [
                            0.8888888888888888,
                            "#fdca26"
                          ],
                          [
                            1,
                            "#f0f921"
                          ]
                        ],
                        "type": "surface"
                      }
                    ],
                    "table": [
                      {
                        "cells": {
                          "fill": {
                            "color": "#EBF0F8"
                          },
                          "line": {
                            "color": "white"
                          }
                        },
                        "header": {
                          "fill": {
                            "color": "#C8D4E3"
                          },
                          "line": {
                            "color": "white"
                          }
                        },
                        "type": "table"
                      }
                    ]
                  },
                  "layout": {
                    "annotationdefaults": {
                      "arrowcolor": "#2a3f5f",
                      "arrowhead": 0,
                      "arrowwidth": 1
                    },
                    "autotypenumbers": "strict",
                    "coloraxis": {
                      "colorbar": {
                        "outlinewidth": 0,
                        "ticks": ""
                      }
                    },
                    "colorscale": {
                      "diverging": [
                        [
                          0,
                          "#8e0152"
                        ],
                        [
                          0.1,
                          "#c51b7d"
                        ],
                        [
                          0.2,
                          "#de77ae"
                        ],
                        [
                          0.3,
                          "#f1b6da"
                        ],
                        [
                          0.4,
                          "#fde0ef"
                        ],
                        [
                          0.5,
                          "#f7f7f7"
                        ],
                        [
                          0.6,
                          "#e6f5d0"
                        ],
                        [
                          0.7,
                          "#b8e186"
                        ],
                        [
                          0.8,
                          "#7fbc41"
                        ],
                        [
                          0.9,
                          "#4d9221"
                        ],
                        [
                          1,
                          "#276419"
                        ]
                      ],
                      "sequential": [
                        [
                          0,
                          "#0d0887"
                        ],
                        [
                          0.1111111111111111,
                          "#46039f"
                        ],
                        [
                          0.2222222222222222,
                          "#7201a8"
                        ],
                        [
                          0.3333333333333333,
                          "#9c179e"
                        ],
                        [
                          0.4444444444444444,
                          "#bd3786"
                        ],
                        [
                          0.5555555555555556,
                          "#d8576b"
                        ],
                        [
                          0.6666666666666666,
                          "#ed7953"
                        ],
                        [
                          0.7777777777777778,
                          "#fb9f3a"
                        ],
                        [
                          0.8888888888888888,
                          "#fdca26"
                        ],
                        [
                          1,
                          "#f0f921"
                        ]
                      ],
                      "sequentialminus": [
                        [
                          0,
                          "#0d0887"
                        ],
                        [
                          0.1111111111111111,
                          "#46039f"
                        ],
                        [
                          0.2222222222222222,
                          "#7201a8"
                        ],
                        [
                          0.3333333333333333,
                          "#9c179e"
                        ],
                        [
                          0.4444444444444444,
                          "#bd3786"
                        ],
                        [
                          0.5555555555555556,
                          "#d8576b"
                        ],
                        [
                          0.6666666666666666,
                          "#ed7953"
                        ],
                        [
                          0.7777777777777778,
                          "#fb9f3a"
                        ],
                        [
                          0.8888888888888888,
                          "#fdca26"
                        ],
                        [
                          1,
                          "#f0f921"
                        ]
                      ]
                    },
                    "colorway": [
                      "#636efa",
                      "#EF553B",
                      "#00cc96",
                      "#ab63fa",
                      "#FFA15A",
                      "#19d3f3",
                      "#FF6692",
                      "#B6E880",
                      "#FF97FF",
                      "#FECB52"
                    ],
                    "font": {
                      "color": "#2a3f5f"
                    },
                    "geo": {
                      "bgcolor": "white",
                      "lakecolor": "white",
                      "landcolor": "#E5ECF6",
                      "showlakes": true,
                      "showland": true,
                      "subunitcolor": "white"
                    },
                    "hoverlabel": {
                      "align": "left"
                    },
                    "hovermode": "closest",
                    "mapbox": {
                      "style": "light"
                    },
                    "paper_bgcolor": "white",
                    "plot_bgcolor": "#E5ECF6",
                    "polar": {
                      "angularaxis": {
                        "gridcolor": "white",
                        "linecolor": "white",
                        "ticks": ""
                      },
                      "bgcolor": "#E5ECF6",
                      "radialaxis": {
                        "gridcolor": "white",
                        "linecolor": "white",
                        "ticks": ""
                      }
                    },
                    "scene": {
                      "xaxis": {
                        "backgroundcolor": "#E5ECF6",
                        "gridcolor": "white",
                        "gridwidth": 2,
                        "linecolor": "white",
                        "showbackground": true,
                        "ticks": "",
                        "zerolinecolor": "white"
                      },
                      "yaxis": {
                        "backgroundcolor": "#E5ECF6",
                        "gridcolor": "white",
                        "gridwidth": 2,
                        "linecolor": "white",
                        "showbackground": true,
                        "ticks": "",
                        "zerolinecolor": "white"
                      },
                      "zaxis": {
                        "backgroundcolor": "#E5ECF6",
                        "gridcolor": "white",
                        "gridwidth": 2,
                        "linecolor": "white",
                        "showbackground": true,
                        "ticks": "",
                        "zerolinecolor": "white"
                      }
                    },
                    "shapedefaults": {
                      "line": {
                        "color": "#2a3f5f"
                      }
                    },
                    "ternary": {
                      "aaxis": {
                        "gridcolor": "white",
                        "linecolor": "white",
                        "ticks": ""
                      },
                      "baxis": {
                        "gridcolor": "white",
                        "linecolor": "white",
                        "ticks": ""
                      },
                      "bgcolor": "#E5ECF6",
                      "caxis": {
                        "gridcolor": "white",
                        "linecolor": "white",
                        "ticks": ""
                      }
                    },
                    "title": {
                      "x": 0.05
                    },
                    "xaxis": {
                      "automargin": true,
                      "gridcolor": "white",
                      "linecolor": "white",
                      "ticks": "",
                      "title": {
                        "standoff": 15
                      },
                      "zerolinecolor": "white",
                      "zerolinewidth": 2
                    },
                    "yaxis": {
                      "automargin": true,
                      "gridcolor": "white",
                      "linecolor": "white",
                      "ticks": "",
                      "title": {
                        "standoff": 15
                      },
                      "zerolinecolor": "white",
                      "zerolinewidth": 2
                    }
                  }
                }
              }
            }
          },
          "metadata": {},
          "output_type": "display_data"
        }
      ],
      "source": [
        "locations = parks_reports[['위도', '경도']]\n",
        "fig = px.scatter_map(parks_reports, lat = '위도', lon = '경도',\n",
        "                        size=\"총주차면\", size_max=50,\n",
        "                        color=\"민원 수\",\n",
        "                        zoom=11,\n",
        "                     )\n",
        "                     \n",
        "fig.update_layout(map_style=\"open-street-map\")\n",
        "\n",
        "fig.show()"
      ]
    },
    {
      "cell_type": "code",
      "execution_count": null,
      "metadata": {},
      "outputs": [
        {
          "data": {
            "application/vnd.plotly.v1+json": {
              "config": {
                "plotlyServerURL": "https://plot.ly"
              },
              "data": [
                {
                  "hovertemplate": "총주차면=%{x}<br>민원 수=%{y}<extra></extra>",
                  "legendgroup": "",
                  "marker": {
                    "color": "#636efa",
                    "symbol": "circle"
                  },
                  "mode": "markers",
                  "name": "",
                  "showlegend": false,
                  "type": "scattergl",
                  "x": {
                    "bdata": "AAAAAACAYEAAAAAAAEBYQAAAAAAAAGVAAAAAAAAAV0AAAAAAAABoQAAAAAAAAAhAAAAAAAAA8D8AAAAAAADwPwAAAAAAAPA/AAAAAAAAFEAAAAAAAADwPwAAAAAAABRAAAAAAAAAaUAAAAAAAAA7QAAAAAAA4GNAAAAAAAAAMEAAAAAAAADwPwAAAAAAgFFAAAAAAAAAFEAAAAAAAIBOQAAAAAAAAFlAAAAAAABAUUAAAAAAACBnQAAAAAAAADpAAAAAAAAAP0AAAAAAAADwPwAAAAAAAABAAAAAAAAA8D8AAAAAAADwPwAAAAAAADFAAAAAAADAUkAAAAAAAADwPwAAAAAAQFtAAAAAAAAA8D8AAAAAAABRQAAAAAAAAPA/AAAAAAAACEAAAAAAAAAUQAAAAAAAADpAAAAAAAAAOkAAAAAAAAA7QAAAAAAAIG5AAAAAAAAA8D8AAAAAAADwPwAAAAAAAPA/AAAAAAAAPEAAAAAAAAA1QAAAAAAAADJAAAAAAABgZ0AAAAAAAOBmQAAAAAAAIGdAAAAAAAAAOkAAAAAAAABlQAAAAAAAAPA/AAAAAAAAKkAAAAAAAIBnQAAAAAAAYGNAAAAAAACATUAAAAAAAIBKQAAAAAAAgEdAAAAAAADAV0AAAAAAAMBZQAAAAAAAADRAAAAAAADAVUAAAAAAAIBFQAAAAAAAABhAAAAAAAAANEAAAAAAAGBnQAAAAAAAIGdAAAAAAABAVkAAAAAAAIBGQAAAAAAAAPA/AAAAAAAAAEAAAAAAAAAAQAAAAAAAAABAAAAAAAAAVEAAAAAAAABUQAAAAAAAAPA/AAAAAADAVkAAAAAAAAAzQAAAAAAAAE9AAAAAAAAAT0AAAAAAAABMQAAAAAAAwFJAAAAAAAAAOEAAAAAAAIBWQAAAAAAAgFZAAAAAAAAA8D8AAAAAAAAAQAAAAAAAAPA/AAAAAABAaUAAAAAAAEBpQAAAAAAAAGlAAAAAAAAA8D8AAAAAAADwPwAAAAAAADtAAAAAAADAWEAAAAAAAAA5QAAAAAAAADBAAAAAAAAA8D8AAAAAAIBNQAAAAAAAADNAAAAAAAAA8D8AAAAAAIBVQAAAAAAAgFtAAAAAAACASkAAAAAAAIBYQAAAAAAAAFlAAAAAAABAWEAAAAAAAAAxQAAAAAAAADFAAAAAAAAA8D8AAAAAAADwPwAAAAAAABRAAAAAAAAAEEAAAAAAAAAgQAAAAAAAAPA/AAAAAADgbEAAAAAAAKBgQAAAAAAAAPA/AAAAAADAU0AAAAAAAADwPwAAAAAA4GNAAAAAAADgZ0AAAAAAAADwPwAAAAAAABBAAAAAAAAACEAAAAAAAAAIQAAAAAAAAABAAAAAAAAA8D8AAAAAAMBlQAAAAAAA4GBAAAAAAAAAKkAAAAAAAIBEQAAAAAAAAFtAAAAAAAAAXUAAAAAAAMBdQAAAAAAAAPA/AAAAAAAA8D8AAAAAAOBjQAAAAAAAgGVAAAAAAAAACEAAAAAAAAA5QAAAAAAAAPA/AAAAAACAQEAAAAAAAADwPwAAAAAAQFNAAAAAAAAA8D8AAAAAAADwPwAAAAAAwFRAAAAAAAAA8D8AAAAAAADwPwAAAAAAkHFAAAAAAAAA8D8AAAAAAADwPwAAAAAAAPA/AAAAAAAAOEAAAAAAAAA4QAAAAAAAAABAAAAAAAAA8D8AAAAAAADwPwAAAAAAAPA/AAAAAAAA8D8AAAAAAADwPwAAAAAAAPA/AAAAAABAZEAAAAAAAAAzQAAAAAAAAPA/AAAAAAAA8D8AAAAAAADwPwAAAAAAAPA/AAAAAAAA8D8AAAAAAAAAQAAAAAAAAPA/AAAAAAAARkAAAAAAAABMQAAAAAAAABxAAAAAAACAUEAAAAAAAEBQQAAAAAAAoG5AAAAAAABgaUAAAAAAAABWQAAAAAAAAPA/AAAAAABAVEAAAAAAAAAQQAAAAAAAQGhAAAAAAAAANEAAAAAAAAA0QAAAAAAAAPA/AAAAAAAA8D8AAAAAAABgQAAAAAAAAPA/AAAAAAAA8D8AAAAAAADwPwAAAAAAAPA/AAAAAAAAFEAAAAAAAAAoQAAAAAAAAPA/AAAAAAAA8D8AAAAAAADwPwAAAAAAAPA/AAAAAAAA8D8AAAAAAADwPwAAAAAAgFBAAAAAAAAA8D8AAAAAAADwPwAAAAAAgFBAAAAAAACAUUAAAAAAAADwPwAAAAAAAPA/AAAAAAAA8D8AAAAAAADwPwAAAAAAAPA/AAAAAAAA8D8AAAAAAADwPwAAAAAAgE9AAAAAAAAAGEAAAAAAAADwPwAAAAAAADFAAAAAAAAA8D8AAAAAAADwPwAAAAAAAPA/AAAAAAAA8D8AAAAAAADwPwAAAAAAAPA/AAAAAAAAMEAAAAAAAABJQAAAAAAAAABAAAAAAAAA8D8AAAAAAADwPwAAAAAAAPA/AAAAAAAA8D8AAAAAAADwPwAAAAAAAPA/AAAAAAAA8D8AAAAAAAA2QAAAAAAAAPA/AAAAAAAAR0AAAAAAAADwPwAAAAAAAPA/AAAAAAAA8D8AAAAAAADwPwAAAAAAADRAAAAAAAAACEAAAAAAAADwPwAAAAAAAPA/AAAAAAAAAEAAAAAAAAAQQAAAAAAAAABAAAAAAAAA8D8AAAAAAADwPwAAAAAAAPA/AAAAAAAA8D8AAAAAAADwPwAAAAAAAPA/AAAAAAAA8D8AAAAAAADwPwAAAAAAAPA/AAAAAAAAFEAAAAAAAADwPwAAAAAAAPA/AAAAAAAA8D8AAAAAAADwPwAAAAAAgElAAAAAAAAA8D8AAAAAAAAUQAAAAAAAAPA/AAAAAAAA8D8AAAAAAAA1QAAAAAAAABBAAAAAAAAA8D8AAAAAAADwPwAAAAAAAPA/AAAAAAAASkAAAAAAAADwPwAAAAAAAPA/AAAAAAAA8D8AAAAAAADwPwAAAAAAAPA/AAAAAACAVEAAAAAAAADwPwAAAAAAAF9AAAAAAAAA8D8AAAAAAADwPwAAAAAAAABAAAAAAAAA8D8AAAAAAAAzQAAAAAAAAPA/AAAAAAAAQ0AAAAAAAADwPwAAAAAAADhAAAAAAAAA8D8AAAAAAAAcQAAAAAAAAAhAAAAAAAAA8D8AAAAAAADwPwAAAAAAAPA/AAAAAAAA8D8AAAAAAADwPwAAAAAAAPA/AAAAAAAA8D8AAAAAAADwPwAAAAAAAPA/AAAAAAAA8D8AAAAAAAAkQAAAAAAAAPA/AAAAAAAA8D8AAAAAAAAYQAAAAAAAAPA/AAAAAAAA8D8AAAAAAADwPwAAAAAAADZAAAAAAAAA8D8AAAAAAADwPwAAAAAAAPA/AAAAAAAA8D8AAAAAAADwPwAAAAAAAD5AAAAAAAAA8D8AAAAAAADwPwAAAAAAAPA/AAAAAAAA8D8AAAAAAIBAQAAAAAAAAPA/AAAAAAAAEEAAAAAAAADwPwAAAAAAAEZAAAAAAAAA8D8AAAAAAAAAQAAAAAAAADNAAAAAAAAAM0AAAAAAAIBBQAAAAAAAAENAAAAAAAAAW0AAAAAAAABbQAAAAAAAAABAAAAAAAAAAEAAAAAAAAAIQAAAAAAAAPA/AAAAAAAAAEAAAAAAAAAIQAAAAAAAAAhAAAAAAAAA8D8AAAAAACBmQAAAAAAAIG9AAAAAAAAA8D8AAAAAAAA9QAAAAAAAAD1AAAAAAAAAQkAAAAAAAIBDQAAAAAAAAAhAAAAAAAAgYUAAAAAAAIBeQAAAAAAA4GJAAAAAAAAgYEAAAAAAAIBDQAAAAAAAQF5AAAAAAABgY0AAAAAAAGBjQAAAAAAAQFRAAAAAAABAVEAAAAAAAAAAQAAAAAAAgEhAAAAAAAAAOUAAAAAAAAA5QAAAAAAAAPA/AAAAAADAUUAAAAAAAADwPwAAAAAAAFRAAAAAAAAAVEAAAAAAAIBUQAAAAAAAgFRAAAAAAAAAGEAAAAAAAABFQAAAAAAAAEVAAAAAAADAUEAAAAAAAMBQQAAAAAAAAE1AAAAAAAAATUAAAAAAAABNQAAAAAAAIGhAAAAAAAAgaEAAAAAAAAAAQAAAAAAAAPA/AAAAAACAXkAAAAAAAADwPwAAAAAAADpAAAAAAAAAOkAAAAAAAABVQAAAAAAAAPA/AAAAAABgZEAAAAAAAGBkQAAAAAAAADRAAAAAAAAA8D8AAAAAAADwPwAAAAAAQFNAAAAAAABAU0AAAAAAAAAAQAAAAAAAgE9AAAAAAACAT0AAAAAAAOBoQAAAAAAA4GhAAAAAAAAAEEAAAAAAAOBhQAAAAAAAAPA/AAAAAAAA8D8AAAAAAAAAQAAAAAAAAPA/AAAAAAAAAEAAAAAAAOBoQAAAAAAA4GhAAAAAAAAAHEAAAAAAAABTQAAAAAAAAPA/AAAAAACAQ0AAAAAAAIBDQAAAAAAAACJAAAAAAAAA8D8AAAAAAAAUQAAAAAAAYGJAAAAAAABgYkAAAAAAAAAAQAAAAAAAADJAAAAAAAAA8D8AAAAAAADwPwAAAAAAAABAAAAAAAAA8D8AAAAAAABNQAAAAAAAAFBAAAAAAAAAUEAAAAAAAAAIQAAAAAAAABhAAAAAAAAANEAAAAAAAAA2QAAAAAAAAEpAAAAAAAAATkAAAAAAAABOQAAAAAAAgEZAAAAAAACARkAAAAAAAIBxQAAAAAAAAPA/AAAAAAAAOEAAAAAAAEBQQAAAAAAAgE9AAAAAAAAA8D8AAAAAAADwPwAAAAAAAPA/AAAAAAAA8D8AAAAAAAAAQAAAAAAAAPA/AAAAAAAA8D8AAAAAAIBiQAAAAAAAAPA/AAAAAAAA8D8AAAAAAADwPwAAAAAAAPA/AAAAAAAA8D8AAAAAAABRQAAAAAAAAFFAAAAAAAAA8D8AAAAAAABPQAAAAAAAAE9AAAAAAAAA8D8AAAAAAADwPwAAAAAAAPA/AAAAAAAA8D8AAAAAAKBhQAAAAAAAAE9AAAAAAAAANUAAAAAAAADwPwAAAAAAAPA/AAAAAAAA8D8AAAAAAADwPwAAAAAAwGpAAAAAAADAakAAAAAAAADwPwAAAAAAAPA/AAAAAAAA8D8AAAAAAADwPwAAAAAAAPA/AAAAAAAA8D8AAAAAAADwPwAAAAAAAABAAAAAAAAA8D8AAAAAAIBNQAAAAAAAgE1AAAAAAAAgaEAAAAAAAIBYQAAAAAAAgFhAAAAAAAAA8D8AAAAAAADwPwAAAAAAAPA/AAAAAAAA8D8AAAAAAADwPwAAAAAAAPA/AAAAAADAW0AAAAAAAEBgQAAAAAAAAPA/AAAAAAAA8D8AAAAAAIBPQAAAAAAAQFpAAAAAAAAAAEAAAAAAAMBSQAAAAAAAAPA/AAAAAAAAAEAAAAAAAADwPwAAAAAAAPA/AAAAAABgZkAAAAAAAMBgQAAAAAAAwGBAAAAAAACAV0AAAAAAAIBFQAAAAAAAgFNAAAAAAAAAHEAAAAAAAMBeQAAAAAAAABBAAAAAAAAAFEAAAAAAAAAAQAAAAAAAAPA/AAAAAAAA8D8AAAAAAEBkQAAAAAAAQGRAAAAAAABAW0AAAAAAAADwPwAAAAAAAElAAAAAAAAASUAAAAAAAAA3QAAAAAAAQFFAAAAAAAAAQEAAAAAAAAA6QAAAAAAAgERAAAAAAADgYUAAAAAAAABIQAAAAAAAAEhAAAAAAADAWkAAAAAAAMBnQAAAAAAAwGdAAAAAAAAAP0AAAAAAAEBeQAAAAAAAgGBAAAAAAABAVkAAAAAAAABOQAAAAAAAABRAAAAAAAAA8D8AAAAAAAAAQAAAAAAAAAhAAAAAAAAAMkAAAAAAAADwPwAAAAAAAPA/AAAAAAAAGEAAAAAAAADwPwAAAAAAAPA/AAAAAAAAMUAAAAAAAADwPwAAAAAAAPA/AAAAAAAA8D8AAAAAAADwPwAAAAAAAPA/AAAAAAAAJEAAAAAAAABLQAAAAAAAAPA/AAAAAAAgYEAAAAAAAEBdQAAAAAAAADFAAAAAAAAAAEAAAAAAAADwPwAAAAAAAPA/AAAAAAAA8D8AAAAAAADwPwAAAAAAAPA/AAAAAAAAAEAAAAAAAAAAQAAAAAAAAPA/AAAAAACAWUAAAAAAAAA5QAAAAAAAAPA/AAAAAAAA8D8AAAAAAADwPwAAAAAAAPA/AAAAAAAA8D8AAAAAAAAIQAAAAAAAAPA/AAAAAAAA8D8AAAAAAADwPwAAAAAAAPA/AAAAAAAgZkAAAAAAAADwPwAAAAAAAPA/AAAAAAAA8D8AAAAAAEBXQAAAAAAAAPA/AAAAAAAAAEAAAAAAAADwPwAAAAAAAPA/AAAAAACAbUAAAAAAAAB2QAAAAAAAAPA/AAAAAAAA8D8AAAAAAADwPwAAAAAAAPA/AAAAAAAA8D8AAAAAAADwPwAAAAAAAPA/AAAAAAAA8D8AAAAAAADwPwAAAAAAAPA/AAAAAAAA8D8AAAAAAADwPwAAAAAAABxAAAAAAAAA8D8AAAAAAADwPwAAAAAAAPA/AAAAAAAA8D8AAAAAAADwPwAAAAAAAPA/AAAAAAAA8D8AAAAAAADwPwAAAAAAAPA/AAAAAAAA8D8AAAAAAAAAQAAAAAAAAPA/AAAAAAAA8D8AAAAAAAAAQAAAAAAAAPA/AAAAAACAaEAAAAAAAADwPwAAAAAAAPA/AAAAAAAA8D8AAAAAAADwPwAAAAAAAPA/AAAAAAAAEEAAAAAAAADwPwAAAAAAAPA/AAAAAAAA8D8AAAAAAADwPwAAAAAAAPA/AAAAAAAA8D8AAAAAAADwPwAAAAAAAPA/AAAAAAAA8D8AAAAAAADwPwAAAAAAAPA/AAAAAAAA8D8AAAAAAAAAQAAAAAAAYGRAAAAAAAAAAEAAAAAAAAAIQAAAAAAAAPA/AAAAAAAA8D8AAAAAAADwPwAAAAAAAPA/AAAAAAAA8D8AAAAAAIBeQAAAAAAAAPA/AAAAAAAA8D8AAAAAAAAiQAAAAAAAAABAAAAAAAAA8D8AAAAAAADwPwAAAAAAAPA/AAAAAAAA8D8AAAAAAAAAQAAAAAAAAABAAAAAAAAACEAAAAAAAADwPwAAAAAAAPA/AAAAAAAA8D8AAAAAAADwPwAAAAAAAPA/AAAAAAAAAEAAAAAAAEBQQAAAAAAAAPA/AAAAAAAAEEAAAAAAAADwPwAAAAAAAPA/AAAAAAAA8D8AAAAAAABQQAAAAAAAAPA/AAAAAAAA8D8AAAAAAADwPwAAAAAAAPA/AAAAAAAAIEAAAAAAAADwPwAAAAAAADNAAAAAAAAAM0AAAAAAAMBiQAAAAAAAABBAAAAAAAAA8D8AAAAAAMBnQAAAAAAAAFlAAAAAAACAXkAAAAAAAAAkQAAAAAAAABxAAAAAAAAAJkAAAAAAAIBQQAAAAAAAgFBAAAAAAAAATEAAAAAAAAAyQAAAAAAAgFhAAAAAAAAANEAAAAAAAAA0QAAAAAAAABhAAAAAAAAAJkAAAAAAAGBiQAAAAAAAAAhAAAAAAAAA8D8AAAAAAKBhQAAAAAAAoGFAAAAAAAAAREAAAAAAAIBHQAAAAAAA4GpAAAAAAACAXEAAAAAAAIBbQAAAAAAAAChAAAAAAABAWUAAAAAAAEBZQAAAAAAAQFlAAAAAAAAA8D8AAAAAAADwPwAAAAAAIHJAAAAAAAAAAEAAAAAAAAAkQAAAAAAAgFZAAAAAAABwd0AAAAAAAAAuQAAAAAAAAE5AAAAAAAAANkAAAAAAAADwPwAAAAAAAC5AAAAAAAAAAEAAAAAAAGBgQAAAAAAAYGBAAAAAAAAAAEAAAAAAAIBoQAAAAAAAACpAAAAAAAAAJkAAAAAAAIBBQAAAAAAAACxAAAAAAACAQUAAAAAAAIBOQAAAAAAAADJAAAAAAABAdEAAAAAAAEB0QAAAAAAAwFRAAAAAAAAAOEAAAAAAAADwPwAAAAAAgEZAAAAAAAAASUAAAAAAAADwPwAAAAAAADRAAAAAAAAANEAAAAAAAAAAQAAAAAAA2IpAAAAAAADYikAAAAAAAADwPwAAAAAAACZAAAAAAAAAIkAAAAAAAAAIQAAAAAAAAPA/AAAAAAAA8D8AAAAAAADwPwAAAAAAAC5AAAAAAAAAMUAAAAAAAAAyQAAAAAAAwFNAAAAAAAAAPkAAAAAAAABLQAAAAAAAAFBAAAAAAAAAOEAAAAAAAAA5QAAAAAAAADRAAAAAAAAA8D8AAAAAAABFQAAAAAAAAEVAAAAAAACAQ0AAAAAAAADwPwAAAAAASIFAAAAAAADwi0AAAAAAAEBnQAAAAAAAQGdAAAAAAAAAN0AAAAAAAIBcQAAAAAAAgE5AAAAAAADAWkAAAAAAAAAiQAAAAAAAgFFAAAAAAAAAQEAAAAAAAIBGQAAAAAAAACBAAAAAAAAAMkAAAAAAAADwPwAAAAAAAEpAAAAAAAAAMkAAAAAAAIBZQAAAAAAAAEBAAAAAAABAV0AAAAAAAABUQAAAAAAAAFRAAAAAAAAANEAAAAAAAAAzQAAAAAAAADdAAAAAAAAAN0AAAAAAAAA3QAAAAAAAAD5AAAAAAAAA8D8AAAAAAIBAQAAAAAAAgEtAAAAAAAAAP0AAAAAAAADwPwAAAAAAwGdAAAAAAADAVkAAAAAAAOBiQAAAAAAAAPA/AAAAAAAA8D8AAAAAAMBYQAAAAAAAAGhAAAAAAAAA8D8AAAAAAGBjQAAAAAAAwGhAAAAAAAAAOkAAAAAAAAAAQAAAAAAAAPA/AAAAAACAREAAAAAAAABKQAAAAAAAAPA/AAAAAAAA8D8AAAAAAADwPwAAAAAAACpAAAAAAAAALkAAAAAAAEBgQAAAAAAAADdAAAAAAAAgYkAAAAAAACBgQAAAAAAAADpAAAAAAAAAAEAAAAAAAADwPwAAAAAAAPA/AAAAAAAA8D8AAAAAADB3QAAAAAAAACBAAAAAAAAA8D8AAAAAAADwPwAAAAAAAPA/AAAAAAAA8D8AAAAAAADwPwAAAAAAAPA/AAAAAAAA8D8AAAAAAADwPwAAAAAAAPA/AAAAAAAA8D8AAAAAAAAIQAAAAAAAAPA/AAAAAAAA8D8AAAAAAADwPwAAAAAAAPA/AAAAAAAA8D8AAAAAAADwPwAAAAAAAFZAAAAAAAAA8D8AAAAAAAAIQAAAAAAAAEFAAAAAAAAAQUAAAAAAAAA3QAAAAAAAAExAAAAAAAAAQkAAAAAAAIBcQAAAAAAAABhAAAAAAAAA8D8AAAAAAMBbQAAAAAAAwFtAAAAAAAAA8D8AAAAAAAAsQAAAAAAAiIFAAAAAAABAaUAAAAAAAIBoQAAAAAAAAEVAAAAAAABAU0AAAAAAAOBhQAAAAAAAAERAAAAAAADAW0AAAAAAAABkQAAAAAAAAFRAAAAAAACARkAAAAAAAIBGQAAAAAAAAABAAAAAAAAAREAAAAAAAABEQAAAAAAAAPA/AAAAAAAASUAAAAAAAIBjQAAAAAAAACBAAAAAAAAAIEAAAAAAAAA2QAAAAAAAACJAAAAAAAAA8D8AAAAAAAA7QAAAAAAAADtAAAAAAADAY0AAAAAAAMBjQAAAAAAAADFAAAAAAAAAWUAAAAAAAADwPwAAAAAAAChAAAAAAACAQkAAAAAAAABHQAAAAAAAgEpAAAAAAAAAFEAAAAAAAIBVQAAAAAAAAD5AAAAAAAAA8D8AAAAAAAAAQAAAAAAAAPA/AAAAAAAASEAAAAAAAAAqQAAAAAAAAC5AAAAAAAAALkAAAAAAAADwPwAAAAAAoGdAAAAAAAAA8D8AAAAAAADwPwAAAAAAAPA/AAAAAACASEAAAAAAAADwPwAAAAAAADBAAAAAAAAACEAAAAAAAADwPwAAAAAAAPA/AAAAAACASUAAAAAAAADwPwAAAAAAADpAAAAAAAAAVUAAAAAAAMBgQAAAAAAAAAhAAAAAAAAA8D8AAAAAAABTQAAAAAAAwFRAAAAAAAAAP0AAAAAAAAA/QAAAAAAAwFNAAAAAAABAV0AAAAAAAABGQAAAAAAAAPA/AAAAAAAANkAAAAAAAMBSQAAAAAAAAPA/AAAAAACAa0AAAAAAAADwPwAAAAAAAPA/AAAAAAAA8D8AAAAAAADwPwAAAAAAABxAAAAAAADAUUAAAAAAAADwPwAAAAAAAPA/AAAAAAAAAEAAAAAAAADwPwAAAAAAgF1AAAAAAAAA8D8AAAAAAAAxQAAAAAAAAPA/AAAAAAAA8D8AAAAAAADwPwAAAAAAAABAAAAAAAAA8D8AAAAAALB+QAAAAAAAAEpAAAAAAADgZUAAAAAAAADwPwAAAAAAAPA/AAAAAADAXUAAAAAAAEBYQAAAAAAA4GhAAAAAAAAA8D8AAAAAAADwPwAAAAAAwFBAAAAAAACAVEAAAAAAAABSQAAAAAAAAPA/AAAAAAAA8D8AAAAAAIBhQAAAAAAAgGFAAAAAAACAVkAAAAAAAAA6QAAAAAAAADVAAAAAAADAVEAAAAAAAADwPwAAAAAAAABAAAAAAAAA8D8AAAAAAAA/QAAAAAAAgFVAAAAAAABAYEAAAAAAAAAQQAAAAAAAAPA/AAAAAAAA8D8AAAAAAADwPwAAAAAAQGhAAAAAAACgYkAAAAAAAABLQAAAAAAAACxAAAAAAAAAHEAAAAAAAAAoQAAAAAAAAAhAAAAAAAAAHEAAAAAAAMBXQAAAAAAAADBAAAAAAAAAQ0AAAAAAAIBmQAAAAAAAgE5AAAAAAADgZ0AAAAAAAMBcQAAAAAAAQFRAAAAAAAAAUEAAAAAAAAA3QAAAAAAA+IFAAAAAAAAANEAAAAAAAABDQAAAAAAAgHVAAAAAAAAAMkAAAAAAAIBOQAAAAAAAAFRAAAAAAACATUAAAAAAAOBuQAAAAAAAADRAAAAAAAAAKEAAAAAAAIBdQAAAAAAAAHBAAAAAAAAgdEAAAAAAAEBnQAAAAAAAwFBAAAAAAAAAJkAAAAAAACBsQAAAAAAAgFZAAAAAAAAAJkAAAAAAAADwPwAAAAAAIGVAAAAAAAAAPUAAAAAAAABbQAAAAAAAQFhAAAAAAACAXEAAAAAAAAA6QAAAAAAAXJZAAAAAAAAAU0AAAAAAAABFQAAAAAAAgEZAAAAAAAAAM0AAAAAAAIBHQAAAAAAAgE9AAAAAAAAAXkAAAAAAAMBQQAAAAAAAADNAAAAAAACAVEAAAAAAAABDQAAAAAAAwFNAAAAAAAAAVEAAAAAAAABMQAAAAAAAMH5AAAAAAABAUEAAAAAAAOBoQAAAAAAAQFFAAAAAAACAUEAAAAAAABB0QAAAAAAAADtAAAAAAADAWEAAAAAAAAA5QAAAAAAAADBAAAAAAACgckAAAAAAAIBNQAAAAAAAACJAAAAAAACAVUAAAAAAAIBbQAAAAAAAgEpAAAAAAACAWEAAAAAAAABZQAAAAAAAQFhAAAAAAABAf0AAAAAAAGBpQAAAAAAAAG9AAAAAAAAACEAAAAAAAAAAQAAAAAAAAPA/AAAAAAAAIEAAAAAAAAAqQAAAAAAAAPA/AAAAAAAAAEAAAAAAAIBOQAAAAAAAAD9AAAAAAAAATkAAAAAAAABGQAAAAAAAwGhAAAAAAADAYEAAAAAAAABMQAAAAAAAgFBAAAAAAAAANEAAAAAAAABWQAAAAAAA4GhAAAAAAABAV0AAAAAAAAAyQAAAAAAAgEFAAAAAAADAVkAAAAAAAMBRQAAAAAAAUHRAAAAAAAAAVUAAAAAAAIBEQAAAAAAAAABAAAAAAAAAPEAAAAAAAEBgQAAAAAAAAExAAAAAAAAAREAAAAAAAIBEQAAAAAAAAGRAAAAAAACAQkAAAAAAAIBDQAAAAAAAAChAAAAAAACAS0AAAAAAAIBCQAAAAAAAABxAAAAAAAAA8D8AAAAAAABIQAAAAAAAAABAAAAAAAAAAEAAAAAAAAAIQAAAAAAAAABAAAAAAAAACEAAAAAAAAAYQAAAAAAAADVAAAAAAAAAN0AAAAAAAAAUQAAAAAAAAAhAAAAAAAAACEAAAAAAAAAIQAAAAAAAACBAAAAAAAAANUAAAAAAAAAUQAAAAAAAADRAAAAAAAAAKkAAAAAAAAAIQAAAAAAAADBAAAAAAAAAGEAAAAAAAAA7QAAAAAAAABBAAAAAAAAAMUAAAAAAAAAUQAAAAAAAADNAAAAAAAAAMEAAAAAAAAAcQAAAAAAAACRAAAAAAAAAAEAAAAAAAABFQAAAAAAAADJAAAAAAAAALkAAAAAAAAAIQAAAAAAAAABAAAAAAAAAAEAAAAAAAAAIQAAAAAAAACpAAAAAAAAAAEAAAAAAAAAAQAAAAAAAADpAAAAAAAAAKEAAAAAAAAAAQAAAAAAAABxAAAAAAAAAMkAAAAAAAADwPwAAAAAAABBAAAAAAAAACEAAAAAAAABgQAAAAAAAQFFAAAAAAAAAJkAAAAAAAAA4QAAAAAAAgFFAAAAAAAAARUAAAAAAAIBEQAAAAAAAAD9AAAAAAABAXkAAAAAAAAAwQAAAAAAA4GBAAAAAAABgdkAAAAAAAAAuQAAAAAAAQFNAAAAAAADAWkAAAAAAAAAuQAAAAAAAwFFAAAAAAACAQEAAAAAAAMBRQAAAAAAAADdAAAAAAACAXkAAAAAAAIBAQAAAAAAAAFVAAAAAAAAAVEAAAAAAAMBRQAAAAAAAwFBAAAAAAAAAOkAAAAAAAABZQAAAAAAAADJAAAAAAACAQkAAAAAAAAA9QAAAAAAAgFNAAAAAAABAVUAAAAAAAAAUQAAAAAAAgEtAAAAAAAAAREAAAAAAAIBLQAAAAAAAAEpAAAAAAACARkAAAAAAAAAUQAAAAAAAAFBAAAAAAAAAVEAAAAAAAADwPwAAAAAAAC5AAAAAAAAAOEAAAAAAAAAkQAAAAAAAAPA/AAAAAAAAP0AAAAAAAAA1QAAAAAAAADtAAAAAAAAAGEAAAAAAAAAoQAAAAAAAAFZAAAAAAAAA8D8AAAAAAEBTQAAAAAAA4GBAAAAAAABAXEAAAAAAAABLQAAAAAAAACRAAAAAAAAACEAAAAAAAAAgQAAAAAAAAC5AAAAAAAAAGEAAAAAAAAAiQAAAAAAAoGBAAAAAAAAAP0AAAAAAAIBPQAAAAAAAQFpAAAAAAAAALEAAAAAAAIBBQAAAAAAAAEFAAAAAAADAUkAAAAAAALBzQAAAAAAAiJJAAAAAAACASUAAAAAAAOBmQAAAAAAAgERAAAAAAADAZ0AAAAAAAIBZQAAAAAAAAD9AAAAAAACAWEAAAAAAAEBWQAAAAAAAABRAAAAAAAAAGEAAAAAAAAAiQAAAAAAAACBAAAAAAAAAOUAAAAAAAAAkQAAAAAAAACJAAAAAAAAAKkAAAAAAAIBEQAAAAAAAADFAAAAAAAAAHEAAAAAAAAAkQAAAAAAAgENAAAAAAAAAO0AAAAAAAEBTQAAAAAAAQFlAAAAAAAAAM0AAAAAAAGBkQAAAAAAAAEBAAAAAAACAR0AAAAAAACBiQAAAAAAAADtAAAAAAACAZEAAAAAAAAAwQAAAAAAAACJAAAAAAAAANkAAAAAAAAAIQAAAAAAAAPA/AAAAAAAAGEAAAAAAAAAcQAAAAAAAABxAAAAAAAAAWEAAAAAAAAA1QAAAAAAAACpAAAAAAABAVUAAAAAAAAAiQAAAAAAAACJAAAAAAAAAO0AAAAAAAIBeQAAAAAAAQG1AAAAAAAAAVUAAAAAAAABIQAAAAAAAwF5AAAAAAAAAVkAAAAAAAIBDQAAAAAAAAEBAAAAAAAAAaEAAAAAAAFB2QAAAAAAAACpAAAAAAABAXEAAAAAAAKB2QAAAAAAAAEdAAAAAAABAVEAAAAAAAIBDQAAAAAAAADVAAAAAAAAASEAAAAAAAABDQAAAAAAAgENAAAAAAACAS0AAAAAAAEiBQAAAAAAAADlAAAAAAAAAPUAAAAAAAIBSQAAAAAAAAFNAAAAAAADAWkAAAAAAAIB3QAAAAAAAAEdAAAAAAAAANUAAAAAAAEBvQAAAAAAAgFtAAAAAAAAAQEAAAAAAAAA4QAAAAAAAACZAAAAAAABAUkAAAAAAAAA/QAAAAAAAAD5AAAAAAABAX0AAAAAAAGByQAAAAAAAIGFAAAAAAADAU0AAAAAAAAAiQAAAAAAAgG1AAAAAAAAgYUAAAAAAAIBQQAAAAAAAACRAAAAAAAAAHEAAAAAAAIBOQAAAAAAAADdAAAAAAACAQ0AAAAAAAAAyQAAAAAAAACZAAAAAAACAWEAAAAAAAIBOQAAAAAAA4GFAAAAAAAAAN0AAAAAAAAAgQAAAAAAA0HhAAAAAAABAV0AAAAAAAAAYQAAAAAAAgElAAAAAAACAQ0AAAAAAAAAsQAAAAAAAAEBAAAAAAAAAEEAAAAAAAADwPwAAAAAAABBAAAAAAAAA8D8AAAAAAAAYQAAAAAAAAPA/AAAAAAAA8D8AAAAAAAAIQAAAAAAAACZAAAAAAAAAMUAAAAAAAAAmQAAAAAAAACJAAAAAAACAT0AAAAAAAIBPQAAAAAAAAEBAAAAAAAAAPkAAAAAAAAAoQAAAAAAAAElAAAAAAAAAOEAAAAAAAAAuQAAAAAAAACpAAAAAAADAVkAAAAAAAEBoQAAAAAAA0IFAAAAAAACAZUAAAAAAAAA8QAAAAAAAACBAAAAAAAAAM0AAAAAAAIBDQAAAAAAAADBAAAAAAAAARkAAAAAAAIBbQAAAAAAAADhAAAAAAAAATEAAAAAAAEBpQAAAAAAAAEVAAAAAAAAAVkAAAAAAAIBcQAAAAAAAADBAAAAAAAAAPkAAAAAAAABAQAAAAAAAQFpAAAAAAACIgUAAAAAAAAAYQAAAAAAAACxAAAAAAAAAKEAAAAAAAIBoQAAAAAAA4GRAAAAAAAAAX0AAAAAAAEBvQAAAAAAAwGVAAAAAAADAVEAAAAAAAABOQAAAAAAAgENAAAAAAACATkAAAAAAACBhQAAAAAAAAGNAAAAAAAAALEAAAAAAAPB4QAAAAAAAAD9AAAAAAAAAJkAAAAAAAADwPwAAAAAAAPA/AAAAAAAAGEAAAAAAAABEQAAAAAAAAEZAAAAAAAAAKkAAAAAAALCTQAAAAAAAgEJAAAAAAAAAMUAAAAAAAAAoQAAAAAAAAD9AAAAAAACAQ0AAAAAAAAAkQAAAAAAAACJAAAAAAAAAN0AAAAAAAJSUQAAAAAAAACJAAAAAAAAAIkAAAAAAAABAQAAAAAAAAEJAAAAAAAAAKkAAAAAAAAAmQAAAAAAAACJAAAAAAAAANUAAAAAAABCRQAAAAAAAgElAAAAAAAAAVkAAAAAAAEBYQAAAAAAAAAhAAAAAAAAANEAAAAAAAAAsQAAAAAAAQFRAAAAAAACASEAAAAAAAEiLQAAAAAAAAEFAAAAAAAAAIkAAAAAAAIBAQAAAAAAAADRAAAAAAADAV0AAAAAAAEBSQAAAAAAAQFJAAAAAAAAAJEAAAAAAAIBHQAAAAAAAQFxAAAAAAAAALEAAAAAAAAAqQAAAAAAAADVAAAAAAAAANEAAAAAAAABMQAAAAAAAwF1AAAAAAAC4gUAAAAAAAMBaQA==",
                    "dtype": "f8"
                  },
                  "xaxis": "x",
                  "y": {
                    "bdata": "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",
                    "dtype": "i4"
                  },
                  "yaxis": "y"
                }
              ],
              "layout": {
                "legend": {
                  "title": {
                    "text": "1시간 요금"
                  },
                  "tracegroupgap": 0
                },
                "template": {
                  "data": {
                    "bar": [
                      {
                        "error_x": {
                          "color": "#2a3f5f"
                        },
                        "error_y": {
                          "color": "#2a3f5f"
                        },
                        "marker": {
                          "line": {
                            "color": "white",
                            "width": 0.5
                          },
                          "pattern": {
                            "fillmode": "overlay",
                            "size": 10,
                            "solidity": 0.2
                          }
                        },
                        "type": "bar"
                      }
                    ],
                    "barpolar": [
                      {
                        "marker": {
                          "line": {
                            "color": "white",
                            "width": 0.5
                          },
                          "pattern": {
                            "fillmode": "overlay",
                            "size": 10,
                            "solidity": 0.2
                          }
                        },
                        "type": "barpolar"
                      }
                    ],
                    "carpet": [
                      {
                        "aaxis": {
                          "endlinecolor": "#2a3f5f",
                          "gridcolor": "#C8D4E3",
                          "linecolor": "#C8D4E3",
                          "minorgridcolor": "#C8D4E3",
                          "startlinecolor": "#2a3f5f"
                        },
                        "baxis": {
                          "endlinecolor": "#2a3f5f",
                          "gridcolor": "#C8D4E3",
                          "linecolor": "#C8D4E3",
                          "minorgridcolor": "#C8D4E3",
                          "startlinecolor": "#2a3f5f"
                        },
                        "type": "carpet"
                      }
                    ],
                    "choropleth": [
                      {
                        "colorbar": {
                          "outlinewidth": 0,
                          "ticks": ""
                        },
                        "type": "choropleth"
                      }
                    ],
                    "contour": [
                      {
                        "colorbar": {
                          "outlinewidth": 0,
                          "ticks": ""
                        },
                        "colorscale": [
                          [
                            0,
                            "#0d0887"
                          ],
                          [
                            0.1111111111111111,
                            "#46039f"
                          ],
                          [
                            0.2222222222222222,
                            "#7201a8"
                          ],
                          [
                            0.3333333333333333,
                            "#9c179e"
                          ],
                          [
                            0.4444444444444444,
                            "#bd3786"
                          ],
                          [
                            0.5555555555555556,
                            "#d8576b"
                          ],
                          [
                            0.6666666666666666,
                            "#ed7953"
                          ],
                          [
                            0.7777777777777778,
                            "#fb9f3a"
                          ],
                          [
                            0.8888888888888888,
                            "#fdca26"
                          ],
                          [
                            1,
                            "#f0f921"
                          ]
                        ],
                        "type": "contour"
                      }
                    ],
                    "contourcarpet": [
                      {
                        "colorbar": {
                          "outlinewidth": 0,
                          "ticks": ""
                        },
                        "type": "contourcarpet"
                      }
                    ],
                    "heatmap": [
                      {
                        "colorbar": {
                          "outlinewidth": 0,
                          "ticks": ""
                        },
                        "colorscale": [
                          [
                            0,
                            "#0d0887"
                          ],
                          [
                            0.1111111111111111,
                            "#46039f"
                          ],
                          [
                            0.2222222222222222,
                            "#7201a8"
                          ],
                          [
                            0.3333333333333333,
                            "#9c179e"
                          ],
                          [
                            0.4444444444444444,
                            "#bd3786"
                          ],
                          [
                            0.5555555555555556,
                            "#d8576b"
                          ],
                          [
                            0.6666666666666666,
                            "#ed7953"
                          ],
                          [
                            0.7777777777777778,
                            "#fb9f3a"
                          ],
                          [
                            0.8888888888888888,
                            "#fdca26"
                          ],
                          [
                            1,
                            "#f0f921"
                          ]
                        ],
                        "type": "heatmap"
                      }
                    ],
                    "histogram": [
                      {
                        "marker": {
                          "pattern": {
                            "fillmode": "overlay",
                            "size": 10,
                            "solidity": 0.2
                          }
                        },
                        "type": "histogram"
                      }
                    ],
                    "histogram2d": [
                      {
                        "colorbar": {
                          "outlinewidth": 0,
                          "ticks": ""
                        },
                        "colorscale": [
                          [
                            0,
                            "#0d0887"
                          ],
                          [
                            0.1111111111111111,
                            "#46039f"
                          ],
                          [
                            0.2222222222222222,
                            "#7201a8"
                          ],
                          [
                            0.3333333333333333,
                            "#9c179e"
                          ],
                          [
                            0.4444444444444444,
                            "#bd3786"
                          ],
                          [
                            0.5555555555555556,
                            "#d8576b"
                          ],
                          [
                            0.6666666666666666,
                            "#ed7953"
                          ],
                          [
                            0.7777777777777778,
                            "#fb9f3a"
                          ],
                          [
                            0.8888888888888888,
                            "#fdca26"
                          ],
                          [
                            1,
                            "#f0f921"
                          ]
                        ],
                        "type": "histogram2d"
                      }
                    ],
                    "histogram2dcontour": [
                      {
                        "colorbar": {
                          "outlinewidth": 0,
                          "ticks": ""
                        },
                        "colorscale": [
                          [
                            0,
                            "#0d0887"
                          ],
                          [
                            0.1111111111111111,
                            "#46039f"
                          ],
                          [
                            0.2222222222222222,
                            "#7201a8"
                          ],
                          [
                            0.3333333333333333,
                            "#9c179e"
                          ],
                          [
                            0.4444444444444444,
                            "#bd3786"
                          ],
                          [
                            0.5555555555555556,
                            "#d8576b"
                          ],
                          [
                            0.6666666666666666,
                            "#ed7953"
                          ],
                          [
                            0.7777777777777778,
                            "#fb9f3a"
                          ],
                          [
                            0.8888888888888888,
                            "#fdca26"
                          ],
                          [
                            1,
                            "#f0f921"
                          ]
                        ],
                        "type": "histogram2dcontour"
                      }
                    ],
                    "mesh3d": [
                      {
                        "colorbar": {
                          "outlinewidth": 0,
                          "ticks": ""
                        },
                        "type": "mesh3d"
                      }
                    ],
                    "parcoords": [
                      {
                        "line": {
                          "colorbar": {
                            "outlinewidth": 0,
                            "ticks": ""
                          }
                        },
                        "type": "parcoords"
                      }
                    ],
                    "pie": [
                      {
                        "automargin": true,
                        "type": "pie"
                      }
                    ],
                    "scatter": [
                      {
                        "fillpattern": {
                          "fillmode": "overlay",
                          "size": 10,
                          "solidity": 0.2
                        },
                        "type": "scatter"
                      }
                    ],
                    "scatter3d": [
                      {
                        "line": {
                          "colorbar": {
                            "outlinewidth": 0,
                            "ticks": ""
                          }
                        },
                        "marker": {
                          "colorbar": {
                            "outlinewidth": 0,
                            "ticks": ""
                          }
                        },
                        "type": "scatter3d"
                      }
                    ],
                    "scattercarpet": [
                      {
                        "marker": {
                          "colorbar": {
                            "outlinewidth": 0,
                            "ticks": ""
                          }
                        },
                        "type": "scattercarpet"
                      }
                    ],
                    "scattergeo": [
                      {
                        "marker": {
                          "colorbar": {
                            "outlinewidth": 0,
                            "ticks": ""
                          }
                        },
                        "type": "scattergeo"
                      }
                    ],
                    "scattergl": [
                      {
                        "marker": {
                          "colorbar": {
                            "outlinewidth": 0,
                            "ticks": ""
                          }
                        },
                        "type": "scattergl"
                      }
                    ],
                    "scattermap": [
                      {
                        "marker": {
                          "colorbar": {
                            "outlinewidth": 0,
                            "ticks": ""
                          }
                        },
                        "type": "scattermap"
                      }
                    ],
                    "scattermapbox": [
                      {
                        "marker": {
                          "colorbar": {
                            "outlinewidth": 0,
                            "ticks": ""
                          }
                        },
                        "type": "scattermapbox"
                      }
                    ],
                    "scatterpolar": [
                      {
                        "marker": {
                          "colorbar": {
                            "outlinewidth": 0,
                            "ticks": ""
                          }
                        },
                        "type": "scatterpolar"
                      }
                    ],
                    "scatterpolargl": [
                      {
                        "marker": {
                          "colorbar": {
                            "outlinewidth": 0,
                            "ticks": ""
                          }
                        },
                        "type": "scatterpolargl"
                      }
                    ],
                    "scatterternary": [
                      {
                        "marker": {
                          "colorbar": {
                            "outlinewidth": 0,
                            "ticks": ""
                          }
                        },
                        "type": "scatterternary"
                      }
                    ],
                    "surface": [
                      {
                        "colorbar": {
                          "outlinewidth": 0,
                          "ticks": ""
                        },
                        "colorscale": [
                          [
                            0,
                            "#0d0887"
                          ],
                          [
                            0.1111111111111111,
                            "#46039f"
                          ],
                          [
                            0.2222222222222222,
                            "#7201a8"
                          ],
                          [
                            0.3333333333333333,
                            "#9c179e"
                          ],
                          [
                            0.4444444444444444,
                            "#bd3786"
                          ],
                          [
                            0.5555555555555556,
                            "#d8576b"
                          ],
                          [
                            0.6666666666666666,
                            "#ed7953"
                          ],
                          [
                            0.7777777777777778,
                            "#fb9f3a"
                          ],
                          [
                            0.8888888888888888,
                            "#fdca26"
                          ],
                          [
                            1,
                            "#f0f921"
                          ]
                        ],
                        "type": "surface"
                      }
                    ],
                    "table": [
                      {
                        "cells": {
                          "fill": {
                            "color": "#EBF0F8"
                          },
                          "line": {
                            "color": "white"
                          }
                        },
                        "header": {
                          "fill": {
                            "color": "#C8D4E3"
                          },
                          "line": {
                            "color": "white"
                          }
                        },
                        "type": "table"
                      }
                    ]
                  },
                  "layout": {
                    "annotationdefaults": {
                      "arrowcolor": "#2a3f5f",
                      "arrowhead": 0,
                      "arrowwidth": 1
                    },
                    "autotypenumbers": "strict",
                    "coloraxis": {
                      "colorbar": {
                        "outlinewidth": 0,
                        "ticks": ""
                      }
                    },
                    "colorscale": {
                      "diverging": [
                        [
                          0,
                          "#8e0152"
                        ],
                        [
                          0.1,
                          "#c51b7d"
                        ],
                        [
                          0.2,
                          "#de77ae"
                        ],
                        [
                          0.3,
                          "#f1b6da"
                        ],
                        [
                          0.4,
                          "#fde0ef"
                        ],
                        [
                          0.5,
                          "#f7f7f7"
                        ],
                        [
                          0.6,
                          "#e6f5d0"
                        ],
                        [
                          0.7,
                          "#b8e186"
                        ],
                        [
                          0.8,
                          "#7fbc41"
                        ],
                        [
                          0.9,
                          "#4d9221"
                        ],
                        [
                          1,
                          "#276419"
                        ]
                      ],
                      "sequential": [
                        [
                          0,
                          "#0d0887"
                        ],
                        [
                          0.1111111111111111,
                          "#46039f"
                        ],
                        [
                          0.2222222222222222,
                          "#7201a8"
                        ],
                        [
                          0.3333333333333333,
                          "#9c179e"
                        ],
                        [
                          0.4444444444444444,
                          "#bd3786"
                        ],
                        [
                          0.5555555555555556,
                          "#d8576b"
                        ],
                        [
                          0.6666666666666666,
                          "#ed7953"
                        ],
                        [
                          0.7777777777777778,
                          "#fb9f3a"
                        ],
                        [
                          0.8888888888888888,
                          "#fdca26"
                        ],
                        [
                          1,
                          "#f0f921"
                        ]
                      ],
                      "sequentialminus": [
                        [
                          0,
                          "#0d0887"
                        ],
                        [
                          0.1111111111111111,
                          "#46039f"
                        ],
                        [
                          0.2222222222222222,
                          "#7201a8"
                        ],
                        [
                          0.3333333333333333,
                          "#9c179e"
                        ],
                        [
                          0.4444444444444444,
                          "#bd3786"
                        ],
                        [
                          0.5555555555555556,
                          "#d8576b"
                        ],
                        [
                          0.6666666666666666,
                          "#ed7953"
                        ],
                        [
                          0.7777777777777778,
                          "#fb9f3a"
                        ],
                        [
                          0.8888888888888888,
                          "#fdca26"
                        ],
                        [
                          1,
                          "#f0f921"
                        ]
                      ]
                    },
                    "colorway": [
                      "#636efa",
                      "#EF553B",
                      "#00cc96",
                      "#ab63fa",
                      "#FFA15A",
                      "#19d3f3",
                      "#FF6692",
                      "#B6E880",
                      "#FF97FF",
                      "#FECB52"
                    ],
                    "font": {
                      "color": "#2a3f5f"
                    },
                    "geo": {
                      "bgcolor": "white",
                      "lakecolor": "white",
                      "landcolor": "white",
                      "showlakes": true,
                      "showland": true,
                      "subunitcolor": "#C8D4E3"
                    },
                    "hoverlabel": {
                      "align": "left"
                    },
                    "hovermode": "closest",
                    "mapbox": {
                      "style": "light"
                    },
                    "paper_bgcolor": "white",
                    "plot_bgcolor": "white",
                    "polar": {
                      "angularaxis": {
                        "gridcolor": "#EBF0F8",
                        "linecolor": "#EBF0F8",
                        "ticks": ""
                      },
                      "bgcolor": "white",
                      "radialaxis": {
                        "gridcolor": "#EBF0F8",
                        "linecolor": "#EBF0F8",
                        "ticks": ""
                      }
                    },
                    "scene": {
                      "xaxis": {
                        "backgroundcolor": "white",
                        "gridcolor": "#DFE8F3",
                        "gridwidth": 2,
                        "linecolor": "#EBF0F8",
                        "showbackground": true,
                        "ticks": "",
                        "zerolinecolor": "#EBF0F8"
                      },
                      "yaxis": {
                        "backgroundcolor": "white",
                        "gridcolor": "#DFE8F3",
                        "gridwidth": 2,
                        "linecolor": "#EBF0F8",
                        "showbackground": true,
                        "ticks": "",
                        "zerolinecolor": "#EBF0F8"
                      },
                      "zaxis": {
                        "backgroundcolor": "white",
                        "gridcolor": "#DFE8F3",
                        "gridwidth": 2,
                        "linecolor": "#EBF0F8",
                        "showbackground": true,
                        "ticks": "",
                        "zerolinecolor": "#EBF0F8"
                      }
                    },
                    "shapedefaults": {
                      "line": {
                        "color": "#2a3f5f"
                      }
                    },
                    "ternary": {
                      "aaxis": {
                        "gridcolor": "#DFE8F3",
                        "linecolor": "#A2B1C6",
                        "ticks": ""
                      },
                      "baxis": {
                        "gridcolor": "#DFE8F3",
                        "linecolor": "#A2B1C6",
                        "ticks": ""
                      },
                      "bgcolor": "white",
                      "caxis": {
                        "gridcolor": "#DFE8F3",
                        "linecolor": "#A2B1C6",
                        "ticks": ""
                      }
                    },
                    "title": {
                      "x": 0.05
                    },
                    "xaxis": {
                      "automargin": true,
                      "gridcolor": "#EBF0F8",
                      "linecolor": "#EBF0F8",
                      "ticks": "",
                      "title": {
                        "standoff": 15
                      },
                      "zerolinecolor": "#EBF0F8",
                      "zerolinewidth": 2
                    },
                    "yaxis": {
                      "automargin": true,
                      "gridcolor": "#EBF0F8",
                      "linecolor": "#EBF0F8",
                      "ticks": "",
                      "title": {
                        "standoff": 15
                      },
                      "zerolinecolor": "#EBF0F8",
                      "zerolinewidth": 2
                    }
                  }
                },
                "title": {
                  "text": "총주차면 vs 민원 수"
                },
                "xaxis": {
                  "anchor": "y",
                  "domain": [
                    0,
                    1
                  ],
                  "title": {
                    "text": "총주차면"
                  }
                },
                "yaxis": {
                  "anchor": "x",
                  "domain": [
                    0,
                    1
                  ],
                  "title": {
                    "text": "민원 수"
                  }
                }
              }
            }
          },
          "metadata": {},
          "output_type": "display_data"
        }
      ],
      "source": [
        "# plot a scatter plot of parks_complaints with 총주차면 and 민원 수\n",
        "fig = px.scatter(parks_reports, x='총주차면', y='민원 수',\n",
        "                # size='총주차면',\n",
        "                #  log_x=True, size_max=60,\n",
        "                title='총주차면 vs 민원 수')\n",
        "\n",
        "fig.update_layout(\n",
        "    xaxis_title='총주차면',\n",
        "    yaxis_title='민원 수',\n",
        "    legend_title='1시간 요금',\n",
        "    template='plotly_white'\n",
        ")\n",
        "fig.show()"
      ]
    },
    {
      "cell_type": "code",
      "execution_count": 22,
      "metadata": {},
      "outputs": [
        {
          "data": {
            "text/html": [
              "<div>\n",
              "<style scoped>\n",
              "    .dataframe tbody tr th:only-of-type {\n",
              "        vertical-align: middle;\n",
              "    }\n",
              "\n",
              "    .dataframe tbody tr th {\n",
              "        vertical-align: top;\n",
              "    }\n",
              "\n",
              "    .dataframe thead th {\n",
              "        text-align: right;\n",
              "    }\n",
              "</style>\n",
              "<table border=\"1\" class=\"dataframe\">\n",
              "  <thead>\n",
              "    <tr style=\"text-align: right;\">\n",
              "      <th></th>\n",
              "      <th>주소</th>\n",
              "      <th>총주차면</th>\n",
              "      <th>경도</th>\n",
              "      <th>위도</th>\n",
              "      <th>민원 수</th>\n",
              "    </tr>\n",
              "  </thead>\n",
              "  <tbody>\n",
              "    <tr>\n",
              "      <th>0</th>\n",
              "      <td>강남구 논현동 168-0</td>\n",
              "      <td>192.0</td>\n",
              "      <td>127.026290</td>\n",
              "      <td>37.508171</td>\n",
              "      <td>36734</td>\n",
              "    </tr>\n",
              "    <tr>\n",
              "      <th>1</th>\n",
              "      <td>강남구 청담동 77-27</td>\n",
              "      <td>3.0</td>\n",
              "      <td>127.041404</td>\n",
              "      <td>37.522200</td>\n",
              "      <td>40468</td>\n",
              "    </tr>\n",
              "    <tr>\n",
              "      <th>2</th>\n",
              "      <td>강남구 청담동 77-84</td>\n",
              "      <td>5.0</td>\n",
              "      <td>127.042602</td>\n",
              "      <td>37.518215</td>\n",
              "      <td>44435</td>\n",
              "    </tr>\n",
              "    <tr>\n",
              "      <th>3</th>\n",
              "      <td>강서구 화곡동 1030-33</td>\n",
              "      <td>27.0</td>\n",
              "      <td>126.839735</td>\n",
              "      <td>37.543908</td>\n",
              "      <td>59466</td>\n",
              "    </tr>\n",
              "    <tr>\n",
              "      <th>4</th>\n",
              "      <td>강서구 화곡동 1045-0</td>\n",
              "      <td>99.0</td>\n",
              "      <td>126.834751</td>\n",
              "      <td>37.541749</td>\n",
              "      <td>54456</td>\n",
              "    </tr>\n",
              "    <tr>\n",
              "      <th>5</th>\n",
              "      <td>강서구 화곡동 1056-2</td>\n",
              "      <td>25.0</td>\n",
              "      <td>126.840754</td>\n",
              "      <td>37.544222</td>\n",
              "      <td>51934</td>\n",
              "    </tr>\n",
              "    <tr>\n",
              "      <th>6</th>\n",
              "      <td>마포구 동교동 164-2</td>\n",
              "      <td>1.0</td>\n",
              "      <td>126.924737</td>\n",
              "      <td>37.556365</td>\n",
              "      <td>42914</td>\n",
              "    </tr>\n",
              "    <tr>\n",
              "      <th>7</th>\n",
              "      <td>마포구 동교동 165-1</td>\n",
              "      <td>1.0</td>\n",
              "      <td>126.924158</td>\n",
              "      <td>37.556754</td>\n",
              "      <td>45508</td>\n",
              "    </tr>\n",
              "    <tr>\n",
              "      <th>8</th>\n",
              "      <td>마포구 동교동 166-11</td>\n",
              "      <td>1.0</td>\n",
              "      <td>126.924706</td>\n",
              "      <td>37.556789</td>\n",
              "      <td>43605</td>\n",
              "    </tr>\n",
              "    <tr>\n",
              "      <th>9</th>\n",
              "      <td>마포구 동교동 192-6</td>\n",
              "      <td>1.0</td>\n",
              "      <td>126.923867</td>\n",
              "      <td>37.556051</td>\n",
              "      <td>45796</td>\n",
              "    </tr>\n",
              "    <tr>\n",
              "      <th>10</th>\n",
              "      <td>마포구 망원동 403-2</td>\n",
              "      <td>148.0</td>\n",
              "      <td>126.905875</td>\n",
              "      <td>37.555539</td>\n",
              "      <td>37394</td>\n",
              "    </tr>\n",
              "    <tr>\n",
              "      <th>11</th>\n",
              "      <td>마포구 망원동 414-1</td>\n",
              "      <td>1.0</td>\n",
              "      <td>126.904824</td>\n",
              "      <td>37.557175</td>\n",
              "      <td>39812</td>\n",
              "    </tr>\n",
              "    <tr>\n",
              "      <th>12</th>\n",
              "      <td>마포구 망원동 423-23</td>\n",
              "      <td>1.0</td>\n",
              "      <td>126.905028</td>\n",
              "      <td>37.557524</td>\n",
              "      <td>41549</td>\n",
              "    </tr>\n",
              "    <tr>\n",
              "      <th>13</th>\n",
              "      <td>마포구 망원동 478-10</td>\n",
              "      <td>21.0</td>\n",
              "      <td>126.906580</td>\n",
              "      <td>37.559582</td>\n",
              "      <td>45022</td>\n",
              "    </tr>\n",
              "    <tr>\n",
              "      <th>14</th>\n",
              "      <td>마포구 망원동 485-33</td>\n",
              "      <td>1.0</td>\n",
              "      <td>126.907753</td>\n",
              "      <td>37.557479</td>\n",
              "      <td>44880</td>\n",
              "    </tr>\n",
              "    <tr>\n",
              "      <th>15</th>\n",
              "      <td>마포구 망원동 486-1</td>\n",
              "      <td>1.0</td>\n",
              "      <td>126.906269</td>\n",
              "      <td>37.557471</td>\n",
              "      <td>39903</td>\n",
              "    </tr>\n",
              "    <tr>\n",
              "      <th>16</th>\n",
              "      <td>마포구 망원동 486-1</td>\n",
              "      <td>1.0</td>\n",
              "      <td>126.906269</td>\n",
              "      <td>37.557471</td>\n",
              "      <td>39903</td>\n",
              "    </tr>\n",
              "    <tr>\n",
              "      <th>17</th>\n",
              "      <td>마포구 망원동 494-0</td>\n",
              "      <td>1.0</td>\n",
              "      <td>126.906644</td>\n",
              "      <td>37.557486</td>\n",
              "      <td>40732</td>\n",
              "    </tr>\n",
              "    <tr>\n",
              "      <th>18</th>\n",
              "      <td>마포구 서교동 348-1</td>\n",
              "      <td>1.0</td>\n",
              "      <td>126.925772</td>\n",
              "      <td>37.556383</td>\n",
              "      <td>37786</td>\n",
              "    </tr>\n",
              "    <tr>\n",
              "      <th>19</th>\n",
              "      <td>마포구 연남동 228-20</td>\n",
              "      <td>1.0</td>\n",
              "      <td>126.925458</td>\n",
              "      <td>37.563130</td>\n",
              "      <td>38152</td>\n",
              "    </tr>\n",
              "    <tr>\n",
              "      <th>20</th>\n",
              "      <td>마포구 연남동 228-40</td>\n",
              "      <td>1.0</td>\n",
              "      <td>126.924839</td>\n",
              "      <td>37.562587</td>\n",
              "      <td>42495</td>\n",
              "    </tr>\n",
              "    <tr>\n",
              "      <th>21</th>\n",
              "      <td>마포구 연남동 229-64</td>\n",
              "      <td>1.0</td>\n",
              "      <td>126.924381</td>\n",
              "      <td>37.562604</td>\n",
              "      <td>42661</td>\n",
              "    </tr>\n",
              "    <tr>\n",
              "      <th>22</th>\n",
              "      <td>마포구 연남동 258-14</td>\n",
              "      <td>1.0</td>\n",
              "      <td>126.924128</td>\n",
              "      <td>37.561601</td>\n",
              "      <td>43756</td>\n",
              "    </tr>\n",
              "    <tr>\n",
              "      <th>23</th>\n",
              "      <td>마포구 연남동 258-16</td>\n",
              "      <td>1.0</td>\n",
              "      <td>126.924114</td>\n",
              "      <td>37.561462</td>\n",
              "      <td>43873</td>\n",
              "    </tr>\n",
              "    <tr>\n",
              "      <th>24</th>\n",
              "      <td>마포구 연남동 259-9</td>\n",
              "      <td>1.0</td>\n",
              "      <td>126.924107</td>\n",
              "      <td>37.561383</td>\n",
              "      <td>44045</td>\n",
              "    </tr>\n",
              "    <tr>\n",
              "      <th>25</th>\n",
              "      <td>송파구 잠실동 1082-1</td>\n",
              "      <td>859.0</td>\n",
              "      <td>127.069206</td>\n",
              "      <td>37.512389</td>\n",
              "      <td>2237</td>\n",
              "    </tr>\n",
              "    <tr>\n",
              "      <th>26</th>\n",
              "      <td>송파구 잠실동 1082-1</td>\n",
              "      <td>859.0</td>\n",
              "      <td>127.069206</td>\n",
              "      <td>37.512389</td>\n",
              "      <td>2237</td>\n",
              "    </tr>\n",
              "    <tr>\n",
              "      <th>27</th>\n",
              "      <td>양천구 목동 914-5</td>\n",
              "      <td>553.0</td>\n",
              "      <td>126.877866</td>\n",
              "      <td>37.530553</td>\n",
              "      <td>3766</td>\n",
              "    </tr>\n",
              "    <tr>\n",
              "      <th>28</th>\n",
              "      <td>양천구 목동 915-0</td>\n",
              "      <td>894.0</td>\n",
              "      <td>126.877852</td>\n",
              "      <td>37.527708</td>\n",
              "      <td>3782</td>\n",
              "    </tr>\n",
              "    <tr>\n",
              "      <th>29</th>\n",
              "      <td>용산구 한강로2가 12-9</td>\n",
              "      <td>561.0</td>\n",
              "      <td>126.965105</td>\n",
              "      <td>37.534394</td>\n",
              "      <td>10946</td>\n",
              "    </tr>\n",
              "    <tr>\n",
              "      <th>30</th>\n",
              "      <td>중구 충무로5가 21-0</td>\n",
              "      <td>491.0</td>\n",
              "      <td>126.999800</td>\n",
              "      <td>37.563781</td>\n",
              "      <td>16325</td>\n",
              "    </tr>\n",
              "    <tr>\n",
              "      <th>31</th>\n",
              "      <td>강남구 수서동 735-0</td>\n",
              "      <td>575.0</td>\n",
              "      <td>127.099950</td>\n",
              "      <td>37.488013</td>\n",
              "      <td>3577</td>\n",
              "    </tr>\n",
              "    <tr>\n",
              "      <th>32</th>\n",
              "      <td>강남구 청담동 27-0</td>\n",
              "      <td>225.0</td>\n",
              "      <td>127.045659</td>\n",
              "      <td>37.519994</td>\n",
              "      <td>40687</td>\n",
              "    </tr>\n",
              "    <tr>\n",
              "      <th>33</th>\n",
              "      <td>강동구 천호동 455-0</td>\n",
              "      <td>1431.0</td>\n",
              "      <td>127.125129</td>\n",
              "      <td>37.538497</td>\n",
              "      <td>14618</td>\n",
              "    </tr>\n",
              "    <tr>\n",
              "      <th>34</th>\n",
              "      <td>강서구 개화동 664-0</td>\n",
              "      <td>483.0</td>\n",
              "      <td>126.798212</td>\n",
              "      <td>37.577984</td>\n",
              "      <td>364</td>\n",
              "    </tr>\n",
              "    <tr>\n",
              "      <th>35</th>\n",
              "      <td>강서구 화곡동 1030-33</td>\n",
              "      <td>27.0</td>\n",
              "      <td>126.839717</td>\n",
              "      <td>37.543908</td>\n",
              "      <td>59448</td>\n",
              "    </tr>\n",
              "    <tr>\n",
              "      <th>36</th>\n",
              "      <td>강서구 화곡동 1045-0</td>\n",
              "      <td>99.0</td>\n",
              "      <td>126.834749</td>\n",
              "      <td>37.541779</td>\n",
              "      <td>54437</td>\n",
              "    </tr>\n",
              "    <tr>\n",
              "      <th>37</th>\n",
              "      <td>강서구 화곡동 1056-2</td>\n",
              "      <td>25.0</td>\n",
              "      <td>126.840749</td>\n",
              "      <td>37.544231</td>\n",
              "      <td>51974</td>\n",
              "    </tr>\n",
              "    <tr>\n",
              "      <th>38</th>\n",
              "      <td>강서구 화곡동 662-15</td>\n",
              "      <td>500.0</td>\n",
              "      <td>126.839348</td>\n",
              "      <td>37.537583</td>\n",
              "      <td>43285</td>\n",
              "    </tr>\n",
              "    <tr>\n",
              "      <th>39</th>\n",
              "      <td>마포구 망원동 494-0</td>\n",
              "      <td>10.0</td>\n",
              "      <td>126.906434</td>\n",
              "      <td>37.557740</td>\n",
              "      <td>41511</td>\n",
              "    </tr>\n",
              "    <tr>\n",
              "      <th>40</th>\n",
              "      <td>마포구 망원동 494-0</td>\n",
              "      <td>1.0</td>\n",
              "      <td>126.906273</td>\n",
              "      <td>37.557715</td>\n",
              "      <td>40465</td>\n",
              "    </tr>\n",
              "    <tr>\n",
              "      <th>41</th>\n",
              "      <td>마포구 서교동 376-5</td>\n",
              "      <td>21.0</td>\n",
              "      <td>126.919720</td>\n",
              "      <td>37.554532</td>\n",
              "      <td>46098</td>\n",
              "    </tr>\n",
              "    <tr>\n",
              "      <th>42</th>\n",
              "      <td>마포구 연남동 224-36</td>\n",
              "      <td>1.0</td>\n",
              "      <td>126.925897</td>\n",
              "      <td>37.563607</td>\n",
              "      <td>36078</td>\n",
              "    </tr>\n",
              "    <tr>\n",
              "      <th>43</th>\n",
              "      <td>마포구 연남동 258-3</td>\n",
              "      <td>77.0</td>\n",
              "      <td>126.924204</td>\n",
              "      <td>37.561088</td>\n",
              "      <td>44512</td>\n",
              "    </tr>\n",
              "    <tr>\n",
              "      <th>44</th>\n",
              "      <td>서초구 반포동 118-3</td>\n",
              "      <td>1186.0</td>\n",
              "      <td>127.007933</td>\n",
              "      <td>37.504517</td>\n",
              "      <td>18487</td>\n",
              "    </tr>\n",
              "    <tr>\n",
              "      <th>45</th>\n",
              "      <td>양천구 목동 914-5</td>\n",
              "      <td>553.0</td>\n",
              "      <td>126.877927</td>\n",
              "      <td>37.530543</td>\n",
              "      <td>3720</td>\n",
              "    </tr>\n",
              "    <tr>\n",
              "      <th>46</th>\n",
              "      <td>영등포구 양평동3가 57-3</td>\n",
              "      <td>397.0</td>\n",
              "      <td>126.890271</td>\n",
              "      <td>37.527600</td>\n",
              "      <td>4957</td>\n",
              "    </tr>\n",
              "    <tr>\n",
              "      <th>47</th>\n",
              "      <td>영등포구 영등포동4가 123-0</td>\n",
              "      <td>570.0</td>\n",
              "      <td>126.902609</td>\n",
              "      <td>37.519471</td>\n",
              "      <td>14731</td>\n",
              "    </tr>\n",
              "    <tr>\n",
              "      <th>48</th>\n",
              "      <td>용산구 한강로2가 12-9</td>\n",
              "      <td>561.0</td>\n",
              "      <td>126.965418</td>\n",
              "      <td>37.534364</td>\n",
              "      <td>10659</td>\n",
              "    </tr>\n",
              "    <tr>\n",
              "      <th>49</th>\n",
              "      <td>은평구 진관동 66-30</td>\n",
              "      <td>399.0</td>\n",
              "      <td>126.919322</td>\n",
              "      <td>37.638007</td>\n",
              "      <td>760</td>\n",
              "    </tr>\n",
              "    <tr>\n",
              "      <th>50</th>\n",
              "      <td>종로구 세종로 80-1</td>\n",
              "      <td>1260.0</td>\n",
              "      <td>126.975884</td>\n",
              "      <td>37.573403</td>\n",
              "      <td>6096</td>\n",
              "    </tr>\n",
              "    <tr>\n",
              "      <th>51</th>\n",
              "      <td>종로구 훈정동 2-0</td>\n",
              "      <td>1317.0</td>\n",
              "      <td>126.994969</td>\n",
              "      <td>37.571504</td>\n",
              "      <td>9119</td>\n",
              "    </tr>\n",
              "    <tr>\n",
              "      <th>52</th>\n",
              "      <td>중구 신당동 251-7</td>\n",
              "      <td>1092.0</td>\n",
              "      <td>127.012141</td>\n",
              "      <td>37.567102</td>\n",
              "      <td>18302</td>\n",
              "    </tr>\n",
              "    <tr>\n",
              "      <th>53</th>\n",
              "      <td>중구 을지로5가 40-3</td>\n",
              "      <td>873.0</td>\n",
              "      <td>127.003521</td>\n",
              "      <td>37.567400</td>\n",
              "      <td>13130</td>\n",
              "    </tr>\n",
              "    <tr>\n",
              "      <th>54</th>\n",
              "      <td>중랑구 면목동 168-2</td>\n",
              "      <td>567.0</td>\n",
              "      <td>127.081451</td>\n",
              "      <td>37.579494</td>\n",
              "      <td>3398</td>\n",
              "    </tr>\n",
              "  </tbody>\n",
              "</table>\n",
              "</div>"
            ],
            "text/plain": [
              "                   주소    총주차면          경도         위도   민원 수\n",
              "0       강남구 논현동 168-0   192.0  127.026290  37.508171  36734\n",
              "1       강남구 청담동 77-27     3.0  127.041404  37.522200  40468\n",
              "2       강남구 청담동 77-84     5.0  127.042602  37.518215  44435\n",
              "3     강서구 화곡동 1030-33    27.0  126.839735  37.543908  59466\n",
              "4      강서구 화곡동 1045-0    99.0  126.834751  37.541749  54456\n",
              "5      강서구 화곡동 1056-2    25.0  126.840754  37.544222  51934\n",
              "6       마포구 동교동 164-2     1.0  126.924737  37.556365  42914\n",
              "7       마포구 동교동 165-1     1.0  126.924158  37.556754  45508\n",
              "8      마포구 동교동 166-11     1.0  126.924706  37.556789  43605\n",
              "9       마포구 동교동 192-6     1.0  126.923867  37.556051  45796\n",
              "10      마포구 망원동 403-2   148.0  126.905875  37.555539  37394\n",
              "11      마포구 망원동 414-1     1.0  126.904824  37.557175  39812\n",
              "12     마포구 망원동 423-23     1.0  126.905028  37.557524  41549\n",
              "13     마포구 망원동 478-10    21.0  126.906580  37.559582  45022\n",
              "14     마포구 망원동 485-33     1.0  126.907753  37.557479  44880\n",
              "15      마포구 망원동 486-1     1.0  126.906269  37.557471  39903\n",
              "16      마포구 망원동 486-1     1.0  126.906269  37.557471  39903\n",
              "17      마포구 망원동 494-0     1.0  126.906644  37.557486  40732\n",
              "18      마포구 서교동 348-1     1.0  126.925772  37.556383  37786\n",
              "19     마포구 연남동 228-20     1.0  126.925458  37.563130  38152\n",
              "20     마포구 연남동 228-40     1.0  126.924839  37.562587  42495\n",
              "21     마포구 연남동 229-64     1.0  126.924381  37.562604  42661\n",
              "22     마포구 연남동 258-14     1.0  126.924128  37.561601  43756\n",
              "23     마포구 연남동 258-16     1.0  126.924114  37.561462  43873\n",
              "24      마포구 연남동 259-9     1.0  126.924107  37.561383  44045\n",
              "25     송파구 잠실동 1082-1   859.0  127.069206  37.512389   2237\n",
              "26     송파구 잠실동 1082-1   859.0  127.069206  37.512389   2237\n",
              "27       양천구 목동 914-5   553.0  126.877866  37.530553   3766\n",
              "28       양천구 목동 915-0   894.0  126.877852  37.527708   3782\n",
              "29     용산구 한강로2가 12-9   561.0  126.965105  37.534394  10946\n",
              "30      중구 충무로5가 21-0   491.0  126.999800  37.563781  16325\n",
              "31      강남구 수서동 735-0   575.0  127.099950  37.488013   3577\n",
              "32       강남구 청담동 27-0   225.0  127.045659  37.519994  40687\n",
              "33      강동구 천호동 455-0  1431.0  127.125129  37.538497  14618\n",
              "34      강서구 개화동 664-0   483.0  126.798212  37.577984    364\n",
              "35    강서구 화곡동 1030-33    27.0  126.839717  37.543908  59448\n",
              "36     강서구 화곡동 1045-0    99.0  126.834749  37.541779  54437\n",
              "37     강서구 화곡동 1056-2    25.0  126.840749  37.544231  51974\n",
              "38     강서구 화곡동 662-15   500.0  126.839348  37.537583  43285\n",
              "39      마포구 망원동 494-0    10.0  126.906434  37.557740  41511\n",
              "40      마포구 망원동 494-0     1.0  126.906273  37.557715  40465\n",
              "41      마포구 서교동 376-5    21.0  126.919720  37.554532  46098\n",
              "42     마포구 연남동 224-36     1.0  126.925897  37.563607  36078\n",
              "43      마포구 연남동 258-3    77.0  126.924204  37.561088  44512\n",
              "44      서초구 반포동 118-3  1186.0  127.007933  37.504517  18487\n",
              "45       양천구 목동 914-5   553.0  126.877927  37.530543   3720\n",
              "46    영등포구 양평동3가 57-3   397.0  126.890271  37.527600   4957\n",
              "47  영등포구 영등포동4가 123-0   570.0  126.902609  37.519471  14731\n",
              "48     용산구 한강로2가 12-9   561.0  126.965418  37.534364  10659\n",
              "49      은평구 진관동 66-30   399.0  126.919322  37.638007    760\n",
              "50       종로구 세종로 80-1  1260.0  126.975884  37.573403   6096\n",
              "51        종로구 훈정동 2-0  1317.0  126.994969  37.571504   9119\n",
              "52       중구 신당동 251-7  1092.0  127.012141  37.567102  18302\n",
              "53      중구 을지로5가 40-3   873.0  127.003521  37.567400  13130\n",
              "54      중랑구 면목동 168-2   567.0  127.081451  37.579494   3398"
            ]
          },
          "execution_count": 22,
          "metadata": {},
          "output_type": "execute_result"
        }
      ],
      "source": [
        "# detect outliers in the scatter plot and visualize them\n",
        "from scipy import stats\n",
        "z_scores = np.abs(stats.zscore(parks_reports[['총주차면', '민원 수']]))\n",
        "outliers = (z_scores > 3).any(axis=1)\n",
        "\n",
        "df_outliers = parks_reports[outliers].reset_index(drop=True)\n",
        "df_outliers"
      ]
    },
    {
      "cell_type": "code",
      "execution_count": 23,
      "metadata": {},
      "outputs": [
        {
          "data": {
            "application/vnd.plotly.v1+json": {
              "config": {
                "plotlyServerURL": "https://plot.ly"
              },
              "data": [
                {
                  "hovertemplate": "총주차면=%{x}<br>민원 수=%{y}<extra></extra>",
                  "legendgroup": "",
                  "marker": {
                    "color": "#636efa",
                    "symbol": "circle"
                  },
                  "mode": "markers",
                  "name": "",
                  "orientation": "v",
                  "showlegend": false,
                  "type": "scatter",
                  "x": {
                    "bdata": "AAAAAAAAaEAAAAAAAAAIQAAAAAAAABRAAAAAAAAAO0AAAAAAAMBYQAAAAAAAADlAAAAAAAAA8D8AAAAAAADwPwAAAAAAAPA/AAAAAAAA8D8AAAAAAIBiQAAAAAAAAPA/AAAAAAAA8D8AAAAAAAA1QAAAAAAAAPA/AAAAAAAA8D8AAAAAAADwPwAAAAAAAPA/AAAAAAAA8D8AAAAAAADwPwAAAAAAAPA/AAAAAAAA8D8AAAAAAADwPwAAAAAAAPA/AAAAAAAA8D8AAAAAANiKQAAAAAAA2IpAAAAAAABIgUAAAAAAAPCLQAAAAAAAiIFAAAAAAACwfkAAAAAAAPiBQAAAAAAAIGxAAAAAAABclkAAAAAAADB+QAAAAAAAADtAAAAAAADAWEAAAAAAAAA5QAAAAAAAQH9AAAAAAAAAJEAAAAAAAADwPwAAAAAAADVAAAAAAAAA8D8AAAAAAEBTQAAAAAAAiJJAAAAAAABIgUAAAAAAANB4QAAAAAAA0IFAAAAAAACIgUAAAAAAAPB4QAAAAAAAsJNAAAAAAACUlEAAAAAAABCRQAAAAAAASItAAAAAAAC4gUA=",
                    "dtype": "f8"
                  },
                  "xaxis": "x",
                  "y": {
                    "bdata": "fo8AABSeAACTrQAASugAALjUAADeygAAoqcAAMSxAABVqgAA5LIAABKSAACEmwAATaIAAN6vAABQrwAA35sAAN+bAAAcnwAAmpMAAAiVAAD/pQAApaYAAOyqAABhqwAADawAAL0IAAC9CAAAtg4AAMYOAADCKgAAxT8AAPkNAADvngAAGjkAAGwBAAA46AAApdQAAAbLAAAVqQAAJ6IAABGeAAAStAAA7owAAOCtAAA3SAAAiA4AAF0TAACLOQAAoykAAPgCAADQFwAAnyMAAH5HAABKMwAARg0AAA==",
                    "dtype": "i4"
                  },
                  "yaxis": "y"
                }
              ],
              "layout": {
                "legend": {
                  "tracegroupgap": 0
                },
                "template": {
                  "data": {
                    "bar": [
                      {
                        "error_x": {
                          "color": "#2a3f5f"
                        },
                        "error_y": {
                          "color": "#2a3f5f"
                        },
                        "marker": {
                          "line": {
                            "color": "white",
                            "width": 0.5
                          },
                          "pattern": {
                            "fillmode": "overlay",
                            "size": 10,
                            "solidity": 0.2
                          }
                        },
                        "type": "bar"
                      }
                    ],
                    "barpolar": [
                      {
                        "marker": {
                          "line": {
                            "color": "white",
                            "width": 0.5
                          },
                          "pattern": {
                            "fillmode": "overlay",
                            "size": 10,
                            "solidity": 0.2
                          }
                        },
                        "type": "barpolar"
                      }
                    ],
                    "carpet": [
                      {
                        "aaxis": {
                          "endlinecolor": "#2a3f5f",
                          "gridcolor": "#C8D4E3",
                          "linecolor": "#C8D4E3",
                          "minorgridcolor": "#C8D4E3",
                          "startlinecolor": "#2a3f5f"
                        },
                        "baxis": {
                          "endlinecolor": "#2a3f5f",
                          "gridcolor": "#C8D4E3",
                          "linecolor": "#C8D4E3",
                          "minorgridcolor": "#C8D4E3",
                          "startlinecolor": "#2a3f5f"
                        },
                        "type": "carpet"
                      }
                    ],
                    "choropleth": [
                      {
                        "colorbar": {
                          "outlinewidth": 0,
                          "ticks": ""
                        },
                        "type": "choropleth"
                      }
                    ],
                    "contour": [
                      {
                        "colorbar": {
                          "outlinewidth": 0,
                          "ticks": ""
                        },
                        "colorscale": [
                          [
                            0,
                            "#0d0887"
                          ],
                          [
                            0.1111111111111111,
                            "#46039f"
                          ],
                          [
                            0.2222222222222222,
                            "#7201a8"
                          ],
                          [
                            0.3333333333333333,
                            "#9c179e"
                          ],
                          [
                            0.4444444444444444,
                            "#bd3786"
                          ],
                          [
                            0.5555555555555556,
                            "#d8576b"
                          ],
                          [
                            0.6666666666666666,
                            "#ed7953"
                          ],
                          [
                            0.7777777777777778,
                            "#fb9f3a"
                          ],
                          [
                            0.8888888888888888,
                            "#fdca26"
                          ],
                          [
                            1,
                            "#f0f921"
                          ]
                        ],
                        "type": "contour"
                      }
                    ],
                    "contourcarpet": [
                      {
                        "colorbar": {
                          "outlinewidth": 0,
                          "ticks": ""
                        },
                        "type": "contourcarpet"
                      }
                    ],
                    "heatmap": [
                      {
                        "colorbar": {
                          "outlinewidth": 0,
                          "ticks": ""
                        },
                        "colorscale": [
                          [
                            0,
                            "#0d0887"
                          ],
                          [
                            0.1111111111111111,
                            "#46039f"
                          ],
                          [
                            0.2222222222222222,
                            "#7201a8"
                          ],
                          [
                            0.3333333333333333,
                            "#9c179e"
                          ],
                          [
                            0.4444444444444444,
                            "#bd3786"
                          ],
                          [
                            0.5555555555555556,
                            "#d8576b"
                          ],
                          [
                            0.6666666666666666,
                            "#ed7953"
                          ],
                          [
                            0.7777777777777778,
                            "#fb9f3a"
                          ],
                          [
                            0.8888888888888888,
                            "#fdca26"
                          ],
                          [
                            1,
                            "#f0f921"
                          ]
                        ],
                        "type": "heatmap"
                      }
                    ],
                    "histogram": [
                      {
                        "marker": {
                          "pattern": {
                            "fillmode": "overlay",
                            "size": 10,
                            "solidity": 0.2
                          }
                        },
                        "type": "histogram"
                      }
                    ],
                    "histogram2d": [
                      {
                        "colorbar": {
                          "outlinewidth": 0,
                          "ticks": ""
                        },
                        "colorscale": [
                          [
                            0,
                            "#0d0887"
                          ],
                          [
                            0.1111111111111111,
                            "#46039f"
                          ],
                          [
                            0.2222222222222222,
                            "#7201a8"
                          ],
                          [
                            0.3333333333333333,
                            "#9c179e"
                          ],
                          [
                            0.4444444444444444,
                            "#bd3786"
                          ],
                          [
                            0.5555555555555556,
                            "#d8576b"
                          ],
                          [
                            0.6666666666666666,
                            "#ed7953"
                          ],
                          [
                            0.7777777777777778,
                            "#fb9f3a"
                          ],
                          [
                            0.8888888888888888,
                            "#fdca26"
                          ],
                          [
                            1,
                            "#f0f921"
                          ]
                        ],
                        "type": "histogram2d"
                      }
                    ],
                    "histogram2dcontour": [
                      {
                        "colorbar": {
                          "outlinewidth": 0,
                          "ticks": ""
                        },
                        "colorscale": [
                          [
                            0,
                            "#0d0887"
                          ],
                          [
                            0.1111111111111111,
                            "#46039f"
                          ],
                          [
                            0.2222222222222222,
                            "#7201a8"
                          ],
                          [
                            0.3333333333333333,
                            "#9c179e"
                          ],
                          [
                            0.4444444444444444,
                            "#bd3786"
                          ],
                          [
                            0.5555555555555556,
                            "#d8576b"
                          ],
                          [
                            0.6666666666666666,
                            "#ed7953"
                          ],
                          [
                            0.7777777777777778,
                            "#fb9f3a"
                          ],
                          [
                            0.8888888888888888,
                            "#fdca26"
                          ],
                          [
                            1,
                            "#f0f921"
                          ]
                        ],
                        "type": "histogram2dcontour"
                      }
                    ],
                    "mesh3d": [
                      {
                        "colorbar": {
                          "outlinewidth": 0,
                          "ticks": ""
                        },
                        "type": "mesh3d"
                      }
                    ],
                    "parcoords": [
                      {
                        "line": {
                          "colorbar": {
                            "outlinewidth": 0,
                            "ticks": ""
                          }
                        },
                        "type": "parcoords"
                      }
                    ],
                    "pie": [
                      {
                        "automargin": true,
                        "type": "pie"
                      }
                    ],
                    "scatter": [
                      {
                        "fillpattern": {
                          "fillmode": "overlay",
                          "size": 10,
                          "solidity": 0.2
                        },
                        "type": "scatter"
                      }
                    ],
                    "scatter3d": [
                      {
                        "line": {
                          "colorbar": {
                            "outlinewidth": 0,
                            "ticks": ""
                          }
                        },
                        "marker": {
                          "colorbar": {
                            "outlinewidth": 0,
                            "ticks": ""
                          }
                        },
                        "type": "scatter3d"
                      }
                    ],
                    "scattercarpet": [
                      {
                        "marker": {
                          "colorbar": {
                            "outlinewidth": 0,
                            "ticks": ""
                          }
                        },
                        "type": "scattercarpet"
                      }
                    ],
                    "scattergeo": [
                      {
                        "marker": {
                          "colorbar": {
                            "outlinewidth": 0,
                            "ticks": ""
                          }
                        },
                        "type": "scattergeo"
                      }
                    ],
                    "scattergl": [
                      {
                        "marker": {
                          "colorbar": {
                            "outlinewidth": 0,
                            "ticks": ""
                          }
                        },
                        "type": "scattergl"
                      }
                    ],
                    "scattermap": [
                      {
                        "marker": {
                          "colorbar": {
                            "outlinewidth": 0,
                            "ticks": ""
                          }
                        },
                        "type": "scattermap"
                      }
                    ],
                    "scattermapbox": [
                      {
                        "marker": {
                          "colorbar": {
                            "outlinewidth": 0,
                            "ticks": ""
                          }
                        },
                        "type": "scattermapbox"
                      }
                    ],
                    "scatterpolar": [
                      {
                        "marker": {
                          "colorbar": {
                            "outlinewidth": 0,
                            "ticks": ""
                          }
                        },
                        "type": "scatterpolar"
                      }
                    ],
                    "scatterpolargl": [
                      {
                        "marker": {
                          "colorbar": {
                            "outlinewidth": 0,
                            "ticks": ""
                          }
                        },
                        "type": "scatterpolargl"
                      }
                    ],
                    "scatterternary": [
                      {
                        "marker": {
                          "colorbar": {
                            "outlinewidth": 0,
                            "ticks": ""
                          }
                        },
                        "type": "scatterternary"
                      }
                    ],
                    "surface": [
                      {
                        "colorbar": {
                          "outlinewidth": 0,
                          "ticks": ""
                        },
                        "colorscale": [
                          [
                            0,
                            "#0d0887"
                          ],
                          [
                            0.1111111111111111,
                            "#46039f"
                          ],
                          [
                            0.2222222222222222,
                            "#7201a8"
                          ],
                          [
                            0.3333333333333333,
                            "#9c179e"
                          ],
                          [
                            0.4444444444444444,
                            "#bd3786"
                          ],
                          [
                            0.5555555555555556,
                            "#d8576b"
                          ],
                          [
                            0.6666666666666666,
                            "#ed7953"
                          ],
                          [
                            0.7777777777777778,
                            "#fb9f3a"
                          ],
                          [
                            0.8888888888888888,
                            "#fdca26"
                          ],
                          [
                            1,
                            "#f0f921"
                          ]
                        ],
                        "type": "surface"
                      }
                    ],
                    "table": [
                      {
                        "cells": {
                          "fill": {
                            "color": "#EBF0F8"
                          },
                          "line": {
                            "color": "white"
                          }
                        },
                        "header": {
                          "fill": {
                            "color": "#C8D4E3"
                          },
                          "line": {
                            "color": "white"
                          }
                        },
                        "type": "table"
                      }
                    ]
                  },
                  "layout": {
                    "annotationdefaults": {
                      "arrowcolor": "#2a3f5f",
                      "arrowhead": 0,
                      "arrowwidth": 1
                    },
                    "autotypenumbers": "strict",
                    "coloraxis": {
                      "colorbar": {
                        "outlinewidth": 0,
                        "ticks": ""
                      }
                    },
                    "colorscale": {
                      "diverging": [
                        [
                          0,
                          "#8e0152"
                        ],
                        [
                          0.1,
                          "#c51b7d"
                        ],
                        [
                          0.2,
                          "#de77ae"
                        ],
                        [
                          0.3,
                          "#f1b6da"
                        ],
                        [
                          0.4,
                          "#fde0ef"
                        ],
                        [
                          0.5,
                          "#f7f7f7"
                        ],
                        [
                          0.6,
                          "#e6f5d0"
                        ],
                        [
                          0.7,
                          "#b8e186"
                        ],
                        [
                          0.8,
                          "#7fbc41"
                        ],
                        [
                          0.9,
                          "#4d9221"
                        ],
                        [
                          1,
                          "#276419"
                        ]
                      ],
                      "sequential": [
                        [
                          0,
                          "#0d0887"
                        ],
                        [
                          0.1111111111111111,
                          "#46039f"
                        ],
                        [
                          0.2222222222222222,
                          "#7201a8"
                        ],
                        [
                          0.3333333333333333,
                          "#9c179e"
                        ],
                        [
                          0.4444444444444444,
                          "#bd3786"
                        ],
                        [
                          0.5555555555555556,
                          "#d8576b"
                        ],
                        [
                          0.6666666666666666,
                          "#ed7953"
                        ],
                        [
                          0.7777777777777778,
                          "#fb9f3a"
                        ],
                        [
                          0.8888888888888888,
                          "#fdca26"
                        ],
                        [
                          1,
                          "#f0f921"
                        ]
                      ],
                      "sequentialminus": [
                        [
                          0,
                          "#0d0887"
                        ],
                        [
                          0.1111111111111111,
                          "#46039f"
                        ],
                        [
                          0.2222222222222222,
                          "#7201a8"
                        ],
                        [
                          0.3333333333333333,
                          "#9c179e"
                        ],
                        [
                          0.4444444444444444,
                          "#bd3786"
                        ],
                        [
                          0.5555555555555556,
                          "#d8576b"
                        ],
                        [
                          0.6666666666666666,
                          "#ed7953"
                        ],
                        [
                          0.7777777777777778,
                          "#fb9f3a"
                        ],
                        [
                          0.8888888888888888,
                          "#fdca26"
                        ],
                        [
                          1,
                          "#f0f921"
                        ]
                      ]
                    },
                    "colorway": [
                      "#636efa",
                      "#EF553B",
                      "#00cc96",
                      "#ab63fa",
                      "#FFA15A",
                      "#19d3f3",
                      "#FF6692",
                      "#B6E880",
                      "#FF97FF",
                      "#FECB52"
                    ],
                    "font": {
                      "color": "#2a3f5f"
                    },
                    "geo": {
                      "bgcolor": "white",
                      "lakecolor": "white",
                      "landcolor": "white",
                      "showlakes": true,
                      "showland": true,
                      "subunitcolor": "#C8D4E3"
                    },
                    "hoverlabel": {
                      "align": "left"
                    },
                    "hovermode": "closest",
                    "mapbox": {
                      "style": "light"
                    },
                    "paper_bgcolor": "white",
                    "plot_bgcolor": "white",
                    "polar": {
                      "angularaxis": {
                        "gridcolor": "#EBF0F8",
                        "linecolor": "#EBF0F8",
                        "ticks": ""
                      },
                      "bgcolor": "white",
                      "radialaxis": {
                        "gridcolor": "#EBF0F8",
                        "linecolor": "#EBF0F8",
                        "ticks": ""
                      }
                    },
                    "scene": {
                      "xaxis": {
                        "backgroundcolor": "white",
                        "gridcolor": "#DFE8F3",
                        "gridwidth": 2,
                        "linecolor": "#EBF0F8",
                        "showbackground": true,
                        "ticks": "",
                        "zerolinecolor": "#EBF0F8"
                      },
                      "yaxis": {
                        "backgroundcolor": "white",
                        "gridcolor": "#DFE8F3",
                        "gridwidth": 2,
                        "linecolor": "#EBF0F8",
                        "showbackground": true,
                        "ticks": "",
                        "zerolinecolor": "#EBF0F8"
                      },
                      "zaxis": {
                        "backgroundcolor": "white",
                        "gridcolor": "#DFE8F3",
                        "gridwidth": 2,
                        "linecolor": "#EBF0F8",
                        "showbackground": true,
                        "ticks": "",
                        "zerolinecolor": "#EBF0F8"
                      }
                    },
                    "shapedefaults": {
                      "line": {
                        "color": "#2a3f5f"
                      }
                    },
                    "ternary": {
                      "aaxis": {
                        "gridcolor": "#DFE8F3",
                        "linecolor": "#A2B1C6",
                        "ticks": ""
                      },
                      "baxis": {
                        "gridcolor": "#DFE8F3",
                        "linecolor": "#A2B1C6",
                        "ticks": ""
                      },
                      "bgcolor": "white",
                      "caxis": {
                        "gridcolor": "#DFE8F3",
                        "linecolor": "#A2B1C6",
                        "ticks": ""
                      }
                    },
                    "title": {
                      "x": 0.05
                    },
                    "xaxis": {
                      "automargin": true,
                      "gridcolor": "#EBF0F8",
                      "linecolor": "#EBF0F8",
                      "ticks": "",
                      "title": {
                        "standoff": 15
                      },
                      "zerolinecolor": "#EBF0F8",
                      "zerolinewidth": 2
                    },
                    "yaxis": {
                      "automargin": true,
                      "gridcolor": "#EBF0F8",
                      "linecolor": "#EBF0F8",
                      "ticks": "",
                      "title": {
                        "standoff": 15
                      },
                      "zerolinecolor": "#EBF0F8",
                      "zerolinewidth": 2
                    }
                  }
                },
                "title": {
                  "text": "Outliers in 총주차면 vs 민원 수"
                },
                "xaxis": {
                  "anchor": "y",
                  "domain": [
                    0,
                    1
                  ],
                  "title": {
                    "text": "총주차면"
                  }
                },
                "yaxis": {
                  "anchor": "x",
                  "domain": [
                    0,
                    1
                  ],
                  "title": {
                    "text": "민원 수"
                  }
                }
              }
            }
          },
          "metadata": {},
          "output_type": "display_data"
        }
      ],
      "source": [
        "fig = px.scatter(outliers_df, x='총주차면', y='민원 수',\n",
        "\n",
        "                title='Outliers in 총주차면 vs 민원 수')\n",
        "fig.update_layout(\n",
        "    xaxis_title='총주차면',\n",
        "    yaxis_title='민원 수',\n",
        "    template='plotly_white'\n",
        ")\n",
        "fig.show()\n"
      ]
    },
    {
      "cell_type": "code",
      "execution_count": 26,
      "metadata": {},
      "outputs": [
        {
          "data": {
            "application/vnd.plotly.v1+json": {
              "config": {
                "plotlyServerURL": "https://plot.ly"
              },
              "data": [
                {
                  "customdata": {
                    "bdata": "AAAAAAAAaEAAAAAAwO/hQAAAAAAAAAhAAAAAAIDC40AAAAAAAAAUQAAAAABgsuVAAAAAAAAAO0AAAAAAQAntQAAAAAAAwFhAAAAAAACX6kAAAAAAAAA5QAAAAADAW+lAAAAAAAAA8D8AAAAAQPTkQAAAAAAAAPA/AAAAAIA45kAAAAAAAADwPwAAAACgSuVAAAAAAAAA8D8AAAAAgFzmQAAAAAAAgGJAAAAAAEBC4kAAAAAAAADwPwAAAACAcONAAAAAAAAA8D8AAAAAoEnkQAAAAAAAADVAAAAAAMD75UAAAAAAAADwPwAAAAAA6uVAAAAAAAAA8D8AAAAA4HvjQAAAAAAAAPA/AAAAAOB740AAAAAAAADwPwAAAACA4+NAAAAAAAAA8D8AAAAAQHPiQAAAAAAAAPA/AAAAAACh4kAAAAAAAADwPwAAAADgv+RAAAAAAAAA8D8AAAAAoNTkQAAAAAAAAPA/AAAAAIBd5UAAAAAAAADwPwAAAAAgbOVAAAAAAAAA8D8AAAAAoIHlQAAAAAAA2IpAAAAAAAB6oUAAAAAAANiKQAAAAAAAeqFAAAAAAABIgUAAAAAAAGytQAAAAAAA8ItAAAAAAACMrUAAAAAAAIiBQAAAAAAAYcVAAAAAAACwfkAAAAAAgOLPQAAAAAAA+IFAAAAAAADyq0AAAAAAACBsQAAAAADg3eNAAAAAAABclkAAAAAAAI3MQAAAAAAAMH5AAAAAAADAdkAAAAAAAAA7QAAAAAAAB+1AAAAAAADAWEAAAAAAoJTqQAAAAAAAADlAAAAAAMBg6UAAAAAAAEB/QAAAAACgIuVAAAAAAAAAJEAAAAAA4ETkQAAAAAAAAPA/AAAAACDC40AAAAAAAAA1QAAAAABAguZAAAAAAAAA8D8AAAAAwJ3hQAAAAAAAQFNAAAAAAAC85UAAAAAAAIiSQAAAAADADdJAAAAAAABIgUAAAAAAABCtQAAAAAAA0HhAAAAAAABds0AAAAAAANCBQAAAAACAxcxAAAAAAACIgUAAAAAAgNHEQAAAAAAA8HhAAAAAAADAh0AAAAAAALCTQAAAAAAA0LdAAAAAAACUlEAAAAAAgM/BQAAAAAAAEJFAAAAAAIDf0UAAAAAAAEiLQAAAAAAApclAAAAAAAC4gUAAAAAAAIyqQA==",
                    "dtype": "f8",
                    "shape": "55, 2"
                  },
                  "hovertemplate": "위도=%{lat}<br>경도=%{lon}<br>총주차면=%{customdata[0]}<br>민원 수=%{customdata[1]}<extra></extra>",
                  "lat": {
                    "bdata": "ChxjwwvBQkAnRfBu18JCQIRkuttUwkJAGTWzyJ7FQkDCYcILWMVCQGwD9BKpxUJAlHAo9zbHQkAOpOi0Q8dCQHip6dtEx0JACJEusSzHQkA9wP7jG8dCQI7ncIBRx0JAxr6271zHQkCiwzZloMdCQKBVBnVbx0JA/nSfMVvHQkD+dJ8xW8dCQG5qTrVbx0JAgPbWjTfHQkDlvmKkFMhCQP0+g9YCyEJAMPwDZwPIQkBm0MOI4sdCQPzqmPjdx0JAed8dZdvHQkCky6L3lcFCQKTLoveVwUJAqo+DJ+nDQkBEEF7xi8NCQKgiwwdnxEJAmQms9SnIQkCNY380d75CQNozriyPwkJAmENafO3EQkD2xvdi+8lCQDIEAMeexUJAbVSnA1nFQkAVPIVcqcVCQAGt8YDPxEJADlXnB2THQkDNf/4xY8dCQDhSz+X6xkJA+WUwRiTIQkDoCXS70cdCQFWjVwOUwEJAlQ9B1ejDQkBPr5RliMNCQLTDZwR+wkJAuhtdCGbEQkBcwso2qtFCQIV+ZEJlyUJAItHbCifJQkBCk0jLlshCQN2FWpGgyEJANh0B3CzKQkA=",
                    "dtype": "f8"
                  },
                  "legendgroup": "",
                  "lon": {
                    "bdata": "Xq/UvK7BX0CjIUpbpsJfQNq08Pu5wl9AcvflNb61X0Bw922PbLVfQN7fherOtV9A7pPS4y67X0ByoqJpJbtfQFJzWmEuu19A8useoSC7X0Aaa3na+blfQGMECqTouV9Aw/AZ+uu5X0A1pxtnBbpfQHVPJZ8Yul9AGjT1TwC6X0AaNPVPALpfQOZS8XIGul9Ar0Ie2T+7X0BQdRq0OrtfQHQKTo4wu19ADgnEDym7X0AQB5/pJLtfQEJs2K8ku19AbmhxkCS7X0DnlOPfbcRfQOeU499txF9A/zTm8i64X0Auv/q7LrhfQMdGZEjEvV9A/va2ufy/X0Aon3mUZcZfQHjhGBPswl9AYQkYGwLIX0C5CrXoFbNfQEs5X+y9tV9AmdcRh2y1X0BDyeTUzrVfQBlKWOG3tV9Adj6XBAO6X0A7L7phALpfQHRUPbLcul9Au5195UG7X0AcoXYqJrtfQMnjafmBwF9AoFG69C+4X0DxZDcz+rhfQEKLdFjEuV9AFoRVacm9X0DgbO8q1rpfQLuOYeN0vl9A0Qj0ka2/X0Di6EvrxsBfQL/wjK45wF9Af05BfjbFX0A=",
                    "dtype": "f8"
                  },
                  "marker": {
                    "color": "red",
                    "opacity": 0.8,
                    "size": 12
                  },
                  "mode": "markers",
                  "name": "",
                  "showlegend": false,
                  "subplot": "map",
                  "type": "scattermap"
                }
              ],
              "layout": {
                "legend": {
                  "tracegroupgap": 0
                },
                "map": {
                  "center": {
                    "lat": 37.548628865558854,
                    "lon": 126.9371193825955
                  },
                  "domain": {
                    "x": [
                      0,
                      1
                    ],
                    "y": [
                      0,
                      1
                    ]
                  },
                  "style": "open-street-map",
                  "zoom": 8
                },
                "mapbox": {
                  "center": {
                    "lat": 37.548628865558854,
                    "lon": 126.9371193825955
                  },
                  "zoom": 8
                },
                "margin": {
                  "t": 60
                },
                "template": {
                  "data": {
                    "bar": [
                      {
                        "error_x": {
                          "color": "#2a3f5f"
                        },
                        "error_y": {
                          "color": "#2a3f5f"
                        },
                        "marker": {
                          "line": {
                            "color": "#E5ECF6",
                            "width": 0.5
                          },
                          "pattern": {
                            "fillmode": "overlay",
                            "size": 10,
                            "solidity": 0.2
                          }
                        },
                        "type": "bar"
                      }
                    ],
                    "barpolar": [
                      {
                        "marker": {
                          "line": {
                            "color": "#E5ECF6",
                            "width": 0.5
                          },
                          "pattern": {
                            "fillmode": "overlay",
                            "size": 10,
                            "solidity": 0.2
                          }
                        },
                        "type": "barpolar"
                      }
                    ],
                    "carpet": [
                      {
                        "aaxis": {
                          "endlinecolor": "#2a3f5f",
                          "gridcolor": "white",
                          "linecolor": "white",
                          "minorgridcolor": "white",
                          "startlinecolor": "#2a3f5f"
                        },
                        "baxis": {
                          "endlinecolor": "#2a3f5f",
                          "gridcolor": "white",
                          "linecolor": "white",
                          "minorgridcolor": "white",
                          "startlinecolor": "#2a3f5f"
                        },
                        "type": "carpet"
                      }
                    ],
                    "choropleth": [
                      {
                        "colorbar": {
                          "outlinewidth": 0,
                          "ticks": ""
                        },
                        "type": "choropleth"
                      }
                    ],
                    "contour": [
                      {
                        "colorbar": {
                          "outlinewidth": 0,
                          "ticks": ""
                        },
                        "colorscale": [
                          [
                            0,
                            "#0d0887"
                          ],
                          [
                            0.1111111111111111,
                            "#46039f"
                          ],
                          [
                            0.2222222222222222,
                            "#7201a8"
                          ],
                          [
                            0.3333333333333333,
                            "#9c179e"
                          ],
                          [
                            0.4444444444444444,
                            "#bd3786"
                          ],
                          [
                            0.5555555555555556,
                            "#d8576b"
                          ],
                          [
                            0.6666666666666666,
                            "#ed7953"
                          ],
                          [
                            0.7777777777777778,
                            "#fb9f3a"
                          ],
                          [
                            0.8888888888888888,
                            "#fdca26"
                          ],
                          [
                            1,
                            "#f0f921"
                          ]
                        ],
                        "type": "contour"
                      }
                    ],
                    "contourcarpet": [
                      {
                        "colorbar": {
                          "outlinewidth": 0,
                          "ticks": ""
                        },
                        "type": "contourcarpet"
                      }
                    ],
                    "heatmap": [
                      {
                        "colorbar": {
                          "outlinewidth": 0,
                          "ticks": ""
                        },
                        "colorscale": [
                          [
                            0,
                            "#0d0887"
                          ],
                          [
                            0.1111111111111111,
                            "#46039f"
                          ],
                          [
                            0.2222222222222222,
                            "#7201a8"
                          ],
                          [
                            0.3333333333333333,
                            "#9c179e"
                          ],
                          [
                            0.4444444444444444,
                            "#bd3786"
                          ],
                          [
                            0.5555555555555556,
                            "#d8576b"
                          ],
                          [
                            0.6666666666666666,
                            "#ed7953"
                          ],
                          [
                            0.7777777777777778,
                            "#fb9f3a"
                          ],
                          [
                            0.8888888888888888,
                            "#fdca26"
                          ],
                          [
                            1,
                            "#f0f921"
                          ]
                        ],
                        "type": "heatmap"
                      }
                    ],
                    "histogram": [
                      {
                        "marker": {
                          "pattern": {
                            "fillmode": "overlay",
                            "size": 10,
                            "solidity": 0.2
                          }
                        },
                        "type": "histogram"
                      }
                    ],
                    "histogram2d": [
                      {
                        "colorbar": {
                          "outlinewidth": 0,
                          "ticks": ""
                        },
                        "colorscale": [
                          [
                            0,
                            "#0d0887"
                          ],
                          [
                            0.1111111111111111,
                            "#46039f"
                          ],
                          [
                            0.2222222222222222,
                            "#7201a8"
                          ],
                          [
                            0.3333333333333333,
                            "#9c179e"
                          ],
                          [
                            0.4444444444444444,
                            "#bd3786"
                          ],
                          [
                            0.5555555555555556,
                            "#d8576b"
                          ],
                          [
                            0.6666666666666666,
                            "#ed7953"
                          ],
                          [
                            0.7777777777777778,
                            "#fb9f3a"
                          ],
                          [
                            0.8888888888888888,
                            "#fdca26"
                          ],
                          [
                            1,
                            "#f0f921"
                          ]
                        ],
                        "type": "histogram2d"
                      }
                    ],
                    "histogram2dcontour": [
                      {
                        "colorbar": {
                          "outlinewidth": 0,
                          "ticks": ""
                        },
                        "colorscale": [
                          [
                            0,
                            "#0d0887"
                          ],
                          [
                            0.1111111111111111,
                            "#46039f"
                          ],
                          [
                            0.2222222222222222,
                            "#7201a8"
                          ],
                          [
                            0.3333333333333333,
                            "#9c179e"
                          ],
                          [
                            0.4444444444444444,
                            "#bd3786"
                          ],
                          [
                            0.5555555555555556,
                            "#d8576b"
                          ],
                          [
                            0.6666666666666666,
                            "#ed7953"
                          ],
                          [
                            0.7777777777777778,
                            "#fb9f3a"
                          ],
                          [
                            0.8888888888888888,
                            "#fdca26"
                          ],
                          [
                            1,
                            "#f0f921"
                          ]
                        ],
                        "type": "histogram2dcontour"
                      }
                    ],
                    "mesh3d": [
                      {
                        "colorbar": {
                          "outlinewidth": 0,
                          "ticks": ""
                        },
                        "type": "mesh3d"
                      }
                    ],
                    "parcoords": [
                      {
                        "line": {
                          "colorbar": {
                            "outlinewidth": 0,
                            "ticks": ""
                          }
                        },
                        "type": "parcoords"
                      }
                    ],
                    "pie": [
                      {
                        "automargin": true,
                        "type": "pie"
                      }
                    ],
                    "scatter": [
                      {
                        "fillpattern": {
                          "fillmode": "overlay",
                          "size": 10,
                          "solidity": 0.2
                        },
                        "type": "scatter"
                      }
                    ],
                    "scatter3d": [
                      {
                        "line": {
                          "colorbar": {
                            "outlinewidth": 0,
                            "ticks": ""
                          }
                        },
                        "marker": {
                          "colorbar": {
                            "outlinewidth": 0,
                            "ticks": ""
                          }
                        },
                        "type": "scatter3d"
                      }
                    ],
                    "scattercarpet": [
                      {
                        "marker": {
                          "colorbar": {
                            "outlinewidth": 0,
                            "ticks": ""
                          }
                        },
                        "type": "scattercarpet"
                      }
                    ],
                    "scattergeo": [
                      {
                        "marker": {
                          "colorbar": {
                            "outlinewidth": 0,
                            "ticks": ""
                          }
                        },
                        "type": "scattergeo"
                      }
                    ],
                    "scattergl": [
                      {
                        "marker": {
                          "colorbar": {
                            "outlinewidth": 0,
                            "ticks": ""
                          }
                        },
                        "type": "scattergl"
                      }
                    ],
                    "scattermap": [
                      {
                        "marker": {
                          "colorbar": {
                            "outlinewidth": 0,
                            "ticks": ""
                          }
                        },
                        "type": "scattermap"
                      }
                    ],
                    "scattermapbox": [
                      {
                        "marker": {
                          "colorbar": {
                            "outlinewidth": 0,
                            "ticks": ""
                          }
                        },
                        "type": "scattermapbox"
                      }
                    ],
                    "scatterpolar": [
                      {
                        "marker": {
                          "colorbar": {
                            "outlinewidth": 0,
                            "ticks": ""
                          }
                        },
                        "type": "scatterpolar"
                      }
                    ],
                    "scatterpolargl": [
                      {
                        "marker": {
                          "colorbar": {
                            "outlinewidth": 0,
                            "ticks": ""
                          }
                        },
                        "type": "scatterpolargl"
                      }
                    ],
                    "scatterternary": [
                      {
                        "marker": {
                          "colorbar": {
                            "outlinewidth": 0,
                            "ticks": ""
                          }
                        },
                        "type": "scatterternary"
                      }
                    ],
                    "surface": [
                      {
                        "colorbar": {
                          "outlinewidth": 0,
                          "ticks": ""
                        },
                        "colorscale": [
                          [
                            0,
                            "#0d0887"
                          ],
                          [
                            0.1111111111111111,
                            "#46039f"
                          ],
                          [
                            0.2222222222222222,
                            "#7201a8"
                          ],
                          [
                            0.3333333333333333,
                            "#9c179e"
                          ],
                          [
                            0.4444444444444444,
                            "#bd3786"
                          ],
                          [
                            0.5555555555555556,
                            "#d8576b"
                          ],
                          [
                            0.6666666666666666,
                            "#ed7953"
                          ],
                          [
                            0.7777777777777778,
                            "#fb9f3a"
                          ],
                          [
                            0.8888888888888888,
                            "#fdca26"
                          ],
                          [
                            1,
                            "#f0f921"
                          ]
                        ],
                        "type": "surface"
                      }
                    ],
                    "table": [
                      {
                        "cells": {
                          "fill": {
                            "color": "#EBF0F8"
                          },
                          "line": {
                            "color": "white"
                          }
                        },
                        "header": {
                          "fill": {
                            "color": "#C8D4E3"
                          },
                          "line": {
                            "color": "white"
                          }
                        },
                        "type": "table"
                      }
                    ]
                  },
                  "layout": {
                    "annotationdefaults": {
                      "arrowcolor": "#2a3f5f",
                      "arrowhead": 0,
                      "arrowwidth": 1
                    },
                    "autotypenumbers": "strict",
                    "coloraxis": {
                      "colorbar": {
                        "outlinewidth": 0,
                        "ticks": ""
                      }
                    },
                    "colorscale": {
                      "diverging": [
                        [
                          0,
                          "#8e0152"
                        ],
                        [
                          0.1,
                          "#c51b7d"
                        ],
                        [
                          0.2,
                          "#de77ae"
                        ],
                        [
                          0.3,
                          "#f1b6da"
                        ],
                        [
                          0.4,
                          "#fde0ef"
                        ],
                        [
                          0.5,
                          "#f7f7f7"
                        ],
                        [
                          0.6,
                          "#e6f5d0"
                        ],
                        [
                          0.7,
                          "#b8e186"
                        ],
                        [
                          0.8,
                          "#7fbc41"
                        ],
                        [
                          0.9,
                          "#4d9221"
                        ],
                        [
                          1,
                          "#276419"
                        ]
                      ],
                      "sequential": [
                        [
                          0,
                          "#0d0887"
                        ],
                        [
                          0.1111111111111111,
                          "#46039f"
                        ],
                        [
                          0.2222222222222222,
                          "#7201a8"
                        ],
                        [
                          0.3333333333333333,
                          "#9c179e"
                        ],
                        [
                          0.4444444444444444,
                          "#bd3786"
                        ],
                        [
                          0.5555555555555556,
                          "#d8576b"
                        ],
                        [
                          0.6666666666666666,
                          "#ed7953"
                        ],
                        [
                          0.7777777777777778,
                          "#fb9f3a"
                        ],
                        [
                          0.8888888888888888,
                          "#fdca26"
                        ],
                        [
                          1,
                          "#f0f921"
                        ]
                      ],
                      "sequentialminus": [
                        [
                          0,
                          "#0d0887"
                        ],
                        [
                          0.1111111111111111,
                          "#46039f"
                        ],
                        [
                          0.2222222222222222,
                          "#7201a8"
                        ],
                        [
                          0.3333333333333333,
                          "#9c179e"
                        ],
                        [
                          0.4444444444444444,
                          "#bd3786"
                        ],
                        [
                          0.5555555555555556,
                          "#d8576b"
                        ],
                        [
                          0.6666666666666666,
                          "#ed7953"
                        ],
                        [
                          0.7777777777777778,
                          "#fb9f3a"
                        ],
                        [
                          0.8888888888888888,
                          "#fdca26"
                        ],
                        [
                          1,
                          "#f0f921"
                        ]
                      ]
                    },
                    "colorway": [
                      "#636efa",
                      "#EF553B",
                      "#00cc96",
                      "#ab63fa",
                      "#FFA15A",
                      "#19d3f3",
                      "#FF6692",
                      "#B6E880",
                      "#FF97FF",
                      "#FECB52"
                    ],
                    "font": {
                      "color": "#2a3f5f"
                    },
                    "geo": {
                      "bgcolor": "white",
                      "lakecolor": "white",
                      "landcolor": "#E5ECF6",
                      "showlakes": true,
                      "showland": true,
                      "subunitcolor": "white"
                    },
                    "hoverlabel": {
                      "align": "left"
                    },
                    "hovermode": "closest",
                    "mapbox": {
                      "style": "light"
                    },
                    "paper_bgcolor": "white",
                    "plot_bgcolor": "#E5ECF6",
                    "polar": {
                      "angularaxis": {
                        "gridcolor": "white",
                        "linecolor": "white",
                        "ticks": ""
                      },
                      "bgcolor": "#E5ECF6",
                      "radialaxis": {
                        "gridcolor": "white",
                        "linecolor": "white",
                        "ticks": ""
                      }
                    },
                    "scene": {
                      "xaxis": {
                        "backgroundcolor": "#E5ECF6",
                        "gridcolor": "white",
                        "gridwidth": 2,
                        "linecolor": "white",
                        "showbackground": true,
                        "ticks": "",
                        "zerolinecolor": "white"
                      },
                      "yaxis": {
                        "backgroundcolor": "#E5ECF6",
                        "gridcolor": "white",
                        "gridwidth": 2,
                        "linecolor": "white",
                        "showbackground": true,
                        "ticks": "",
                        "zerolinecolor": "white"
                      },
                      "zaxis": {
                        "backgroundcolor": "#E5ECF6",
                        "gridcolor": "white",
                        "gridwidth": 2,
                        "linecolor": "white",
                        "showbackground": true,
                        "ticks": "",
                        "zerolinecolor": "white"
                      }
                    },
                    "shapedefaults": {
                      "line": {
                        "color": "#2a3f5f"
                      }
                    },
                    "ternary": {
                      "aaxis": {
                        "gridcolor": "white",
                        "linecolor": "white",
                        "ticks": ""
                      },
                      "baxis": {
                        "gridcolor": "white",
                        "linecolor": "white",
                        "ticks": ""
                      },
                      "bgcolor": "#E5ECF6",
                      "caxis": {
                        "gridcolor": "white",
                        "linecolor": "white",
                        "ticks": ""
                      }
                    },
                    "title": {
                      "x": 0.05
                    },
                    "xaxis": {
                      "automargin": true,
                      "gridcolor": "white",
                      "linecolor": "white",
                      "ticks": "",
                      "title": {
                        "standoff": 15
                      },
                      "zerolinecolor": "white",
                      "zerolinewidth": 2
                    },
                    "yaxis": {
                      "automargin": true,
                      "gridcolor": "white",
                      "linecolor": "white",
                      "ticks": "",
                      "title": {
                        "standoff": 15
                      },
                      "zerolinecolor": "white",
                      "zerolinewidth": 2
                    }
                  }
                }
              }
            }
          },
          "metadata": {},
          "output_type": "display_data"
        }
      ],
      "source": [
        "fig = px.scatter_map(df_outliers, lat=\"위도\", lon=\"경도\", hover_data=[\"총주차면\", \"민원 수\"])\n",
        "fig.update_traces(marker=dict(size=12, color='red', opacity=0.8))\n",
        "fig.update_layout(map_style=\"open-street-map\")\n",
        "# fig.update_layout(margin={\"r\":0,\"t\":0,\"l\":0,\"b\":0})\n",
        "fig.show()"
      ]
    },
    {
      "cell_type": "markdown",
      "metadata": {},
      "source": [
        "---"
      ]
    },
    {
      "cell_type": "markdown",
      "metadata": {},
      "source": []
    },
    {
      "cell_type": "code",
      "execution_count": 28,
      "metadata": {},
      "outputs": [
        {
          "data": {
            "text/html": [
              "<div>\n",
              "<style scoped>\n",
              "    .dataframe tbody tr th:only-of-type {\n",
              "        vertical-align: middle;\n",
              "    }\n",
              "\n",
              "    .dataframe tbody tr th {\n",
              "        vertical-align: top;\n",
              "    }\n",
              "\n",
              "    .dataframe thead th {\n",
              "        text-align: right;\n",
              "    }\n",
              "</style>\n",
              "<table border=\"1\" class=\"dataframe\">\n",
              "  <thead>\n",
              "    <tr style=\"text-align: right;\">\n",
              "      <th></th>\n",
              "      <th>고정형CCTV지번주소</th>\n",
              "      <th>latitude</th>\n",
              "      <th>longitude</th>\n",
              "    </tr>\n",
              "  </thead>\n",
              "  <tbody>\n",
              "    <tr>\n",
              "      <th>0</th>\n",
              "      <td>양천구 목4동 762-10</td>\n",
              "      <td>37.535891</td>\n",
              "      <td>126.870566</td>\n",
              "    </tr>\n",
              "    <tr>\n",
              "      <th>1</th>\n",
              "      <td>양천구 목4동 797-8</td>\n",
              "      <td>37.532740</td>\n",
              "      <td>126.867191</td>\n",
              "    </tr>\n",
              "    <tr>\n",
              "      <th>2</th>\n",
              "      <td>양천구 신월2동 496</td>\n",
              "      <td>37.524535</td>\n",
              "      <td>126.848224</td>\n",
              "    </tr>\n",
              "    <tr>\n",
              "      <th>3</th>\n",
              "      <td>양천구 신월7동 928-1</td>\n",
              "      <td>37.522349</td>\n",
              "      <td>126.833529</td>\n",
              "    </tr>\n",
              "    <tr>\n",
              "      <th>4</th>\n",
              "      <td>양천구 목1동 917</td>\n",
              "      <td>37.528982</td>\n",
              "      <td>126.874597</td>\n",
              "    </tr>\n",
              "  </tbody>\n",
              "</table>\n",
              "</div>"
            ],
            "text/plain": [
              "      고정형CCTV지번주소   latitude   longitude\n",
              "0  양천구 목4동 762-10  37.535891  126.870566\n",
              "1   양천구 목4동 797-8  37.532740  126.867191\n",
              "2    양천구 신월2동 496  37.524535  126.848224\n",
              "3  양천구 신월7동 928-1  37.522349  126.833529\n",
              "4     양천구 목1동 917  37.528982  126.874597"
            ]
          },
          "execution_count": 28,
          "metadata": {},
          "output_type": "execute_result"
        }
      ],
      "source": [
        "cctv_path = 'cctv.csv'\n",
        "cctv = pd.read_csv(cctv_path)\n",
        "cctv.head()"
      ]
    },
    {
      "cell_type": "code",
      "execution_count": 31,
      "metadata": {},
      "outputs": [
        {
          "data": {
            "application/vnd.plotly.v1+json": {
              "config": {
                "plotlyServerURL": "https://plot.ly"
              },
              "data": [
                {
                  "hovertemplate": "latitude=%{lat}<br>longitude=%{lon}<extra></extra>",
                  "lat": {
                    "bdata": "QZyHE5jEQkCxogbTMMRCQITY/fQjw0JAlQwAVdzCQkAaFqOutcNCQCi2gqYlxkJAZDF5z/7DQkDABkSIK8FCQGJnCp3XwkJAFdhMYp3EQkCuDRXj/MVCQPsjDAOWxEJARRMoYhHBQkDd7A+U28JCQMWRByKLxEJA4stEEVLDQkCeYtUgzMVCQA3iAzv+xUJAiZgSSfTEQkCOlZhnJcNCQJBmLJrOxEJANsr6zcTEQkCo5Qeu8sJCQNNydzIMwkJAvobguIzBQkDzdoTTgsNCQBFXzt4ZxUJAtYmT+x3GQkB7TKQ0m8VCQCaOPBBZxkJAOZz51RzMQkCPpQ9dUMtCQEATYcPTy0JAHooCfSLLQkBIpdjROMZCQDF4mPbNxUJAUTOkiuLFQkBCWmPQCclCQIy5awn5wkJAbO7of7nCQkBoJa34hsJCQA+BI4EGxUJAYyZRL/jCQkCoHf6arM1CQOnxe5v+zEJAfLQ4Y5jBQkBBLJs5JMNCQDIEAMeewUJACwxZ3erBQkC/DMaIRMFCQIF+Onlsv0JAi3TcfOW9QkCkdEQZBb5CQFBYf9cpwEJAJ1g1ax2/QkA8Wknpob1CQGv5/XKYvkJAzPNctgi9QkDn+6nxUr9CQCmtAUJSuUJAybhWOTzAQkBqZ5jaUsBCQJcity7Ov0JAHS+sNAy+QkANmzNoCb5CQED6Jk2DxEJANnNIaqHEQkDTS4xl+sVCQHIIh6S3vUJA+RS+xse9QkAulRLdjrpCQHEZeVEiv0JAhUc05Ey/QkD6N/0TO7tCQF+VC5X/vUJAzZG2bW/AQkBHkdaUu7xCQH3VBDDpv0JAZpT8worAQkDR6MxFFcJCQLH7juGxvkJAmcqqIdS/QkCG2Mt8qMJCQAa8q6JowEJAkOLz9ULBQkBjpDBSHMFCQGQihMtTwUJA/OTmI8LAQkDAn46FcL5CQGHwenq2vUJA760GMH69QkDI/8tSvsFCQNnel8i/wUJAvvGcynW+QkD6zYrJF79CQJqWFv26wUJAtqLNce7BQkAN2/3Hlb9CQG8vSH7tv0JAEyRbAhW/QkC5b3MyirxCQKbwf8uMvUJA9hfNDBO+QkCFUZzlqrtCQHi13JkJxEJA3dH/ci3EQkBO1T2yucRCQP1s5Lopw0JAaeTziqfEQkCnA1lPrcJCQE1lUdhFw0JAHCPZI9TEQkBssHCS5sVCQBIqQC1pvEJAIKpbA/y9QkCRNI8u/L1CQNxzqsbcvUJAl2t2ScG8QkAQbnw3p7xCQIFxFTCmvEJAWpq+S2e8QkBhyRMQLLpCQDIaO9k0ukJAQw7f/GXCQkDk9NRuZLpCQJTlXj9IvEJAqo1/2Zy7QkBaE2Y1OL9CQJqstDmMvUJAPWTKh6C5QkBoUjM5775CQBi8v6yWvEJAt/7pSCa+QkDWU+3LgL1CQDnGws6cv0JAv7U0M4q8QkBnuUtmZbtCQPTTC4Bpu0JAwwp90Rq/QkCSutcob7pCQItas/hBwEJAd4qPLjq8QkBpflxOIcJCQNsUj4tqxUJAescpOpLBQkBpemAyG8BCQDfUnHqswEJA3CAH46+9QkCQTEUyfb9CQO34J5+7wEJA2dQ3OCq9QkBBPBqgF71CQPTHUQzSwUJAKsnX8SHBQkBtXWITNsBCQN4H3pi3wUJApNew8L++QkBocpQwkb5CQL57T/5RvEJAH1XidHHAQkDba2L9drtCQH47R+yswUJAmLao5Fa/QkBoWDEBZL5CQNE3UH3zuEJAx4wJlMG9QkD7SvelxL1CQCpyJY5+v0JAPnNa4EC/QkC/jUHl575CQFvsF2jOvUJALmwwgRm7QkBb9fOFFMBCQPRW+lwvukJA1++y9Fu9QkADGAHbYsFCQAYaZHl0v0JA+0SWsxS/QkBF5GhMEL1CQN/MIvNMvkJAyEjul+y/QkB++9+2275CQAaCABk6wkJArFj8prDEQkA1mfG20sNCQI9GuiYBwkJA6lp7n6rEQkDdBrXf2sFCQF9gVijSw0JA/te5aTPCQkCiA7M7GsNCQCuJ7IMsw0JAK6HcMre+QkALSDXL6b5CQIgMcc0ZwEJAGx/ahW6/QkCSPBkUtL5CQA+/tAv6vUJAHWuQk9O9QkAw0Sh2F75CQMNNwly9v0JAmCSFaOO+QkBSC0ahvL1CQF768l0lwEJAL4tHsXW6QkAd0MqkI75CQN83GbC/vEJAu5jq8vu+QkAnAouy7b5CQD3jbznmvkJAJNCibzm/QkBGBGcZd79CQIwNgjMdvEJAK9w0rma6QkBvcQEmeL9CQKysTHzev0JA+2ARqnG5QkDJ+7zSR8BCQMgEajMW00JAddw6SQTTQkBPAptz8NJCQO3pNBzg0kJApoJrGLfRQkBExYiBrdFCQNe6eU+K0UJAC9Bug47RQkAvsKED0NBCQKAdnTLR0EJAnKGWPqTQQkC8DFqjec5CQLlMpv0uzUJAn8X3auzLQkDkm49/y8dCQCHAM+vWx0JAh+3d1WHHQkAmVGW94sdCQAutmFtryEJACuaeZGHIQkBtzoFza8hCQI8WDFMAyEJAClNc7YzBQkAq3JfYIcFCQN2wEpjzwEJAdwZXii7AQkCU6vExDsBCQOJcHsb/vkJAIfe+AuLIQkC8c82J4shCQEr8OBmVykJAK27cYn7KQkCXbyKf/MtCQNHT2/pEwkJAusdfda/BQkBtOQXsTMdCQCrgv4yrw0JAvwlhqhLNQkCS5oufY8ZCQPsXD8Ugx0JAIC7n5fXGQkAU7uutTMZCQE1itZ7GwkJAaOOz07nCQkBbcKYAXMJCQICT+tyGwkJAEnwdgvS9QkB+FvDXCb5CQKlPcodNzkJAaKDocGO9QkBqYWBnVMtCQMsO4/S0vkJAUniEWi7IQkA4Q4UZ08dCQHt8jAP5wEJA+iOxSSPAQkAYVpaNc8pCQBeLlYc7x0JAGNTDWyjHQkBEUSSacsZCQPXaAJ0NwkJAcDKvpYnHQkDq4Kr8fMhCQD82ByyUyEJANw2bElrLQkDX2MrwRMtCQEhik0YWyUJAI/vwgdHAQkCj1X+Mb8pCQDwYJ62t1kJAvbMsTmvCQkBo2rQIe8JCQAp86v3rxUJAvyIZ8q2/QkBf6SG/I89CQGHa3D3lwUJAx9+sd27NQkAKcF3ZHclCQGxeYYinyEJAyNvsrRDCQkBwSj2PDsJCQPHW+bfLyEJAZ7Yr9MHIQkCELgVPtchCQOHkyBS9yEJA8GS4ysHIQkC+CmllychCQOHJOtvZyEJAho4dVOLIQkDHAc0m48hCQFi/6iPlyEJATpfFxObIQkAqA2Jt58hCQJ+9RAYDyUJAbVCg9CrJQkDLL4MxIslCQCapTDEHyUJAuxodi/bIQkAuh08I9shCQLdk9E/zyEJAUuS6ZfHIQkBJEd708MhCQD3PcM/wyEJAihfh9+PIQkBwP/qq2shCQMT8BhTPyEJAQm41NMrIQkALoTmhxshCQBPMPcnCyEJAyJzCpb7IQkCV4IbTxchCQIITgUTPyEJAZt5pvt7IQkBureWEv8RCQPfBQ2LMxEJAsfRGUnfOQkAevig1+9FCQHZPQGYg0UJAGixO8oPGQkCtP3ijRcZCQGqg7/2ex0JAoRy7+me9QkCLGkzD8L1CQLq1KTpcx0JAl9+58j7HQkBLRb6mYsdCQFIFA7pFx0JAW256YXy8QkCo3VRJCbpCQJxJB0LF1EJAM7z+yYTTQkCJlx5MPspCQIuwSb6FykJAqdZnc0HGQkBKTb5wTMVCQNAigEAMxUJAGg2t2ETFQkCs+CsJ9cVCQHVWC+wxy0JA+4V9AEjOQkDpEQXYqc1CQOth8ElPxEJAzRl/kY/EQkCx/Pm2YMJCQKA0MTY1w0JA5DvnXavDQkDXLDVnlMFCQOwoGN9hz0JAk259JxrPQkB6LkR7XM9CQDfdskP8yEJA0fcJVovJQkDk4C3rWclCQCQUEbS4x0JAyaQ59DrHQkCgqbqujsdCQFAdq5SeyEJAUqpliBzIQkB3UyUlmMhCQJvk35xk0UJANpVFYRfFQkBIgrbtB8VCQKGdeHNdyEJAmeSRiaXFQkDHeaRmtMxCQJSx+IMz2EJA68hpSzfPQkA8FCOUSMdCQG2YStlgwkJA1lzJ6UbFQkDR0nAllrlCQDsEKrrruUJAqqiwCLS9QkC/IXuF5cFCQJUuWAXFwUJADLiOCnzAQkAJ6hEsR79CQBvY3vJLv0JAt6hgnt/AQkDFpGTeT79CQIESTNduxEJAy0t8VFrJQkAJY1XOKMlCQH/XDBWIyUJABM71rUvJQkC8sD7ne8dCQCU0k7lDx0JAMDpqlhXHQkCo1NtV/sZCQPgGFQsyx0JAU5fQszbJQkDKiuHqAMtCQJ79+9R+w0JABs3lo9DHQkA73LNTGL5CQFQCTUJ3w0JAJ7rXpljPQkBq86TxsMtCQOgGDw+QzEJAe+rGrxfTQkCJJs1FecpCQIi7Lf15uEJAYKr117q8QkCqvk5Fhb5CQCMYfJ/T0UJAG5ZmCNrEQkCjUZw8qcRCQFFgcrLUx0JAchQe3AnMQkB9l1KXjMNCQFzf3I3OwEJAI4N/BiXHQkArmD75YsZCQLSvMBD3vEJAh22TrkbMQkCDmfqAvLdCQLRQ2NAnvEJAPKr51bnBQkCAw7kHxMFCQOtARZOxwUJAeD/zYb7BQkDonGAYu8FCQJnQyYDIwUJAbRtGQfDAQkAH6CZDcsRCQDHNlXZYxkJAwZF/AbTEQkD5Q9iVO8lCQG7HLxdMyUJASV+a1OnOQkAyyJc3Ls9CQL/UZIhZz0JA3bSXvArPQkAU2MzI485CQJQhNJ4owUJAz44pBAPCQkAkFZDQMr9CQOP9yYz+v0JA5jT7ktbAQkAdRPFuVthCQGoWaHdIw0JAQz19BP7CQkBx5eyd0cJCQM0eaAWGwkJAWi2wx0TCQkCk4v+OqMJCQGO1+X/Vw0JApyVWRiPDQkBp44i1+MhCQCj0+pP4yEJA5gRtcvjIQkBYrOEi98hCQJf/kH77yEJA547+l2vFQkDx1vm3y8RCQDmX4qqyw0JAgIhBsqPDQkClETP7PMRCQB/4GKw4w0JAhZfg1AfEQkAprir7rsRCQK4SLA5nwkJAiq4LPzjDQkBvL2mM1sNCQAPPvYdLxkJARl1r71PDQkDpf7kWLcRCQAmH3uLhwUJAo5Ol1vvBQkB9zt2ul8BCQK3aNSGtvUJAW3hIdLi/QkCf5Xlwd75CQCwQPSmTvkJAW86luKrAQkBXIlD9g8BCQCOe7GZGwUJAHkE4qy7BQkA7qwX2mMBCQIxDBaC0x0JAm/z9/4vHQkCXCfl/2chCQJB1BoAJyUJAEOD8n6bIQkAs2AQgh8hCQOg5+V90yEJA7tH637rHQkBj9PXfd8dCQFkuAgDTxUJAi9n1f8zHQkACTgiAnsdCQC1W/d/LxUJAvnAAYGnFQkDeb/b/WMVCQH1f+X8XxkJAoDCL80HIQkDpYP2fQ8ZCQAQyAeDUxEJAuBsKwDvGQkCrxAKA38VCQHs8BMC+xUJAibYAwPPFQkCrRgrAmsVCQEP1/z+IxUJA44n/v1rFQkA00ve/SMVCQKTe+H96xUJAWs0hRtvFQkB4MQcgucVCQDw2+n/yx0JAA8wAQOPHQkCtTPilfrxCQJI+raI/vEJA0XR2Mji+QkDEeTiB6bxCQMLdWbvtvEJAuOnPfqS8QkDqPCr+77xCQJtwr8xbvUJABI9v7xq+QkBZFHZR9LxCQBwnhXmPvUJAt9RBXg+8QkCM3NPVHb1CQB9oBYasvEJAG4Uks3q9QkCPOGQD6bxCQGITmbnAvUJA+dnIdVO+QkBg5jv4ib1CQPyNdtzwvUJAVg3C3O69QkD1udqK/b1CQAGkNnFyvUJAvyfWqfK9QkD9MEJ4tL1CQOCEQgQcvkJAZeCAlq6+QkDnqnmOyLtCQHam0HmNu0JAL/mf/N29QkB1jgHZ671CQDFe86rOvEJAqU9yh02+QkBbRBSTN7xCQEktlExOvUJAn5PeN766QkA7hualIr5CQLCvdakRvEJArW2Kx0W7QkAHYAMixL1CQKTGAGCnyEJAFbsJAIbHQkBFQwjAJsdCQBb29t+xx0JAmhT2H1/FQkDPdwFA38RCQMwtCEA3yEJA/bUGANjFQkDpYP2fw8RCQB6OjcT0xEJAcXIBYKPFQkBbUfe/K8ZCQI5m+l+NxUJAi5r5HyrGQkAvIv4fL8ZCQAtv/18vx0JAW1H3v6vIQkDpYP2fw8hCQPJC+B+yxUJAj43+n1zHQkBZrPq/F8lCQDdHBIC2xUJA6LsAoC/GQkCLmvkfKsZCQERz+P9MxUJAj8z6//7IQkACTgiAHsZCQBAf+f/IxkJAzWj1H2PIQkBr2v/fXMhCQAc9/n9axUJAbMIHwAnHQkCrxAKA38ZCQCvw/D/axkJA+08GYObGQkBOKa+V0MdCQEwBxLh2x0JAcoimz0jOQkDjL9IwIchCQH15AfbRx0JApbvrbMjHQkBgHjLlQ8hCQBAEyNCxyEJAwpxFlJvIQkA540VwbchCQOtEOBxMyEJAiA/s+C/IQkBATMKFPMhCQH5TWKmgyEJA9vRssTbIQkDpmzQNishCQBXVbC+zyEJAHsNjP4vHQkB7uyU5YMhCQLXgRV9ByEJA106UhETIQkCBPpEnSchCQCI17WKax0JAXhQ98DHIQkCx3NJqSMhCQOHzHsJTyEJAwYAUK1nIQkBtjEI3oMdCQIguqG+Zx0JAtKj0uBTIQkAYYB+dushCQFyM+giZyEJAUHPyIhPIQkCLbjvk3c9CQAb/W9aDxUJA23oKlZjRQkA2CQ2QqtFCQOOPgkBa00JAfH2tS43IQkD/RpYna8hCQKoBlNCnyEJAvOnbXojIQkCzj7pCxMdCQOONzCN/yEJAjlw3pbzIQkBlGk0uxshCQIR+pl63yEJA2/AFd7HIQkAP6Vz2kMdCQLyQDg9hyEJA+p6JsozIQkBb7swEw8dCQBtjJ7wEyUJA0qkrn+XHQkAsHWJyWchCQET67evAx0JAnu3RG+7HQkC/AAwVLchCQHpVZ7XAyEJAxnnu887HQkC9VGzM68hCQEt1AS8zyEJAIoleRrHIQkCrQC0GD8lCQGr7V1aayEJAlR0srdDIQkDGrG8tE8hCQGqz+58NxkJAqp3+PxDFQkDci/2foshCQPHc93/AyEJAhF37n8/FQkBuZwTAHcVCQLex+p/TxUJAhgL4n+PGQkBd3vuf7MdCQCuxAOA3x0JAjakFQCbFQkAomNZL+MVCQCJl9j9hxUJAmzv6Xy7FQkA1+fv/l8VCQIZsB8DLxkJAQCn//yTIQkCxmwBgyMdCQOkhAUAhxkJAWaz6v5fGQkAuvP1/PcVCQKuFBiC9xUJAyHn/H6fIQkDpYP2fw8hCQAAAAACAyEJAXDn/n9jHQkBlG/ofR8VCQLaK9l8ExkJA/M3+H6vHQkAfWvmfW8dCQBTTASBZxUJAKjMIIHPFQkDQgfh6osdCQOgWuhKByEJAq3mOyHfIQkB77ZyWc8hCQHwsfeiCyEJAhnMNMzTIQkDVIw1ua8dCQDYj3pW4x0JAeJrMeFvHQkDr/UY7bshCQDhNnx1wx0JAHJWbqKXHQkBfmbfqOshCQPq4NlSMx0JAjuiedY3IQkAMzApFusdCQD0pkxrayEJAjjulg/XHQkCreCPzyMdCQLfvUX+9xkJAhI4MKIrIQkDPSlrxDcdCQOAb+XJVx0JA/D533bbHQkC0dtuF5sdCQC9q96sAx0JAEOZ2L/fHQkBlbynni8dCQFBu2/eox0JAfsQcRkjIQkDhm6bPDshCQDYEx2XcyEJAuHTMecbIQkCq8j0jEchCQKaaellqxkJAWGhS0A7HQkBlKFkUF8dCQNXi+EaZxkJAcTrJVpfHQkC8zLBR1sdCQAQEc/T4x0JAEtMqn4rIQkCVoYVfRchCQLR5d79lyEJA7SDhQVTIQkA/xty1hMhCQLHNncuax0JA16axvRbIQkD7rgj+t8hCQJjzUtK/yEJAv3yyYrjIQkDPSe8bX8dCQBE5fT1fx0JAE/JBz2bHQkBsr4n128VCQIOyW5G5xkJAy8N8WPPEQkAPpc2jKMVCQEEej1PTxEJASoyOedfEQkDd4ivLIcVCQP7XmFtKxUJATJmKQ2zFQkCrXKj8a8VCQON0UJFcxUJAHvoPZf/FQkAcwK5oa8VCQHECFYYvxUJANNDGW3jFQkCopfsxFMVCQPPPqbdIxUJAP4pbgXjFQkAb+Vm4bsZCQMMBobPUxUJAX3f8DxfHQkDFh4mAq8VCQNIi04i2xUJA8Ehmv4fHQkCIUlKSu8VCQKaq+b9dxkJAKu0mW1HGQkCEyxHPZcZCQIkzM/GWxkJAopG2jv3FQkBA14TV1MZCQCAtKdLYxkJAKHvwf+zGQkB+G8XmocZCQPV9/px+xkJAQhqA09zGQkCjklsPNsZCQBY3qNzIxkJAUWJ8PYTGQkA4QeWpWMdCQEzJzcs8x0JAm1ieD+jGQkDCdijxVsdCQEt/xOmDxkJA0gQGIKDGQkAWUl1EBMdCQDgANK1BxkJA6aQxOTnGQkDMKirqZcZCQOfORL9TxkJAQfzTeK/GQkDIOdoGqMZCQGJkTVXvxUJAYErRiCHGQkBW6Em64sZCQL0QWUFfx0JA9h8dR8HHQkCdQehFEsdCQPz///9cz0JAh399r4DGQkD5QdhmycxCQF7zqs5qx0JAceZXc4DIQkA1VBidJMdCQES+S6nLxUJAiN018DzGQkAPV9ZPYsdCQAAimsw6x0JAqkPRsFbHQkDqpwcewsdCQGOCVGmPyEJAUhHhPnbIQkAkV/uF6MdCQF1QnRbVx0JAXqTt6wLIQkBuI1RfzMdCQPEHC0CGx0JAjsI/tvbHQkBEvUP+V8hCQCJJe0kEyEJAsJIss0rIQkAVkf7qM8hCQHmrU4pCyEJAiN7acHXIQkCfGz/54MhCQPCrajCqyEJAJ0ut9xvJQkDRFGzp8shCQKfOo+L/yUJAYLMaGmjKQkDjhZZ928lCQPc2CScrykJAI7Wns07KQkBWE6aZcspCQPPSCtVoykJADB6mfXO9QkAqjC0EOb5CQDRN2H4yvEJAwt1Zu+26QkCnyveMRL5CQDc5fNKJvkJArws/OJ++QkDK+WLvxb1CQEzirIiavkJAIVuWr8u+QkAvhQfNrrtCQOBLZ2yEzEJAFavoYNnGQkDOdeMh9sVCQIoe+BiswEJAkg8SeDnDQkCFwUEBktNCQFuLK1lo00JAiZX4u+LKQkA8Xyi+FMpCQJqQOHS2yUJA9EmcUmPGQkA6rAOkPsZCQI6v+MxMx0JA9jUOygjGQkCjsmNxk8ZCQDvgumJGxkJAPboRFhXHQkAXDRmPUr1CQOF86lilvEJAgEqVKHu7QkBTQNr/AL9CQEiI8gUtvkJAL8N/uoG+QkBH5LuUurxCQDJaR1UTvEJAi6Td6GO+QkBKtyVywb1CQMdjBirjvUJAr3jqkQa9QkBq+YGrPMdCQHdLcsCuxkJA2w09olrLQkCOATMWPdRCQAzphEbR00JA0OIXJOPTQkB/t3TNO9VCQHnJ/+TvvEJA2scKfhu+QkCNCpxsA71CQGNGeHsQvkJAgEkqU8y9QkCxi6IHPrxCQMZSJF8JvkJAvwrw3ea9QkBHWipvR7xCQFpHVRNEu0JAGt8Xl6q8QkDoaFVLOrxCQGwhyEEJv0JAUfUrnQ+/QkB32ERmLr5CQFoRNdHnvUJArg/rjVq9QkBXdENN87xCQLmLMEW5vkJAzNHj9za9QkBTQNr/AL9CQFGFP8ObvUJAl/4lqUy9QkAQzqeOVb5CQIqPT8jOvUJASb4SSIm9QkBt/fSfNb1CQJC93v3xvEJAJ/Vlaae8QkDmkqrtJrxCQAK8BRIUvUJAuf/IdOi8QkBnKO54k71CQAtHkEqxvUJAZvol4q29QkAgQlw5e71CQAAC1qpdvUJA7E/icye+QkCdZ+xLNr5CQGyYofFEvkJA3bOu0XK+QkDI0LGDSr5CQGOARBMovkJAr8xbdR2+QkDXw5eJIr5CQEHYKVYNvkJA0LUvoBe+QkD7HvXXK75CQN0iMNY3vkJAP8iyYOK9QkBhcM0d/b1CQP4Mb9bgvUJAArnEkQe+QkBEMuTYer5CQFjLnZlgvkJAmrZ/ZaW9QkAMlX8tr7xCQC9RvTWwvUJA/P1itmS9QkDNWgpI+7tCQH3KMVncvUJAt5p1xve9QkD2QZYFE71CQGcN3lflvEJAxXWMKy6+QkAyqgzjbr5CQFGDaRg+vkJAzha68uLGQkACd+rbk85CQMngzb8CzkJAhs7GpYXNQkAtBg/Tvs5CQLg81owMz0JArnn6rULOQkBOTqN/OM1CQAjum1ZlzUJAfsqMEk/OQkBlprT+lsxCQIXSF0LOzEJAvhglQ+nNQkCrjJDLyc1CQNqnBEBsxUJAvQoAwPfFQkBzwAngwcZCQJ/rJ30lzUJAS5F8JZDMQkBW/QBaqc1CQCqZUk3/zUJACIyaVNnOQkACd+rbk85CQGgoSTIGy0JAlogBXNrLQkD5mor5Xs5CQC77+d9fxUJAlkwEYHLFQkCYMP2/KMZCQGZC/l8WxkJA/9j7vzDGQkA4hgDgWMhCQBX6BWAox0JA7O0BgATHQkASLgUgRcdCQEJQA0B0x0JAanT/P2vHQkDFEPmpkMxCQP7ugF/hx0JAOdPbT9HQQkCSDxJ4OcNCQKE3m1b10kJAfgDsPWHSQkCpzxXgmNRCQFvb4xYV1EJAvnhQmhfLQkArFVRU/cBCQHy0OGOYwUJAGvonuFjBQkASpFLsaL5CQAAAAAAAwEJAM1GE1O2+QkAVb2Qe+b9CQLn8h/TbvUJA5e0IpwXBQkA4nzpWKcFCQHjPgeUIwUJAFeEmo8rAQkDCFrt9Vr9CQHS0qiUdv0JAigPo9/29QkASTgte9L9CQEo03PPzwEJAcM/zp42+QkDekhywq79CQObpXFFKvkJAndoZprbAQkBk5ZfBGL1CQGq932jHwUJALQsm/ijAQkCatn9lpb9CQD7ONGH7vUJAwVYJFofBQkBm6VRDLL5CQO8S5odbv0JAJJhqZi29QkCYamYtBb5CQESKARJNvEJAOurouBq7QkA7qMR1jL1CQDepaKz9u0JAY15HHLK7QkB/+PnvwbtCQJ1LcVXZy0JATYQNT6/MQkCIhVrTvMtCQFJIMqt3ykJAVgvsMZHKQkAb9KW3P8lCQCygUE8fy0JACTTY1HnKQkD43XTLDslCQNnonJ/iykJARWgEG9fJQkA1tWytL8pCQJHxKJXwykJAokYhyazKQkCbdcb3xctCQHHMsieBy0JAppvEILDKQkCuug7VlMpCQEGDTZ1HyUJA4iNiSiTJQkC0fF3BJcpCQOY8Y1+yyUJAMbYQ5KDKQkCIZMix9chCQGixFMlXvkJAq+l6ouu8QkBRhNTt7L1CQCrKpfELvUJAKsdkcf+9QkB00CUcer1CQAmISbiQvUJAqYk+H2W8QkDJfu3L375CQJXJmbtQwEJAaZRHmmy9QkDeDA5hwr9CQJb+yu9Zv0JA4Dsgv+3BQkCcAx0QFbtCQEiwSH6KvUJAgHbyr4a+QkBakm4Rub9CQClANdqBv0JA/MbXnlnOQkDaA63AkMlCQLnL3mmlyUJAFZFhFW/MQkANbJVgccxCQOiHEcKjzUJA4PWZsz7JQkCDpbqAl8lCQB5QNuUKzUJAZQETuHXJQkBI+Um1T8tCQIP4wI7/ykJAQNmUK7zLQkClEp7Q68tCQC6QoPgxzEJA85ApH4LKQkAMB0KygMlCQO5brROXyUJAEticg2fKQkDTLTvEP8pCQCKNCpxsyUJAVd/5RQnKQkDI5V//r8tCQATXyBXKy0JAc3eTy5XLQkCSrbLfqMhCQP4uVzGVyEJA18JwDJbJQkAUFk1yEMpCQNTDB3I2ykJAnOGM5fPJQkCIkCU5Ab9CQL4vcHG7vUJAZylZTkK+QkAwwHjl/rpCQDoe2JYmu0JAiEdmHg6+QkBqtEVn07pCQCzIIo/Yv0JARGYV01jAQkA8KRdTfsBCQMA6M2a3v0JAvlURTSTAQkACvU/ZWcBCQJIKvsSzv0JA5zqNtFTKQkCXrfVFQstCQPrVHCCYy0JArd9MTBfKQkAG9phIacpCQM5SspyEykJAYp0q3zPKQkBsJAnCFcpCQISCUrRyy0JA6ZjzjH3JQkCbcRqiCstCQB9lxAWgyUJAC7PQzmnKQkDlKha/KcpCQOtTjsniykJA5KPFGcPMQkAl6gWf5sxCQNI41O/CykJAGAYsuYrJQkAJJxa27r9CQLzh47j4vUJAbEI5VefAQkB+Slt9ccFCQKF26ImhwEJAD28pKai+QkBlM+rO0cBCQEZ9DgPIwEJAP+l+LTO/QkBJbfuBH79CQKQZSYphwEJAnVcKu4fAQkBBjIR0AL9CQIWUn1R7wEJAukUmAWa8QkDAlezYCMxCQAk1Q6ooykJAyZOkaybNQkArFOl+Ts1CQEQ0uoPYyUJA8l61MuHJQkB72AsFbMtCQJlIaTaPyUJATtTS3ArLQkDzdoTTgslCQFzoSgSqy0JA8/+qI0fOQkDR56OMuMpCQIOluoCXyUJAKsWOxqHMQkCrI0c6A81CQEGC4seYyUJA4X1VLlTKQkDFyf0ORb1CQHTqymd5wkJAiqvKvivCQkBOe634RLxCQDZcooJcwEJA4pif+gu/QkBVtINbCMBCQP+vOnIkvkJA7RZ5QPa9QkD79657ir9CQDPtzTVtv0JAkbyMxWO+QkAu7tSWGb5CQEZYOydJvUJA4LRkfgO+QkDpZ2Y9Z79CQFwjmw4RvkJA3KvBwX+6QkBu2J2LEsJCQLBqOWUov0JA9U31v7fBQkBpk+JsMr9CQKPji3JAu0JAYXLdc2S+QkCMOxAfebtCQGIvVszvv0JAtNkmT7i+QkAq6bwh6LxCQFESEmkbzUJA2ZlC5zXCQkA9Sbpm8sFCQFmGONbFwUJAOxkcJa/CQkBt4uR+h8JCQK5H4XoUwkJA9Zz0vvHBQkCoNc07TsFCQAk4hCo1v0JAOdGuQsq/QkDX+iKhLb9CQHcD4NLXyUJAuYBp85TKQkDner0SXslCQLg8TqgbyUJAfvjsXTbJQkCBnWeOj8lCQNJw4SMAykJAB2t8ZjzMQkCegSQupMtCQBggFh2Dy0JA5t2xRq7IQkBBPAU6+MlCQNC5X6SYyUJAvXLa093JQkCB+wmA1L5CQEGePLAMvUJA03wAGPC9QkBvNuvGGr1CQAA+sphcvUJAtnWi6ni9QkDUgCDEPr9CQKxziI+6vkJAnOgt/U+8QkAwFbjI/79CQObgwk9Wv0JAOzt01Re+QkBwRSBmyL5CQIXOa+wSvkJADeWfdP3BQkBHSf4WU79CQI6SV+cYzEJArcCQ1a3OQkA7wmnBi85CQMO6Wn/AzUJAHhuBeF3LQkDCo40j1spCQHRC6KBLxEJAfH2tS43EQkAqc/ON6MRCQMLB3sSQxEJAwsHexJDEQkDTSiGQS8RCQAHaVrPOxEJAIef9fxy/QkBW4Pl/NL9CQB12AEClv0JA0J4FgK6/QkDs7QGAhMBCQPAfA2BZwEJARHP4/0zAQkC7ZQPAY8BCQPvzREIhv0JAkExFMn2/QkCRRkdqiL9CQJQXV2SNv0JAVJzVyE/CQkBh2fWgWsJCQGH1LnvlvkJAWpnXrlzCQkBaNJUsRMJCQPUL2e1xwkJACJvP84bCQkBOQkw23LxCQKmHaHQHzUJAHLeYnxvMQkBPeAlOfcRCQKpla32RxkJAwVd06zXHQkA7i96pgMdCQFBtcCL6xUJAih2NQ/3GQkDgZYaNssZCQHFUbqKWxkJAYfvJGB/EQkB6/N6mP8VCQK1NY3styEJA7YMsCybIQkALDFnd6sdCQDnSGRh5x0JAI6RuZ1/HQkCm7QSgdsFCQKWuCEBUwUJAouIHAPG+QkAfWvmfW8FCQG/NBGCPwUJAfSD9H/XBQkCD3wLgCsBCQC0w+dmnvkJASx7TAzS8QkBf65Q/Rr5CQKjd8R5Ou0JAbTx1OPy+QkDMvgIDTsBCQFCTdCgewEJA8DQVuRLBQkCPJou5c8BCQDyX89YKwEJAfpAjpfK/QkBbK/O5h8BCQIJQYgB2wEJA2NzJjqrAQkCWD1pyCcBCQDiWoFQ1wEJAXOZ0WUzMQkD+ZffkYc1CQNCzWfW5xkJAcqPIWkPFQkAhlPdxNMVCQMaIRKFlxUJAg4k/ijrFQkAd5PVgUshCQK9eRUYHxEJAEXFzKhnEQkDAX8yWrMhCQIPg8e1dxUJAgsXhzK/EQkD3aLtTS79CQKm19l/jv0JAv+74H66/QkDgAApgEMBCQPK20muzw0JAd4j7ny7AQkDK3/+/mMBCQNQNFHgnv0JAKOX/n9S/QkAN1f//oMFCQMCT9R9CwUJAU9X83y7BQkAopgNAMsFCQDluCMAFwEJA/HlsLqvAQkD6pXZtjMBCQO2dsEg8wEJAEXaC5LrAQkCTDkGbvcBCQBtZZAG0v0JApZb3gmDAQkBuAiVowMBCQBmdXu+fv0JA2gOtwJDNQkCa6zTSUs1CQFzJ5kztvUJACat0pri/QkDvA5DaxL5CQHQTa6ecvkJA3MfA8ADBQkBfbBCc6b1CQPAUcqWevUJApGiKpe2/QkD1EfjDz75CQK8Hk+Ljv0JAH/HQHP6/QkCQfMrWn79CQP7hnTLtvUJAqsmd4+29QkCiudknx79CQIWMkTafwEJAvGTSlb6/QkBRRNDi1r5CQAS3pFmPvkJAdJtwr8y+QkBJXSXYnr1CQHhha7byv0JAdT3RdeG+QkAGLLmKxb9CQIPiIlIuvkJAHoHkQoq/QkD0WfnA6b9CQB1Z2FfHwEJASutvCUDAQkBgdi4QLb9CQOkZkPeJvkJAqVl3XvC9QkBZOvYe9L1CQCh0h+LIvUJAxBCUNrC/QkBHqL6Y0r1CQG84A47KvUJAKuZ7oVu9QkAoWOvdgr1CQMRLJl1pvUJAj5l296G9QkAqBXo0l71CQHhXA7WUvkJARgiPNo7MQkANbJVgccxCQNAn8iTpzkJAb7OHMSbNQkA7LYn9r79CQPk3w2ixvkJAdzY/WYy/QkBECUSZV79CQK44i819v0JAPc7Zp4i/QkAiOl9Hd8FCQNv66T9rwEJAW3o01ZO+QkCHfSYIOL5CQMFxGTc1wEJA220Xmuu9QkBWx+AXTcBCQCAAgoMHwEJAtF38yAjAQkCbeva/0MBCQFNXBCBqxEJAUIsD4IbBQkBupgAgwL5CQPGFAwDLwEJA7lwY6UXBQkA6AyMva8BCQJyh+v+fwEJAaHP/BUC9QkDjwO0BIb9CQC1awtInv0JA2FTM90K+QkABz0kxOL9CQBf7Jqg8v0JAdgCjT1S/QkCV9h/8OL1CQMdKzLMSvUJAfMAaq1/MQkDmkT8YeMpCQD5/DvpIykJA5bm+Dwe+QkB8sDFUar5CQLERLR6DwEJApElzdRG+QkAZYqu6/b1CQJChYweVwEJABmi2hq29QkCM328Pnb5CQPRBhdm6wEJAiBo7l5i+QkATIFTzZr5CQNjgM8gTv0JAWh5aGq7AQkBsKXum8r5CQG6M+KmFv0JArHDLR1K+QkDnBigDncBCQMJOsWoQwEJAWf0RhgHAQkATM7GvK75CQINkpllFwEJAPGu3XWjKQkB+CtwQaspCQF7SNIZHykJAFvqkLfXMQkB27ofpjMhCQEH77UmbzEJAWJaDKxbMQkCmxsBNJMhCQKmv3OM8yEJAQQQDpXS9QkBBD5RfL75CQPC4TV0evkJAJoKjqiq+QkCh1MFuFr1CQDExjnjPvEJABZuEHCW+QkCH/gkuVsxCQAlQU8vWzkJArg0V4/zJQkB5AfbRqctCQOiC+pY5vkJAvWg0Xl++QkAhCsEFNL5CQAAZ37zdvUJA2n19Y77AQkCGZujpbcFCQBI0wctnv0JAnHqTlRW+QkA2mhL/Zr9CQIyKk1bXvUJAN4L50KrAQkANfPspRMFCQORtUnm0wEJABDLNLaG/QkCT7dXn87xCQA5a/jLOvUJACS77Gu6+QkBUZ/9NOb5CQBOP1fcrvkJAK97IPPK/QkBl9VhEXr9CQB2LcEdyyEJAcyuE1VjIQkDnPn3ZX8hCQBiUlpw+yEJALiUx1eLLQkBt2NYrA8lCQImoJ9+ny0JAfFtYcyjJQkDH8jrQyspCQFoQyvu4vkJA1e1H5YHAQkA6tCMwMcBCQHaJLMrTvkJA+vnnUKO7QkDACYUIOMxCQOBKdmwEzkJAl5APejbLQkCy4Nl5dsBCQGSoL/CBwEJAmBzSA3q/QkC6Foj5Tb5CQMvQwq+ivUJArO5HQDu/QkC0SbZWNsBCQBfRG5Nqv0JAgpPImYG/QkDkZIedzsBCQIzfbw+dwEJAfGDHf4HAQkCg+NYsPMBCQP1Itl/jvkJAEvkupS7JQkBUbqKW5shCQAUWwJSByUJATBk4oKXJQkBr1hnfF8lCQO65cJJNyUJAq3r5nSbJQkDt72yP3shCQGLFltedykJAT0ATYcPJQkDNrnsrEslCQOaxZmSQyUJAbhlwlpLJQkCxhovc081CQOApBVkmv0JACQyjaoW7QkBl1nu/i7tCQJ6S1oxKv0JAxsjt8gi9QkCmv49RO71CQBb6YBkbvkJA9Q63Q8O+QkBWRiOfV75CQBb6YBkbvkJA/8u1aAG+QkAeGavN/71CQMAg6dMqvkJAz9csl42+QkA6BmSvd71CQK3ddqG5zkJAtI6qJojKQkAnigubYs5CQMhBCTNtzUJASuUcFrXKQkAy5q4l5MlCQMg/M4gPykJAUrZI2o3KQkAOar+1E8tCQLLyy2CMzEJA1v7O9ujLQkDvrN12oc1CQOVgNgGGzUJAI04n2erIQkBTsMbZdMpCQL5nJEIjykJAEhPU8C3KQkBrLcxCO8lCQLAfYoOFyUJARrQdU3fJQkAtza0QVslCQCRd/rAiyEJAUbd8qonKQkBrwvbCTMxCQAKICRgdzEJACA1rCH3MQkCDemWhn8xCQEcZP+cqyUJAH5En85rJQkDiS1vfoMpCQJU2HW+nyUJAB1gLP1XJQkCkO9H2tcpCQLN+bXJ3ykJAj1GeeTm8QkBPzHoxlL1CQOrsZHCUvkJAT5DY7h68QkBgBfhu87xCQPT8aaM6u0JAyxDHuri9QkB8REyJJL5CQKKXUSy3vkJA7YDrihm9QkC7mGa6171CQODb9Gc/ykJAJGQgzy7JQkDE7GXbaclCQIld29styUJAUrXdBN/IQkCYvWw7bclCQBRa1v1jyUJA6xnCMcvKQkBcAYV6+shCQCVBuAIKyUJA6L0xBADJQkB7vJAOD8lCQFw7URISyUJALrw0UsvIQkCGPIIbKclCQITU7ewryUJAnwCKkSXJQkDCvp1EhMlCQIpXWdsUyUJA3zR9dsDJQkD3AN2XM8lCQKr2kYz4yUJAi4f3HFjKQkDkScrF/8hCQJ7meoRpy0JArELCa1HJQkAFpREYmslCQCc876gkyUJAIhZV0onLQkBMGqN1VMtCQJnwS/28vUJAUkfH1ci+QkBiLT4FwLxCQAd+0Ipa1UJAus/YNELUQkDcK9JI9NNCQD1r0PoI1EJA7+3QjwrUQkAin4C7JtFCQKChwZ5d0UJAqDwVywjVQkANzETwQ9RCQHAwacaB0kJA4NIYSnnWQkDmukKC1tZCQA/LLGM/1kJA0drAX0TWQkAPIwiAP9FCQLaK9l8E0EJAlkwEYPLPQkA3CAgglNFCQDW6/5910UJAvRjKiXa5QkBSb/w/PdFCQCLPBWDJ0UJAC6gn9pPRQkDqSAWAcNFCQNHcLNmO0EJAAD/8XyLRQkAYhwpA6dBCQAypGAEE0EJAhowMdgLQQkCewvYm+89CQFIYCMBH0UJA2Fn8v03RQkAtVv3fy89CQL5wAGBp0EJAf+z9X9jPQkDXf4gMts9CQA6lPukMz0JA2NsDAAnQQkCuUQdgINBCQJHbBiD7zkJAajUD4EjPQkAxx/ofQ89CQEr2sQk4z0JA8OAGADfPQkBYRvofJs9CQML59b8zz0JAz3cBQF/PQkBOpwqA0M9CQOAACmCQz0JAE3r2EsDPQkDY2wMACc9CQBDg/J8mz0JAraj73xXPQkCTQQfA7M5CQCJN/h+OzkJAYOn4P3LOQkBCDfhfW85CQEyY/l/UzkJA46H3363OQkDdcwWAz89CQBhE/1/QzkJAFmAGAJrOQkB4MQcguc5CQNIEBiCgzkJATYAGQIHOQkAMVwdAXM9CQAF++L9Ez0JA97P1XynPQkAIu/Y/H89CQCsv+Z/8zkJAFBL+f/vOQkBmhsvwYdBCQBFe9V/r0EJAinP139rQQkAIJQZgh9BCQCwXAYCp0EJAQWj7X8fQQkDCogFAvtBCQJkLpa1s0EJA1Cf733jQQkAy7v5fktBCQPfeCCBv0kJAywYEAGjSQkAUlAXANtJCQGry9/8v0kJAFrf6fw/SQkB1+/a/7dFCQFeJBQC/0UJAcloJQNDRQkCYrvV/bdRCQNqnBEBs1EJAun3737bTQkBp9gaAptFCQDtSASC80UJATJj+X1TSQkA9oAmgWtJCQOvG/T810UJA7pL+fxjSQkBU/AAgftJCQNgaAGAr0kJA21Gco468QkDqWRDK+7xCQPEPW3o0vUJA9FDbhlG8QkAJ3/sbtLtCQLmKxW8KvUJAeJrMeFu9QkB1BkZe1rpCQNbFbTSAu0JAA2A8g4a8QkBm2ZPA5rxCQBoWo661u0JArBxaZDu9QkCbO/pfrrlCQM6luKrsu0JAXyUfuwu6QkBuF5rrNLpCQNI1k2+2u0JApmQ5CaW7QkByF2GKcr1CQMGLvoI0vUJA1/hM9s+5QkBFEyhiEb1CQDkroib6vEJA91j60AW9QkAvMgG/RrxCQPdzCvKzu0JA5dTOMLW5QkCGksmpnblCQDbOpiOAvUJAePLpsS25QkAAyAkTRrlCQDcawFsguUJAXMZNDTS7QkBYqgt4mb1CQCgLX1/rvEJAXRd+cD65QkAFpz6QvLlCQJLPK556ukJAZCR7hJq5QkAz/KcbKLxCQOdR8X9Hu0JA+6b631u6QkAr6KwFrLpCQCdsPxnju0JA5rLROT+5QkA6zm3CvbxCQMvydRn+xUJA9IqnHmnGQkBzSGqhZMZCQKkWEcXkxUJA5pXrbTPFQkBfCg+aXcVCQEpgcw6exUJA1O5XAb7FQkBZF7fRAMZCQML8FTJXxEJAxvgwe9nEQkCOdAZGXsRCQLosJjYfxUJAGLDkKhbFQkDSHcTOFMRCQOxMofMaw0JAqfsApDbDQkC1b+6vHsNCQHB87Zklw0JAjJ3wEpzCQkCrsBnggsJCQKWFyypswkJAX/BpTl7CQkD1g7pIocJCQPziUpW2wkJAc9pTck7CQkBNEeD0LsJCQGo0uRgDw0JAPPceLjnEQkC7nX3lQcRCQGjr4GBvxEJAqb2ItmPEQkAIHK56ZcRCQCed7XZixEJALIt4oW/EQkBiX/x+e8RCQPYjRWRYxEJA/6yeOCXFQkBaL+ErFcVCQMGO/wJBxUJA+DQnLzLFQkCzkCUYc8RCQAIo69xZxEJAat5xio7EQkBRvMrapsRCQNCF7BdHxEJAqinJOhzFQkDAhvHk5MRCQE3FfC90xEJAQ+OJIM7DQkCG3LF9bcRCQAIyz6UTxEJAveKpRxrGQkBmWqzyTsRCQGK6EKs/xEJAqmVrfZHEQkCEuHL2zsRCQDNTWn9LwkJA3/sbtFfDQkCAt0CC4sNCQP3jfHaZyUJANhkyrJvJQkBmQz/KxslCQP2Oc2IpykJA1n6Ep7TLQkB6xyk6kr9CQAgDz72Hv0JA1v85zJe/QkCVYHE4879CQP8h/fZ1wEJA1EM0uoPAQkBjKCfaVcBCQOkOYmcKwUJAiGh0B7G/QkDd0mpI3L9CQJT2Bl+YwEJAQN6rVibAQkAcQpWaPcBCQG5RZoNMvkJA/DVZox6+QkDmV3OAYL5CQEOtad5xvkJAbjSAt0C+QkB1zeSbbb5CQDOK5ZZWv0JAUyKJXkbBQkAMB0KygMFCQAw89x4uwUJAUyKJXkbBQkCTb7a5McFCQL1vfO2ZwUJAqIx/n3HBQkCDF30FacJCQIQNT6+UwUJAza/mAMHAQkCi0R3EzsBCQMPwETElwkJAAK5kx0a8QkBq2VpfJLxCQPmDgefeu0JAQKTfvg68QkD/snvysLxCQOWbbW5Mu0JAvLN224W+QkAfEVMiib5CQOCEQgQcvkJAO1PovMbCQkC7RPXWwMJCQOwvuycPw0JAEMzR4/fCQkAeM1AZ/8JCQOUK73IRw0JAelORCmO/QkA5ud+hKMBCQHnpJjEIwEJAcm2oGOe/QkAbEvdY+sBCQOrPfqSIwEJA3SQGgZW/QkCNtFTejsBCQAAd5ssLwEJAEyf3OxTBQkAH6/8c5r9CQECH+fICwEJAuXAgJAvAQkAF3V7SGMFCQIXrUbgewUJA7MA5I0q/QkAqUmFsIcBCQAq/1M+bvkJAD+7O2m2/QkDr4jYawL9CQL3GLlG9vUJA83aE04LDQkDDnnb4a8JCQAkbnl4pv0JA1m670FzDQkDYuz/eq8JCQFdD4h5Lw0JApUkp6PbCQkAB3gIJisNCQMl2vp8aw0JAyVnY0w7DQkCCc0aU9sJCQFFOtKuQwkJAvRjKiXbBQkDEWnwKgMFCQJYhjnVxv0JA+FPjpZvAQkBXBP9byb5CQFuU2SCTwEJAtf0rK02+QkAtCVBTy75CQIo8SbpmwkJALbKd76fCQkAJpwUv+r5CQHJQwkzbv0JAJuSDns3CQkD3deCcEcFCQN5UpMLYvkJARYhEBBDAQkB1iIdJG8BCQLPSpBR0v0JA9P3UeOm+QkDJk6RrJsNCQJBOXfksw0JA7GmHvybDQkAIVWr2QMNCQC1gArfuwkJADTfg88PAQkAkYkok0b9CQGQGKuPfv0JAcY+lD13AQkCCc0aU9sJCQB8RUyKJvkJAM4rlllbDQkD7IqEt58JCQA8om3KFw0JA1hwgmKPDQkD1LXO6LMJCQK93f7xXwUJApPyk2qe/QkCpTZzc78BCQJPjTulgwUJAQ+c1donCQkDuJY3ROsJCQOCcEaW9wUJA5/up8dLBQkDLuRRXlcFCQGgibHh6wUJAGhcOhGTBQkBR2ht8YcJCQGe4AZ8fwkJAGm7A54fBQkBdbcX+ssNCQMGtu3mqw0JAwZDVrZ7DQkADYDyDhsJCQJz51RwgvEJAOX8TChG8QkDcKR2s/7tCQL5qZcIvwUJAN4yC4PHBQkDZzvdT48FCQDTXaaSlwkJAJICbxYu/QkCVmj3QCsBCQHJtqBjnv0JAlfHvMy7AQkAyj/zBwL9CQPzjvWplvkJANIXOa+zCQkCJXkax3MJCQMdoHVVNwEJA24XmOo3AQkDs3R/vVb9CQFVNEHUfwEJAYwPQxTLBQkBvNLpiSr5CQC0Z8MenwUJAoqFWA9rBQkDepf2kFMNCQJC3Q2A4w0JA7Q4pBki+QkB9eQH20b1CQJgXYB+dvkJAe4MvTKa+QkD/CS5W1LxCQHbgnBGlwUJA9iNFZFjBQkAFhqxu9cBCQHicoiO5wEJAdQKaCBvCQkAh6j4AqcFCQDD186YiwUJAkx0bgXjBQkDLLa2GxMFCQL3jFB3JwUJAbkxPWOLBQkBSJ6CJsMFCQDdUjPM3wUJAtYmT+x3CQkDhfyvZscFCQF+1MuGXwkJAxSCwcmjBQkAvo1huacFCQGxblNkgv0JAQgkzbf++QkCreCPzyL9CQMEcPX5vv0JAwaikTkC/QkBsCfmgZ79CQLfRAN4CwUJAJGJKJNG/QkB3hNOCF8FCQOuQm+EGwEJAB0KygAnAQkAGgZVDi8BCQKqCUUmdwEJAwHgGDf2/QkDcSxqjdcBCQIrNx7WhvkJAUiy3tBq+QkBfXoB9dL5CQFjFG5lHvkJA0T/BxYq+QkD0T3Cxor5CQEok0csovkJAGHjuPVy+QkAhByXMtMFCQNnr3R/vwUJAfXkB9tHBQkAVAOMZNMBCQCRiSiTRv0JAgbIpV3i/QkBHWipvR8BCQDhKXp1jwEJApKoJou6/QkDsEtVbA79CQFdbsb/svkJAl3Mpriq/QkCzzY3pCb9CQOW4UzpYv0JAiIBDqFK/QkDrHAOy179CQFJJnYAmvkJAWYY41sW9QkD83qY/+71CQNaoh2h0w0JArhIsDmfCQkB6whIPKMNCQHRGlPYGw0JArOKNzCPDQkDY0w5/TcJCQBh47j1cwkJAkKD4MebCQkAsfeiC+sJCQB+i0R3EwkJApYP1fw7DQkAsSDMWTcNCQOz6Bbthw0JAbEPFOH/DQkBXW7G/7MJCQBCv6xfswkJAn3b4a7LCQkCQiCmRRMNCQDSAt0CCwkJAf93IwCrPQkD9SNdtTM9CQAPVu09A0EJAxOSydoDPQkBom3aMhtBCQDiwydjY0UJAO+vo8kXTQkCPevycitNCQIa/T+oF0kJAHiIDsyHSQkD7Fb4Ac9RCQJryvn1f1EJASfQyiuXSQkCQ+ojr2tNCQDRw9r081UJA4aP2Cb3TQkAY4IrdodNCQNd0FFLE00JAMivrac3TQkCBiB5CptRCQHFDhGb000JAQ6vVT+bTQkCkNLzVytVCQPdQy6TAz0JAXCzaVhLQQkCsaQfxu89CQBrmXyZl0kJAB7ZKsDjPQkBStR8hMdRCQFQOmE2h0EJAUDeS/O/RQkDIpHUKqNNCQAE8N6fx0EJAnpVZKanPQkAeRzm5W9FCQFNSDgNp00JAl+MViB7WQkDQBkdmgc9CQP67mSzJzkJAEf0cF7zRQkDk8fYYE89CQBg+x+xR1kJA/+GVwSTTQkCHbCBdbNVCQOENxA1T0UJAxkGV3FnQQkDENco8atVCQCJo1JUy1EJAjr9hYKXUQkCcl/Uofc9CQMDfmgHPz0JAoiRm7gjVQkCUzclJsNFCQHh95qzP1EJAq0BOFHjQQkBOmkhhRdNCQH5irla3zkJAfmKuVrfOQkB+Yq5Wt85CQCyqVSZC0EJALKpVJkLQQkAsqlUmQtBCQIHZ8+s91EJAgdnz6z3UQkCB2fPrPdRCQHuLA7/40UJAlx5uA87TQkA7w7OI0dBCQDvDs4jR0EJAO8OziNHQQkBWf6Vvqc9CQFZ/pW+pz0JAVn+lb6nPQkAMB755XNBCQAwHvnlc0EJADAe+eVzQQkCYqcW3YtJCQJipxbdi0kJAmKnFt2LSQkCIWkcTd9JCQOmxsTty00JAmQpUc/fPQkCZClRz989CQJkKVHP3z0JA9twZ2HDSQkA1jMxtjNBCQP0MFB1u1EJA6Cx5XbvWQkAyNlsWn9VCQGnyIH9h1UJAyihDEzDRQkCQnsfNFdVCQKIQnlwV1EJAOv6wSo7VQkAhlNZjS9JCQPeDLp+00kJAwz3gyw7UQkABdT2w589CQNDJGEB000JAmJQvJgXQQkCTQcWjGtNCQMRPLWyX1EJAXrX4NQ7VQkD3oT0kndBCQNm0Ughk1kJAlL0p1VPXQkCg+5N0JNVCQLRbqlbP1EJAUJC34LXVQkDvEqRrCdZCQE0+h0MA00JAdfa+hprTQkD1/av5N9BCQEoRlR3Nz0JAA3IuahzQQkAdYL28Rs9CQMGL35Cd0EJAN9s/w9nVQkCB6yfvpdJCQMpfawAA1EJAphz+YAHUQkAx2yXccdRCQHSMPCxMzkJARqXOj3fNQkBVLlT+tdBCQMmOjUC80EJArKksCrvQQkC78e7IWMNCQJRL4xdew0JAnkMZqmLAQkDKT6p9OsBCQJNqa4DNwUJA9DehEAHDQkBBKO/jaMJCQCJxj6UPw0JA5V/LK9fBQkBmSutvCcJCQIfboWExwkJAgO7Lme3CQkAR5QtaSMJBQFfQtMTKwkJAs9E5P8XBQkDMf0i/fb9CQCJVFK+yvkJAf03WqIe+QkC8kXnkD8BCQEjDKXPzw0JAhNiZQufBQkCzBu+rcsNCQAFNhA1Pw0JAzsXf9gTBQkBLPQtCecNCQJa04hsKw0JAYkuPpnrCQkALErNhncJCQPwXCAJkwkJAWWq932jDQkCV9DC0OsNCQP3bZb/uwkJA+RG/Yg3DQkCFsBpLWMNCQAyuuaP/w0JA/dgkP+K/QkCoqPqVzr9CQKYnLPGAwEJAEooIWtzLQkDFPOXSCMxCQODFseTgykJAZ1drckLLQkBTgx+LI8tCQC7Seq6lzEJAmaK30zHNQkA3UUtzK85CQH8V4LvNzUJAr7a9OEzNQkDlh6Y6mc1CQN9KG7ORzUJA0Z0qNhnPQkBkfV5Mjs1CQMY2BCIfzUJAGXWtvU/NQkDEEJQ2sM1CQKG+ZU6XzUJAc/lqoirOQkCrIBy3785CQGZuBmCSzEJAI8liUcfMQkCdZQZAIc1CQNH5Orpby0JAOWl1zT/LQkAjVASTds1CQOp4LYIdzUJACA2zhkHNQkBuTiUDQMtCQImgIGdQykJA9hOE4RLNQkBOCvMeZ81CQN2hF6TPzEJAR3zd2KLNQkC7C5QUWMxCQJuYiX1dykJA2XxcGyrNQkBHo0y09c5CQPwaSYJwy0JAnuo14m7LQkAkgbfE7M1CQOKReHk6v0JAwfVqPnXAQkAr9pfdk79CQOCEQgQcwEJAMpHSbB7DQkBV+DO8WcFCQA1TW+ogwUJADf/pBgrAQkD+R6ZDp8NCQG+Ame/gw0JAd0gxQKLBQkAuVz82ycFCQCy2SUVjw0JAtRZmoZ3DQkC1jT9R2cJCQN7IPPIHw0JAr5XQXRLDQkDTTs3lBr9CQEAUzJiCv0JARuo9ldO+QkB2HD9UGr9CQPUvSWWKv0JAQs77/zjDQkBzSkBMwsFCQDxO0ZFcwkJA+kUJ+gvFQkDaIJOMnMNCQEpV2W08wUJAOJ7PgHrBQkBPWU3XE8NCQLXDX5M1wkJAz582qtO/QkChZd0/FsBCQMgHPZtVwUJAc/ON6J7BQkCTNeohGsFCQLGXEonEwEJAW3ufqkLDQkA6svLLYMBCQMvZO6OtvkJAGQRWDi3CQkApWyTtRr9CQLuAlxk2xEJAwCKMiVDAQkCwOnKkM8BCQPeOGhNivkJAu7iNBvDEQkDYEYdsIMFCQNanHJPFwUJAGcv0S8TBQkBstBzoocJCQILGTKJexEJAVTIAVHHDQkAkKlQ3F8NCQCNNvAM8w0JAhc5r7BLBQkDNd/ATB8RCQOf8FMeBwUJAw2UVNgPAQkDhmjv6X8BCQLWJk/sdwEJAKsql8QvDQkCT407pYMNCQJc3h2u1v0JAPPazWIrAQkADXmbYKL9CQH+HokCfwEJAvOZVndXAQkCqudxgqMFCQLB1qRH6v0JA3jgpzHvCQkDChxItecJCQJWe6SXGxEJACHQmbarCQkBzgctjzcJCQBzO/GoOxEJAVffI5qrFQkCQ9GkV/cFCQDtUU5J1wkJAtABtq1nDQkCrzJTW375CQG3Jqgg3wUJAFCAKZkzDQkAfSUkPQ8VCQCV6GcVywUJA2lTdI5vDQkCMD7OXbcNCQFZmSutvw0JAOXzSiQTDQkAGDf0TXMJCQI1iuaXVwkJAlbpkHCPDQkANjpJX58JCQEWb49wmwEJASG5Nui3DQkCcjCrDuMFCQEIkQ46twUJAZyjueJPDQkD9Ma1NY8VCQHalZaTewUJArRdDOdHEQkC+amXCL8FCQKkz95Dww0JANum2RC7AQkDS4La28MBCQNGTMqmhwUJA1gJ7TKTIQkDw+sxZn8hCQKdORQ5+xkJAFN40Vz3FQkBo7Mo/MMRCQHldv2A3yEJApFAWvr7GQkCJ6hBxU8VCQF3EjxX9x0JAt1wd727HQkD5MWJ2AcdCQMxzOQywyEJAHbKkUFPGQkD7pQvSiMlCQF1gJO4QxkJAkBzk6FvFQkDxnD7iSMRCQAzqW+Z0xUJAAwZJn1bFQkDd7VlbocZCQAISTaCIx0JAfckIoH/AQkAJ4vp/7sBCQBPr+T+sv0JAq0AtBg+/QkBIDwkAir9CQJ3I/j9vwUJAEV71X+vAQkBWof0fEsBCQGM3AcAQwEJArIH3n0a/QkCL2fV/zL5CQBmD+79ywEJA1ldXBWrDQkCmLAEAmcJCQMuE/L+swkJAKUsAQMbCQkDyA/y/j8JCQBrp+1/kwEJAuyYHYMHBQkBq8vf/r8BCQPvl9j/+wEJAL8A+OnXBQkB6/QdgnMFCQAqLBgD5v0JAi5r5HyrCQkB0vPpfS8FCQCZAA6BAwUJArs//H+XBQkAwYfp/0cFCQDJwBqDNwUJAtGcBoKvBQkDBe/3/bsNCQEWa/D+cwUJA+EQJwOC/QkCjIQRgE71CQI/M+v9+wUJAd4j7ny7DQkCU/vvf08BCQHHw+R9owUJAxa3+30O9QkBm6wngoL1CQCzYBCCHvUJAA40E4EC/QkC/WAhAlsNCQLA1AMBWwUJA9TC0OjnBQkB8+fjfpb1CQIK4/p87vUJAz/kIgBq+QkDwHwNgWcBCQC77+d/fvEJA3M4IgDu9QkAdVyO70r5CQL9jeOxnv0JALxhcc0fBQkCc4Jumz8BCQG9IowInwUJANQcI5ui/QkBUyJV6FsJCQAezCTAswUJAJjRJLCnDQkA18KMa9r9CQDc0ZacfwEJAUvLqHAPAQkAXYqwqc8dCQP3ZjxSRx0JA1BUuN47HQkAUwuVJXMdCQL8U1KiNx0JAGBMv9cbIQkCUN/EjQMhCQJQ38SNAyEJAVHUvsYLHQkCqSwRNqchCQCu6/QvnyEJAa8AsWenJQkBEqRdlHspCQHFnt4ZJykJAuy8nh4DLQkC6dfn+2slCQMUKkdBUykJAEzk/FoLKQkCVT1a70cpCQJX5I6agykJApf5nzMnLQkBENQxDZ8xCQBAvFeqezEJAvV/sErfMQkCCQUprQchCQElpe4Q1yEJAfSHkvP/HQkB7zCjoCchCQPepUpFdx0JAReZFIHrKQkD25o/rA8pCQAnBJlKUyUJAIB07X+zIQkD3YMt+oMlCQCc2h3i3ykJAbnkKOfTJQkAozm085sdCQKXkoqNHx0JAxBXQypfIQkCmhdC79MpCQPZx2luIx0JAlmB+snLHQkB2de/TYMdCQPcJ+i1Nx0JAdTG52kfKQkAjsIBLuspCQHUxudpHykJA5GeFkP/HQkAom7gzkcdCQOQ73fV/x0JAj5yXwGfHQkBDdau7U8dCQJiTyx60x0JAj1GzSorHQkAkGUbqicdCQFHAdjBix0JABrggW5bLQkAKi/2MVslCQIyBdRw/ykJAE+EACKfJQkARqWupz8lCQEYkCi3rykJAZyrX/hLLQkAgC04oyMdCQA+22O2zyEJA688mHbfLQkDrzyYdt8tCQPusMlNay0JA6e5j1L/JQkDZ0teQYMhCQBgl3RCKx0JA9EHckPLIQkAwnkFD/8pCQHrpwq9iykJAtTowRgjKQkD4aqcUXMdCQGz8KsnPx0JAAdBy6hTJQkBmwFlKlspCQCKZ0T+AyUJAXRYTm4/JQkBedpmrMMxCQBd+DNRFykJAePLpsS3JQkCHXQnQIMlCQPJ0U2+yx0JAE5NaWlTHQkCnyMYodMdCQBpEBD5FyEJAcJ9GfWjHQkBOqCV01MtCQPjqWTOTykJAQ24rYn3MQkCm0gguLcpCQGNXa4DNyUJA79KEZ/jLQkDLj6dREsxCQCZOk761x0JAHqJzVT7KQkAcwXiIXMlCQD1fnCbAyUJAv5/5IPTIQkB5WKg1zcNCQP6ZQXxgx0JA2K1to2TEQkD/mb1DPMZCQLCkofsgyEJA6h0mnYvIQkDaKGmthchCQPB5CFa0x0JABr1YlGnHQkCUpHCH0MdCQAGz6LXRyEJAHxF6TX7HQkA6xplPa8dCQMCAqKO5yEJAx6hjfDXIQkAjbut3v8hCQFzfbubjx0JABlZd3O/JQkAd5BvBUMdCQDYTXy9FyEJAI7K8o0bHQkDXIEKBlshCQJBYYtBPyEJAXptelzrFQkAQ2sEuo8VCQBo+OuCxx0JAecL5cYfHQkCBhrfyvMhCQAma1+0hyEJANMQWaUrJQkBl6+26YMdCQD3dyU6QyUJA3SZlvmvIQkB66KCzqsdCQBPoA7BByEJAsIgzb47HQkCldTS0v8dCQNwUW+I/xUJAYjXixhLIQkBooTiAy8lCQNHL9L6cx0JAyUmtwUvJQkDyjwK3f8hCQHIVcItgx0JAB18AaSXGQkCJGjvdochCQEf43tqkx0JA9mj471jHQkBgzKS1BchCQG3s3GJ1x0JAxCZYXMPHQkCTDOZ7xchCQPEKzFJcyEJAzXcmrqLIQkDML7R3JshCQD4GCkDMxEJApagiEXjHQkDG7YM3EcdCQI5QM+dDx0JAxMkFgI3GQkAfWvmf28RCQMxsBKDZxEJAMxUDoOHEQkB3Sf8/jMRCQLdy/j+xxEJA4D8GwLLFQkDDigkga8ZCQBiHCkBpxkJA994IIO/GQkA5K/3f7MRCQLUk9r8SxUJACCUGYAfFQkDAvgjgB8NCQJt69r9Qw0JARsEAgGvDQkBuZwTAncNCQOws/t+mxEJAVPwAIP7EQkDdyvn/RMVCQClLAEBGx0JAC2//Xy/FQkA6qfWfMcVCQCQx93/ExkJA/fQCYHrIQkB1pAJAeMhCQNe0/785xUJAgfsJgFTFQkD6f/afDMZCQCuxAOA3xkJAxfAJwFzGQkCkxgBgp8ZCQNPaNLbXxkJAhAYHIFrEQkA5bgjABcdCQO/4/h8Kx0JAh2j4P1XEQkDs7QGAhMRCQLyMBwAzxUJAk0EHwOzFQkAU0wEg2cNCQJcJ+X/Zw0JAvq/8vwvHQkCZGAWg1cNCQBnC9x8VxEJACeL6f27FQkAW9vbfscRCQH7F+R8JxkJAanT/P+vFQkBOJQNAFcRCQJs7+l+uxUJAresGwK7FQkB/bgWgk8RCQCWbBqCsxUJAYzcBwJDGQkDKHvwfu8NCQC3/CGDWxUJAOewAgErGQkBsAQQgLMhCQCbq56eLx0JApfW3BODDQkBSxUPOsctCQA9fJoqQzkJALXL0nQTLQkB+lp00w81CQK358ZcWy0JAVrTeFPvMQkCo0ZrV8cpCQML51LFKzUJA/RLx1vnMQkA3tuiuNs9CQEU2RqEbzUJAOolSjD3OQkC0e01qw8xCQDnx1Y7iykJAniHB+XnNQkBdSZejbM1CQBD8ubJVzkJAUpbG1ALOQkBPuuMD8ctCQDvOyHswzkJA+IiYEknMQkBa9E4F3M1CQM3gvl1Iz0JACobOxqXPQkCDo+TVOa5CQLRJj/AHy0JA74dERqzKQkBhP3p58M1CQKkjkccdzUJAxduUPOjLQkC13JkJhs9CQCMQr+sXzkJA8H+R4cLMQkBcGI6MestCQL42duSjy0JAM+Jxx/DNQkBHtxRGacxCQJUFXQwvzEJA83UZ/tPKQkAJLMq2HcpCQMk+yLJgzUJAOQWeIFbOQkBpccYwJ85CQLlqwIhIz0JALnIe0XvPQkCq1z6ro89CQPe9J8OKykJAVuedm4/PQkDX+k4BzM9CQMxo+sSmzkJAIch0dLbMQkAUNVbo+M1CQLtAMHQUzkJAoBpDVhvNQkDpYWY0Uc1CQDZ5+dndzEJA+Ej2DhTQQkAWCTP9zc9CQM059XNyz0JAy4utV7XOQkCvEkatI85CQFQcMGzDzUJAlSF23CbNQkDHoY5uZs5CQOtvhreozEJAEWNU7kPLQkDm+3kcs8tCQFYadSNlzEJAhRLeNDnNQkA9tU+Cv81CQOUduik0zkJAN5bBKULOQkBG+H36cc5CQDRBlWaizEJAHHNhouXRQkD8SDpOlNJCQPd3QJfOy0JAklKSbcnSQkAiuRliK9JCQBH10pxmy0JAj8juiO/SQkC8V6kVlNJCQDVPygRp0kJAMBeXDE/SQkB3Mly9685CQGpjcI5bzkJAE9o2QqnNQkCJ7iB4EM5CQF7CuMmr0UJA04I49irRQkBQ1/NYLtFCQGT9418t0UJAqokOwcvRQkDOfuGENtFCQMUaMljWzUJAdyq0/pXQQkCSo+6rc89CQBTytmRKz0JAEO7vbjvPQkCIIYVr6c1CQM3GNKvrzEJA8VX6MlnLQkAEMckFl9FCQC2JZuBtzEJAx+OBoXfKQkCTPNfzItBCQN6gLrwaz0JASh4t6T7PQkC0xIh28MxCQOzIi35ZzkJArUxZhg/OQkCKQzLGfs1CQK+9IrlNz0JA5ZNGSp3OQkD6NdyC/8tCQCjdqo4S0UJAAztuIzPOQkCYPkwg2cxCQLPgxRP9zkJASnHKnMjRQkCZGPzgk8xCQEn17vfxy0JA80YHqVjOQkDLAiAdQ85CQPRHLWqdy0JAg/+oB4PPQkDTHLt9Ts9CQPMis/72zUJAoxevzeXMQkAWDhU9ksxCQE2jXE6BzUJA9q1eKVDSQkAf14aKccZCQJt2/tGLzEJAyNJHoGXGQkDSiXZurb1CQCA1chDz10JAwO/hfzXTQkBWS6X059FCQCp1nEg42EJA1mTMFqnVQkCvPhdsh9NCQB1E8W5W2EJA6mHDLuXKQkDyaDWRc7xCQPZ7Yp0qyUJAOGivPh7IQkBSlO1i0sZCQKR3cdHSxUJA9rR0YPjFQkCT+PH+o8pCQInYkFgYxUJAuBM6mefSQkC1FYJsP9RCQNBNR0xw0EJAJ1UEbHfDQkD///8//9FCQCBS1fKVx0JADSlwvi69QkCSDxJ4OcNCQHIK79lk1EJAwOy8r6/TQkDMl2ntAdVCQIPlHqay1UJAn/i3EGzVQkDO54+FvNJCQJSx+IMz2EJASxi+WSjOQkCaGyKuScpCQH7TPPSu1EJA226z54TGQkC49onFvL1CQF1ozeMfzUJAN4xQJKnJQkC7BaAcEL1CQP7//39q00JAxf5GOzzCQkDLShi6vdJCQBHOvctQ1kJA1BxjZ7bSQkCYIxE6ZtRCQD/I9lTF1EJArei96j3OQkDB7cNPwL1CQJLMXnys00JA85r4yVDLQkATIunMnMVCQAxnq+lXyEJAt1CjWzHPQkDY1DNZes5CQAZiaK0OzkJAGrAZ3wzKQkCAz4eJVchCQPGl+eklxkJA0S20s8jSQkBhGi0lfdRCQOJp4NBi1EJAZAgfClvTQkAM47DpUdJCQEu5OFH91UJAJoKCnEHKQkCGamQ8b75CQGxNncwLxEJAzl6gV0K6QkDWBhVKpsVCQGnIvI8N1kJAg/jAjv/KQkBpeueImM1CQJC1kiDhzUJA3KHGS0rLQkDN9w+YNcRCQHjwZurH0kJAqB27X6fUQkBjX7LxYMVCQCC4yhMIx0JANXe6bZS9QkB15PRxgNRCQGyqZGX90UJAEQHdnhnTQkACvAUSFMtCQJuqe2RzyUJAh399r4DGQkCnRaWGZM5CQMXwLxAyv0JAA5iUwHPIQkC70/hvfb1CQKLZwsoG00JAMHlz6tTWQkBsWDD57dVCQDc6XBzF1EJAel9LfnrKQkDUY7O08b1CQHiEZTxc0UJADVLwFHLHQkD1//8/WtBCQDmlrW0Cy0JAEqrEWgO+QkBfcU8XD8ZCQNfDT0US00JAy13FZ3XUQkAqRbWKltNCQFKjLJKN00JA3++NwfLNQkBLqy4JzMRCQG1TZTeJwkJAkrURusXNQkBNffk148FCQJztEi9pwEJAUNjrheXKQkBrAj+T+81CQIHQsiTwzUJAQTE7qpTLQkCilOkBc8tCQKADopKAvkJAwaGdOcHFQkD7INZZrcdCQEUtIciFxkJA1E3cqiHNQkBZFzKc3M1CQJNR3Kq900JA1QoRUvfUQkDIeVCDp9RCQOIPzxXD00JAFQHAueDXQkA+86Y+6NNCQMAQs0S7y0JAyZC173y8QkDoXo1/krxCQPhgI6z4xkJAqoHvyrfGQkBxXiOHf9BCQFchfvi50EJA+htrhm7UQkDD7jjuSsJCQJIPEng5w0JAYS+rvrjUQkDV+1JxXtVCQHlVneDU0UJAxMP8EHXMQkAYuCB9b89CQHzb1rioz0JAzJClQy7NQkA4sJ7sJ9BCQD/GQr6OzkJAwHiDcarSQkDcoWtFiM5CQEs4vCs7zUJA0HLgXSi+QkChw2er7dJCQPE3vITd1UJAYLmkch3UQkBmenp/Y9NCQMiitwaA1EJAFzWe4SbRQkCdO8JsRM5CQGenwYGVw0JAhXMOaJzKQkAwquVG5cRCQNH97hhYx0JALoaHBMXFQkB4zX/sjMVCQAQWebKw1EJAXqPOo73LQkA429yYnshCQJ0ui4nNx0JAuFz92CTHQkDF5XEcfcxCQIm1TzDa0EJAvAEqIhPNQkCBT4MhgMlCQByII0j500JAc4hvctDSQkD1piTkbNhCQJJvmEmJ0kJArU4tzY++QkDPEgwCM85CQMCZP2wXw0JA0r32/EPHQkDgDz//PchCQIjm8M8dz0JAHrw62VfHQkAITBuJlMdCQA+0P+5U1EJA11aFEefTQkA0n6soMdRCQOu0RTM01EJAlzf+kg7SQkAww6njo9RCQGuPqwJV1EJAiwvy/VLUQkA/O4p9Q9JCQKlbqBUF00JABBeBAnbMQkB9rEeJZclCQH1eB+h5vkJAb/q2aCXDQkBLD6nvIcpCQBoiEQf0ykJAmQCyxo/AQkDRpxtJfsBCQNoxXLpVwUJATjaSwkS5QkAF3oeL9b1CQAtFmZFqvkJA+GIYRcm+QkAGDYFMgL9CQHNxK+9wvkJAvTOg/5q9QkCDREVio79CQMebgE/BvEJAA+0vN+/BQkB/zjD3QcBCQIKvZJ5Hu0JA1g9eeZi+QkC4pJM6O75CQHP+HqPZvkJAKvKYPy6/QkAu2k4h+L9CQFZcoM2/vUJARUXeaoS7QkALzbc2u79CQDWf737HukJAGrSAnkC+QkCrP6Eid7xCQFnxNgSBv0JAT9Dkan2+QkCX5YgIwb5CQFq6h838zUJAe0x2Un7HQkBkV71wJchCQIpiqQX4zEJAYCFzZVDLQkB04blSucZCQDOQNVhPzUJAZHHu0F7OQkCScL2nE8dCQOvfP5wFyEJAkg8SeDnDQkCknCTrodNCQOQ8/tnn0EJAg//50efTQkCOM+nw99JCQFROEBlZ00JA1Sm8hMfWQkBYOme1zNJCQGat7MXu0EJA/PmWQsvIQkAr5rXsH8FCQBnu16ltxUJAPZl/9E3IQkC45SMp6cdCQAcAAABmyEJAgtZZFUfCQkBQei/9A79CQGvFmPjHvkJAMkeLpQTOQkDpRe1+FcpCQGeRc3u2xUJAcfDiwW7IQkCYUvlHz8xCQJ9aRuSGzkJAPJyb+s3EQkBguiBgS8JCQLPj9znLx0JAV7amcMm+QkAK16NwPchCQGX74DhrvEJAWX7pwKS8QkCtBHGE08lCQAVc6+RYyEJAHNi4/FrJQkCysqsTf8RCQDa9ZZiFxEJAUR/cpRvAQkBSmnXoVsFCQJwQTkJgvkJAL2rbci3CQkCmCj9BcsNCQFTUx6ITw0JAk7dVWUjBQkB0ccatmL5CQF5fx4oDzkJAGnixA6/DQkDdZCmXgcJCQNGilexDw0JAXJ8EZ6jEQkAHKWoUVb9CQAisNzRCvEJAEkIMa0TDQkCLTz+g8cNCQDQ4CrhzwEJAd6w5f9W9QkD5Ag1ZvcJCQBYkDLUnyUJA5i8ksq2/QkDU2Tjp28BCQNpj/upWvUJAXSpxUlvFQkCIwiuC+8tCQMVqvqggyEJA0JptwwrMQkB2at0oec9CQEsldgmZzEJAa9eVaY3IQkAF5dQNWL5CQADFY6trwUJAMFKrUpO8QkDJZ9UvlsJCQOkHwlSQw0JAes+5ea3CQkD+ThMdCr9CQH9HSIAfwEJAWMhcGVTJQkCvN7w4f8RCQAYAAOCQxUJAHbdBfKTJQkBBQXUhwdJCQMd/+KNL1kJAtl2iJVLGQkCgY0T/oMRCQPNqKmkKx0JAgyDneCHHQkCo0i7oOs5CQNW4PBmbxkJA9ON/YN/EQkD9//+/pcVCQA7hJAAWv0JAVm6H7vrBQkBXh6T1IcRCQM83lOddukJAu2QcI9nJQkDCr+GP+ctCQKBT5lyIx0JAS1PFb7/RQkBDU3b6Qb5CQOoQcVOfv0JAzkWgLfPDQkADAABA8sdCQDrTbcp9y0JAMkBpJ0zBQkAwjo4x08NCQKyGl+NSvEJAC9desxrDQkA/Z0IaTcBCQPXNbyx9vkJAfnj/l7PAQkBaWHxo475CQKNVgVsfwEJAR9JuD6HIQkDeH+cuqsxCQF/VTXhgzEJAGS1SIjrMQkB0pxx2bchCQM+iNqO+xEJA1RBC1qvDQkCwPbMkQMlCQJxuveScwUJAwhzcyMy8QkAGtOkE0LtCQJGRqRfAu0JAVKVeQrTDQkApLa/LusBCQF/a3whEv0JAN1wKGFy+QkC/FMe0XMtCQCB/5R8qxkJAkkzCLw/MQkDJew8jq8pCQMyFsfDnzkJA+F/73lHNQkA2gtKnRc9CQN0HvJQC00JAnh7QFeLHQkBoO/iGEctCQFs6uBz+xkJAVv5vnci/QkBtQlBGrMFCQGE6/WRGwkJAzMlOvQnBQkDBksNTq79CQLlHh2FTv0JANBpwWcC/QkAMpi4vRsRCQO2er9eiu0JA+C6L2rW+QkD8NKADTsJCQPMzBejFx0JAKMPrdGLLQkAooQbRL8pCQPZMK0BnyUJAFGMTof/GQkAurZdCB8ZCQIgEjCU1ykJAw5jGcd/PQkBiJrPXGM9CQMBZnx5Iw0JATrvpE4nLQkAul9K3/rtCQDJjlKFvxkJA/P//PzzFQkDphWQD/79CQNxNyJD1wkJAfJZ2Y7vDQkDXRQ99sr5CQNrqzdvhzkJAzvgchnXXQkBXG8ZGBc9CQB8jHBN4v0JAhtX5UrC9QkBGAo3aBL9CQIBUD3WgwUJAuhRXlX3JQkBen+3W5chCQAcAAADOxUJAGE0SuSjDQkAUol3IY8NCQLUYl98UyEJAQ9xcQli+QkArW4C0/L9CQDjRK0QOzEJAxcDUu8LLQkAZBeqQOMlCQH+9IvdNzUJA9UPelu27QkCgjbfwF75CQDMApKU/wkJA5+6/tZbFQkD8////oMZCQOsiQrLIvkJA0IqFlNDBQkDW2lhGB8FCQOG7oBISvkJAE3TOPUe+QkA68YFp9L1CQJVvQchFwUJA/Rhwy6PMQkB61cIWIcRCQBVwLAKqzkJArC+XWKPNQkBFoDR9zLtCQHkDTxncxEJA5AI4FfPCQkCU9wgT88JCQDq81pSaxUJAITi+Rwy/QkCa1hU+ZMFCQF0x99+cykJAnHRyBiHLQkCfbXPEsMJCQIHAdrqaz0JAIJMuOLK/QkBJeUO92sBCQD35Xp4dw0JAN0CAevHCQkCUPr09acBCQJvaReOUvUJA6mE75mfHQkDRptCT9r9CQOYYwQRhvkJAnGlqxBfVQkBWxIFJYs5CQEJoWI64zkJAvd8Ts8PMQkCZz4aymshCQAFsyUBFxEJAijoF/6/AQkDdBnDPZsNCQEjoJ5CIw0JAmnDEXE3AQkCq+jgeNcBCQLrFCYe4wUJAzXriG13NQkA7XCrCqc1CQIO4Q8N3xUJA50HEw0a/QkAo1qnyPclCQPHAIWwOxUJAtVj2A3zDQkBbx4RtgcRCQF+RbTWgxEJAlPo1DJPBQkAjV5LQ1cFCQM5SH8vcyEJA0y/5/iHMQkD27vhZ88tCQJwDnfNiyEJAmF6db4/PQkAqrZJwEtVCQDEvZkyIx0JAyFNBOivGQkAR7Sequ8dCQL5NLBmzwEJAHhZIs7nDQkAojcnyesRCQE/7xK7Hz0JA9DtPWKnAQkCabTELPr5CQI4KDf0WzUJAg1ilnYHGQkARh+AYGs9CQMW3Ixsfy0JANa7vmBTSQkDDj1HU3spCQFjpX0hmykJA9j8uquLWQkABAAAgocVCQOIklrnWxkJAAQAAIBXFQkA4tsn0c7tCQONuCKdiu0JAhNtRVd28QkDMCS5CBr5CQG3M1VMyzkJA9xwyBj/MQkBer2+MospCQOSEZVW3zEJAdwgWRgPKQkCiSnHV38NCQMVf530mxEJAPhajtvDQQkA8k6CJK8dCQEPmvnT9v0JA6fZXFM6/QkBvKMgKrLxCQCO7la/Ev0JAa0Afmf29QkCSLokiCr1CQFzPea/JvUJAk+1MwOi+QkD4kEKm78pCQKp5O3R1zEJAuPsrZ+vOQkBtDHQGrr1CQLDvcrcNxkJAYRbpoBvVQkCW+qH8rsxCQAdpbl40y0JAn0SkgAXHQkANOOb7jMZCQCF8S5HexkJAzo+lPOO/QkDhwdc8ZL9CQMbhBS6mvUJAlcnQYevFQkA1og07n7xCQDSr3KVBvkJAV0AjOh2/QkBtzF8Rxc1CQHHJqm69ykJAAg0/puXLQkC3EdREK8lCQB/xpA5+wEJAmJFXMdbAQkCqFgsYLcZCQJOP77ILykJAHTLsk17VQkD13NxK/81CQNbVeN6Ix0JAhrLAzCDOQkDinVRSec5CQIHgVhsGzUJAUaiZfxLNQkCGuASGrL1CQKJKcdXfw0JArG8d5+TIQkDfw4yuE79CQI8poJ7NwEJAIeJ9kt++QkDnn+tUucdCQLMDIkJnvkJAZfiIPFm/QkC6PpPdzMBCQM1izab6vkJA8aX56SXGQkC9fDoUAM1CQNGHboBzvkJA8k0lRrfCQkBl6t4xB8NCQI4gUt8KzkJA7K1lsTvPQkCnAqalZ8dCQFzqBCTdw0JAZjACh8bBQkCdaiSUStNCQKUyuikMwkJAMIlJwLC+QkD1AF/8gMNCQK06hfzevUJAjnAJJZDAQkAbqnWW98BCQJJYKbrJvkJA9WrZEV2/QkATR/Eqas1CQD0BQL1uyEJAMyHlLaDMQkBdBRf2d8pCQKy5RZeCv0JARC76UivEQkDImwqmrsRCQP8+9p2XxUJACHpvzre+QkCIwmBcpsxCQCikgsoLxUJA/B+WXzm+QkC6jK1u1sZCQIStiAydv0JAZ6tCOnzAQkDViC6iOsBCQHQv4Rd0u0JAMMW5CdvHQkAcMZw0iNdCQPtqqPFBuUJA+fVZ7YzBQkBuo/J3b85CQD/vknn8v0JAHc//HKnIQkCty0jSmMVCQJLtkigTwkJAW6duhQXFQkAu6qlUArtCQA3eQ1VzvkJAE7k9uW6+QkA5cLaXJc5CQJ3j2qsCzkJA2t17HwvMQkC45fuULcNCQGNg+Lqsw0JAmqCCXqrBQkAtocLrRL5CQB6Q83CQvEJAdu+7ocO7QkCGM9xZxcJCQNHMvXBRyEJAcoz7ekPGQkDmr+pDJbpCQDv2yQ+zw0JAKrCEAObGQkDZ9DEdXb1CQD3WpKxCv0JA3w4Hp+6/QkDO3B9eVMZCQG/xTFSdvUJAVOpnZ9bEQkBA2v8Aa8VCQHZK5s+hvkJAZLC9GInTQkAL8WOZO8VCQMkKV98UzUJAYy6iPOfOQkBN7eph7c5CQBbibNvuy0JAOy2WM63NQkDKYis1LM5CQEymfz7WwUJAPiPRNIvBQkDRtPJyEL5CQAr+eZ8oukJAkk0YIYvKQkAZZSEXDb9CQBDEZdzbzkJA/e4puDTHQkAi9KaA9b5CQLM8tqi3wEJAF3WjUd7OQkAeGxSkTNJCQHKyLNS9vkJAjzJl/F/FQkBZ46lDs8VCQE2f2hh11UJAicAo1/bLQkCOlpjIgMxCQCPqGf1By0JArtKR2IzOQkCK6mvOqMxCQCYJtqglyEJAwSFb7fbSQkCzoHd2esFCQBwnaAd9wEJAVJnhriHIQkBkCCwrx8lCQOa0lo1FvkJAtU/wO2rLQkAQDlhk8r5CQECwmUbnv0JAoI3pOfXFQkCIqrfdfL5CQE/VRHV2zUJALKD1HkrUQkB90VzjC8BCQHg+ALlsv0JANPLVfkjNQkADJTthJ8VCQMxP6aryw0JACkckW63HQkAbfFIjN8hCQKlwv2iOzEJA1uk5/6XBQkCp3qVCLLlCQJcc8rx1u0JAwmkgDw3BQkDASwJVD79CQILJRmsOy0JAM4WXelzFQkCzWyC7sr9CQDZra4wLv0JApRyFzyW/QkAqW8Cdsr1CQFNUYEAIzEJAoifTDunEQkDQ0RjrE8lCQKJU8eLTxEJA5Lk3kqPHQkA08+SaAslCQIapLXWQwUJAOzjYmxjMQkAO9FDbhsFCQD/HR4szwkJAg4jUtIu7QkCtvU9VodFCQPVfprcny0JAKhSe/8fMQkBZcX1pD8xCQFKo4S37zkJAYIQdnKLNQkClrTVC/s1CQEf5tkSdy0JAERv9zV/NQkDl4HTN3rxCQNnvlWiYxkJAuXG/I1u+QkA1LPkiyrhCQOjP3R+kvkJAsylnYOu+QkDth8DncL9CQH/MnVkbz0JAkq0jZzDFQkCEyRtjEb9CQKG1SwPNw0JAOKJHouvCQkD2II+BI85CQOSi0pUbz0JADyQjwsHKQkDW92dTMc9CQDJokLbQvEJAUF9AwdXAQkCRAl54m75CQD/o/2xivEJAMp5yoyO+QkBrco9HSMZCQMTKmHy2vUJANp55l+fBQkDBFUz3DsFCQEWs3sfnykJALY3sa6TCQkCh64f3EMZCQMlZKTOxwEJAewsc0Oi/QkCHAYHmusBCQC+xsIvTxEJAlYc+moXEQkBmIg4+6cRCQA5ciXXKzUJAgvTdcOLNQkCbDw9cGMxCQDt9SD/nzkJAmgDRskDOQkAiZ6Fc2cxCQCHF6q9zw0JAJQlHXkjAQkBhFth6RMJCQIsF5KRryEJASMPTTL6+QkBZ6wNBzL5CQPaN+dF8vkJAnjJneiC8QkBPpK9ng75CQA2dXEizzkJAcmwxZFrNQkCmZt5U6tFCQBsVtN89v0JAvQkT+/jHQkDymp2h2sRCQEL57dFpv0JAfyAwVCjNQkDFj+sontJCQJx6Tn/ev0JAHNWSZMi+QkDrYKVNesJCQNvS/kSsvkJArinsiUa+QkCPUGYenb5CQCEQunKGv0JAdMmK7cO/QkCiq2PETcxCQPuzL4ewwkJAugY5RrTHQkA5HqY/ss5CQF35jXYQvUJA5wd7aN+8QkCNY7pCLdJCQLwLeQHqzUJAieCpROG/QkD/cTNE/sRCQGRV5y4kzUJABK3EfyjHQkCiQxvrs8hCQLG2cZYGzkJAeXvW/jnMQkBgfLfZPMxCQNKwjI8ty0JAhKxRsu/MQkADfgE4ecdCQGD8r/RDwUJAoPxUfKW8QkBNC7R1X8RCQE3fF0f3xkJA+cUWUmy/QkDzRl5R5M5CQJKW8aYyxkJAMQOOmsrFQkCDV55cjr1CQBZEIlruvUJAk66pD7i/QkDYl4KLlsNCQD7qvn13zEJAaRG4gRDGQkB55znC8MVCQOQNIiIzyUJAtuSEqAXHQkAPZfLEb8lCQGDJVSx+v0JAg/Mjir/KQkAUEPbOEc5CQBoKvIUuw0JAVr2HQAnGQkC/yDVL5rxCQEmY1jIhvUJAKw2cYA3AQkDt0lSfO9hCQDFFKPa3w0JAKsdL0AfHQkBVcFJ06tNCQDF01ToEv0JAVJP26dC/QkC9TdTXnrxCQM7pJqKOy0JAZUsBxtjRQkCgda/+M8BCQC3u8ds6xkJA195o7Hu+QkDvnwipuMBCQOzf2lEXxkJA+9Oz7p2+QkC7MVGC4tNCQKOdZirXx0JAOnXlszy9QkDri4S2nL1CQPCszlwRw0JAN6XjIGC9QkA7/qiTiMBCQM0LLS0zzkJA1E1spFjMQkATge4AgsxCQH6yOyCzwUJAfCW1AKXBQkBaT8wJrstCQA1aqrElx0JA6KePRh29QkCr5rA6vb1CQJf8aTOYykJAxyx7EtjUQkBCQ/8EF79CQAZkr3d/wEJA1nH8UGnKQkAOjp+Ys8pCQKKSiFDTzUJAjlEveI28QkAH7UJAZ8dCQAq4ibArxUJAG4gdRNnMQkAiGhSyIMBCQDRTYn1000JA2atg1bbAQkCOVZMi0bxCQKhbbMPsyUJAZSAkzFjIQkDulInQ/8RCQJCrLvsVxEJACGQZRn2+QkAtwadJrr5CQFkX8j/xyEJAVaXoWUPCQkAOu+8YHsFCQGMOgo5Wz0JA85sGbO7JQkDqz36kiMJCQG0kUupbyEJAwM9driXGQkCbMfwkQMVCQDMQSb73vEJA+jdw2IPCQkDjTi0wUspCQL8NNX06y0JAXwyXE2zLQkDOboPqML5CQF5nJFTOu0JA/sjfEmXIQkBoI1I8bL5CQOy2TPFdxkJA46NvbwrJQkAlNJO5Q8dCQO0Q+hL7xEJASFIAz0jIQkBOQj3bh71CQHnP0WwkwkJAFsT7e+m/QkCGSaWFq8tCQDgT04VYx0JA1MtoRF++QkDsN7CtAMNCQPxX5lNTzUJAg0Dbg4q/QkCt9rAXCshCQOPvNT4GwEJAdopNSJTOQkAcD1Qtx9NCQLgv6p7rykJA3iTNnp2/QkA7YFlL3MBCQNUFvMywyUJABCgcj7fHQkBp9ocX+r1CQBWXNr5kv0JAOeBPeZfEQkAFQ63d1cxCQBwqE+bqxEJAZYDa4kq5QkAWgiGU3NRCQGoIz7Vaz0JAhgSeBmLDQkDrIaVzGsRCQPQPjz+jwEJAkpVaM1rMQkC8P96rVshCQLLFfgkK00JAyJRZGW/BQkB7wPHPG8BCQJoZv+5Hw0JAy2tDxyjEQkBirP/4YMRCQFPQ7SWN0UJACVOUS+O/QkBNofMau8ZCQAsEH9Xny0JA/v//H1bFQkDA60SpB9VCQJFWLzFcx0JAACpzDb66QkBXhZMZ7ctCQDXrjO+LxUJAT9tVvXPGQkAm3vxNb75CQDaJNUdvwUJAxBJ2SKfCQkBJffjSRM1CQAyRnacfzkJAKEeQ5k7PQkAYKQt80MpCQPngpAICxUJAeFhnu0/FQkC3YKku4MVCQMp3eA4LzkJA0HOD2zTJQkA4onvWNdBCQBBBAFUHz0JA4k9TX4y9QkD3bnndQr5CQL/BMFxUyEJACS4VmyLFQkCpvD66r8VCQPqzHykiyUJADvW7sDXJQkD3tvSrocNCQGFAW+I3zkJAHpHTv4i+QkCIf9jSo8lCQAlWDUy8v0JA+qavo8TKQkB8u7AMf8JCQCGSx5zRxkJAYjZLTHe/QkAAAACALb5CQPz//58gxUJA0AZcx4a+QkCTnernAsRCQGgqPflAzUJA3MODDzLNQkCyTGjFK75CQOq3BOvjw0JABjjqmAe+QkBLeUy6PclCQK7eJuxEykJAKKPlPfnDQkDmJp6Y7sZCQDpG6fugx0JAIk2GeVbIQkC2SNqNPtJCQCjTaHIx0EJAYXqy/yLNQkDIJ5D54MhCQF3Mq97V00JA/hqo+mDHQkABPAZBVMdCQM+x3AuUvUJAaTwEqC3OQkCM35YaTslCQNQZA0Idw0JAOPjrvm/DQkAGsoWlAsNCQFmU119DyEJADTFvyQnMQkBLd9fZkL9CQAb+MmXlzUJAEDI5pQfNQkAHnEjCicBCQFdWSMo6wEJAh37Y+5q+QkB1sIgOB85CQLGGi9zTwUJADPVCFOG9QkCblD01A8JCQPiV7y9SxkJAAQAAgAu+QkDLu3EqctFCQDgPQ57+zUJAcfjfDOvNQkB+3UGeg71CQJ69jC2TxUJAA3np4/fFQkCnZGIhnsRCQCyFZDbszEJAk1IO5OfTQkCYNRNDCsdCQF726053vEJARTWsovPMQkDnkz23Lc1CQGaoF+y6vkJAKE0n4CzOQkDSyv3MQdVCQGGofqFkw0JAKZWZOdrIQkAPtOYHDsxCQCuKojWMx0JAIy2VtyPGQkBOp8BN581CQPIj1ITwxUJA1bdisZnLQkAJqdvZV8ZCQGpxNILvukJAIOtL+lnHQkB5BjLP1cNCQE8sQlMhxEJAEif29B29QkCA5PwS68pCQE4vl/u5yEJACPizct7IQkBMkXHgDchCQOEvx/CLyUJANjYKYv7KQkD7ko0HW8hCQPoic6IBwEJAxWIIdW/HQkAFKIbrOsdCQNK+PPXwyEJAuSHSjrPGQkBXl1MCYshCQK8YHMwp0UJACuyXb2LJQkDN4S2yu8ZCQFAuKYRxx0JA9Q8iGXLIQkBpxTcUPsdCQHxrRnopxEJAB6jhIgHIQkBWOZUHhsdCQIbknYZ7w0JAysQJaPPKQkCBwXoanNNCQAWRW8HKx0JACa+LQJ/BQkBQ3ZKHwMhCQDnG8PTDvEJAMwnLlL/EQkAaho+IKclCQMXADfK1v0JA1uDntwzUQkBAJobHMdBCQHQUuK8iwUJAZ6ULnGjDQkDuzW+YaMhCQNz35KOv00JA6eMj83HRQkAuecOGrcZCQO1iPsYFxUJALZxalATEQkDEVnPec8FCQCqmPFkTykJAXOOQvGPGQkCVG8mAD79CQDV2WksWyUJAE1PWe2TOQkDYTph6Hc1CQON8vn/ku0JAKwkJL8fNQkDpJcH04MpCQGeXMHWNwEJAWZTXX0PIQkBprwTtfclCQEzvxxGIx0JAXyvGBx7EQkBRlfJq/MFCQPb//7+TxkJAGfPWqJrDQkBgQSTAl8JCQHlSvbaExEJAwYxfhwS/QkBqTNHrBspCQDRbvd9KxUJAShL0ApnGQkBW0Uej171CQGlUcx5dxEJAu4E58/7BQkDri4S2nL1CQDHon7jhv0JAvTSstmrMQkCxhatnA8tCQPlNeSAjx0JA0uj5L5nPQkDAAMCJQL9CQH1KaBxVxEJAlHVpk+3OQkC/EVS3f85CQKoo2kDkzEJA+UsWzz7HQkBdFgyQFr5CQDvi3Gtpv0JAJsCSwMXIQkDCXOsKu8dCQG30PuudyEJAv429kwDJQkAU0oNLRcZCQEaJY8Hyw0JAkficGBnNQkChMKIvoMxCQFpBmm9mx0JAGAe5o3vJQkBJvL9a/71CQDd04AUJykJAhzyOQhy+QkAwDALntcZCQPE3TRkpyUJAtJ5YeMfIQkBZdYMDBslCQAUq8mG3yUJAOaRJEEvHQkBfeZCeIrtCQOuLhLacvUJAbD0MihnNQkBmMhzPZ8hCQDHO34RCyEJAkV55iPrJQkA8Q3Ig5sBCQLN7NDuRxUJAX71fW6vAQkCfTqHTocFCQMGe4ay2ykJANW4zeG+/QkBF1fJuub5CQMOTqGecyUJAIpjXQdDIQkDaau+HAMtCQEaUOE6zz0JAXjepPJPLQkBph5IyaM5CQE0U44T5vUJAnbwDp5e/QkBt9Wxw+clCQCFjnxKsvkJALXkmZLi8QkAyGpoLiddCQKmlB+5Zx0JA5Twi5IjJQkDx5qsBrsVCQL/vLTGYykJAjZsaaD7HQkCS5/o+HMxCQJcihcK2zEJAuXLRSgLNQkCwE3Y0yMhCQHpyyqtX1EJAaxHSj0DUQkBLf0QYRMxCQDg8XJhOx0JAUr0gFCfFQkDHgrTIY7xCQCnCwivSyEJAe3phkP+8QkDTVCsbk8pCQEY6s6WiwUJAG5GHoii9QkCWCCm6gslCQHdQadqXv0JACt5GQCvBQkCB+wmA1MZCQAH1DvONy0JA3itGnwfMQkDlmpp+bcBCQDmhvd0fwUJAWp4Hd2fJQkBmlCX43sRCQG8wM36lzEJA/aIE/YXIQkBiwC83hsxCQI/DZC+9ykJAS0Cz3ti9QkA6t4MgpsZCQD+bdPUjwUJABGsT5E7BQkCb7KZXdMdCQL99HThnyEJAv1yFUvy9QkDlaajFD9NCQGKO9T8Gx0JAf0COs1rHQkC0vH92cMRCQP1Zc3t+yEJAZz/wg7i/QkBtv8Y/fclCQAlTlEvjv0JAv4JPYR7NQkC+zmPFEspCQEwpMfjdw0JAhfag9rbIQkB9lG9QOc5CQEvhtJ17zkJAi62R1FDLQkDKadSg+cpCQAQprzgIv0JAaIuKQo3HQkAR1EsJvr1CQK+EFwj70EJARYQJkVPAQkCGSqzEHr1CQFshFFHevkJATbPQdfnMQkC5/av1wc1CQEjsAq5nykJA11GyyqjJQkDCewker8hCQB6TZvx3xkJA0LV6pwrGQkDgiIye1cdCQLB9ZjUoxkJAT1xXDtLGQkAnSHg2kshCQL0myti9vkJA5vHRiC3CQkCt95fkQs1CQLVC6rSQxEJA/iwEfxXLQkCj6lc6H8xCQKPLm8O10EJAoqVi5CTTQkAg7yA1oNRCQCTeWdw/wUJAzkijonbAQkAE1rYCGb5CQOTHTvU3z0JA6vHHVszNQkBBId/S4tVCQDj/YvYc1EJAnfmdNiTKQkASXLJscsRCQNx9rHKSyEJAuOy1SAPIQkAKbGXp0bxCQLS90mdBwEJAVCFPQFHJQkCOLRlA+8xCQNdNKa8Vy0JA7ubUHPbAQkCSCVf5DsxCQIACb+aCvUJAyiy88EK+QkD5bHt4PMFCQNLf2CrJykJA+RrCKcjDQkAkLzWhArxCQPr7K4g+yUJAt9pD8su8QkBSks0Vgr5CQMP5z8l0wUJA0e/BZDvKQkCyU2tLxNRCQBrBxvXvxkJAA83n3O2+QkCTGtDtjstCQBMi1VxFvkJAjM70saLTQkCGb6TF8sJCQGp4vVC0yEJADNTRwEe8QkB1Gi0NasVCQJuRQe4iyEJAjJ5b6ErIQkBe9utOd7xCQIV81BWSwkJAXY08Fe7GQkA5HgscH8VCQPj//99gxUJAiYWLQGW/QkCeH2pLf75CQDzNCjU4x0JAIsCnuCzCQkAIvrPAD75CQMDc9EXFwkJAZv4L43LGQkBcmvUdjcFCQJQVw9UB0EJAsqguAm6+QkBKfVTMtsxCQKloPL40z0JAV+lSD7rKQkCGpt93B7xCQOkdNiR7vkJA4XAC12jHQkD4lH+uKcBCQB0rVs0iyEJAj3CNo0zJQkDy+N6f9MhCQBMccxUHvUJA8VmXn7nPQkBh9P42bL9CQMvxkdS+v0JAX+M1aDrBQkBx7lSjX89CQI6/nhzfuUJAOXe079y9QkB5IUkyAclCQJHUQsnk0kJATg41bArPQkDOz7CeI8pCQBkGrA7+y0JAvrbEUd3GQkDTTqgLZclCQJBKguoKxEJAD8VL+F7MQkDoRcqH88ZCQCIN+g35xUJAH0yKj0/GQkCyqNeoObxCQJcO//hdxEJAxGnT4vS+QkC8fhwoS8pCQGcGmex2w0JAICqC9vTEQkB9EJ/8cMhCQLppM05DyEJAElIiY6/AQkAT8GskCcpCQNePUCjexUJAxe1Qe9m+QkCUybgJhsZCQPxs5jPMvkJAYWDgI2fHQkAWlYqUmMZCQGVI+hSEyUJA/DDwT/PIQkA8HeDwvMhCQHKUeOgqyEJAYseFoyrCQkD/Us1lgcxCQHBAdvnPvEJAAQAAQCS+QkBR+glyCMpCQMeePZepyUJAJYRKMf66QkASJuvh7MNCQIdmmvPRx0JA3x4vaIjHQkCbxgws2MVCQDQ0NgZFw0JAFVqdFADAQkAhk5bGDsVCQA97B/m+yEJAQzP6F1fOQkB3eL12VcRCQEOle6B7zkJA+XJn8dS9QkB2vmcx1r1CQHc1R4taxkJACmf1y2jJQkANlj7HzMlCQP8FggAZyEJACTICKhzJQkD6CWMSL8xCQJwjH+9NzUJAof2wJyO/QkDa4FPBYsRCQLwqbtdk1EJA71KO/KfNQkB5v1jkFM5CQOGmkbJbwEJArejqxMPFQkBj9LyFXcpCQERKEvi4zEJAFOy6xN7OQkBG/wNdBs1CQJe0POXTwEJAYXpfHB3JQkB51tWdBslCQARZT62+yEJAwd1CyD/AQkD3fOOR+9RCQFDN/K3wx0JAMdI75DXNQkAgEIoxJcdCQAYfrgCT00JAOskK5s7IQkCKwcjjwshCQNWvbRX4yEJA5gzAc9PCQkDcAD1LA7xCQKIleaJVxEJAyXgh2t7LQkBXKB/f7sNCQHPp491azUJAWMQim/bDQkCx1nLtU8xCQFK9IBQnxUJA7GPYKC3GQkC18qDgN79CQNvyCATAxEJARgJiD8W/QkA/ZNY4ycBCQK3j7ZBOu0JAw18Ks4TAQkAwYCL1V8lCQP2Fc0DxyEJA1BkDQh3DQkC+jcUdDMZCQM/94FJOyUJAuRyvQPTGQkCd2EP7WMdCQPEBU3cZxEJAEoGR2WjJQkDqG/vSUb1CQHS2gNB6yEJA+ASlTiXRQkAAAADAD75CQAS/TVt/xUJA9vr8X6rAQkBrcMjN081CQN9/miB0zkJA2OFF9WHKQkCjRoBDTspCQGBPnsGywUJA1t7rw2zAQkBw5USO571CQLnFk6XKyEJA4+uW7ODUQkCBk7A+cs1CQLWhcrP3wUJADDb1UV7XQkBnFApMydJCQHA/5U0+0UJA1bzb6+vXQkBwxnqxMMNCQAccZ1RIvkJAjHPoRhu+QkCu7C1vD8RCQJosp6sJw0JAB2rQbALKQkDCyw1w2sZCQC1hjVajxEJAPcLey8DSQkCIA35ObsFCQLHcyUGVx0JAy/6Rqm3KQkBOzVIMxr9CQD+0hkFMz0JAUx8evtXHQkDqCgdpmr9CQAWTiDdFxEJAwNz0RcXCQkDU0B8oo8pCQDAvwD461UJAkaE/lYnLQkBfT6Mvo8lCQBDfzlJyz0JAFUBM9YfIQkDrzz5nS8xCQOUEKoaVyEJAfzfOjRjMQkACa75f1MlCQNibHQVkxEJAdxBfdXbIQkBur+s/ErxCQLGpHjtwv0JAHFMepLrGQkAoo6eA3c1CQKw4epmgv0JAikTH37rFQkA4+Ou+b8NCQDZ5wI0Bz0JA8hhQhh69QkBGvjle4LtCQNTG7tMGxkJAdWO3x8LKQkAG9phIachCQBA+tHwbwEJApGoxVBnGQkAvr1grPs5CQJp8zJzXxEJA8vKPbD7FQkDxzAto8b5CQPzUcjVvxEJAvoQKDi/OQkCPj9ZjgstCQLpc+0dszkJAZRWOAga9QkCoxNjN4MBCQJrVBsXbzkJA/f//v4nFQkDe6HaoA75CQG6SRLhMxUJAqruFmBvGQkAywlTTkcRCQGPmi+4kv0JAZM7ptmTJQkA/eUCRysxCQFumA/NezEJAPPXkHnDGQkC88owt9cdCQH1VhpeNyUJA+tJqBJy8QkBIr4MvCb9CQEQ0uoPYx0JAuX9TaJ3JQkCaeAd40spCQFsge64NxUJAyEEJM23HQkCu3bX5I8dCQDNJL+vpxkJA6ZmhfzK/QkApIpjLGMBCQKdJMdXmwEJAbRjjhQLJQkCymfV+l8pCQPY2UnrmyEJA6n2e25DCQkDDlMr+O8BCQGnrgiQIxUJA9FXmTQnLQkAM6LjitctCQL/yX8jXwEJATZblqE3EQkCZLlXIJ75CQAG4OpW0x0JAQSgZ+ZbFQkA1vIQA5shCQMjrwaT4ykJA0EhM2t+/QkA3bC+FccxCQHS2gNB6yEJAyCQjZ2HHQkDquDxReM1CQAqBuoivyUJAZgN93hvLQkD0cnSQWMRCQHWZCvlWwEJAqNOuHi6+QkCqK5/lechCQHPSaggPxkJAzGiJgTnBQkBmvLan6cxCQEJMCx3Kv0JA4O4elyvFQkB6U6LIL8FCQA==",
                    "dtype": "f8"
                  },
                  "legendgroup": "",
                  "lon": {
                    "bdata": "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",
                    "dtype": "f8"
                  },
                  "marker": {
                    "color": "#636efa",
                    "opacity": 0.8,
                    "size": 12
                  },
                  "mode": "markers",
                  "name": "",
                  "showlegend": false,
                  "subplot": "map",
                  "type": "scattermap"
                }
              ],
              "layout": {
                "legend": {
                  "tracegroupgap": 0
                },
                "map": {
                  "center": {
                    "lat": 37.546874527593474,
                    "lon": 283894.32881225814
                  },
                  "domain": {
                    "x": [
                      0,
                      1
                    ],
                    "y": [
                      0,
                      1
                    ]
                  },
                  "style": "open-street-map",
                  "zoom": 11
                },
                "mapbox": {
                  "center": {
                    "lat": 37.546874527593474,
                    "lon": 283894.32881225814
                  },
                  "zoom": 11
                },
                "margin": {
                  "t": 60
                },
                "template": {
                  "data": {
                    "bar": [
                      {
                        "error_x": {
                          "color": "#2a3f5f"
                        },
                        "error_y": {
                          "color": "#2a3f5f"
                        },
                        "marker": {
                          "line": {
                            "color": "#E5ECF6",
                            "width": 0.5
                          },
                          "pattern": {
                            "fillmode": "overlay",
                            "size": 10,
                            "solidity": 0.2
                          }
                        },
                        "type": "bar"
                      }
                    ],
                    "barpolar": [
                      {
                        "marker": {
                          "line": {
                            "color": "#E5ECF6",
                            "width": 0.5
                          },
                          "pattern": {
                            "fillmode": "overlay",
                            "size": 10,
                            "solidity": 0.2
                          }
                        },
                        "type": "barpolar"
                      }
                    ],
                    "carpet": [
                      {
                        "aaxis": {
                          "endlinecolor": "#2a3f5f",
                          "gridcolor": "white",
                          "linecolor": "white",
                          "minorgridcolor": "white",
                          "startlinecolor": "#2a3f5f"
                        },
                        "baxis": {
                          "endlinecolor": "#2a3f5f",
                          "gridcolor": "white",
                          "linecolor": "white",
                          "minorgridcolor": "white",
                          "startlinecolor": "#2a3f5f"
                        },
                        "type": "carpet"
                      }
                    ],
                    "choropleth": [
                      {
                        "colorbar": {
                          "outlinewidth": 0,
                          "ticks": ""
                        },
                        "type": "choropleth"
                      }
                    ],
                    "contour": [
                      {
                        "colorbar": {
                          "outlinewidth": 0,
                          "ticks": ""
                        },
                        "colorscale": [
                          [
                            0,
                            "#0d0887"
                          ],
                          [
                            0.1111111111111111,
                            "#46039f"
                          ],
                          [
                            0.2222222222222222,
                            "#7201a8"
                          ],
                          [
                            0.3333333333333333,
                            "#9c179e"
                          ],
                          [
                            0.4444444444444444,
                            "#bd3786"
                          ],
                          [
                            0.5555555555555556,
                            "#d8576b"
                          ],
                          [
                            0.6666666666666666,
                            "#ed7953"
                          ],
                          [
                            0.7777777777777778,
                            "#fb9f3a"
                          ],
                          [
                            0.8888888888888888,
                            "#fdca26"
                          ],
                          [
                            1,
                            "#f0f921"
                          ]
                        ],
                        "type": "contour"
                      }
                    ],
                    "contourcarpet": [
                      {
                        "colorbar": {
                          "outlinewidth": 0,
                          "ticks": ""
                        },
                        "type": "contourcarpet"
                      }
                    ],
                    "heatmap": [
                      {
                        "colorbar": {
                          "outlinewidth": 0,
                          "ticks": ""
                        },
                        "colorscale": [
                          [
                            0,
                            "#0d0887"
                          ],
                          [
                            0.1111111111111111,
                            "#46039f"
                          ],
                          [
                            0.2222222222222222,
                            "#7201a8"
                          ],
                          [
                            0.3333333333333333,
                            "#9c179e"
                          ],
                          [
                            0.4444444444444444,
                            "#bd3786"
                          ],
                          [
                            0.5555555555555556,
                            "#d8576b"
                          ],
                          [
                            0.6666666666666666,
                            "#ed7953"
                          ],
                          [
                            0.7777777777777778,
                            "#fb9f3a"
                          ],
                          [
                            0.8888888888888888,
                            "#fdca26"
                          ],
                          [
                            1,
                            "#f0f921"
                          ]
                        ],
                        "type": "heatmap"
                      }
                    ],
                    "histogram": [
                      {
                        "marker": {
                          "pattern": {
                            "fillmode": "overlay",
                            "size": 10,
                            "solidity": 0.2
                          }
                        },
                        "type": "histogram"
                      }
                    ],
                    "histogram2d": [
                      {
                        "colorbar": {
                          "outlinewidth": 0,
                          "ticks": ""
                        },
                        "colorscale": [
                          [
                            0,
                            "#0d0887"
                          ],
                          [
                            0.1111111111111111,
                            "#46039f"
                          ],
                          [
                            0.2222222222222222,
                            "#7201a8"
                          ],
                          [
                            0.3333333333333333,
                            "#9c179e"
                          ],
                          [
                            0.4444444444444444,
                            "#bd3786"
                          ],
                          [
                            0.5555555555555556,
                            "#d8576b"
                          ],
                          [
                            0.6666666666666666,
                            "#ed7953"
                          ],
                          [
                            0.7777777777777778,
                            "#fb9f3a"
                          ],
                          [
                            0.8888888888888888,
                            "#fdca26"
                          ],
                          [
                            1,
                            "#f0f921"
                          ]
                        ],
                        "type": "histogram2d"
                      }
                    ],
                    "histogram2dcontour": [
                      {
                        "colorbar": {
                          "outlinewidth": 0,
                          "ticks": ""
                        },
                        "colorscale": [
                          [
                            0,
                            "#0d0887"
                          ],
                          [
                            0.1111111111111111,
                            "#46039f"
                          ],
                          [
                            0.2222222222222222,
                            "#7201a8"
                          ],
                          [
                            0.3333333333333333,
                            "#9c179e"
                          ],
                          [
                            0.4444444444444444,
                            "#bd3786"
                          ],
                          [
                            0.5555555555555556,
                            "#d8576b"
                          ],
                          [
                            0.6666666666666666,
                            "#ed7953"
                          ],
                          [
                            0.7777777777777778,
                            "#fb9f3a"
                          ],
                          [
                            0.8888888888888888,
                            "#fdca26"
                          ],
                          [
                            1,
                            "#f0f921"
                          ]
                        ],
                        "type": "histogram2dcontour"
                      }
                    ],
                    "mesh3d": [
                      {
                        "colorbar": {
                          "outlinewidth": 0,
                          "ticks": ""
                        },
                        "type": "mesh3d"
                      }
                    ],
                    "parcoords": [
                      {
                        "line": {
                          "colorbar": {
                            "outlinewidth": 0,
                            "ticks": ""
                          }
                        },
                        "type": "parcoords"
                      }
                    ],
                    "pie": [
                      {
                        "automargin": true,
                        "type": "pie"
                      }
                    ],
                    "scatter": [
                      {
                        "fillpattern": {
                          "fillmode": "overlay",
                          "size": 10,
                          "solidity": 0.2
                        },
                        "type": "scatter"
                      }
                    ],
                    "scatter3d": [
                      {
                        "line": {
                          "colorbar": {
                            "outlinewidth": 0,
                            "ticks": ""
                          }
                        },
                        "marker": {
                          "colorbar": {
                            "outlinewidth": 0,
                            "ticks": ""
                          }
                        },
                        "type": "scatter3d"
                      }
                    ],
                    "scattercarpet": [
                      {
                        "marker": {
                          "colorbar": {
                            "outlinewidth": 0,
                            "ticks": ""
                          }
                        },
                        "type": "scattercarpet"
                      }
                    ],
                    "scattergeo": [
                      {
                        "marker": {
                          "colorbar": {
                            "outlinewidth": 0,
                            "ticks": ""
                          }
                        },
                        "type": "scattergeo"
                      }
                    ],
                    "scattergl": [
                      {
                        "marker": {
                          "colorbar": {
                            "outlinewidth": 0,
                            "ticks": ""
                          }
                        },
                        "type": "scattergl"
                      }
                    ],
                    "scattermap": [
                      {
                        "marker": {
                          "colorbar": {
                            "outlinewidth": 0,
                            "ticks": ""
                          }
                        },
                        "type": "scattermap"
                      }
                    ],
                    "scattermapbox": [
                      {
                        "marker": {
                          "colorbar": {
                            "outlinewidth": 0,
                            "ticks": ""
                          }
                        },
                        "type": "scattermapbox"
                      }
                    ],
                    "scatterpolar": [
                      {
                        "marker": {
                          "colorbar": {
                            "outlinewidth": 0,
                            "ticks": ""
                          }
                        },
                        "type": "scatterpolar"
                      }
                    ],
                    "scatterpolargl": [
                      {
                        "marker": {
                          "colorbar": {
                            "outlinewidth": 0,
                            "ticks": ""
                          }
                        },
                        "type": "scatterpolargl"
                      }
                    ],
                    "scatterternary": [
                      {
                        "marker": {
                          "colorbar": {
                            "outlinewidth": 0,
                            "ticks": ""
                          }
                        },
                        "type": "scatterternary"
                      }
                    ],
                    "surface": [
                      {
                        "colorbar": {
                          "outlinewidth": 0,
                          "ticks": ""
                        },
                        "colorscale": [
                          [
                            0,
                            "#0d0887"
                          ],
                          [
                            0.1111111111111111,
                            "#46039f"
                          ],
                          [
                            0.2222222222222222,
                            "#7201a8"
                          ],
                          [
                            0.3333333333333333,
                            "#9c179e"
                          ],
                          [
                            0.4444444444444444,
                            "#bd3786"
                          ],
                          [
                            0.5555555555555556,
                            "#d8576b"
                          ],
                          [
                            0.6666666666666666,
                            "#ed7953"
                          ],
                          [
                            0.7777777777777778,
                            "#fb9f3a"
                          ],
                          [
                            0.8888888888888888,
                            "#fdca26"
                          ],
                          [
                            1,
                            "#f0f921"
                          ]
                        ],
                        "type": "surface"
                      }
                    ],
                    "table": [
                      {
                        "cells": {
                          "fill": {
                            "color": "#EBF0F8"
                          },
                          "line": {
                            "color": "white"
                          }
                        },
                        "header": {
                          "fill": {
                            "color": "#C8D4E3"
                          },
                          "line": {
                            "color": "white"
                          }
                        },
                        "type": "table"
                      }
                    ]
                  },
                  "layout": {
                    "annotationdefaults": {
                      "arrowcolor": "#2a3f5f",
                      "arrowhead": 0,
                      "arrowwidth": 1
                    },
                    "autotypenumbers": "strict",
                    "coloraxis": {
                      "colorbar": {
                        "outlinewidth": 0,
                        "ticks": ""
                      }
                    },
                    "colorscale": {
                      "diverging": [
                        [
                          0,
                          "#8e0152"
                        ],
                        [
                          0.1,
                          "#c51b7d"
                        ],
                        [
                          0.2,
                          "#de77ae"
                        ],
                        [
                          0.3,
                          "#f1b6da"
                        ],
                        [
                          0.4,
                          "#fde0ef"
                        ],
                        [
                          0.5,
                          "#f7f7f7"
                        ],
                        [
                          0.6,
                          "#e6f5d0"
                        ],
                        [
                          0.7,
                          "#b8e186"
                        ],
                        [
                          0.8,
                          "#7fbc41"
                        ],
                        [
                          0.9,
                          "#4d9221"
                        ],
                        [
                          1,
                          "#276419"
                        ]
                      ],
                      "sequential": [
                        [
                          0,
                          "#0d0887"
                        ],
                        [
                          0.1111111111111111,
                          "#46039f"
                        ],
                        [
                          0.2222222222222222,
                          "#7201a8"
                        ],
                        [
                          0.3333333333333333,
                          "#9c179e"
                        ],
                        [
                          0.4444444444444444,
                          "#bd3786"
                        ],
                        [
                          0.5555555555555556,
                          "#d8576b"
                        ],
                        [
                          0.6666666666666666,
                          "#ed7953"
                        ],
                        [
                          0.7777777777777778,
                          "#fb9f3a"
                        ],
                        [
                          0.8888888888888888,
                          "#fdca26"
                        ],
                        [
                          1,
                          "#f0f921"
                        ]
                      ],
                      "sequentialminus": [
                        [
                          0,
                          "#0d0887"
                        ],
                        [
                          0.1111111111111111,
                          "#46039f"
                        ],
                        [
                          0.2222222222222222,
                          "#7201a8"
                        ],
                        [
                          0.3333333333333333,
                          "#9c179e"
                        ],
                        [
                          0.4444444444444444,
                          "#bd3786"
                        ],
                        [
                          0.5555555555555556,
                          "#d8576b"
                        ],
                        [
                          0.6666666666666666,
                          "#ed7953"
                        ],
                        [
                          0.7777777777777778,
                          "#fb9f3a"
                        ],
                        [
                          0.8888888888888888,
                          "#fdca26"
                        ],
                        [
                          1,
                          "#f0f921"
                        ]
                      ]
                    },
                    "colorway": [
                      "#636efa",
                      "#EF553B",
                      "#00cc96",
                      "#ab63fa",
                      "#FFA15A",
                      "#19d3f3",
                      "#FF6692",
                      "#B6E880",
                      "#FF97FF",
                      "#FECB52"
                    ],
                    "font": {
                      "color": "#2a3f5f"
                    },
                    "geo": {
                      "bgcolor": "white",
                      "lakecolor": "white",
                      "landcolor": "#E5ECF6",
                      "showlakes": true,
                      "showland": true,
                      "subunitcolor": "white"
                    },
                    "hoverlabel": {
                      "align": "left"
                    },
                    "hovermode": "closest",
                    "mapbox": {
                      "style": "light"
                    },
                    "paper_bgcolor": "white",
                    "plot_bgcolor": "#E5ECF6",
                    "polar": {
                      "angularaxis": {
                        "gridcolor": "white",
                        "linecolor": "white",
                        "ticks": ""
                      },
                      "bgcolor": "#E5ECF6",
                      "radialaxis": {
                        "gridcolor": "white",
                        "linecolor": "white",
                        "ticks": ""
                      }
                    },
                    "scene": {
                      "xaxis": {
                        "backgroundcolor": "#E5ECF6",
                        "gridcolor": "white",
                        "gridwidth": 2,
                        "linecolor": "white",
                        "showbackground": true,
                        "ticks": "",
                        "zerolinecolor": "white"
                      },
                      "yaxis": {
                        "backgroundcolor": "#E5ECF6",
                        "gridcolor": "white",
                        "gridwidth": 2,
                        "linecolor": "white",
                        "showbackground": true,
                        "ticks": "",
                        "zerolinecolor": "white"
                      },
                      "zaxis": {
                        "backgroundcolor": "#E5ECF6",
                        "gridcolor": "white",
                        "gridwidth": 2,
                        "linecolor": "white",
                        "showbackground": true,
                        "ticks": "",
                        "zerolinecolor": "white"
                      }
                    },
                    "shapedefaults": {
                      "line": {
                        "color": "#2a3f5f"
                      }
                    },
                    "ternary": {
                      "aaxis": {
                        "gridcolor": "white",
                        "linecolor": "white",
                        "ticks": ""
                      },
                      "baxis": {
                        "gridcolor": "white",
                        "linecolor": "white",
                        "ticks": ""
                      },
                      "bgcolor": "#E5ECF6",
                      "caxis": {
                        "gridcolor": "white",
                        "linecolor": "white",
                        "ticks": ""
                      }
                    },
                    "title": {
                      "x": 0.05
                    },
                    "xaxis": {
                      "automargin": true,
                      "gridcolor": "white",
                      "linecolor": "white",
                      "ticks": "",
                      "title": {
                        "standoff": 15
                      },
                      "zerolinecolor": "white",
                      "zerolinewidth": 2
                    },
                    "yaxis": {
                      "automargin": true,
                      "gridcolor": "white",
                      "linecolor": "white",
                      "ticks": "",
                      "title": {
                        "standoff": 15
                      },
                      "zerolinecolor": "white",
                      "zerolinewidth": 2
                    }
                  }
                }
              }
            }
          },
          "metadata": {},
          "output_type": "display_data"
        }
      ],
      "source": [
        "fig = px.scatter_map(cctv, lat=\"latitude\", lon=\"longitude\", zoom=11)\n",
        "fig.update_traces(marker=dict(size=12, opacity=0.8))\n",
        "fig.update_layout(map_style=\"open-street-map\")\n",
        "# fig.update_layout(margin={\"r\":0,\"t\":0,\"l\":0,\"b\":0})\n",
        "fig.show()"
      ]
    }
  ],
  "metadata": {
    "colab": {
      "provenance": []
    },
    "kernelspec": {
      "display_name": ".venv",
      "language": "python",
      "name": "python3"
    },
    "language_info": {
      "codemirror_mode": {
        "name": "ipython",
        "version": 3
      },
      "file_extension": ".py",
      "mimetype": "text/x-python",
      "name": "python",
      "nbconvert_exporter": "python",
      "pygments_lexer": "ipython3",
      "version": "3.13.3"
    }
  },
  "nbformat": 4,
  "nbformat_minor": 0
}

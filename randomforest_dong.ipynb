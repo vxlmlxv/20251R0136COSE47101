{
 "cells": [
  {
   "cell_type": "code",
   "execution_count": 1,
   "id": "e8f1c831",
   "metadata": {},
   "outputs": [],
   "source": [
    "import pandas as pd\n",
    "import numpy as np\n",
    "from sklearn.ensemble import RandomForestClassifier\n",
    "from sklearn.metrics import accuracy_score\n",
    "from sklearn.model_selection import train_test_split\n",
    "\n",
    "import warnings\n",
    "warnings.filterwarnings('ignore')"
   ]
  },
  {
   "cell_type": "code",
   "execution_count": 2,
   "id": "5b5164c1",
   "metadata": {},
   "outputs": [
    {
     "name": "stdout",
     "output_type": "stream",
     "text": [
      "경계값: [0, 913, 2107, 4099]\n"
     ]
    },
    {
     "data": {
      "text/plain": [
       "complaint_level\n",
       "0    800\n",
       "1    459\n",
       "2    273\n",
       "Name: count, dtype: int64"
      ]
     },
     "execution_count": 2,
     "metadata": {},
     "output_type": "execute_result"
    }
   ],
   "source": [
    "#자연발생 클러스터링(민원 단계 컬럼 생성)\n",
    "from jenkspy import JenksNaturalBreaks\n",
    "\n",
    "parks_df = pd.read_csv(\"src/RF_parksdf_week.csv\")\n",
    "#parks_df = pd.read_csv(\"src/RF_parksdf_sat.csv\")\n",
    "#parks_df = pd.read_csv(\"src/RF_parksdf_holi.csv\")\n",
    "\n",
    "# 1) IQR 계산\n",
    "Q1 = parks_df[\"complaints_r300\"].quantile(0.25)\n",
    "Q3 = parks_df[\"complaints_r300\"].quantile(0.75)\n",
    "IQR = Q3 - Q1\n",
    "lower_bound = Q1 - 1.5 * IQR\n",
    "upper_bound = Q3 + 1.5 * IQR\n",
    "\n",
    "# 2) 이상치 제거\n",
    "parks_df = parks_df[\n",
    "    (parks_df[\"complaints_r300\"] >= lower_bound) &\n",
    "    (parks_df[\"complaints_r300\"] <= upper_bound)\n",
    "].copy()\n",
    "\n",
    "# 3) 필터된 데이터로 Jenks 적용\n",
    "i = 3\n",
    "breaks = JenksNaturalBreaks(n_classes=i)\n",
    "breaks.fit(parks_df[\"complaints_r300\"])\n",
    "print(\"경계값:\", breaks.breaks_)\n",
    "\n",
    "# 4) 레이블 부여\n",
    "parks_df[\"complaint_level\"] = pd.cut(\n",
    "    parks_df[\"complaints_r300\"],\n",
    "    bins=breaks.breaks_,\n",
    "    labels=range(i),\n",
    "    include_lowest=True\n",
    ")\n",
    "parks_df[\"complaint_level\"].value_counts()"
   ]
  },
  {
   "cell_type": "code",
   "execution_count": 3,
   "id": "73bf328d",
   "metadata": {},
   "outputs": [
    {
     "name": "stdout",
     "output_type": "stream",
     "text": [
      "Index(['address', 'parking_type', 'operation_type', 'total_parking_spaces',\n",
      "       'base_parking_fee', 'base_parking_time', 'additional_unit_fee',\n",
      "       'additional_unit_time', 'fee1H', 'cctv_r300', 'bus_r300',\n",
      "       'complaints_r300', 'Weekday_paid', 'Weekday_start', 'Weekday_end',\n",
      "       'Weekday_operatingHours', 'lon', 'lat', 'complaint_level'],\n",
      "      dtype='object')\n"
     ]
    }
   ],
   "source": [
    "print(parks_df.columns)"
   ]
  },
  {
   "cell_type": "code",
   "execution_count": 4,
   "id": "1d1bac16",
   "metadata": {},
   "outputs": [
    {
     "data": {
      "text/plain": [
       "'# KMeans 기반 클러스터링\\n\\nfrom sklearn.cluster import KMeans\\nimport numpy as np\\nimport pandas as pd\\n\\nparks_df = pd.read_csv(\"src/RF_parksdf_week.csv\")\\n#parks_df = pd.read_csv(\"src/RF_parksdf_sat.csv\")\\n#parks_df = pd.read_csv(\"src/RF_parksdf_holi.csv\")\\nparks_df.columns\\n\\n# 1) IQR 계산\\nQ1 = parks_df[\"complaints_r300\"].quantile(0.25)\\nQ3 = parks_df[\"complaints_r300\"].quantile(0.75)\\nIQR = Q3 - Q1\\nlower_bound = Q1 - 1.5 * IQR\\nupper_bound = Q3 + 1.5 * IQR\\n\\n# 2) 이상치 제거\\nparks_df = parks_df[\\n    (parks_df[\"complaints_r300\"] >= lower_bound) &\\n    (parks_df[\"complaints_r300\"] <= upper_bound)\\n].copy()\\n\\nk = 3\\n\\nX = parks_df[\"complaints_r300\"].values.reshape(-1, 1)\\n\\nkmeans = KMeans(n_clusters=k, random_state=0)\\nclusters = kmeans.fit_predict(X)\\n\\ncenters = kmeans.cluster_centers_.flatten()\\nsorted_idx = np.argsort(centers)\\nlabel_map = {old: new for new, old in enumerate(sorted_idx)}\\nsorted_labels = np.vectorize(label_map.get)(clusters)\\n\\nparks_df[\"complaint_level\"] = sorted_labels\\n\\nparks_df[\"complaint_level\"].value_counts().sort_index()\\n'"
      ]
     },
     "execution_count": 4,
     "metadata": {},
     "output_type": "execute_result"
    }
   ],
   "source": [
    "'''# KMeans 기반 클러스터링\n",
    "\n",
    "from sklearn.cluster import KMeans\n",
    "import numpy as np\n",
    "import pandas as pd\n",
    "\n",
    "parks_df = pd.read_csv(\"src/RF_parksdf_week.csv\")\n",
    "#parks_df = pd.read_csv(\"src/RF_parksdf_sat.csv\")\n",
    "#parks_df = pd.read_csv(\"src/RF_parksdf_holi.csv\")\n",
    "parks_df.columns\n",
    "\n",
    "# 1) IQR 계산\n",
    "Q1 = parks_df[\"complaints_r300\"].quantile(0.25)\n",
    "Q3 = parks_df[\"complaints_r300\"].quantile(0.75)\n",
    "IQR = Q3 - Q1\n",
    "lower_bound = Q1 - 1.5 * IQR\n",
    "upper_bound = Q3 + 1.5 * IQR\n",
    "\n",
    "# 2) 이상치 제거\n",
    "parks_df = parks_df[\n",
    "    (parks_df[\"complaints_r300\"] >= lower_bound) &\n",
    "    (parks_df[\"complaints_r300\"] <= upper_bound)\n",
    "].copy()\n",
    "\n",
    "k = 3\n",
    "\n",
    "X = parks_df[\"complaints_r300\"].values.reshape(-1, 1)\n",
    "\n",
    "kmeans = KMeans(n_clusters=k, random_state=0)\n",
    "clusters = kmeans.fit_predict(X)\n",
    "\n",
    "centers = kmeans.cluster_centers_.flatten()\n",
    "sorted_idx = np.argsort(centers)\n",
    "label_map = {old: new for new, old in enumerate(sorted_idx)}\n",
    "sorted_labels = np.vectorize(label_map.get)(clusters)\n",
    "\n",
    "parks_df[\"complaint_level\"] = sorted_labels\n",
    "\n",
    "parks_df[\"complaint_level\"].value_counts().sort_index()\n",
    "'''"
   ]
  },
  {
   "cell_type": "code",
   "execution_count": 5,
   "id": "1e192186",
   "metadata": {},
   "outputs": [
    {
     "name": "stdout",
     "output_type": "stream",
     "text": [
      "parking_type: ['NS', 'NW']\n",
      "operation_type: [1, 3]\n",
      "Weekday_paid: ['N', 'Y']\n"
     ]
    }
   ],
   "source": [
    "#범주형 변수의 label을 [0,1]로 변환\n",
    "from sklearn.preprocessing import LabelEncoder\n",
    "\n",
    "le_dict = {}\n",
    "\n",
    "for col in [\"parking_type\", \"operation_type\", \"Weekday_paid\", \"Saturday_paid\", \"Holiday_paid\"]:\n",
    "    if col in parks_df.columns:  # ✅ 존재하는 경우에만 처리\n",
    "        le = LabelEncoder()\n",
    "        parks_df[col] = le.fit_transform(parks_df[col])\n",
    "        le_dict[col] = le\n",
    "\n",
    "# 예시: parking_type의 범주와 정수 매핑 확인\n",
    "for col in le_dict:\n",
    "    print(f\"{col}: {list(le_dict[col].classes_)}\")\n",
    "\n",
    "# [0, 1, 2, ...] 순서로 classes_에 저장됨\n",
    "#['NS', 'NW'] -> [0,1]\n",
    "#[1, 3] -> [0,1]\n",
    "#['N', 'Y'] -> [0,1]\n",
    "#['N', 'Y'] -> [0,1]\n",
    "#['N', 'Y'] -> [0,1]"
   ]
  },
  {
   "cell_type": "code",
   "execution_count": 6,
   "id": "849912cb",
   "metadata": {},
   "outputs": [
    {
     "name": "stdout",
     "output_type": "stream",
     "text": [
      "선택된 상위 10개 피처: ['total_parking_spaces', 'bus_r300', 'fee1H', 'cctv_r300', 'Weekday_end', 'Weekday_operatingHours', 'Weekday_start']\n",
      "Validation 정확도: 0.6429\n",
      "Test 정확도      : 0.7264\n"
     ]
    }
   ],
   "source": [
    "from sklearn.model_selection import train_test_split\n",
    "from sklearn.ensemble import RandomForestClassifier\n",
    "from sklearn.metrics import accuracy_score\n",
    "import pandas as pd\n",
    "\n",
    "# 0) 데이터 준비axis=\n",
    "X = parks_df.drop([\"complaints_r300\", \"complaint_level\", \"address\", \"lat\", \"lon\",\n",
    "                   \"base_parking_fee\", \"base_parking_time\", \"additional_unit_fee\", \"additional_unit_time\"], axis=1)\n",
    "y = parks_df[\"complaint_level\"]\n",
    "\n",
    "# 1) 80%를 train+val, 20%를 test로 분리 (stratify 유지)\n",
    "X_train_val, X_test, y_train_val, y_test = train_test_split(\n",
    "    X, y,\n",
    "    test_size=0.2,\n",
    "    stratify=y,\n",
    "    random_state=42\n",
    ")\n",
    "\n",
    "# 2) train_val(80%) 중 12.5%를 val로 → 전체 비율 10%, train은 70%\n",
    "X_train, X_val, y_train, y_val = train_test_split(\n",
    "    X_train_val, y_train_val,\n",
    "    test_size=0.125,    # 0.8 * 0.125 = 0.1\n",
    "    stratify=y_train_val,\n",
    "    random_state=42\n",
    ")\n",
    "\n",
    "# 3) 훈련셋에서만 RandomForest로 피처 중요도 계산\n",
    "rf_fs = RandomForestClassifier(random_state=0)\n",
    "rf_fs.fit(X_train, y_train)\n",
    "\n",
    "importances = pd.Series(rf_fs.feature_importances_, index=X_train.columns)\n",
    "top10 = importances.nlargest(7).index.tolist()\n",
    "print(\"선택된 상위 10개 피처:\", top10)\n",
    "\n",
    "# 4) 선택된 피처로 데이터 재정의\n",
    "X_train_sel = X_train[top10]\n",
    "X_val_sel   = X_val[top10]\n",
    "X_test_sel  = X_test[top10]\n",
    "\n",
    "# 5) 최종 모델 학습 & 평가\n",
    "rf = RandomForestClassifier(\n",
    "    random_state=0,\n",
    "    class_weight=\"balanced\"   # 클래스 불균형 보정\n",
    ")\n",
    "rf.fit(X_train_sel, y_train)\n",
    "\n",
    "val_pred  = rf.predict(X_val_sel)\n",
    "test_pred = rf.predict(X_test_sel)\n",
    "\n",
    "print(\"Validation 정확도: {:.4f}\".format(accuracy_score(y_val, val_pred)))\n",
    "print(\"Test 정확도      : {:.4f}\".format(accuracy_score(y_test, test_pred)))\n"
   ]
  },
  {
   "cell_type": "code",
   "execution_count": 7,
   "id": "0eaa78e2",
   "metadata": {},
   "outputs": [
    {
     "name": "stdout",
     "output_type": "stream",
     "text": [
      "Complaint Level (Kmeans) Classification Accuracy: 0.726\n",
      "              precision    recall  f1-score   support\n",
      "\n",
      "         Low       0.82      0.86      0.84       160\n",
      "         Mid       0.62      0.59      0.60        92\n",
      "        High       0.61      0.56      0.58        55\n",
      "\n",
      "    accuracy                           0.73       307\n",
      "   macro avg       0.68      0.67      0.68       307\n",
      "weighted avg       0.72      0.73      0.72       307\n",
      "\n"
     ]
    }
   ],
   "source": [
    "# Accuracy 분석\n",
    "\n",
    "from sklearn.metrics import classification_report, accuracy_score\n",
    "\n",
    "print(\"Complaint Level (Kmeans) Classification Accuracy:\", round(accuracy_score(y_test, test_pred), 3))\n",
    "print(classification_report(y_test, test_pred, target_names=['Low', 'Mid', 'High']))"
   ]
  },
  {
   "cell_type": "code",
   "execution_count": 8,
   "id": "42954487",
   "metadata": {},
   "outputs": [
    {
     "data": {
      "text/plain": [
       "'\\nX = parks_df.drop([\"complaints_r300\", \"complaint_level\", \"address\"], axis=1)\\ny = parks_df[\"complaint_level\"]\\n\\nX_train_full, X_test_full, y_train, y_test = train_test_split(X, y, test_size=0.1, random_state=42)\\nrf_full = RandomForestClassifier(random_state=0)\\nrf_full.fit(X_train_full, y_train)\\n\\n# 중요도 기반 상위 10개 변수 선택\\nimportances = pd.Series(rf_full.feature_importances_, index=X.columns)\\ntop10_features = importances.sort_values(ascending=False).head(9).index.tolist()\\n\\nX_new = X[top10_features]\\n\\nprint(\"X_new 변수 목록:\", top10_features)\\n'"
      ]
     },
     "execution_count": 8,
     "metadata": {},
     "output_type": "execute_result"
    }
   ],
   "source": [
    "'''\n",
    "X = parks_df.drop([\"complaints_r300\", \"complaint_level\", \"address\"], axis=1)\n",
    "y = parks_df[\"complaint_level\"]\n",
    "\n",
    "X_train_full, X_test_full, y_train, y_test = train_test_split(X, y, test_size=0.1, random_state=42)\n",
    "rf_full = RandomForestClassifier(random_state=0)\n",
    "rf_full.fit(X_train_full, y_train)\n",
    "\n",
    "# 중요도 기반 상위 10개 변수 선택\n",
    "importances = pd.Series(rf_full.feature_importances_, index=X.columns)\n",
    "top10_features = importances.sort_values(ascending=False).head(9).index.tolist()\n",
    "\n",
    "X_new = X[top10_features]\n",
    "\n",
    "print(\"X_new 변수 목록:\", top10_features)\n",
    "'''"
   ]
  },
  {
   "cell_type": "code",
   "execution_count": 9,
   "id": "75ed60bf",
   "metadata": {},
   "outputs": [
    {
     "data": {
      "text/plain": [
       "'\\nX_train, X_test, y_train, y_test = train_test_split(X_new, y, test_size = 0.1, random_state = 42)\\nX_train, X_val, y_train, y_val = train_test_split(X_train, y_train, test_size = 1/9, random_state = 42)\\n\\nX_new.columns\\n'"
      ]
     },
     "execution_count": 9,
     "metadata": {},
     "output_type": "execute_result"
    }
   ],
   "source": [
    "'''\n",
    "X_train, X_test, y_train, y_test = train_test_split(X_new, y, test_size = 0.1, random_state = 42)\n",
    "X_train, X_val, y_train, y_val = train_test_split(X_train, y_train, test_size = 1/9, random_state = 42)\n",
    "\n",
    "X_new.columns\n",
    "'''"
   ]
  },
  {
   "cell_type": "code",
   "execution_count": 10,
   "id": "39f1424e",
   "metadata": {},
   "outputs": [
    {
     "data": {
      "text/plain": [
       "\"\\n# 랜덤포레스트 \\nrf = RandomForestClassifier(random_state=0)\\nrf.fit(X_train, y_train)\\npred = rf.predict(X_test)\\naccuracy = accuracy_score(y_test, pred)\\nprint('랜덤 포레스트 정확도: {:.4f}'.format(accuracy))\\n\""
      ]
     },
     "execution_count": 10,
     "metadata": {},
     "output_type": "execute_result"
    }
   ],
   "source": [
    "'''\n",
    "# 랜덤포레스트 \n",
    "rf = RandomForestClassifier(random_state=0)\n",
    "rf.fit(X_train, y_train)\n",
    "pred = rf.predict(X_test)\n",
    "accuracy = accuracy_score(y_test, pred)\n",
    "print('랜덤 포레스트 정확도: {:.4f}'.format(accuracy))\n",
    "'''"
   ]
  },
  {
   "cell_type": "code",
   "execution_count": 11,
   "id": "08201f72",
   "metadata": {},
   "outputs": [
    {
     "data": {
      "text/plain": [
       "\"\\n# gradient boosting\\nfrom sklearn.ensemble import GradientBoostingClassifier\\n\\ngb = GradientBoostingClassifier(random_state=0)\\ngb.fit(X_train, y_train)\\npred = gb.predict(X_test)\\naccuracy = accuracy_score(y_test, pred)\\nprint('gradient boosting 정확도: {:.4f}'.format(accuracy))\\n\""
      ]
     },
     "execution_count": 11,
     "metadata": {},
     "output_type": "execute_result"
    }
   ],
   "source": [
    "'''\n",
    "# gradient boosting\n",
    "from sklearn.ensemble import GradientBoostingClassifier\n",
    "\n",
    "gb = GradientBoostingClassifier(random_state=0)\n",
    "gb.fit(X_train, y_train)\n",
    "pred = gb.predict(X_test)\n",
    "accuracy = accuracy_score(y_test, pred)\n",
    "print('gradient boosting 정확도: {:.4f}'.format(accuracy))\n",
    "'''"
   ]
  },
  {
   "cell_type": "code",
   "execution_count": 12,
   "id": "46ab2e4f",
   "metadata": {},
   "outputs": [
    {
     "data": {
      "text/html": [
       "<div>\n",
       "<style scoped>\n",
       "    .dataframe tbody tr th:only-of-type {\n",
       "        vertical-align: middle;\n",
       "    }\n",
       "\n",
       "    .dataframe tbody tr th {\n",
       "        vertical-align: top;\n",
       "    }\n",
       "\n",
       "    .dataframe thead th {\n",
       "        text-align: right;\n",
       "    }\n",
       "</style>\n",
       "<table border=\"1\" class=\"dataframe\">\n",
       "  <thead>\n",
       "    <tr style=\"text-align: right;\">\n",
       "      <th></th>\n",
       "      <th>feature</th>\n",
       "      <th>importance</th>\n",
       "    </tr>\n",
       "  </thead>\n",
       "  <tbody>\n",
       "    <tr>\n",
       "      <th>0</th>\n",
       "      <td>total_parking_spaces</td>\n",
       "      <td>0.238468</td>\n",
       "    </tr>\n",
       "    <tr>\n",
       "      <th>1</th>\n",
       "      <td>bus_r300</td>\n",
       "      <td>0.200366</td>\n",
       "    </tr>\n",
       "    <tr>\n",
       "      <th>2</th>\n",
       "      <td>fee1H</td>\n",
       "      <td>0.185563</td>\n",
       "    </tr>\n",
       "    <tr>\n",
       "      <th>3</th>\n",
       "      <td>cctv_r300</td>\n",
       "      <td>0.162077</td>\n",
       "    </tr>\n",
       "    <tr>\n",
       "      <th>4</th>\n",
       "      <td>Weekday_end</td>\n",
       "      <td>0.092352</td>\n",
       "    </tr>\n",
       "    <tr>\n",
       "      <th>5</th>\n",
       "      <td>Weekday_operatingHours</td>\n",
       "      <td>0.072580</td>\n",
       "    </tr>\n",
       "    <tr>\n",
       "      <th>6</th>\n",
       "      <td>Weekday_start</td>\n",
       "      <td>0.048594</td>\n",
       "    </tr>\n",
       "  </tbody>\n",
       "</table>\n",
       "</div>"
      ],
      "text/plain": [
       "                  feature  importance\n",
       "0    total_parking_spaces    0.238468\n",
       "1                bus_r300    0.200366\n",
       "2                   fee1H    0.185563\n",
       "3               cctv_r300    0.162077\n",
       "4             Weekday_end    0.092352\n",
       "5  Weekday_operatingHours    0.072580\n",
       "6           Weekday_start    0.048594"
      ]
     },
     "execution_count": 12,
     "metadata": {},
     "output_type": "execute_result"
    }
   ],
   "source": [
    "importances = rf.feature_importances_\n",
    "feature_names = top10  # DataFrame에서 feature 이름 추출\n",
    "\n",
    "# 중요도 표 만들기\n",
    "importance_table = pd.DataFrame({\n",
    "    'feature': feature_names,\n",
    "    'importance': importances\n",
    "}).sort_values(by='importance', ascending=False)\n",
    "\n",
    "importance_table\n"
   ]
  },
  {
   "cell_type": "code",
   "execution_count": 13,
   "id": "d122a812",
   "metadata": {},
   "outputs": [
    {
     "data": {
      "text/html": [
       "<div>\n",
       "<style scoped>\n",
       "    .dataframe tbody tr th:only-of-type {\n",
       "        vertical-align: middle;\n",
       "    }\n",
       "\n",
       "    .dataframe tbody tr th {\n",
       "        vertical-align: top;\n",
       "    }\n",
       "\n",
       "    .dataframe thead th {\n",
       "        text-align: right;\n",
       "    }\n",
       "</style>\n",
       "<table border=\"1\" class=\"dataframe\">\n",
       "  <thead>\n",
       "    <tr style=\"text-align: right;\">\n",
       "      <th></th>\n",
       "      <th>High 민원</th>\n",
       "      <th>Mid 민원</th>\n",
       "      <th>Low 민원</th>\n",
       "    </tr>\n",
       "  </thead>\n",
       "  <tbody>\n",
       "    <tr>\n",
       "      <th>0</th>\n",
       "      <td>가락본동</td>\n",
       "      <td>가리봉동</td>\n",
       "      <td>가산동</td>\n",
       "    </tr>\n",
       "    <tr>\n",
       "      <th>1</th>\n",
       "      <td>고덕2동</td>\n",
       "      <td>강일동</td>\n",
       "      <td>가양1동</td>\n",
       "    </tr>\n",
       "    <tr>\n",
       "      <th>2</th>\n",
       "      <td>구로3동</td>\n",
       "      <td>개포3동</td>\n",
       "      <td>가양2동</td>\n",
       "    </tr>\n",
       "    <tr>\n",
       "      <th>3</th>\n",
       "      <td>구로4동</td>\n",
       "      <td>개포4동</td>\n",
       "      <td>가양3동</td>\n",
       "    </tr>\n",
       "    <tr>\n",
       "      <th>4</th>\n",
       "      <td>구로5동</td>\n",
       "      <td>거여2동</td>\n",
       "      <td>갈현1동</td>\n",
       "    </tr>\n",
       "  </tbody>\n",
       "</table>\n",
       "</div>"
      ],
      "text/plain": [
       "  High 민원 Mid 민원 Low 민원\n",
       "0    가락본동   가리봉동    가산동\n",
       "1    고덕2동    강일동   가양1동\n",
       "2    구로3동   개포3동   가양2동\n",
       "3    구로4동   개포4동   가양3동\n",
       "4    구로5동   거여2동   갈현1동"
      ]
     },
     "metadata": {},
     "output_type": "display_data"
    }
   ],
   "source": [
    "from sklearn.metrics import mean_squared_error\n",
    "import pandas as pd\n",
    "pd.set_option('display.max_rows', None)\n",
    "\n",
    "# 여기 요일타입에 따라 바꿔야 됩니다!!\n",
    "dong_parks_df = pd.read_csv(\"src/dongParks_Weekday.csv\")\n",
    "\n",
    "dong_parks_df\n",
    "\n",
    "# dong_parks_df의 feature 컬럼만 추출 (dong 이름 등 식별자 제외)\n",
    "# 모델이 학습할 때 사용한 feature 리스트\n",
    "model_features = list(rf.feature_names_in_)\n",
    "\n",
    "# dong_parks_df에서 해당 컬럼만 추출\n",
    "X_dong = dong_parks_df[model_features]\n",
    "# 동별 민원 수준 예측\n",
    "dong_parks_df['predicted_complaints'] = rf.predict(X_dong)\n",
    "\n",
    "# 그룹별 동 이름 추출\n",
    "high_dong = dong_parks_df[dong_parks_df['predicted_complaints'] == 2]['dong']\n",
    "mid_dong = dong_parks_df[dong_parks_df['predicted_complaints'] == 1]['dong']\n",
    "low_dong = dong_parks_df[dong_parks_df['predicted_complaints'] == 0]['dong']\n",
    "\n",
    "# 각 그룹을 DataFrame으로 변환 (인덱스 리셋)\n",
    "high_df = pd.DataFrame({'High 민원': high_dong.reset_index(drop=True)})\n",
    "mid_df = pd.DataFrame({'Mid 민원': mid_dong.reset_index(drop=True)})\n",
    "low_df = pd.DataFrame({'Low 민원': low_dong.reset_index(drop=True)})\n",
    "\n",
    "# 길이가 다른 경우도 맞춰서 하나의 표로 합치기\n",
    "dong_table = pd.concat([high_df, mid_df, low_df], axis=1)\n",
    "\n",
    "from IPython.display import display\n",
    "display(dong_table.head())"
   ]
  },
  {
   "cell_type": "code",
   "execution_count": 14,
   "id": "a6d10dec",
   "metadata": {},
   "outputs": [
    {
     "data": {
      "text/plain": [
       "total_parking_spaces      0.238468\n",
       "bus_r300                  0.200366\n",
       "fee1H                     0.185563\n",
       "cctv_r300                 0.162077\n",
       "Weekday_end               0.092352\n",
       "Weekday_operatingHours    0.072580\n",
       "Weekday_start             0.048594\n",
       "dtype: float64"
      ]
     },
     "execution_count": 14,
     "metadata": {},
     "output_type": "execute_result"
    }
   ],
   "source": [
    "import pandas as pd\n",
    "\n",
    "pd.Series(rf.feature_importances_, index=X_dong.columns).sort_values(ascending=False)"
   ]
  },
  {
   "cell_type": "code",
   "execution_count": 15,
   "id": "1f6c1bde",
   "metadata": {},
   "outputs": [
    {
     "data": {
      "text/html": [
       "<div>\n",
       "<style scoped>\n",
       "    .dataframe tbody tr th:only-of-type {\n",
       "        vertical-align: middle;\n",
       "    }\n",
       "\n",
       "    .dataframe tbody tr th {\n",
       "        vertical-align: top;\n",
       "    }\n",
       "\n",
       "    .dataframe thead th {\n",
       "        text-align: right;\n",
       "    }\n",
       "</style>\n",
       "<table border=\"1\" class=\"dataframe\">\n",
       "  <thead>\n",
       "    <tr style=\"text-align: right;\">\n",
       "      <th></th>\n",
       "      <th>dong</th>\n",
       "      <th>predicted_complaints</th>\n",
       "      <th>top_feature</th>\n",
       "    </tr>\n",
       "  </thead>\n",
       "  <tbody>\n",
       "    <tr>\n",
       "      <th>0</th>\n",
       "      <td>가락본동</td>\n",
       "      <td>2</td>\n",
       "      <td>cctv_r300</td>\n",
       "    </tr>\n",
       "    <tr>\n",
       "      <th>1</th>\n",
       "      <td>가리봉동</td>\n",
       "      <td>1</td>\n",
       "      <td>total_parking_spaces</td>\n",
       "    </tr>\n",
       "    <tr>\n",
       "      <th>2</th>\n",
       "      <td>가산동</td>\n",
       "      <td>0</td>\n",
       "      <td>bus_r300</td>\n",
       "    </tr>\n",
       "    <tr>\n",
       "      <th>3</th>\n",
       "      <td>가양1동</td>\n",
       "      <td>0</td>\n",
       "      <td>total_parking_spaces</td>\n",
       "    </tr>\n",
       "    <tr>\n",
       "      <th>4</th>\n",
       "      <td>가양2동</td>\n",
       "      <td>0</td>\n",
       "      <td>bus_r300</td>\n",
       "    </tr>\n",
       "  </tbody>\n",
       "</table>\n",
       "</div>"
      ],
      "text/plain": [
       "   dong  predicted_complaints           top_feature\n",
       "0  가락본동                     2             cctv_r300\n",
       "1  가리봉동                     1  total_parking_spaces\n",
       "2   가산동                     0              bus_r300\n",
       "3  가양1동                     0  total_parking_spaces\n",
       "4  가양2동                     0              bus_r300"
      ]
     },
     "metadata": {},
     "output_type": "display_data"
    },
    {
     "name": "stdout",
     "output_type": "stream",
     "text": [
      "predicted_complaints  top_feature         \n",
      "0                     fee1H                   48\n",
      "                      bus_r300                47\n",
      "                      total_parking_spaces    46\n",
      "                      cctv_r300               25\n",
      "                      Weekday_end              1\n",
      "1                     fee1H                   33\n",
      "                      cctv_r300               17\n",
      "                      bus_r300                16\n",
      "                      total_parking_spaces    13\n",
      "2                     cctv_r300               24\n",
      "                      total_parking_spaces    20\n",
      "                      fee1H                   16\n",
      "                      bus_r300                15\n",
      "Name: count, dtype: int64\n"
     ]
    }
   ],
   "source": [
    "from sklearn.preprocessing import StandardScaler\n",
    "from sklearn.preprocessing import RobustScaler\n",
    "\n",
    "\n",
    "scaler = RobustScaler()\n",
    "X_scaled = pd.DataFrame(\n",
    "    scaler.fit_transform(X_dong),\n",
    "    columns=X_dong.columns\n",
    ")\n",
    "\n",
    "'''\n",
    "# 정규화 수행\n",
    "scaler = StandardScaler()\n",
    "X_scaled = pd.DataFrame(scaler.fit_transform(X_dong), columns=X_dong.columns)\n",
    "'''\n",
    "\n",
    "# 정규화된 데이터 기준으로 영향력 큰 feature 추정\n",
    "importances = rf.feature_importances_\n",
    "dong_parks_df['top_feature'] = X_scaled.apply(\n",
    "    lambda row: row.index[np.argmax(np.abs(row.values * importances))],\n",
    "    axis=1\n",
    ")\n",
    "\n",
    "# 결과 출력\n",
    "solution_table = dong_parks_df[['dong', 'predicted_complaints', 'top_feature']]\n",
    "display(solution_table.head())\n",
    "\n",
    "# 민원 수준별 요약\n",
    "summary = solution_table.groupby('predicted_complaints')['top_feature'].value_counts()\n",
    "print(summary)\n"
   ]
  },
  {
   "cell_type": "code",
   "execution_count": 20,
   "id": "809fcc8a",
   "metadata": {},
   "outputs": [
    {
     "name": "stdout",
     "output_type": "stream",
     "text": [
      "Index(['address', 'parking_type', 'operation_type', 'total_parking_spaces',\n",
      "       'base_parking_fee', 'base_parking_time', 'additional_unit_fee',\n",
      "       'additional_unit_time', 'fee1H', 'cctv_r300', 'bus_r300',\n",
      "       'complaints_r300', 'Weekday_paid', 'Weekday_start', 'Weekday_end',\n",
      "       'Weekday_operatingHours', 'lon', 'lat', 'complaint_level', 'dong'],\n",
      "      dtype='object')\n"
     ]
    }
   ],
   "source": [
    "print(parks_gdf.columns)"
   ]
  },
  {
   "cell_type": "code",
   "execution_count": null,
   "id": "94e1a3c3",
   "metadata": {},
   "outputs": [],
   "source": [
    "'''\n",
    "import pandas as pd\n",
    "\n",
    "# 1) RF 데이터 읽기\n",
    "rf = pd.read_csv(\"src/RF_parksdf_holi.csv\")\n",
    "\n",
    "# 2) 위도·경도 데이터 읽고 주소 칼럼명 통일\n",
    "parks = pd.read_csv(\"src/parks_Holiday.csv\")\n",
    "parks = parks.rename(columns={\"주소\": \"address\"})\n",
    "\n",
    "# 3) address 기준으로 병합 (left join)\n",
    "merged = pd.merge(\n",
    "    rf,\n",
    "    parks[[\"address\", \"lon\", \"lat\"]],  # 필요한 칼럼만\n",
    "    on=\"address\",\n",
    "    how=\"left\"\n",
    ")\n",
    "\n",
    "# 4) 결과 저장\n",
    "merged.to_csv(\"src/RF_parksdf_holi.csv\", index=False)\n",
    "'''\n"
   ]
  },
  {
   "cell_type": "code",
   "execution_count": 17,
   "id": "66cece48",
   "metadata": {},
   "outputs": [
    {
     "name": "stdout",
     "output_type": "stream",
     "text": [
      "Index(['address', 'parking_type', 'operation_type', 'total_parking_spaces',\n",
      "       'base_parking_fee', 'base_parking_time', 'additional_unit_fee',\n",
      "       'additional_unit_time', 'fee1H', 'cctv_r300', 'bus_r300',\n",
      "       'complaints_r300', 'Weekday_paid', 'Weekday_start', 'Weekday_end',\n",
      "       'Weekday_operatingHours', 'lon', 'lat', 'complaint_level', 'dong'],\n",
      "      dtype='object')\n"
     ]
    }
   ],
   "source": [
    "import pandas as pd\n",
    "import geopandas as gpd\n",
    "from shapely.geometry import Point\n",
    "\n",
    "# 1) 행정동 경계 불러오기 (EPSG:5179)\n",
    "dong_boundaries = (\n",
    "    gpd.read_file(\"src/dong_boundary.shp\")\n",
    "       .rename(columns={\"ADM_NM\":\"dong\"})\n",
    ")\n",
    "\n",
    "# 3) 주소에서 ‘○○동’ 부분만 추출해 두기\n",
    "parks_df['addr_dong'] = parks_df['address'].str.extract(r'^\\S+\\s+(\\S+동)')[0]\n",
    "\n",
    "# 4) GeoDataFrame 생성 (위경도 → EPSG:4326 지정)\n",
    "geometry = [Point(xy) for xy in zip(parks_df['lon'], parks_df['lat'])]\n",
    "parks_gdf = gpd.GeoDataFrame(\n",
    "    parks_df,\n",
    "    geometry=geometry,\n",
    "    crs=\"EPSG:4326\"\n",
    ")\n",
    "\n",
    "# 5) 경계 CRS로 투영\n",
    "parks_gdf = parks_gdf.to_crs(dong_boundaries.crs)\n",
    "\n",
    "# ─────── 이 부분을 추가 ───────\n",
    "# 6) 공간 결합\n",
    "parks_gdf = gpd.sjoin(\n",
    "    parks_gdf,\n",
    "    dong_boundaries[['dong','geometry']],\n",
    "    how='left',\n",
    "    predicate='within'\n",
    ")\n",
    "\n",
    "# 7) NaN인 경우만 매핑 테이블로 보정\n",
    "mapping = {\n",
    "    '잠실동': '잠실본동',\n",
    "    # 필요시 다른 주소-행정동도 여기에 추가\n",
    "}\n",
    "parks_gdf['dong'] = parks_gdf['dong'].fillna(\n",
    "    parks_gdf['addr_dong'].map(mapping)\n",
    ")\n",
    "# ─────────────────────────────\n",
    "\n",
    "# 8) 결과 확인\n",
    "parks_gdf = parks_gdf.drop(columns=['addr_dong', 'geometry', 'index_right'])\n",
    "print(parks_gdf.columns)\n"
   ]
  },
  {
   "cell_type": "code",
   "execution_count": 18,
   "id": "7959b30e",
   "metadata": {},
   "outputs": [
    {
     "name": "stdout",
     "output_type": "stream",
     "text": [
      "   dong                  Top1           Top2                    Top3\n",
      "0  가락본동           Weekday_end          fee1H           Weekday_start\n",
      "1  가리봉동             cctv_r300    Weekday_end    total_parking_spaces\n",
      "2   가산동           Weekday_end  Weekday_start  Weekday_operatingHours\n",
      "3  가양1동                 fee1H      cctv_r300    total_parking_spaces\n",
      "4  가양2동  total_parking_spaces       bus_r300           Weekday_start\n"
     ]
    }
   ],
   "source": [
    "import numpy as np\n",
    "import pandas as pd\n",
    "import shap\n",
    "\n",
    "# 1) TreeExplainer 생성\n",
    "explainer = shap.TreeExplainer(rf)\n",
    "feature_cols = list(rf.feature_names_in_)\n",
    "\n",
    "# 2) park-level SHAP 값 계산 (n_samples, n_features, n_classes)\n",
    "raw_shap_p = explainer.shap_values(parks_gdf[feature_cols])\n",
    "\n",
    "# 3) 클래스 차원 절댓값 평균 → (n_samples, n_features)\n",
    "shap_abs_p = np.abs(raw_shap_p).mean(axis=2)\n",
    "\n",
    "# 4) DataFrame으로 변환 후 dong 매핑\n",
    "df_shap_p        = pd.DataFrame(shap_abs_p, columns=feature_cols)\n",
    "df_shap_p['dong'] = parks_gdf['dong'].values\n",
    "\n",
    "# 5) 행정동별 평균 SHAP 기여도 집계\n",
    "dong_shap_mean = df_shap_p.groupby('dong').mean()\n",
    "\n",
    "# 6) 행정동별 Top3 피처 추출\n",
    "top3 = dong_shap_mean.apply(lambda row: row.nlargest(3).index.tolist(), axis=1)\n",
    "df_top3 = (\n",
    "    pd.DataFrame(top3.tolist(), index=top3.index, columns=['Top1','Top2','Top3'])\n",
    "      .reset_index()\n",
    "      .rename(columns={'index':'dong'})\n",
    ")\n",
    "\n",
    "# 7) 결과 확인\n",
    "print(df_top3.head())\n"
   ]
  },
  {
   "cell_type": "code",
   "execution_count": 31,
   "id": "a35883cb",
   "metadata": {},
   "outputs": [
    {
     "data": {
      "text/html": [
       "<div>\n",
       "<style scoped>\n",
       "    .dataframe tbody tr th:only-of-type {\n",
       "        vertical-align: middle;\n",
       "    }\n",
       "\n",
       "    .dataframe tbody tr th {\n",
       "        vertical-align: top;\n",
       "    }\n",
       "\n",
       "    .dataframe thead th {\n",
       "        text-align: right;\n",
       "    }\n",
       "</style>\n",
       "<table border=\"1\" class=\"dataframe\">\n",
       "  <thead>\n",
       "    <tr style=\"text-align: right;\">\n",
       "      <th></th>\n",
       "      <th>dong</th>\n",
       "      <th>Top1</th>\n",
       "      <th>Top2</th>\n",
       "      <th>Top3</th>\n",
       "      <th>complaint_level</th>\n",
       "      <th>predicted_level</th>\n",
       "    </tr>\n",
       "  </thead>\n",
       "  <tbody>\n",
       "    <tr>\n",
       "      <th>0</th>\n",
       "      <td>가락본동</td>\n",
       "      <td>Weekday_end</td>\n",
       "      <td>fee1H</td>\n",
       "      <td>Weekday_start</td>\n",
       "      <td>2</td>\n",
       "      <td>2</td>\n",
       "    </tr>\n",
       "    <tr>\n",
       "      <th>1</th>\n",
       "      <td>가리봉동</td>\n",
       "      <td>cctv_r300</td>\n",
       "      <td>Weekday_end</td>\n",
       "      <td>total_parking_spaces</td>\n",
       "      <td>1</td>\n",
       "      <td>1</td>\n",
       "    </tr>\n",
       "    <tr>\n",
       "      <th>2</th>\n",
       "      <td>가산동</td>\n",
       "      <td>Weekday_end</td>\n",
       "      <td>Weekday_start</td>\n",
       "      <td>Weekday_operatingHours</td>\n",
       "      <td>0</td>\n",
       "      <td>0</td>\n",
       "    </tr>\n",
       "    <tr>\n",
       "      <th>3</th>\n",
       "      <td>가양1동</td>\n",
       "      <td>fee1H</td>\n",
       "      <td>cctv_r300</td>\n",
       "      <td>total_parking_spaces</td>\n",
       "      <td>0</td>\n",
       "      <td>0</td>\n",
       "    </tr>\n",
       "    <tr>\n",
       "      <th>4</th>\n",
       "      <td>가양2동</td>\n",
       "      <td>total_parking_spaces</td>\n",
       "      <td>bus_r300</td>\n",
       "      <td>Weekday_start</td>\n",
       "      <td>0</td>\n",
       "      <td>0</td>\n",
       "    </tr>\n",
       "  </tbody>\n",
       "</table>\n",
       "</div>"
      ],
      "text/plain": [
       "   dong                  Top1           Top2                    Top3  \\\n",
       "0  가락본동           Weekday_end          fee1H           Weekday_start   \n",
       "1  가리봉동             cctv_r300    Weekday_end    total_parking_spaces   \n",
       "2   가산동           Weekday_end  Weekday_start  Weekday_operatingHours   \n",
       "3  가양1동                 fee1H      cctv_r300    total_parking_spaces   \n",
       "4  가양2동  total_parking_spaces       bus_r300           Weekday_start   \n",
       "\n",
       "  complaint_level  predicted_level  \n",
       "0               2                2  \n",
       "1               1                1  \n",
       "2               0                0  \n",
       "3               0                0  \n",
       "4               0                0  "
      ]
     },
     "execution_count": 31,
     "metadata": {},
     "output_type": "execute_result"
    }
   ],
   "source": [
    "# 1) 실제 complaints_level: parks_gdf 에 이미 있다면 바로 사용\n",
    "#    없다면, 원본 complaints_df 등에서 행정동별로 집계해서 merge\n",
    "\n",
    "# 예: 원본 parks_df 에 'complaints_level' 컬럼이 있다고 가정\n",
    "actual = parks_gdf.groupby('dong')['complaint_level'] \\\n",
    "                   .agg(lambda x: x.mode()[0]) \\\n",
    "                   .reset_index()\n",
    "\n",
    "# 2) 예측 complaints_level\n",
    "predicted = pd.DataFrame({\n",
    "    'dong': parks_gdf['dong'],\n",
    "    'predicted_level': rf.predict(parks_gdf[feature_cols])\n",
    "}).groupby('dong')['predicted_level'] \\\n",
    "  .agg(lambda x: x.mode()[0]) \\\n",
    "  .reset_index()\n",
    "\n",
    "# 3) df_top3 에 결합\n",
    "df_insight = (\n",
    "    df_top3\n",
    "      .merge(actual,    on='dong', how='left')\n",
    "      .merge(predicted, on='dong', how='left')\n",
    ")\n",
    "\n",
    "df_insight.head()\n"
   ]
  }
 ],
 "metadata": {
  "kernelspec": {
   "display_name": "Python 3",
   "language": "python",
   "name": "python3"
  },
  "language_info": {
   "codemirror_mode": {
    "name": "ipython",
    "version": 3
   },
   "file_extension": ".py",
   "mimetype": "text/x-python",
   "name": "python",
   "nbconvert_exporter": "python",
   "pygments_lexer": "ipython3",
   "version": "3.9.6"
  }
 },
 "nbformat": 4,
 "nbformat_minor": 5
}

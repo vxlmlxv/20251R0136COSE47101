{
 "cells": [
  {
   "cell_type": "code",
   "execution_count": 1,
   "id": "7ad152a1",
   "metadata": {},
   "outputs": [],
   "source": [
    "import pandas as pd\n",
    "from datetime import datetime\n",
    "from sklearn.linear_model import LogisticRegression\n",
    "from sklearn.model_selection import train_test_split\n",
    "from sklearn.metrics import classification_report"
   ]
  },
  {
   "cell_type": "code",
   "execution_count": 2,
   "id": "298d436a",
   "metadata": {},
   "outputs": [],
   "source": [
    "parks_df = pd.read_csv('parks.csv')\n",
    "reports_df = pd.read_csv('reports.csv')"
   ]
  },
  {
   "cell_type": "code",
   "execution_count": 3,
   "id": "a26e9604",
   "metadata": {},
   "outputs": [],
   "source": [
    "from datetime import datetime\n",
    "\n",
    "reports_df[\"datetime\"] = pd.to_datetime(\n",
    "    reports_df[\"민원접수일\"].astype(str) + \" \" + reports_df[\"민원접수시간\"].astype(str),\n",
    "    errors=\"coerce\"\n",
    ")"
   ]
  },
  {
   "cell_type": "code",
   "execution_count": 4,
   "id": "0fdb0872",
   "metadata": {},
   "outputs": [],
   "source": [
    "def is_within_operating_hours(report_time, start_str, end_str):\n",
    "    if start_str == \"00:00:00\" and end_str == \"00:00:00\":\n",
    "        return False\n",
    "    try:\n",
    "        start = datetime.strptime(start_str, \"%H:%M:%S\").time()\n",
    "        end = datetime.strptime(end_str, \"%H:%M:%S\").time()\n",
    "        return start <= report_time.time() <= end\n",
    "    except:\n",
    "        return False\n",
    "\n",
    "def time_to_float(tstr):\n",
    "    try:\n",
    "        t = datetime.strptime(tstr, \"%H:%M:%S\").time()\n",
    "        return t.hour + t.minute / 60\n",
    "    except:\n",
    "        return 0\n"
   ]
  },
  {
   "cell_type": "code",
   "execution_count": 13,
   "id": "f290a0a7",
   "metadata": {},
   "outputs": [
    {
     "name": "stdout",
     "output_type": "stream",
     "text": [
      "✅ 파일로 저장 완료: parking_complaint_analysis.xlsx\n"
     ]
    }
   ],
   "source": [
    "import pandas as pd\n",
    "import numpy as np\n",
    "\n",
    "# 0) parks 좌표 전처리 & 라디안 변환 (한 번만)\n",
    "parks_df = parks_df.dropna(subset=['위도','경도']).reset_index(drop=True)\n",
    "parks_rad = np.radians(parks_df[['위도','경도']].values)  # shape=(n_parks,2)\n",
    "\n",
    "# 1) reports 전처리 & 10만 건 랜덤 샘플링\n",
    "reports_df['datetime'] = pd.to_datetime(reports_df['datetime'])\n",
    "reports_df = reports_df.dropna(subset=['위도','경도']).reset_index(drop=True)\n",
    "reports_sample = reports_df.sample(n=1000000, random_state=42).reset_index(drop=True)\n",
    "\n",
    "# 2) 최적화된 해버사인 함수 (입력은 모두 라디안)\n",
    "def haversine_rad(lat1, lon1, lat2_arr, lon2_arr, R=6371000):\n",
    "    dlat = lat2_arr - lat1\n",
    "    dlon = lon2_arr - lon1\n",
    "    a = np.sin(dlat / 2.0)**2 + np.cos(lat1) * np.cos(lat2_arr) * np.sin(dlon / 2.0)**2\n",
    "    return 2 * R * np.arcsin(np.sqrt(a))\n",
    "\n",
    "records = []\n",
    "\n",
    "# 3) 샘플 순회하며 거리 계산 → 최단 거리 주차장 찾기\n",
    "for _, report in reports_sample.iterrows():\n",
    "    # 3-1) 리포트 좌표를 라디안으로 변환\n",
    "    lat1 = np.radians(report['위도'])\n",
    "    lon1 = np.radians(report['경도'])\n",
    "    \n",
    "    # 3-2) 벡터화된 해버사인 호출\n",
    "    dists = haversine_rad(\n",
    "        lat1, lon1,\n",
    "        parks_rad[:, 0],  # parks 위도(라디안)\n",
    "        parks_rad[:, 1]   # parks 경도(라디안)\n",
    "    )\n",
    "    \n",
    "    # 3-3) 최단거리 인덱스 & 주차장 정보 추출\n",
    "    idx_min = np.argmin(dists)\n",
    "    nearest = parks_df.iloc[idx_min]\n",
    "    dist_m = dists[idx_min]\n",
    "    \n",
    "    # 3-4) 운영시간 내외 판단 (사용자 정의 함수)\n",
    "    label = is_within_operating_hours(\n",
    "        report['datetime'],\n",
    "        nearest['평일시작'],\n",
    "        nearest['평일종료']\n",
    "    )\n",
    "    \n",
    "    # 3-5) 결과 저장\n",
    "    records.append({\n",
    "        'distance': dist_m,\n",
    "        '시작시간': time_to_float(nearest['평일시작']),\n",
    "        '종료시간': time_to_float(nearest['평일종료']),\n",
    "        '요금': nearest.get('1시간 요금', 0) or 0,\n",
    "        'label': int(label)\n",
    "    })\n",
    "\n",
    "# 4) DataFrame 변환\n",
    "df = pd.DataFrame(records)\n",
    "\n",
    "from pandas import ExcelWriter\n",
    "\n",
    "output_file = 'parking_complaint_analysis.xlsx'\n",
    "with ExcelWriter(output_file, engine='openpyxl') as writer:\n",
    "    df.to_excel(writer, index=True, sheet_name='분석결과')\n",
    "print(f\"✅ 파일로 저장 완료: {output_file}\")\n",
    "\n",
    "\n"
   ]
  },
  {
   "cell_type": "code",
   "execution_count": 14,
   "id": "7a94b462",
   "metadata": {},
   "outputs": [
    {
     "name": "stdout",
     "output_type": "stream",
     "text": [
      "✅ 파일로 저장 완료: classification_report.xlsx\n"
     ]
    }
   ],
   "source": [
    "import pandas as pd\n",
    "from sklearn.metrics import classification_report\n",
    "from sklearn.model_selection import train_test_split\n",
    "from sklearn.linear_model import LogisticRegression\n",
    "\n",
    "# 1) 데이터 준비\n",
    "X = df[[\"distance\", \"시작시간\", \"종료시간\", \"요금\"]]\n",
    "y = df[\"label\"]\n",
    "X_train, X_test, y_train, y_test = train_test_split(\n",
    "    X, y, test_size=0.3, random_state=42\n",
    ")\n",
    "\n",
    "# 2) 모델 학습 & 예측\n",
    "model = LogisticRegression(max_iter=1000)\n",
    "model.fit(X_train, y_train)\n",
    "y_pred = model.predict(X_test)\n",
    "\n",
    "# 3) classification_report 를 dict 형태로 추출\n",
    "report_dict = classification_report(y_test, y_pred, output_dict=True)\n",
    "\n",
    "# 4) DataFrame 으로 변환\n",
    "report_df = pd.DataFrame(report_dict).T\n",
    "\n",
    "from pandas import ExcelWriter\n",
    "\n",
    "output_file = \"classification_report.xlsx\"\n",
    "with ExcelWriter(output_file, engine='openpyxl') as writer:\n",
    "    report_df.to_excel(writer, index=True, sheet_name='분석결과')\n",
    "print(f\"✅ 파일로 저장 완료: {output_file}\")\n"
   ]
  }
 ],
 "metadata": {
  "kernelspec": {
   "display_name": "base",
   "language": "python",
   "name": "python3"
  },
  "language_info": {
   "codemirror_mode": {
    "name": "ipython",
    "version": 3
   },
   "file_extension": ".py",
   "mimetype": "text/x-python",
   "name": "python",
   "nbconvert_exporter": "python",
   "pygments_lexer": "ipython3",
   "version": "3.12.4"
  }
 },
 "nbformat": 4,
 "nbformat_minor": 5
}

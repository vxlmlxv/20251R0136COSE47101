{
 "cells": [
  {
   "cell_type": "code",
   "execution_count": 1,
   "id": "c22db6dc",
   "metadata": {},
   "outputs": [],
   "source": [
    "# data manipulation\n",
    "import numpy as np\n",
    "import pandas as pd\n",
    "import geopandas as gpd\n",
    "import geodatasets\n",
    "\n",
    "# visualization\n",
    "import matplotlib.pyplot as plt\n",
    "from matplotlib import font_manager\n",
    "from matplotlib.font_manager import FontProperties\n",
    "# from highlight_text import fig_text, ax_text\n",
    "from matplotlib.patches import FancyArrowPatch\n",
    "\n",
    "import geoplot\n",
    "import geoplot.crs as gcrs\n"
   ]
  },
  {
   "cell_type": "code",
   "execution_count": 2,
   "id": "49d1963b",
   "metadata": {},
   "outputs": [],
   "source": [
    "\n",
    "epsilon_km = 0.5  # 500 meters = 0.5 km\n",
    "epsilon_rad = epsilon_km / 6371.0  # convert to radians"
   ]
  },
  {
   "cell_type": "code",
   "execution_count": 3,
   "id": "0e5a06ed",
   "metadata": {},
   "outputs": [
    {
     "data": {
      "text/html": [
       "<div>\n",
       "<style scoped>\n",
       "    .dataframe tbody tr th:only-of-type {\n",
       "        vertical-align: middle;\n",
       "    }\n",
       "\n",
       "    .dataframe tbody tr th {\n",
       "        vertical-align: top;\n",
       "    }\n",
       "\n",
       "    .dataframe thead th {\n",
       "        text-align: right;\n",
       "    }\n",
       "</style>\n",
       "<table border=\"1\" class=\"dataframe\">\n",
       "  <thead>\n",
       "    <tr style=\"text-align: right;\">\n",
       "      <th></th>\n",
       "      <th>민원접수일</th>\n",
       "      <th>민원접수시간</th>\n",
       "      <th>주소</th>\n",
       "      <th>경도</th>\n",
       "      <th>위도</th>\n",
       "      <th>요일</th>\n",
       "    </tr>\n",
       "  </thead>\n",
       "  <tbody>\n",
       "    <tr>\n",
       "      <th>0</th>\n",
       "      <td>2021-09-29</td>\n",
       "      <td>19:29:00</td>\n",
       "      <td>서울특별시 강서구 강서로15길 49</td>\n",
       "      <td>126.843247</td>\n",
       "      <td>37.532089</td>\n",
       "      <td>Weekday</td>\n",
       "    </tr>\n",
       "    <tr>\n",
       "      <th>1</th>\n",
       "      <td>2021-09-29</td>\n",
       "      <td>18:48:00</td>\n",
       "      <td>성북구 오패산로19길 34-5</td>\n",
       "      <td>127.033761</td>\n",
       "      <td>37.609537</td>\n",
       "      <td>Weekday</td>\n",
       "    </tr>\n",
       "    <tr>\n",
       "      <th>2</th>\n",
       "      <td>2021-09-29</td>\n",
       "      <td>18:47:00</td>\n",
       "      <td>장위로21다길 59-19 주소지 앞도로 외</td>\n",
       "      <td>127.045741</td>\n",
       "      <td>37.616406</td>\n",
       "      <td>Weekday</td>\n",
       "    </tr>\n",
       "    <tr>\n",
       "      <th>3</th>\n",
       "      <td>2021-09-29</td>\n",
       "      <td>18:47:00</td>\n",
       "      <td>서울특별시 강북구 오패산로30길 13</td>\n",
       "      <td>127.034685</td>\n",
       "      <td>37.613820</td>\n",
       "      <td>Weekday</td>\n",
       "    </tr>\n",
       "    <tr>\n",
       "      <th>4</th>\n",
       "      <td>2021-09-29</td>\n",
       "      <td>18:46:00</td>\n",
       "      <td>서울특별시 강서구 강서로18길 52-5</td>\n",
       "      <td>126.848703</td>\n",
       "      <td>37.534293</td>\n",
       "      <td>Weekday</td>\n",
       "    </tr>\n",
       "  </tbody>\n",
       "</table>\n",
       "</div>"
      ],
      "text/plain": [
       "        민원접수일    민원접수시간                       주소          경도         위도  \\\n",
       "0  2021-09-29  19:29:00      서울특별시 강서구 강서로15길 49  126.843247  37.532089   \n",
       "1  2021-09-29  18:48:00        성북구 오패산로19길 34-5   127.033761  37.609537   \n",
       "2  2021-09-29  18:47:00  장위로21다길 59-19 주소지 앞도로 외  127.045741  37.616406   \n",
       "3  2021-09-29  18:47:00     서울특별시 강북구 오패산로30길 13  127.034685  37.613820   \n",
       "4  2021-09-29  18:46:00    서울특별시 강서구 강서로18길 52-5  126.848703  37.534293   \n",
       "\n",
       "        요일  \n",
       "0  Weekday  \n",
       "1  Weekday  \n",
       "2  Weekday  \n",
       "3  Weekday  \n",
       "4  Weekday  "
      ]
     },
     "execution_count": 3,
     "metadata": {},
     "output_type": "execute_result"
    }
   ],
   "source": [
    "reports_path = 'reports.csv'\n",
    "reports = pd.read_csv(reports_path)\n",
    "reports.head()"
   ]
  },
  {
   "cell_type": "code",
   "execution_count": 4,
   "id": "92d209bb",
   "metadata": {},
   "outputs": [],
   "source": [
    "# rename columns\n",
    "reports.rename(columns={\n",
    "    '위도': 'latitude',\n",
    "    '경도': 'longitude',\n",
    "    '민원접수일': 'date',\n",
    "    '주소': 'address',\n",
    "}, inplace=True)"
   ]
  },
  {
   "cell_type": "code",
   "execution_count": 5,
   "id": "4ff25a7f",
   "metadata": {},
   "outputs": [],
   "source": [
    "coords = reports[['latitude', 'longitude']].to_numpy()\n",
    "coords_rad = np.radians(coords)"
   ]
  },
  {
   "cell_type": "code",
   "execution_count": 6,
   "id": "b5e7d0a5",
   "metadata": {},
   "outputs": [],
   "source": [
    "from sklearn.cluster import DBSCAN\n"
   ]
  },
  {
   "cell_type": "code",
   "execution_count": null,
   "id": "c20dc30b",
   "metadata": {},
   "outputs": [],
   "source": []
  },
  {
   "cell_type": "markdown",
   "id": "68d9db7c",
   "metadata": {},
   "source": [
    "---"
   ]
  },
  {
   "cell_type": "code",
   "execution_count": 14,
   "id": "35ca6366",
   "metadata": {},
   "outputs": [],
   "source": [
    "import pandas as pd\n",
    "import numpy as np\n",
    "\n",
    "# Load data\n",
    "\n",
    "# Grid size in degrees (approx ~1km)\n",
    "lat_grid_size = 0.009  # ~1km in latitude\n",
    "lon_grid_size = 0.011  # ~1km in longitude (adjust for your area)\n",
    "\n",
    "# Assign grid cells\n",
    "reports['lat_grid'] = (reports['latitude'] // lat_grid_size).astype(int)\n",
    "reports['lon_grid'] = (reports['longitude'] // lon_grid_size).astype(int)\n",
    "\n",
    "# Create a combined grid key\n",
    "reports['grid_id'] = reports['lat_grid'].astype(str) + \"_\" + reports['lon_grid'].astype(str)"
   ]
  },
  {
   "cell_type": "code",
   "execution_count": 15,
   "id": "cf3e3be6",
   "metadata": {},
   "outputs": [],
   "source": [
    "from sklearn.cluster import DBSCAN\n",
    "\n",
    "def cluster_grid(group):\n",
    "    coords = group[['latitude', 'longitude']].to_numpy()\n",
    "    coords_rad = np.radians(coords)\n",
    "    \n",
    "    epsilon_rad = 0.5 / 6371.0  # 500m radius in radians\n",
    "\n",
    "    db = DBSCAN(eps=epsilon_rad, min_samples=1, metric='haversine')\n",
    "    group['local_cluster'] = db.fit_predict(coords_rad)\n",
    "    \n",
    "    # Combine grid id and local cluster to get a global cluster id\n",
    "    group['global_cluster'] = group['grid_id'] + \"_\" + group['local_cluster'].astype(str)\n",
    "    return group"
   ]
  },
  {
   "cell_type": "code",
   "execution_count": 16,
   "id": "0343072e",
   "metadata": {},
   "outputs": [
    {
     "name": "stderr",
     "output_type": "stream",
     "text": [
      "/var/folders/pf/y0k140gn11d95ybm0dgtk6m80000gn/T/ipykernel_73984/1777011719.py:1: DeprecationWarning: DataFrameGroupBy.apply operated on the grouping columns. This behavior is deprecated, and in a future version of pandas the grouping columns will be excluded from the operation. Either pass `include_groups=False` to exclude the groupings or explicitly select the grouping columns after groupby to silence this warning.\n",
      "  df_clustered = reports.groupby('grid_id', group_keys=False).apply(cluster_grid)\n"
     ]
    }
   ],
   "source": [
    "df_clustered = reports.groupby('grid_id', group_keys=False).apply(cluster_grid)"
   ]
  },
  {
   "cell_type": "code",
   "execution_count": 17,
   "id": "87e52c37",
   "metadata": {},
   "outputs": [],
   "source": [
    "result = df_clustered.groupby('global_cluster').agg({\n",
    "    'latitude': 'mean',\n",
    "    'longitude': 'mean',\n",
    "    'global_cluster': 'count'\n",
    "}).rename(columns={'global_cluster': 'count'}).reset_index()"
   ]
  },
  {
   "cell_type": "code",
   "execution_count": 20,
   "id": "ce745d1c",
   "metadata": {},
   "outputs": [
    {
     "data": {
      "text/html": [
       "<div>\n",
       "<style scoped>\n",
       "    .dataframe tbody tr th:only-of-type {\n",
       "        vertical-align: middle;\n",
       "    }\n",
       "\n",
       "    .dataframe tbody tr th {\n",
       "        vertical-align: top;\n",
       "    }\n",
       "\n",
       "    .dataframe thead th {\n",
       "        text-align: right;\n",
       "    }\n",
       "</style>\n",
       "<table border=\"1\" class=\"dataframe\">\n",
       "  <thead>\n",
       "    <tr style=\"text-align: right;\">\n",
       "      <th></th>\n",
       "      <th>date</th>\n",
       "      <th>민원접수시간</th>\n",
       "      <th>address</th>\n",
       "      <th>longitude</th>\n",
       "      <th>latitude</th>\n",
       "      <th>요일</th>\n",
       "      <th>lat_grid</th>\n",
       "      <th>lon_grid</th>\n",
       "      <th>grid_id</th>\n",
       "      <th>local_cluster</th>\n",
       "      <th>global_cluster</th>\n",
       "    </tr>\n",
       "  </thead>\n",
       "  <tbody>\n",
       "    <tr>\n",
       "      <th>0</th>\n",
       "      <td>2021-09-29</td>\n",
       "      <td>19:29:00</td>\n",
       "      <td>서울특별시 강서구 강서로15길 49</td>\n",
       "      <td>126.843247</td>\n",
       "      <td>37.532089</td>\n",
       "      <td>Weekday</td>\n",
       "      <td>4170</td>\n",
       "      <td>11531</td>\n",
       "      <td>4170_11531</td>\n",
       "      <td>0</td>\n",
       "      <td>4170_11531_0</td>\n",
       "    </tr>\n",
       "    <tr>\n",
       "      <th>1</th>\n",
       "      <td>2021-09-29</td>\n",
       "      <td>18:48:00</td>\n",
       "      <td>성북구 오패산로19길 34-5</td>\n",
       "      <td>127.033761</td>\n",
       "      <td>37.609537</td>\n",
       "      <td>Weekday</td>\n",
       "      <td>4178</td>\n",
       "      <td>11548</td>\n",
       "      <td>4178_11548</td>\n",
       "      <td>0</td>\n",
       "      <td>4178_11548_0</td>\n",
       "    </tr>\n",
       "    <tr>\n",
       "      <th>2</th>\n",
       "      <td>2021-09-29</td>\n",
       "      <td>18:47:00</td>\n",
       "      <td>장위로21다길 59-19 주소지 앞도로 외</td>\n",
       "      <td>127.045741</td>\n",
       "      <td>37.616406</td>\n",
       "      <td>Weekday</td>\n",
       "      <td>4179</td>\n",
       "      <td>11549</td>\n",
       "      <td>4179_11549</td>\n",
       "      <td>0</td>\n",
       "      <td>4179_11549_0</td>\n",
       "    </tr>\n",
       "    <tr>\n",
       "      <th>3</th>\n",
       "      <td>2021-09-29</td>\n",
       "      <td>18:47:00</td>\n",
       "      <td>서울특별시 강북구 오패산로30길 13</td>\n",
       "      <td>127.034685</td>\n",
       "      <td>37.613820</td>\n",
       "      <td>Weekday</td>\n",
       "      <td>4179</td>\n",
       "      <td>11548</td>\n",
       "      <td>4179_11548</td>\n",
       "      <td>0</td>\n",
       "      <td>4179_11548_0</td>\n",
       "    </tr>\n",
       "    <tr>\n",
       "      <th>4</th>\n",
       "      <td>2021-09-29</td>\n",
       "      <td>18:46:00</td>\n",
       "      <td>서울특별시 강서구 강서로18길 52-5</td>\n",
       "      <td>126.848703</td>\n",
       "      <td>37.534293</td>\n",
       "      <td>Weekday</td>\n",
       "      <td>4170</td>\n",
       "      <td>11531</td>\n",
       "      <td>4170_11531</td>\n",
       "      <td>0</td>\n",
       "      <td>4170_11531_0</td>\n",
       "    </tr>\n",
       "  </tbody>\n",
       "</table>\n",
       "</div>"
      ],
      "text/plain": [
       "         date    민원접수시간                  address   longitude   latitude  \\\n",
       "0  2021-09-29  19:29:00      서울특별시 강서구 강서로15길 49  126.843247  37.532089   \n",
       "1  2021-09-29  18:48:00        성북구 오패산로19길 34-5   127.033761  37.609537   \n",
       "2  2021-09-29  18:47:00  장위로21다길 59-19 주소지 앞도로 외  127.045741  37.616406   \n",
       "3  2021-09-29  18:47:00     서울특별시 강북구 오패산로30길 13  127.034685  37.613820   \n",
       "4  2021-09-29  18:46:00    서울특별시 강서구 강서로18길 52-5  126.848703  37.534293   \n",
       "\n",
       "        요일  lat_grid  lon_grid     grid_id  local_cluster global_cluster  \n",
       "0  Weekday      4170     11531  4170_11531              0   4170_11531_0  \n",
       "1  Weekday      4178     11548  4178_11548              0   4178_11548_0  \n",
       "2  Weekday      4179     11549  4179_11549              0   4179_11549_0  \n",
       "3  Weekday      4179     11548  4179_11548              0   4179_11548_0  \n",
       "4  Weekday      4170     11531  4170_11531              0   4170_11531_0  "
      ]
     },
     "execution_count": 20,
     "metadata": {},
     "output_type": "execute_result"
    }
   ],
   "source": [
    "df_clustered.head()"
   ]
  },
  {
   "cell_type": "code",
   "execution_count": null,
   "id": "63b292b4",
   "metadata": {},
   "outputs": [],
   "source": []
  },
  {
   "cell_type": "code",
   "execution_count": null,
   "id": "6a8e7ca4",
   "metadata": {},
   "outputs": [],
   "source": [
    "parks_path = 'parks.csv'\n",
    "parks = pd.read_csv(parks_path)\n",
    "\n"
   ]
  },
  {
   "cell_type": "code",
   "execution_count": 10,
   "id": "85db3bae",
   "metadata": {},
   "outputs": [],
   "source": [
    "parks.rename(columns={\n",
    "    '위도': 'latitude',\n",
    "    '경도': 'longitude',\n",
    "    '주소': 'address'\n",
    "}, inplace=True)"
   ]
  },
  {
   "cell_type": "code",
   "execution_count": 12,
   "id": "0157cf77",
   "metadata": {},
   "outputs": [],
   "source": [
    "# drop columns except for latitude, longitude, and address\n",
    "parks = parks[['latitude', 'longitude', 'address']]"
   ]
  },
  {
   "cell_type": "code",
   "execution_count": 16,
   "id": "912c4f2d",
   "metadata": {},
   "outputs": [
    {
     "data": {
      "text/plain": [
       "(1463, 3)"
      ]
     },
     "execution_count": 16,
     "metadata": {},
     "output_type": "execute_result"
    }
   ],
   "source": [
    "parks.head()\n",
    "parks.shape"
   ]
  },
  {
   "cell_type": "code",
   "execution_count": 7,
   "id": "758da72a",
   "metadata": {},
   "outputs": [],
   "source": [
    "def haversine_array(lat, lon, coords):\n",
    "    R = 6371000  # m\n",
    "    φ1, λ1 = np.radians(lat), np.radians(lon)\n",
    "    φ2, λ2 = np.radians(coords[:,0]), np.radians(coords[:,1])\n",
    "    dφ, dλ = φ2 - φ1, λ2 - λ1\n",
    "    a = np.sin(dφ/2)**2 + np.cos(φ1)*np.cos(φ2)*np.sin(dλ/2)**2\n",
    "    return 2 * R * np.arcsin(np.sqrt(a))"
   ]
  },
  {
   "cell_type": "code",
   "execution_count": 14,
   "id": "dfd97f46",
   "metadata": {},
   "outputs": [],
   "source": [
    "complaint_counts = []\n",
    "for _, park in parks.iterrows():\n",
    "    dists = haversine_array(park['latitude'], park['longitude'], coords)\n",
    "    complaint_counts.append((dists <= 500).sum())\n",
    "df = parks.copy()\n",
    "df['민원 수'] = complaint_counts"
   ]
  },
  {
   "cell_type": "code",
   "execution_count": 15,
   "id": "dce2f54c",
   "metadata": {},
   "outputs": [
    {
     "data": {
      "text/html": [
       "<div>\n",
       "<style scoped>\n",
       "    .dataframe tbody tr th:only-of-type {\n",
       "        vertical-align: middle;\n",
       "    }\n",
       "\n",
       "    .dataframe tbody tr th {\n",
       "        vertical-align: top;\n",
       "    }\n",
       "\n",
       "    .dataframe thead th {\n",
       "        text-align: right;\n",
       "    }\n",
       "</style>\n",
       "<table border=\"1\" class=\"dataframe\">\n",
       "  <thead>\n",
       "    <tr style=\"text-align: right;\">\n",
       "      <th></th>\n",
       "      <th>latitude</th>\n",
       "      <th>longitude</th>\n",
       "      <th>address</th>\n",
       "      <th>민원 수</th>\n",
       "    </tr>\n",
       "  </thead>\n",
       "  <tbody>\n",
       "    <tr>\n",
       "      <th>0</th>\n",
       "      <td>37.477263</td>\n",
       "      <td>127.066477</td>\n",
       "      <td>강남구 개포동 126-2</td>\n",
       "      <td>392</td>\n",
       "    </tr>\n",
       "    <tr>\n",
       "      <th>1</th>\n",
       "      <td>37.481496</td>\n",
       "      <td>127.048218</td>\n",
       "      <td>강남구 개포동 1266-0</td>\n",
       "      <td>4191</td>\n",
       "    </tr>\n",
       "    <tr>\n",
       "      <th>2</th>\n",
       "      <td>37.494938</td>\n",
       "      <td>127.079307</td>\n",
       "      <td>강남구 개포동 13-2</td>\n",
       "      <td>3123</td>\n",
       "    </tr>\n",
       "    <tr>\n",
       "      <th>3</th>\n",
       "      <td>37.477888</td>\n",
       "      <td>127.065835</td>\n",
       "      <td>강남구 개포동 567-23</td>\n",
       "      <td>395</td>\n",
       "    </tr>\n",
       "    <tr>\n",
       "      <th>4</th>\n",
       "      <td>37.508171</td>\n",
       "      <td>127.026290</td>\n",
       "      <td>강남구 논현동 168-0</td>\n",
       "      <td>29290</td>\n",
       "    </tr>\n",
       "    <tr>\n",
       "      <th>...</th>\n",
       "      <td>...</td>\n",
       "      <td>...</td>\n",
       "      <td>...</td>\n",
       "      <td>...</td>\n",
       "    </tr>\n",
       "    <tr>\n",
       "      <th>1458</th>\n",
       "      <td>37.570006</td>\n",
       "      <td>127.017298</td>\n",
       "      <td>중구 흥인동 162-1 0</td>\n",
       "      <td>26973</td>\n",
       "    </tr>\n",
       "    <tr>\n",
       "      <th>1459</th>\n",
       "      <td>37.598946</td>\n",
       "      <td>127.099071</td>\n",
       "      <td>중랑구 망우동 486-10</td>\n",
       "      <td>4366</td>\n",
       "    </tr>\n",
       "    <tr>\n",
       "      <th>1460</th>\n",
       "      <td>37.574183</td>\n",
       "      <td>127.089299</td>\n",
       "      <td>중랑구 면목동 1-4</td>\n",
       "      <td>1725</td>\n",
       "    </tr>\n",
       "    <tr>\n",
       "      <th>1461</th>\n",
       "      <td>37.579494</td>\n",
       "      <td>127.081451</td>\n",
       "      <td>중랑구 면목동 168-2</td>\n",
       "      <td>2435</td>\n",
       "    </tr>\n",
       "    <tr>\n",
       "      <th>1462</th>\n",
       "      <td>37.615423</td>\n",
       "      <td>127.086049</td>\n",
       "      <td>중랑구 묵동 23-0</td>\n",
       "      <td>1097</td>\n",
       "    </tr>\n",
       "  </tbody>\n",
       "</table>\n",
       "<p>1463 rows × 4 columns</p>\n",
       "</div>"
      ],
      "text/plain": [
       "       latitude   longitude         address   민원 수\n",
       "0     37.477263  127.066477   강남구 개포동 126-2    392\n",
       "1     37.481496  127.048218  강남구 개포동 1266-0   4191\n",
       "2     37.494938  127.079307    강남구 개포동 13-2   3123\n",
       "3     37.477888  127.065835  강남구 개포동 567-23    395\n",
       "4     37.508171  127.026290   강남구 논현동 168-0  29290\n",
       "...         ...         ...             ...    ...\n",
       "1458  37.570006  127.017298  중구 흥인동 162-1 0  26973\n",
       "1459  37.598946  127.099071  중랑구 망우동 486-10   4366\n",
       "1460  37.574183  127.089299     중랑구 면목동 1-4   1725\n",
       "1461  37.579494  127.081451   중랑구 면목동 168-2   2435\n",
       "1462  37.615423  127.086049     중랑구 묵동 23-0   1097\n",
       "\n",
       "[1463 rows x 4 columns]"
      ]
     },
     "execution_count": 15,
     "metadata": {},
     "output_type": "execute_result"
    }
   ],
   "source": [
    "df"
   ]
  },
  {
   "cell_type": "code",
   "execution_count": 17,
   "id": "c0892b24",
   "metadata": {},
   "outputs": [],
   "source": [
    "df.to_csv('parks_complaints.csv', index=False)"
   ]
  }
 ],
 "metadata": {
  "kernelspec": {
   "display_name": ".venv",
   "language": "python",
   "name": "python3"
  },
  "language_info": {
   "codemirror_mode": {
    "name": "ipython",
    "version": 3
   },
   "file_extension": ".py",
   "mimetype": "text/x-python",
   "name": "python",
   "nbconvert_exporter": "python",
   "pygments_lexer": "ipython3",
   "version": "3.13.3"
  }
 },
 "nbformat": 4,
 "nbformat_minor": 5
}

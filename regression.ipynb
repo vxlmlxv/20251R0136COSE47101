{
 "cells": [
  {
   "cell_type": "code",
   "execution_count": 1,
   "id": "a018b853",
   "metadata": {},
   "outputs": [],
   "source": [
    "import pandas as pd\n",
    "import numpy as np\n",
    "from sklearn.ensemble import RandomForestRegressor\n",
    "from sklearn.model_selection import train_test_split\n",
    "from sklearn.metrics import mean_absolute_error"
   ]
  },
  {
   "cell_type": "markdown",
   "id": "64209845",
   "metadata": {},
   "source": [
    "# 각 주차장의 속성으로부터 그 주변 100m 이내에 발생한 민원 건수를 예측"
   ]
  },
  {
   "cell_type": "code",
   "execution_count": 3,
   "id": "5b1e2992",
   "metadata": {},
   "outputs": [],
   "source": [
    "# 위도, 경도 가지고 거리 측정하는 함수\n",
    "def haversine_array(lat, lon, rep_coords):\n",
    "    R = 6371000  # 지구 반지름 (m)\n",
    "    lat1 = np.radians(lat)\n",
    "    lon1 = np.radians(lon)\n",
    "    lat2 = np.radians(rep_coords[:,0])\n",
    "    lon2 = np.radians(rep_coords[:,1])\n",
    "\n",
    "    dlat = lat2 - lat1\n",
    "    dlon = lon2 - lon1\n",
    "\n",
    "    a = np.sin(dlat/2)**2 + np.cos(lat1)*np.cos(lat2)*np.sin(dlon/2)**2\n",
    "    return 2 * R * np.arcsin(np.sqrt(a))"
   ]
  },
  {
   "cell_type": "code",
   "execution_count": 4,
   "id": "fa5e483f",
   "metadata": {},
   "outputs": [],
   "source": [
    "parks = pd.read_csv('parks.csv')\n",
    "reports = pd.read_csv('reports.csv')"
   ]
  },
  {
   "cell_type": "code",
   "execution_count": 5,
   "id": "972b534f",
   "metadata": {},
   "outputs": [],
   "source": [
    "# 전처리\n",
    "for col in ['평일유료','토요일유료','공휴일유료']:\n",
    "    parks[col] = parks[col].map({'Y':1, 'N':0})"
   ]
  },
  {
   "cell_type": "code",
   "execution_count": 6,
   "id": "7f8ff46d",
   "metadata": {},
   "outputs": [
    {
     "data": {
      "text/html": [
       "<div>\n",
       "<style scoped>\n",
       "    .dataframe tbody tr th:only-of-type {\n",
       "        vertical-align: middle;\n",
       "    }\n",
       "\n",
       "    .dataframe tbody tr th {\n",
       "        vertical-align: top;\n",
       "    }\n",
       "\n",
       "    .dataframe thead th {\n",
       "        text-align: right;\n",
       "    }\n",
       "</style>\n",
       "<table border=\"1\" class=\"dataframe\">\n",
       "  <thead>\n",
       "    <tr style=\"text-align: right;\">\n",
       "      <th></th>\n",
       "      <th>주소</th>\n",
       "      <th>주차장종류</th>\n",
       "      <th>운영구분명</th>\n",
       "      <th>총주차면</th>\n",
       "      <th>평일유료</th>\n",
       "      <th>토요일유료</th>\n",
       "      <th>공휴일유료</th>\n",
       "      <th>평일시작</th>\n",
       "      <th>평일종료</th>\n",
       "      <th>토요일시작</th>\n",
       "      <th>토요일종료</th>\n",
       "      <th>공휴일시작</th>\n",
       "      <th>공휴일종료</th>\n",
       "      <th>기본주차요금</th>\n",
       "      <th>기본주차시간</th>\n",
       "      <th>추가단위요금</th>\n",
       "      <th>추가단위시간</th>\n",
       "      <th>경도</th>\n",
       "      <th>위도</th>\n",
       "      <th>1시간 요금</th>\n",
       "    </tr>\n",
       "  </thead>\n",
       "  <tbody>\n",
       "    <tr>\n",
       "      <th>0</th>\n",
       "      <td>강남구 개포동 126-2</td>\n",
       "      <td>NW</td>\n",
       "      <td>시간제 주차장</td>\n",
       "      <td>132.0</td>\n",
       "      <td>1</td>\n",
       "      <td>1</td>\n",
       "      <td>1</td>\n",
       "      <td>09:00:00</td>\n",
       "      <td>19:00:00</td>\n",
       "      <td>00:00:00</td>\n",
       "      <td>00:00:00</td>\n",
       "      <td>00:00:00</td>\n",
       "      <td>00:00:00</td>\n",
       "      <td>200.0</td>\n",
       "      <td>5.0</td>\n",
       "      <td>200.0</td>\n",
       "      <td>5.0</td>\n",
       "      <td>127.066477</td>\n",
       "      <td>37.477263</td>\n",
       "      <td>2400.0</td>\n",
       "    </tr>\n",
       "    <tr>\n",
       "      <th>1</th>\n",
       "      <td>강남구 개포동 1266-0</td>\n",
       "      <td>NW</td>\n",
       "      <td>시간제 주차장</td>\n",
       "      <td>97.0</td>\n",
       "      <td>1</td>\n",
       "      <td>0</td>\n",
       "      <td>0</td>\n",
       "      <td>00:00:00</td>\n",
       "      <td>00:00:00</td>\n",
       "      <td>00:00:00</td>\n",
       "      <td>00:00:00</td>\n",
       "      <td>00:00:00</td>\n",
       "      <td>00:00:00</td>\n",
       "      <td>200.0</td>\n",
       "      <td>5.0</td>\n",
       "      <td>200.0</td>\n",
       "      <td>5.0</td>\n",
       "      <td>127.048218</td>\n",
       "      <td>37.481496</td>\n",
       "      <td>2400.0</td>\n",
       "    </tr>\n",
       "    <tr>\n",
       "      <th>2</th>\n",
       "      <td>강남구 개포동 13-2</td>\n",
       "      <td>NW</td>\n",
       "      <td>시간제 주차장</td>\n",
       "      <td>168.0</td>\n",
       "      <td>1</td>\n",
       "      <td>0</td>\n",
       "      <td>0</td>\n",
       "      <td>00:00:00</td>\n",
       "      <td>00:00:00</td>\n",
       "      <td>00:00:00</td>\n",
       "      <td>00:00:00</td>\n",
       "      <td>00:00:00</td>\n",
       "      <td>00:00:00</td>\n",
       "      <td>100.0</td>\n",
       "      <td>5.0</td>\n",
       "      <td>100.0</td>\n",
       "      <td>5.0</td>\n",
       "      <td>127.079307</td>\n",
       "      <td>37.494938</td>\n",
       "      <td>1200.0</td>\n",
       "    </tr>\n",
       "    <tr>\n",
       "      <th>3</th>\n",
       "      <td>강남구 개포동 567-23</td>\n",
       "      <td>NW</td>\n",
       "      <td>시간제 주차장</td>\n",
       "      <td>92.0</td>\n",
       "      <td>1</td>\n",
       "      <td>1</td>\n",
       "      <td>1</td>\n",
       "      <td>09:00:00</td>\n",
       "      <td>19:00:00</td>\n",
       "      <td>00:00:00</td>\n",
       "      <td>00:00:00</td>\n",
       "      <td>00:00:00</td>\n",
       "      <td>00:00:00</td>\n",
       "      <td>200.0</td>\n",
       "      <td>5.0</td>\n",
       "      <td>200.0</td>\n",
       "      <td>5.0</td>\n",
       "      <td>127.065835</td>\n",
       "      <td>37.477888</td>\n",
       "      <td>2400.0</td>\n",
       "    </tr>\n",
       "    <tr>\n",
       "      <th>4</th>\n",
       "      <td>강남구 논현동 168-0</td>\n",
       "      <td>NW</td>\n",
       "      <td>시간제 주차장</td>\n",
       "      <td>192.0</td>\n",
       "      <td>1</td>\n",
       "      <td>0</td>\n",
       "      <td>0</td>\n",
       "      <td>00:00:00</td>\n",
       "      <td>00:00:00</td>\n",
       "      <td>00:00:00</td>\n",
       "      <td>00:00:00</td>\n",
       "      <td>00:00:00</td>\n",
       "      <td>00:00:00</td>\n",
       "      <td>300.0</td>\n",
       "      <td>5.0</td>\n",
       "      <td>300.0</td>\n",
       "      <td>5.0</td>\n",
       "      <td>127.026290</td>\n",
       "      <td>37.508171</td>\n",
       "      <td>3600.0</td>\n",
       "    </tr>\n",
       "  </tbody>\n",
       "</table>\n",
       "</div>"
      ],
      "text/plain": [
       "               주소 주차장종류    운영구분명   총주차면  평일유료  토요일유료  공휴일유료      평일시작  \\\n",
       "0   강남구 개포동 126-2    NW  시간제 주차장  132.0     1      1      1  09:00:00   \n",
       "1  강남구 개포동 1266-0    NW  시간제 주차장   97.0     1      0      0  00:00:00   \n",
       "2    강남구 개포동 13-2    NW  시간제 주차장  168.0     1      0      0  00:00:00   \n",
       "3  강남구 개포동 567-23    NW  시간제 주차장   92.0     1      1      1  09:00:00   \n",
       "4   강남구 논현동 168-0    NW  시간제 주차장  192.0     1      0      0  00:00:00   \n",
       "\n",
       "       평일종료     토요일시작     토요일종료     공휴일시작     공휴일종료  기본주차요금  기본주차시간  추가단위요금  \\\n",
       "0  19:00:00  00:00:00  00:00:00  00:00:00  00:00:00   200.0     5.0   200.0   \n",
       "1  00:00:00  00:00:00  00:00:00  00:00:00  00:00:00   200.0     5.0   200.0   \n",
       "2  00:00:00  00:00:00  00:00:00  00:00:00  00:00:00   100.0     5.0   100.0   \n",
       "3  19:00:00  00:00:00  00:00:00  00:00:00  00:00:00   200.0     5.0   200.0   \n",
       "4  00:00:00  00:00:00  00:00:00  00:00:00  00:00:00   300.0     5.0   300.0   \n",
       "\n",
       "   추가단위시간          경도         위도  1시간 요금  \n",
       "0     5.0  127.066477  37.477263  2400.0  \n",
       "1     5.0  127.048218  37.481496  2400.0  \n",
       "2     5.0  127.079307  37.494938  1200.0  \n",
       "3     5.0  127.065835  37.477888  2400.0  \n",
       "4     5.0  127.026290  37.508171  3600.0  "
      ]
     },
     "execution_count": 6,
     "metadata": {},
     "output_type": "execute_result"
    }
   ],
   "source": [
    "parks.head()"
   ]
  },
  {
   "cell_type": "code",
   "execution_count": 7,
   "id": "63783677",
   "metadata": {},
   "outputs": [],
   "source": [
    "features = parks[['총주차면','평일유료','토요일유료','공휴일유료','1시간 요금']].astype(float)"
   ]
  },
  {
   "cell_type": "code",
   "execution_count": 8,
   "id": "2fbd69f0",
   "metadata": {},
   "outputs": [
    {
     "data": {
      "text/html": [
       "<div>\n",
       "<style scoped>\n",
       "    .dataframe tbody tr th:only-of-type {\n",
       "        vertical-align: middle;\n",
       "    }\n",
       "\n",
       "    .dataframe tbody tr th {\n",
       "        vertical-align: top;\n",
       "    }\n",
       "\n",
       "    .dataframe thead th {\n",
       "        text-align: right;\n",
       "    }\n",
       "</style>\n",
       "<table border=\"1\" class=\"dataframe\">\n",
       "  <thead>\n",
       "    <tr style=\"text-align: right;\">\n",
       "      <th></th>\n",
       "      <th>총주차면</th>\n",
       "      <th>평일유료</th>\n",
       "      <th>토요일유료</th>\n",
       "      <th>공휴일유료</th>\n",
       "      <th>1시간 요금</th>\n",
       "    </tr>\n",
       "  </thead>\n",
       "  <tbody>\n",
       "    <tr>\n",
       "      <th>0</th>\n",
       "      <td>132.0</td>\n",
       "      <td>1.0</td>\n",
       "      <td>1.0</td>\n",
       "      <td>1.0</td>\n",
       "      <td>2400.0</td>\n",
       "    </tr>\n",
       "    <tr>\n",
       "      <th>1</th>\n",
       "      <td>97.0</td>\n",
       "      <td>1.0</td>\n",
       "      <td>0.0</td>\n",
       "      <td>0.0</td>\n",
       "      <td>2400.0</td>\n",
       "    </tr>\n",
       "    <tr>\n",
       "      <th>2</th>\n",
       "      <td>168.0</td>\n",
       "      <td>1.0</td>\n",
       "      <td>0.0</td>\n",
       "      <td>0.0</td>\n",
       "      <td>1200.0</td>\n",
       "    </tr>\n",
       "    <tr>\n",
       "      <th>3</th>\n",
       "      <td>92.0</td>\n",
       "      <td>1.0</td>\n",
       "      <td>1.0</td>\n",
       "      <td>1.0</td>\n",
       "      <td>2400.0</td>\n",
       "    </tr>\n",
       "    <tr>\n",
       "      <th>4</th>\n",
       "      <td>192.0</td>\n",
       "      <td>1.0</td>\n",
       "      <td>0.0</td>\n",
       "      <td>0.0</td>\n",
       "      <td>3600.0</td>\n",
       "    </tr>\n",
       "  </tbody>\n",
       "</table>\n",
       "</div>"
      ],
      "text/plain": [
       "    총주차면  평일유료  토요일유료  공휴일유료  1시간 요금\n",
       "0  132.0   1.0    1.0    1.0  2400.0\n",
       "1   97.0   1.0    0.0    0.0  2400.0\n",
       "2  168.0   1.0    0.0    0.0  1200.0\n",
       "3   92.0   1.0    1.0    1.0  2400.0\n",
       "4  192.0   1.0    0.0    0.0  3600.0"
      ]
     },
     "execution_count": 8,
     "metadata": {},
     "output_type": "execute_result"
    }
   ],
   "source": [
    "features.head()"
   ]
  },
  {
   "cell_type": "code",
   "execution_count": 9,
   "id": "96eb4eee",
   "metadata": {},
   "outputs": [],
   "source": [
    "# 주차장별 민원 건수 집계 함수\n",
    "def count_reports_within_radius(parks, reports, radius_m=400):\n",
    "    # haversine distance 계산\n",
    "    park_coords = parks[['위도','경도']].to_numpy()   # (lat, lon)\n",
    "    rep_coords  = reports[['위도','경도']].to_numpy()  # (lat, lon)\n",
    "\n",
    "    # 각 주차장마다 반경 내 민원 수\n",
    "    counts = []\n",
    "    for lat, lon in park_coords:\n",
    "        dists = haversine_array(lat, lon, rep_coords)\n",
    "        counts.append((dists <= radius_m).sum())\n",
    "    return np.array(counts)"
   ]
  },
  {
   "cell_type": "code",
   "execution_count": 10,
   "id": "d71d7fcb",
   "metadata": {},
   "outputs": [],
   "source": [
    "parks['report_count'] = count_reports_within_radius(parks, reports)"
   ]
  },
  {
   "cell_type": "code",
   "execution_count": 11,
   "id": "8c7be2bf",
   "metadata": {},
   "outputs": [],
   "source": [
    "target   = parks['report_count']"
   ]
  },
  {
   "cell_type": "code",
   "execution_count": 77,
   "id": "4b8d83ee",
   "metadata": {},
   "outputs": [
    {
     "data": {
      "text/html": [
       "<div>\n",
       "<style scoped>\n",
       "    .dataframe tbody tr th:only-of-type {\n",
       "        vertical-align: middle;\n",
       "    }\n",
       "\n",
       "    .dataframe tbody tr th {\n",
       "        vertical-align: top;\n",
       "    }\n",
       "\n",
       "    .dataframe thead th {\n",
       "        text-align: right;\n",
       "    }\n",
       "</style>\n",
       "<table border=\"1\" class=\"dataframe\">\n",
       "  <thead>\n",
       "    <tr style=\"text-align: right;\">\n",
       "      <th></th>\n",
       "      <th>총주차면</th>\n",
       "      <th>1시간 요금</th>\n",
       "      <th>평일유료</th>\n",
       "      <th>토요일유료</th>\n",
       "      <th>공휴일유료</th>\n",
       "    </tr>\n",
       "  </thead>\n",
       "  <tbody>\n",
       "    <tr>\n",
       "      <th>0.0</th>\n",
       "      <td>132.0</td>\n",
       "      <td>2400.0</td>\n",
       "      <td>NaN</td>\n",
       "      <td>NaN</td>\n",
       "      <td>NaN</td>\n",
       "    </tr>\n",
       "    <tr>\n",
       "      <th>1.0</th>\n",
       "      <td>97.0</td>\n",
       "      <td>2400.0</td>\n",
       "      <td>NaN</td>\n",
       "      <td>NaN</td>\n",
       "      <td>NaN</td>\n",
       "    </tr>\n",
       "    <tr>\n",
       "      <th>2.0</th>\n",
       "      <td>168.0</td>\n",
       "      <td>1200.0</td>\n",
       "      <td>NaN</td>\n",
       "      <td>NaN</td>\n",
       "      <td>NaN</td>\n",
       "    </tr>\n",
       "    <tr>\n",
       "      <th>3.0</th>\n",
       "      <td>92.0</td>\n",
       "      <td>2400.0</td>\n",
       "      <td>NaN</td>\n",
       "      <td>NaN</td>\n",
       "      <td>NaN</td>\n",
       "    </tr>\n",
       "    <tr>\n",
       "      <th>4.0</th>\n",
       "      <td>192.0</td>\n",
       "      <td>3600.0</td>\n",
       "      <td>NaN</td>\n",
       "      <td>NaN</td>\n",
       "      <td>NaN</td>\n",
       "    </tr>\n",
       "  </tbody>\n",
       "</table>\n",
       "</div>"
      ],
      "text/plain": [
       "      총주차면  1시간 요금  평일유료  토요일유료  공휴일유료\n",
       "0.0  132.0  2400.0   NaN    NaN    NaN\n",
       "1.0   97.0  2400.0   NaN    NaN    NaN\n",
       "2.0  168.0  1200.0   NaN    NaN    NaN\n",
       "3.0   92.0  2400.0   NaN    NaN    NaN\n",
       "4.0  192.0  3600.0   NaN    NaN    NaN"
      ]
     },
     "execution_count": 77,
     "metadata": {},
     "output_type": "execute_result"
    }
   ],
   "source": [
    "X.head()\n"
   ]
  },
  {
   "cell_type": "code",
   "execution_count": 59,
   "id": "c33be8e0",
   "metadata": {},
   "outputs": [
    {
     "name": "stdout",
     "output_type": "stream",
     "text": [
      "RandomForestRegressor MAE: 3078.132037537523\n"
     ]
    }
   ],
   "source": [
    "# 랜덤포레스트 회귀\n",
    "\n",
    "X_train, X_test, y_train, y_test = train_test_split(features, target, test_size=0.2, random_state=42)\n",
    "\n",
    "model = RandomForestRegressor(n_estimators=100, random_state=42)\n",
    "model.fit(X_train, y_train)\n",
    "preds = model.predict(X_test)\n",
    "\n",
    "print(\"RandomForestRegressor MAE:\", mean_absolute_error(y_test, preds))"
   ]
  },
  {
   "cell_type": "code",
   "execution_count": 13,
   "id": "be4a7e55",
   "metadata": {},
   "outputs": [],
   "source": [
    "import pandas as pd\n",
    "from datetime import datetime\n",
    "from sklearn.linear_model import LogisticRegression\n",
    "from sklearn.model_selection import train_test_split\n",
    "from sklearn.metrics import classification_report"
   ]
  },
  {
   "cell_type": "code",
   "execution_count": 14,
   "id": "c4773cf0",
   "metadata": {},
   "outputs": [],
   "source": [
    "parks_df = pd.read_csv('parks.csv')\n",
    "reports_df = pd.read_csv('reports.csv')"
   ]
  },
  {
   "cell_type": "code",
   "execution_count": 15,
   "id": "95d59021",
   "metadata": {},
   "outputs": [],
   "source": [
    "from datetime import datetime\n",
    "\n",
    "reports_df[\"datetime\"] = pd.to_datetime(\n",
    "    reports_df[\"민원접수일\"].astype(str) + \" \" + reports_df[\"민원접수시간\"].astype(str),\n",
    "    errors=\"coerce\"\n",
    ")"
   ]
  },
  {
   "cell_type": "code",
   "execution_count": 17,
   "id": "13739b36",
   "metadata": {},
   "outputs": [],
   "source": [
    "def is_within_operating_hours(report_time, start_str, end_str):\n",
    "    if start_str == \"00:00:00\" and end_str == \"00:00:00\":\n",
    "        return False\n",
    "    try:\n",
    "        start = datetime.strptime(start_str, \"%H:%M:%S\").time()\n",
    "        end = datetime.strptime(end_str, \"%H:%M:%S\").time()\n",
    "        return start <= report_time.time() <= end\n",
    "    except:\n",
    "        return False\n",
    "\n",
    "def time_to_float(tstr):\n",
    "    try:\n",
    "        t = datetime.strptime(tstr, \"%H:%M:%S\").time()\n",
    "        return t.hour + t.minute / 60\n",
    "    except:\n",
    "        return 0\n"
   ]
  },
  {
   "cell_type": "code",
   "execution_count": 27,
   "id": "0dc0083c",
   "metadata": {},
   "outputs": [
    {
     "name": "stdout",
     "output_type": "stream",
     "text": [
      "      distance  시작시간  종료시간      요금  label\n",
      "0  1453.631132   0.0   0.0  2040.0      0\n",
      "1   131.029011   0.0   0.0  1800.0      0\n",
      "2    43.389330   9.0  18.0  3000.0      1\n",
      "3   465.849981   0.0   0.0  3600.0      0\n",
      "4    99.152378   0.0   0.0  1500.0      0\n"
     ]
    }
   ],
   "source": [
    "import pandas as pd\n",
    "import numpy as np\n",
    "\n",
    "# 0) parks 좌표 전처리 & 라디안 변환 (한 번만)\n",
    "parks_df = parks_df.dropna(subset=['위도','경도']).reset_index(drop=True)\n",
    "parks_rad = np.radians(parks_df[['위도','경도']].values)  # shape=(n_parks,2)\n",
    "\n",
    "# 1) reports 전처리 & 10만 건 랜덤 샘플링\n",
    "reports_df['datetime'] = pd.to_datetime(reports_df['datetime'])\n",
    "reports_df = reports_df.dropna(subset=['위도','경도']).reset_index(drop=True)\n",
    "reports_sample = reports_df.sample(n=100000, random_state=42).reset_index(drop=True)\n",
    "\n",
    "# 2) 최적화된 해버사인 함수 (입력은 모두 라디안)\n",
    "def haversine_rad(lat1, lon1, lat2_arr, lon2_arr, R=6371000):\n",
    "    dlat = lat2_arr - lat1\n",
    "    dlon = lon2_arr - lon1\n",
    "    a = np.sin(dlat / 2.0)**2 + np.cos(lat1) * np.cos(lat2_arr) * np.sin(dlon / 2.0)**2\n",
    "    return 2 * R * np.arcsin(np.sqrt(a))\n",
    "\n",
    "records = []\n",
    "\n",
    "# 3) 샘플 순회하며 거리 계산 → 최단 거리 주차장 찾기\n",
    "for _, report in reports_sample.iterrows():\n",
    "    # 3-1) 리포트 좌표를 라디안으로 변환\n",
    "    lat1 = np.radians(report['위도'])\n",
    "    lon1 = np.radians(report['경도'])\n",
    "    \n",
    "    # 3-2) 벡터화된 해버사인 호출\n",
    "    dists = haversine_rad(\n",
    "        lat1, lon1,\n",
    "        parks_rad[:, 0],  # parks 위도(라디안)\n",
    "        parks_rad[:, 1]   # parks 경도(라디안)\n",
    "    )\n",
    "    \n",
    "    # 3-3) 최단거리 인덱스 & 주차장 정보 추출\n",
    "    idx_min = np.argmin(dists)\n",
    "    nearest = parks_df.iloc[idx_min]\n",
    "    dist_m = dists[idx_min]\n",
    "    \n",
    "    # 3-4) 운영시간 내외 판단 (사용자 정의 함수)\n",
    "    label = is_within_operating_hours(\n",
    "        report['datetime'],\n",
    "        nearest['평일시작'],\n",
    "        nearest['평일종료']\n",
    "    )\n",
    "    \n",
    "    # 3-5) 결과 저장\n",
    "    records.append({\n",
    "        'distance': dist_m,\n",
    "        '시작시간': time_to_float(nearest['평일시작']),\n",
    "        '종료시간': time_to_float(nearest['평일종료']),\n",
    "        '요금': nearest.get('1시간 요금', 0) or 0,\n",
    "        'label': int(label)\n",
    "    })\n",
    "\n",
    "# 4) DataFrame 변환\n",
    "df = pd.DataFrame(records)\n",
    "print(df.head())\n"
   ]
  },
  {
   "cell_type": "code",
   "execution_count": 28,
   "id": "f4ed3529",
   "metadata": {},
   "outputs": [
    {
     "name": "stdout",
     "output_type": "stream",
     "text": [
      "              precision    recall  f1-score   support\n",
      "\n",
      "           0       0.98      0.78      0.87     20760\n",
      "           1       0.66      0.96      0.78      9240\n",
      "\n",
      "    accuracy                           0.83     30000\n",
      "   macro avg       0.82      0.87      0.82     30000\n",
      "weighted avg       0.88      0.83      0.84     30000\n",
      "\n"
     ]
    },
    {
     "name": "stderr",
     "output_type": "stream",
     "text": [
      "c:\\Users\\hjyhe\\anaconda\\Lib\\site-packages\\sklearn\\linear_model\\_logistic.py:469: ConvergenceWarning: lbfgs failed to converge (status=1):\n",
      "STOP: TOTAL NO. of ITERATIONS REACHED LIMIT.\n",
      "\n",
      "Increase the number of iterations (max_iter) or scale the data as shown in:\n",
      "    https://scikit-learn.org/stable/modules/preprocessing.html\n",
      "Please also refer to the documentation for alternative solver options:\n",
      "    https://scikit-learn.org/stable/modules/linear_model.html#logistic-regression\n",
      "  n_iter_i = _check_optimize_result(\n"
     ]
    }
   ],
   "source": [
    "X = df[[\"distance\", \"시작시간\", \"종료시간\", \"요금\"]]\n",
    "y = df[\"label\"]\n",
    "\n",
    "X_train, X_test, y_train, y_test = train_test_split(X, y, test_size=0.3, random_state=42)\n",
    "model = LogisticRegression()\n",
    "model.fit(X_train, y_train)\n",
    "y_pred = model.predict(X_test)\n",
    "\n",
    "print(classification_report(y_test, y_pred))\n"
   ]
  },
  {
   "cell_type": "code",
   "execution_count": 60,
   "id": "1f3bc3eb",
   "metadata": {},
   "outputs": [
    {
     "name": "stdout",
     "output_type": "stream",
     "text": [
      "                 Generalized Linear Model Regression Results                  \n",
      "==============================================================================\n",
      "Dep. Variable:           report_count   No. Observations:                 1463\n",
      "Model:                            GLM   Df Residuals:                     1457\n",
      "Model Family:                 Poisson   Df Model:                            5\n",
      "Link Function:                    Log   Scale:                          1.0000\n",
      "Method:                          IRLS   Log-Likelihood:            -2.9576e+06\n",
      "Date:                Thu, 22 May 2025   Deviance:                   5.9007e+06\n",
      "Time:                        22:28:03   Pearson chi2:                 8.63e+06\n",
      "No. Iterations:                     6   Pseudo R-squ. (CS):              1.000\n",
      "Covariance Type:            nonrobust                                         \n",
      "==============================================================================\n",
      "                 coef    std err          z      P>|z|      [0.025      0.975]\n",
      "------------------------------------------------------------------------------\n",
      "const          8.2635      0.002   3367.960      0.000       8.259       8.268\n",
      "총주차면          -0.0003   3.52e-06    -88.186      0.000      -0.000      -0.000\n",
      "평일유료           0.1279      0.002     52.138      0.000       0.123       0.133\n",
      "토요일유료          0.3490      0.001    274.479      0.000       0.347       0.351\n",
      "공휴일유료         -0.0374      0.001    -36.825      0.000      -0.039      -0.035\n",
      "1시간 요금      6.982e-05    1.9e-07    368.333      0.000    6.95e-05    7.02e-05\n",
      "==============================================================================\n"
     ]
    }
   ],
   "source": [
    "import pandas as pd\n",
    "import statsmodels.api as sm\n",
    "\n",
    "# Poisson Regression\n",
    "\n",
    "# 상수항 추가\n",
    "X = sm.add_constant(features)\n",
    "poisson_model = sm.GLM(target, X, family=sm.families.Poisson())\n",
    "poisson_result = poisson_model.fit()\n",
    "\n",
    "print(poisson_result.summary())\n"
   ]
  },
  {
   "cell_type": "markdown",
   "id": "02a00389",
   "metadata": {},
   "source": [
    "주차면 1 증가시 민원 수 0.08% 감소\n",
    "평일유료일 때 민원 수 25.73% 감소 \n",
    "토요일유료일 때 민원 수 22.98% 감소\n",
    "공휴일유료일 때 민원 수 19.50% 증가 \n",
    "1시간 요금 1원 증가시 민원 수 0.01% 증가 \n",
    "\n",
    "-> 과산포"
   ]
  },
  {
   "cell_type": "code",
   "execution_count": 61,
   "id": "e3f0b7bf",
   "metadata": {},
   "outputs": [
    {
     "name": "stdout",
     "output_type": "stream",
     "text": [
      "                 Generalized Linear Model Regression Results                  \n",
      "==============================================================================\n",
      "Dep. Variable:           report_count   No. Observations:                 1463\n",
      "Model:                            GLM   Df Residuals:                     1457\n",
      "Model Family:        NegativeBinomial   Df Model:                            5\n",
      "Link Function:                    Log   Scale:                          1.0000\n",
      "Method:                          IRLS   Log-Likelihood:                -13953.\n",
      "Date:                Thu, 22 May 2025   Deviance:                       1198.2\n",
      "Time:                        22:28:03   Pearson chi2:                 1.65e+03\n",
      "No. Iterations:                    10   Pseudo R-squ. (CS):            0.03543\n",
      "Covariance Type:            nonrobust                                         \n",
      "==============================================================================\n",
      "                 coef    std err          z      P>|z|      [0.025      0.975]\n",
      "------------------------------------------------------------------------------\n",
      "const          8.1852      0.179     45.830      0.000       7.835       8.535\n",
      "총주차면          -0.0003      0.000     -1.149      0.251      -0.001       0.000\n",
      "평일유료           0.1709      0.179      0.957      0.339      -0.179       0.521\n",
      "토요일유료          0.3970      0.103      3.871      0.000       0.196       0.598\n",
      "공휴일유료         -0.0147      0.073     -0.200      0.841      -0.158       0.129\n",
      "1시간 요금      7.927e-05   1.52e-05      5.218      0.000    4.95e-05       0.000\n",
      "==============================================================================\n"
     ]
    }
   ],
   "source": [
    "# Negative Binomial GLM\n",
    "\n",
    "X = sm.add_constant(features)   # 상수항 추가\n",
    "y = parks['report_count']\n",
    "\n",
    "nb_model = sm.GLM(\n",
    "    y, \n",
    "    X, \n",
    "    family=sm.families.NegativeBinomial(alpha=1.0)\n",
    ")\n",
    "\n",
    "nb_result = nb_model.fit()\n",
    "\n",
    "print(nb_result.summary())"
   ]
  },
  {
   "cell_type": "code",
   "execution_count": 62,
   "id": "666e1343",
   "metadata": {},
   "outputs": [
    {
     "name": "stdout",
     "output_type": "stream",
     "text": [
      "Requirement already satisfied: xgboost in c:\\users\\hjyhe\\anaconda\\lib\\site-packages (3.0.1)\n",
      "Requirement already satisfied: numpy in c:\\users\\hjyhe\\anaconda\\lib\\site-packages (from xgboost) (1.26.4)\n",
      "Requirement already satisfied: scipy in c:\\users\\hjyhe\\anaconda\\lib\\site-packages (from xgboost) (1.13.1)\n"
     ]
    }
   ],
   "source": [
    "!pip install xgboost"
   ]
  },
  {
   "cell_type": "code",
   "execution_count": 63,
   "id": "e69ad3b6",
   "metadata": {},
   "outputs": [
    {
     "name": "stdout",
     "output_type": "stream",
     "text": [
      "XGBoost RMSE: 5261.084312907074\n"
     ]
    }
   ],
   "source": [
    "import pandas as pd \n",
    "from sklearn.model_selection import train_test_split\n",
    "from sklearn.metrics import root_mean_squared_error\n",
    "import xgboost as xgb\n",
    "\n",
    "# Xgboost\n",
    "\n",
    "# DMatrix 생성\n",
    "dtrain = xgb.DMatrix(X_train, label=y_train)\n",
    "dtest  = xgb.DMatrix(X_test,  label=y_test)\n",
    "\n",
    "# 하이퍼파라미터 설정\n",
    "params = {\n",
    "    'objective':        'reg:squarederror',  # MSE 기반 회귀\n",
    "    'eval_metric':      'rmse',              # 검증 지표로 RMSE 사용\n",
    "    'learning_rate':    0.1,                 # (alias: eta) 0.01–0.3 사이로 주로 튜닝\n",
    "    'max_depth':        6,                   # 트리 깊이, 기본값 6, 3–10 사이로 자주 사용\n",
    "    'min_child_weight': 1,                   # 자식 노드가 최소 가져야 할 샘플 가중치 합\n",
    "    'subsample':        0.5,                 # 각 트리 학습 시 데이터 샘플링 비율 (0.5–1.0)\n",
    "    'colsample_bytree': 0.5,                 # 각 트리 학습 시 컬럼 샘플링 비율 (0.5–1.0)\n",
    "    'gamma':            0,                   # 리프 노드 분할을 위한 최소 손실 감소량\n",
    "    'reg_alpha':        0.0,                 # L1 정규화 강도 (alpha)\n",
    "    'reg_lambda':       1.0,                 # L2 정규화 강도 (lambda)\n",
    "    'seed':             42,\n",
    "}\n",
    "\n",
    "watchlist = [(dtrain, 'train'), (dtest, 'eval')]\n",
    "bst = xgb.train(\n",
    "    params,\n",
    "    dtrain,\n",
    "    num_boost_round=500,\n",
    "    evals=watchlist,\n",
    "    early_stopping_rounds=20,\n",
    "    verbose_eval=False\n",
    ")\n",
    "\n",
    "preds = bst.predict(dtest)\n",
    "rmse = root_mean_squared_error(y_test, preds)\n",
    "\n",
    "print(\"XGBoost RMSE:\", rmse)"
   ]
  },
  {
   "cell_type": "code",
   "execution_count": 64,
   "id": "74be7a5b",
   "metadata": {},
   "outputs": [
    {
     "name": "stdout",
     "output_type": "stream",
     "text": [
      "관측치 평균: 5035.3, 표준편차: 5845.3\n",
      "RMSE/mean(y): 104.5%\n",
      "RMSE/(y_max - y_min): 9.6%\n"
     ]
    }
   ],
   "source": [
    "mean_y = y_test.mean()\n",
    "std_y  = y_test.std()\n",
    "print(f\"관측치 평균: {mean_y:.1f}, 표준편차: {std_y:.1f}\")\n",
    "print(f\"RMSE/mean(y): {rmse/mean_y*100:.1f}%\")    # 상대적 오차(%)\n",
    "print(f\"RMSE/(y_max - y_min): {rmse/(y_test.max()-y_test.min())*100:.1f}%\")  # 정규화 RMSE\n"
   ]
  }
 ],
 "metadata": {
  "kernelspec": {
   "display_name": "base",
   "language": "python",
   "name": "python3"
  },
  "language_info": {
   "codemirror_mode": {
    "name": "ipython",
    "version": 3
   },
   "file_extension": ".py",
   "mimetype": "text/x-python",
   "name": "python",
   "nbconvert_exporter": "python",
   "pygments_lexer": "ipython3",
   "version": "3.12.4"
  }
 },
 "nbformat": 4,
 "nbformat_minor": 5
}
